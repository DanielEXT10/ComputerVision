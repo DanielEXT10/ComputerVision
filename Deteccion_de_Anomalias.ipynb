{
  "nbformat": 4,
  "nbformat_minor": 0,
  "metadata": {
    "colab": {
      "name": "Deteccion de Anomalias.ipynb",
      "provenance": [],
      "mount_file_id": "18-lKUbFBeUil2T-Pha-KD93-HL1VwZOB",
      "authorship_tag": "ABX9TyN41/FmhacsfCAvLch1m1/e",
      "include_colab_link": true
    },
    "kernelspec": {
      "name": "python3",
      "display_name": "Python 3"
    },
    "language_info": {
      "name": "python"
    }
  },
  "cells": [
    {
      "cell_type": "markdown",
      "metadata": {
        "id": "view-in-github",
        "colab_type": "text"
      },
      "source": [
        "<a href=\"https://colab.research.google.com/github/DanielEXT10/ComputerVision/blob/main/Deteccion_de_Anomalias.ipynb\" target=\"_parent\"><img src=\"https://colab.research.google.com/assets/colab-badge.svg\" alt=\"Open In Colab\"/></a>"
      ]
    },
    {
      "cell_type": "markdown",
      "source": [
        "# Deteccion de anomalias (Z - Score) - Agrupacion(K Nearest Neighbors vs K- Means)\n",
        "Daniel Alfonso Garcia"
      ],
      "metadata": {
        "id": "NddpZekXjyTJ"
      }
    },
    {
      "cell_type": "code",
      "execution_count": 2,
      "metadata": {
        "id": "FVHsSsdZcovd"
      },
      "outputs": [],
      "source": [
        "import pandas as pd\n",
        "import numpy as np\n",
        "\n",
        "from sklearn.model_selection import train_test_split\n",
        "\n",
        "import seaborn as sns\n",
        "import matplotlib.pyplot as plt\n",
        "import plotly.express as px\n",
        "%matplotlib inline"
      ]
    },
    {
      "cell_type": "code",
      "source": [
        "data = pd.read_csv('/content/drive/MyDrive/IA Unir/Aprendizaje automatico/Actividad Grupal/creditcardcsvpresent.csv')"
      ],
      "metadata": {
        "id": "acsAGd08kpea"
      },
      "execution_count": 3,
      "outputs": []
    },
    {
      "cell_type": "code",
      "source": [
        "data.head()"
      ],
      "metadata": {
        "colab": {
          "base_uri": "https://localhost:8080/",
          "height": 206
        },
        "id": "GUfUSXhfkw_E",
        "outputId": "a798c705-3662-4201-d881-c032b6460ef6"
      },
      "execution_count": 4,
      "outputs": [
        {
          "output_type": "execute_result",
          "data": {
            "text/plain": [
              "   Merchant_id  Transaction date  Average Amount/transaction/day  \\\n",
              "0   3160040998               NaN                           100.0   \n",
              "1   3160040998               NaN                           100.0   \n",
              "2   3160041896               NaN                           185.5   \n",
              "3   3160141996               NaN                           185.5   \n",
              "4   3160241992               NaN                           500.0   \n",
              "\n",
              "   Transaction_amount Is declined  Total Number of declines/day  \\\n",
              "0              3000.0           N                             5   \n",
              "1              4300.0           N                             5   \n",
              "2              4823.0           Y                             5   \n",
              "3              5008.5           Y                             8   \n",
              "4             26000.0           N                             0   \n",
              "\n",
              "  isForeignTransaction isHighRiskCountry  Daily_chargeback_avg_amt  \\\n",
              "0                    Y                 Y                         0   \n",
              "1                    Y                 Y                         0   \n",
              "2                    N                 N                         0   \n",
              "3                    N                 N                         0   \n",
              "4                    Y                 Y                       800   \n",
              "\n",
              "   6_month_avg_chbk_amt  6-month_chbk_freq isFradulent  \n",
              "0                   0.0                  0           Y  \n",
              "1                   0.0                  0           Y  \n",
              "2                   0.0                  0           Y  \n",
              "3                   0.0                  0           Y  \n",
              "4                 677.2                  6           Y  "
            ],
            "text/html": [
              "\n",
              "  <div id=\"df-42c4634b-d8fb-46c2-b3cf-8b23d8ff53ef\">\n",
              "    <div class=\"colab-df-container\">\n",
              "      <div>\n",
              "<style scoped>\n",
              "    .dataframe tbody tr th:only-of-type {\n",
              "        vertical-align: middle;\n",
              "    }\n",
              "\n",
              "    .dataframe tbody tr th {\n",
              "        vertical-align: top;\n",
              "    }\n",
              "\n",
              "    .dataframe thead th {\n",
              "        text-align: right;\n",
              "    }\n",
              "</style>\n",
              "<table border=\"1\" class=\"dataframe\">\n",
              "  <thead>\n",
              "    <tr style=\"text-align: right;\">\n",
              "      <th></th>\n",
              "      <th>Merchant_id</th>\n",
              "      <th>Transaction date</th>\n",
              "      <th>Average Amount/transaction/day</th>\n",
              "      <th>Transaction_amount</th>\n",
              "      <th>Is declined</th>\n",
              "      <th>Total Number of declines/day</th>\n",
              "      <th>isForeignTransaction</th>\n",
              "      <th>isHighRiskCountry</th>\n",
              "      <th>Daily_chargeback_avg_amt</th>\n",
              "      <th>6_month_avg_chbk_amt</th>\n",
              "      <th>6-month_chbk_freq</th>\n",
              "      <th>isFradulent</th>\n",
              "    </tr>\n",
              "  </thead>\n",
              "  <tbody>\n",
              "    <tr>\n",
              "      <th>0</th>\n",
              "      <td>3160040998</td>\n",
              "      <td>NaN</td>\n",
              "      <td>100.0</td>\n",
              "      <td>3000.0</td>\n",
              "      <td>N</td>\n",
              "      <td>5</td>\n",
              "      <td>Y</td>\n",
              "      <td>Y</td>\n",
              "      <td>0</td>\n",
              "      <td>0.0</td>\n",
              "      <td>0</td>\n",
              "      <td>Y</td>\n",
              "    </tr>\n",
              "    <tr>\n",
              "      <th>1</th>\n",
              "      <td>3160040998</td>\n",
              "      <td>NaN</td>\n",
              "      <td>100.0</td>\n",
              "      <td>4300.0</td>\n",
              "      <td>N</td>\n",
              "      <td>5</td>\n",
              "      <td>Y</td>\n",
              "      <td>Y</td>\n",
              "      <td>0</td>\n",
              "      <td>0.0</td>\n",
              "      <td>0</td>\n",
              "      <td>Y</td>\n",
              "    </tr>\n",
              "    <tr>\n",
              "      <th>2</th>\n",
              "      <td>3160041896</td>\n",
              "      <td>NaN</td>\n",
              "      <td>185.5</td>\n",
              "      <td>4823.0</td>\n",
              "      <td>Y</td>\n",
              "      <td>5</td>\n",
              "      <td>N</td>\n",
              "      <td>N</td>\n",
              "      <td>0</td>\n",
              "      <td>0.0</td>\n",
              "      <td>0</td>\n",
              "      <td>Y</td>\n",
              "    </tr>\n",
              "    <tr>\n",
              "      <th>3</th>\n",
              "      <td>3160141996</td>\n",
              "      <td>NaN</td>\n",
              "      <td>185.5</td>\n",
              "      <td>5008.5</td>\n",
              "      <td>Y</td>\n",
              "      <td>8</td>\n",
              "      <td>N</td>\n",
              "      <td>N</td>\n",
              "      <td>0</td>\n",
              "      <td>0.0</td>\n",
              "      <td>0</td>\n",
              "      <td>Y</td>\n",
              "    </tr>\n",
              "    <tr>\n",
              "      <th>4</th>\n",
              "      <td>3160241992</td>\n",
              "      <td>NaN</td>\n",
              "      <td>500.0</td>\n",
              "      <td>26000.0</td>\n",
              "      <td>N</td>\n",
              "      <td>0</td>\n",
              "      <td>Y</td>\n",
              "      <td>Y</td>\n",
              "      <td>800</td>\n",
              "      <td>677.2</td>\n",
              "      <td>6</td>\n",
              "      <td>Y</td>\n",
              "    </tr>\n",
              "  </tbody>\n",
              "</table>\n",
              "</div>\n",
              "      <button class=\"colab-df-convert\" onclick=\"convertToInteractive('df-42c4634b-d8fb-46c2-b3cf-8b23d8ff53ef')\"\n",
              "              title=\"Convert this dataframe to an interactive table.\"\n",
              "              style=\"display:none;\">\n",
              "        \n",
              "  <svg xmlns=\"http://www.w3.org/2000/svg\" height=\"24px\"viewBox=\"0 0 24 24\"\n",
              "       width=\"24px\">\n",
              "    <path d=\"M0 0h24v24H0V0z\" fill=\"none\"/>\n",
              "    <path d=\"M18.56 5.44l.94 2.06.94-2.06 2.06-.94-2.06-.94-.94-2.06-.94 2.06-2.06.94zm-11 1L8.5 8.5l.94-2.06 2.06-.94-2.06-.94L8.5 2.5l-.94 2.06-2.06.94zm10 10l.94 2.06.94-2.06 2.06-.94-2.06-.94-.94-2.06-.94 2.06-2.06.94z\"/><path d=\"M17.41 7.96l-1.37-1.37c-.4-.4-.92-.59-1.43-.59-.52 0-1.04.2-1.43.59L10.3 9.45l-7.72 7.72c-.78.78-.78 2.05 0 2.83L4 21.41c.39.39.9.59 1.41.59.51 0 1.02-.2 1.41-.59l7.78-7.78 2.81-2.81c.8-.78.8-2.07 0-2.86zM5.41 20L4 18.59l7.72-7.72 1.47 1.35L5.41 20z\"/>\n",
              "  </svg>\n",
              "      </button>\n",
              "      \n",
              "  <style>\n",
              "    .colab-df-container {\n",
              "      display:flex;\n",
              "      flex-wrap:wrap;\n",
              "      gap: 12px;\n",
              "    }\n",
              "\n",
              "    .colab-df-convert {\n",
              "      background-color: #E8F0FE;\n",
              "      border: none;\n",
              "      border-radius: 50%;\n",
              "      cursor: pointer;\n",
              "      display: none;\n",
              "      fill: #1967D2;\n",
              "      height: 32px;\n",
              "      padding: 0 0 0 0;\n",
              "      width: 32px;\n",
              "    }\n",
              "\n",
              "    .colab-df-convert:hover {\n",
              "      background-color: #E2EBFA;\n",
              "      box-shadow: 0px 1px 2px rgba(60, 64, 67, 0.3), 0px 1px 3px 1px rgba(60, 64, 67, 0.15);\n",
              "      fill: #174EA6;\n",
              "    }\n",
              "\n",
              "    [theme=dark] .colab-df-convert {\n",
              "      background-color: #3B4455;\n",
              "      fill: #D2E3FC;\n",
              "    }\n",
              "\n",
              "    [theme=dark] .colab-df-convert:hover {\n",
              "      background-color: #434B5C;\n",
              "      box-shadow: 0px 1px 3px 1px rgba(0, 0, 0, 0.15);\n",
              "      filter: drop-shadow(0px 1px 2px rgba(0, 0, 0, 0.3));\n",
              "      fill: #FFFFFF;\n",
              "    }\n",
              "  </style>\n",
              "\n",
              "      <script>\n",
              "        const buttonEl =\n",
              "          document.querySelector('#df-42c4634b-d8fb-46c2-b3cf-8b23d8ff53ef button.colab-df-convert');\n",
              "        buttonEl.style.display =\n",
              "          google.colab.kernel.accessAllowed ? 'block' : 'none';\n",
              "\n",
              "        async function convertToInteractive(key) {\n",
              "          const element = document.querySelector('#df-42c4634b-d8fb-46c2-b3cf-8b23d8ff53ef');\n",
              "          const dataTable =\n",
              "            await google.colab.kernel.invokeFunction('convertToInteractive',\n",
              "                                                     [key], {});\n",
              "          if (!dataTable) return;\n",
              "\n",
              "          const docLinkHtml = 'Like what you see? Visit the ' +\n",
              "            '<a target=\"_blank\" href=https://colab.research.google.com/notebooks/data_table.ipynb>data table notebook</a>'\n",
              "            + ' to learn more about interactive tables.';\n",
              "          element.innerHTML = '';\n",
              "          dataTable['output_type'] = 'display_data';\n",
              "          await google.colab.output.renderOutput(dataTable, element);\n",
              "          const docLink = document.createElement('div');\n",
              "          docLink.innerHTML = docLinkHtml;\n",
              "          element.appendChild(docLink);\n",
              "        }\n",
              "      </script>\n",
              "    </div>\n",
              "  </div>\n",
              "  "
            ]
          },
          "metadata": {},
          "execution_count": 4
        }
      ]
    },
    {
      "cell_type": "code",
      "source": [
        "data.info()"
      ],
      "metadata": {
        "colab": {
          "base_uri": "https://localhost:8080/"
        },
        "id": "xZ9atMTAAShO",
        "outputId": "ec7ca283-c57e-4ea5-f3af-9614319b812a"
      },
      "execution_count": 5,
      "outputs": [
        {
          "output_type": "stream",
          "name": "stdout",
          "text": [
            "<class 'pandas.core.frame.DataFrame'>\n",
            "RangeIndex: 3075 entries, 0 to 3074\n",
            "Data columns (total 12 columns):\n",
            " #   Column                          Non-Null Count  Dtype  \n",
            "---  ------                          --------------  -----  \n",
            " 0   Merchant_id                     3075 non-null   int64  \n",
            " 1   Transaction date                0 non-null      float64\n",
            " 2   Average Amount/transaction/day  3075 non-null   float64\n",
            " 3   Transaction_amount              3075 non-null   float64\n",
            " 4   Is declined                     3075 non-null   object \n",
            " 5   Total Number of declines/day    3075 non-null   int64  \n",
            " 6   isForeignTransaction            3075 non-null   object \n",
            " 7   isHighRiskCountry               3075 non-null   object \n",
            " 8   Daily_chargeback_avg_amt        3075 non-null   int64  \n",
            " 9   6_month_avg_chbk_amt            3075 non-null   float64\n",
            " 10  6-month_chbk_freq               3075 non-null   int64  \n",
            " 11  isFradulent                     3075 non-null   object \n",
            "dtypes: float64(4), int64(4), object(4)\n",
            "memory usage: 288.4+ KB\n"
          ]
        }
      ]
    },
    {
      "cell_type": "markdown",
      "source": [
        ""
      ],
      "metadata": {
        "id": "w1R5UG2r9sI8"
      }
    },
    {
      "cell_type": "code",
      "source": [
        "data.columns"
      ],
      "metadata": {
        "colab": {
          "base_uri": "https://localhost:8080/"
        },
        "id": "3bOKiAorLts_",
        "outputId": "da2615b6-dedc-4b0a-ab79-9990a2c21f78"
      },
      "execution_count": 6,
      "outputs": [
        {
          "output_type": "execute_result",
          "data": {
            "text/plain": [
              "Index(['Merchant_id', 'Transaction date', 'Average Amount/transaction/day',\n",
              "       'Transaction_amount', 'Is declined', 'Total Number of declines/day',\n",
              "       'isForeignTransaction', 'isHighRiskCountry', 'Daily_chargeback_avg_amt',\n",
              "       '6_month_avg_chbk_amt', '6-month_chbk_freq', 'isFradulent'],\n",
              "      dtype='object')"
            ]
          },
          "metadata": {},
          "execution_count": 6
        }
      ]
    },
    {
      "cell_type": "markdown",
      "source": [
        "## Variables numericas"
      ],
      "metadata": {
        "id": "wWxVAYuD4lzg"
      }
    },
    {
      "cell_type": "code",
      "source": [
        "numeric =list(data.select_dtypes(exclude = 'object').columns)"
      ],
      "metadata": {
        "id": "MX_LX-IIvY8o"
      },
      "execution_count": 7,
      "outputs": []
    },
    {
      "cell_type": "markdown",
      "source": [
        "Obtenemos las medidas de tendencia central y dispersion, asi como los cuartiles de los datos distribuidos."
      ],
      "metadata": {
        "id": "GfHCsz7-UqnC"
      }
    },
    {
      "cell_type": "code",
      "source": [
        "data[numeric].describe().transpose()"
      ],
      "metadata": {
        "colab": {
          "base_uri": "https://localhost:8080/",
          "height": 300
        },
        "id": "KtuSUslmxu0y",
        "outputId": "f8ac8800-7227-4c78-c8ae-ad360700a224"
      },
      "execution_count": 8,
      "outputs": [
        {
          "output_type": "execute_result",
          "data": {
            "text/plain": [
              "                                 count          mean           std  \\\n",
              "Merchant_id                     3075.0  5.026634e+09  9.870778e+08   \n",
              "Transaction date                   0.0           NaN           NaN   \n",
              "Average Amount/transaction/day  3075.0  5.150266e+02  2.919070e+02   \n",
              "Transaction_amount              3075.0  9.876399e+03  1.013533e+04   \n",
              "Total Number of declines/day    3075.0  9.573984e-01  2.192391e+00   \n",
              "Daily_chargeback_avg_amt        3075.0  5.573756e+01  2.066348e+02   \n",
              "6_month_avg_chbk_amt            3075.0  4.002241e+01  1.559688e+02   \n",
              "6-month_chbk_freq               3075.0  3.918699e-01  1.548479e+00   \n",
              "\n",
              "                                         min           25%           50%  \\\n",
              "Merchant_id                     3.160041e+09  4.170814e+09  5.025578e+09   \n",
              "Transaction date                         NaN           NaN           NaN   \n",
              "Average Amount/transaction/day  4.011527e+00  2.697880e+02  5.025496e+02   \n",
              "Transaction_amount              0.000000e+00  2.408781e+03  6.698892e+03   \n",
              "Total Number of declines/day    0.000000e+00  0.000000e+00  0.000000e+00   \n",
              "Daily_chargeback_avg_amt        0.000000e+00  0.000000e+00  0.000000e+00   \n",
              "6_month_avg_chbk_amt            0.000000e+00  0.000000e+00  0.000000e+00   \n",
              "6-month_chbk_freq               0.000000e+00  0.000000e+00  0.000000e+00   \n",
              "\n",
              "                                         75%           max  \n",
              "Merchant_id                     5.889625e+09  6.665906e+09  \n",
              "Transaction date                         NaN           NaN  \n",
              "Average Amount/transaction/day  7.652728e+02  2.000000e+03  \n",
              "Transaction_amount              1.442257e+04  1.080000e+05  \n",
              "Total Number of declines/day    0.000000e+00  2.000000e+01  \n",
              "Daily_chargeback_avg_amt        0.000000e+00  9.980000e+02  \n",
              "6_month_avg_chbk_amt            0.000000e+00  9.980000e+02  \n",
              "6-month_chbk_freq               0.000000e+00  9.000000e+00  "
            ],
            "text/html": [
              "\n",
              "  <div id=\"df-714fc1c6-ed81-46c0-8359-a1c337cfb706\">\n",
              "    <div class=\"colab-df-container\">\n",
              "      <div>\n",
              "<style scoped>\n",
              "    .dataframe tbody tr th:only-of-type {\n",
              "        vertical-align: middle;\n",
              "    }\n",
              "\n",
              "    .dataframe tbody tr th {\n",
              "        vertical-align: top;\n",
              "    }\n",
              "\n",
              "    .dataframe thead th {\n",
              "        text-align: right;\n",
              "    }\n",
              "</style>\n",
              "<table border=\"1\" class=\"dataframe\">\n",
              "  <thead>\n",
              "    <tr style=\"text-align: right;\">\n",
              "      <th></th>\n",
              "      <th>count</th>\n",
              "      <th>mean</th>\n",
              "      <th>std</th>\n",
              "      <th>min</th>\n",
              "      <th>25%</th>\n",
              "      <th>50%</th>\n",
              "      <th>75%</th>\n",
              "      <th>max</th>\n",
              "    </tr>\n",
              "  </thead>\n",
              "  <tbody>\n",
              "    <tr>\n",
              "      <th>Merchant_id</th>\n",
              "      <td>3075.0</td>\n",
              "      <td>5.026634e+09</td>\n",
              "      <td>9.870778e+08</td>\n",
              "      <td>3.160041e+09</td>\n",
              "      <td>4.170814e+09</td>\n",
              "      <td>5.025578e+09</td>\n",
              "      <td>5.889625e+09</td>\n",
              "      <td>6.665906e+09</td>\n",
              "    </tr>\n",
              "    <tr>\n",
              "      <th>Transaction date</th>\n",
              "      <td>0.0</td>\n",
              "      <td>NaN</td>\n",
              "      <td>NaN</td>\n",
              "      <td>NaN</td>\n",
              "      <td>NaN</td>\n",
              "      <td>NaN</td>\n",
              "      <td>NaN</td>\n",
              "      <td>NaN</td>\n",
              "    </tr>\n",
              "    <tr>\n",
              "      <th>Average Amount/transaction/day</th>\n",
              "      <td>3075.0</td>\n",
              "      <td>5.150266e+02</td>\n",
              "      <td>2.919070e+02</td>\n",
              "      <td>4.011527e+00</td>\n",
              "      <td>2.697880e+02</td>\n",
              "      <td>5.025496e+02</td>\n",
              "      <td>7.652728e+02</td>\n",
              "      <td>2.000000e+03</td>\n",
              "    </tr>\n",
              "    <tr>\n",
              "      <th>Transaction_amount</th>\n",
              "      <td>3075.0</td>\n",
              "      <td>9.876399e+03</td>\n",
              "      <td>1.013533e+04</td>\n",
              "      <td>0.000000e+00</td>\n",
              "      <td>2.408781e+03</td>\n",
              "      <td>6.698892e+03</td>\n",
              "      <td>1.442257e+04</td>\n",
              "      <td>1.080000e+05</td>\n",
              "    </tr>\n",
              "    <tr>\n",
              "      <th>Total Number of declines/day</th>\n",
              "      <td>3075.0</td>\n",
              "      <td>9.573984e-01</td>\n",
              "      <td>2.192391e+00</td>\n",
              "      <td>0.000000e+00</td>\n",
              "      <td>0.000000e+00</td>\n",
              "      <td>0.000000e+00</td>\n",
              "      <td>0.000000e+00</td>\n",
              "      <td>2.000000e+01</td>\n",
              "    </tr>\n",
              "    <tr>\n",
              "      <th>Daily_chargeback_avg_amt</th>\n",
              "      <td>3075.0</td>\n",
              "      <td>5.573756e+01</td>\n",
              "      <td>2.066348e+02</td>\n",
              "      <td>0.000000e+00</td>\n",
              "      <td>0.000000e+00</td>\n",
              "      <td>0.000000e+00</td>\n",
              "      <td>0.000000e+00</td>\n",
              "      <td>9.980000e+02</td>\n",
              "    </tr>\n",
              "    <tr>\n",
              "      <th>6_month_avg_chbk_amt</th>\n",
              "      <td>3075.0</td>\n",
              "      <td>4.002241e+01</td>\n",
              "      <td>1.559688e+02</td>\n",
              "      <td>0.000000e+00</td>\n",
              "      <td>0.000000e+00</td>\n",
              "      <td>0.000000e+00</td>\n",
              "      <td>0.000000e+00</td>\n",
              "      <td>9.980000e+02</td>\n",
              "    </tr>\n",
              "    <tr>\n",
              "      <th>6-month_chbk_freq</th>\n",
              "      <td>3075.0</td>\n",
              "      <td>3.918699e-01</td>\n",
              "      <td>1.548479e+00</td>\n",
              "      <td>0.000000e+00</td>\n",
              "      <td>0.000000e+00</td>\n",
              "      <td>0.000000e+00</td>\n",
              "      <td>0.000000e+00</td>\n",
              "      <td>9.000000e+00</td>\n",
              "    </tr>\n",
              "  </tbody>\n",
              "</table>\n",
              "</div>\n",
              "      <button class=\"colab-df-convert\" onclick=\"convertToInteractive('df-714fc1c6-ed81-46c0-8359-a1c337cfb706')\"\n",
              "              title=\"Convert this dataframe to an interactive table.\"\n",
              "              style=\"display:none;\">\n",
              "        \n",
              "  <svg xmlns=\"http://www.w3.org/2000/svg\" height=\"24px\"viewBox=\"0 0 24 24\"\n",
              "       width=\"24px\">\n",
              "    <path d=\"M0 0h24v24H0V0z\" fill=\"none\"/>\n",
              "    <path d=\"M18.56 5.44l.94 2.06.94-2.06 2.06-.94-2.06-.94-.94-2.06-.94 2.06-2.06.94zm-11 1L8.5 8.5l.94-2.06 2.06-.94-2.06-.94L8.5 2.5l-.94 2.06-2.06.94zm10 10l.94 2.06.94-2.06 2.06-.94-2.06-.94-.94-2.06-.94 2.06-2.06.94z\"/><path d=\"M17.41 7.96l-1.37-1.37c-.4-.4-.92-.59-1.43-.59-.52 0-1.04.2-1.43.59L10.3 9.45l-7.72 7.72c-.78.78-.78 2.05 0 2.83L4 21.41c.39.39.9.59 1.41.59.51 0 1.02-.2 1.41-.59l7.78-7.78 2.81-2.81c.8-.78.8-2.07 0-2.86zM5.41 20L4 18.59l7.72-7.72 1.47 1.35L5.41 20z\"/>\n",
              "  </svg>\n",
              "      </button>\n",
              "      \n",
              "  <style>\n",
              "    .colab-df-container {\n",
              "      display:flex;\n",
              "      flex-wrap:wrap;\n",
              "      gap: 12px;\n",
              "    }\n",
              "\n",
              "    .colab-df-convert {\n",
              "      background-color: #E8F0FE;\n",
              "      border: none;\n",
              "      border-radius: 50%;\n",
              "      cursor: pointer;\n",
              "      display: none;\n",
              "      fill: #1967D2;\n",
              "      height: 32px;\n",
              "      padding: 0 0 0 0;\n",
              "      width: 32px;\n",
              "    }\n",
              "\n",
              "    .colab-df-convert:hover {\n",
              "      background-color: #E2EBFA;\n",
              "      box-shadow: 0px 1px 2px rgba(60, 64, 67, 0.3), 0px 1px 3px 1px rgba(60, 64, 67, 0.15);\n",
              "      fill: #174EA6;\n",
              "    }\n",
              "\n",
              "    [theme=dark] .colab-df-convert {\n",
              "      background-color: #3B4455;\n",
              "      fill: #D2E3FC;\n",
              "    }\n",
              "\n",
              "    [theme=dark] .colab-df-convert:hover {\n",
              "      background-color: #434B5C;\n",
              "      box-shadow: 0px 1px 3px 1px rgba(0, 0, 0, 0.15);\n",
              "      filter: drop-shadow(0px 1px 2px rgba(0, 0, 0, 0.3));\n",
              "      fill: #FFFFFF;\n",
              "    }\n",
              "  </style>\n",
              "\n",
              "      <script>\n",
              "        const buttonEl =\n",
              "          document.querySelector('#df-714fc1c6-ed81-46c0-8359-a1c337cfb706 button.colab-df-convert');\n",
              "        buttonEl.style.display =\n",
              "          google.colab.kernel.accessAllowed ? 'block' : 'none';\n",
              "\n",
              "        async function convertToInteractive(key) {\n",
              "          const element = document.querySelector('#df-714fc1c6-ed81-46c0-8359-a1c337cfb706');\n",
              "          const dataTable =\n",
              "            await google.colab.kernel.invokeFunction('convertToInteractive',\n",
              "                                                     [key], {});\n",
              "          if (!dataTable) return;\n",
              "\n",
              "          const docLinkHtml = 'Like what you see? Visit the ' +\n",
              "            '<a target=\"_blank\" href=https://colab.research.google.com/notebooks/data_table.ipynb>data table notebook</a>'\n",
              "            + ' to learn more about interactive tables.';\n",
              "          element.innerHTML = '';\n",
              "          dataTable['output_type'] = 'display_data';\n",
              "          await google.colab.output.renderOutput(dataTable, element);\n",
              "          const docLink = document.createElement('div');\n",
              "          docLink.innerHTML = docLinkHtml;\n",
              "          element.appendChild(docLink);\n",
              "        }\n",
              "      </script>\n",
              "    </div>\n",
              "  </div>\n",
              "  "
            ]
          },
          "metadata": {},
          "execution_count": 8
        }
      ]
    },
    {
      "cell_type": "markdown",
      "source": [
        "### Histograma variables numericas"
      ],
      "metadata": {
        "id": "n_zFxJx5VF0K"
      }
    },
    {
      "cell_type": "code",
      "source": [
        "sns.histplot(data=data, x='Average Amount/transaction/day', kde=True)"
      ],
      "metadata": {
        "id": "tR1aui3S4lYT",
        "colab": {
          "base_uri": "https://localhost:8080/",
          "height": 296
        },
        "outputId": "2599aff0-3afe-4db0-f3d4-404b7f17f7ec"
      },
      "execution_count": 9,
      "outputs": [
        {
          "output_type": "execute_result",
          "data": {
            "text/plain": [
              "<matplotlib.axes._subplots.AxesSubplot at 0x7fa12f9df450>"
            ]
          },
          "metadata": {},
          "execution_count": 9
        },
        {
          "output_type": "display_data",
          "data": {
            "text/plain": [
              "<Figure size 432x288 with 1 Axes>"
            ],
            "image/png": "[encoded data removed]"
          },
          "metadata": {
            "needs_background": "light"
          }
        }
      ]
    },
    {
      "cell_type": "code",
      "source": [
        "sns.histplot(data=data, x='Transaction_amount', kde=True)"
      ],
      "metadata": {
        "colab": {
          "base_uri": "https://localhost:8080/",
          "height": 300
        },
        "id": "ZL3Nwk4x5FGc",
        "outputId": "9af721fc-ec92-4f9c-c784-bc24193d1c8c"
      },
      "execution_count": 10,
      "outputs": [
        {
          "output_type": "execute_result",
          "data": {
            "text/plain": [
              "<matplotlib.axes._subplots.AxesSubplot at 0x7fa12d8aed50>"
            ]
          },
          "metadata": {},
          "execution_count": 10
        },
        {
          "output_type": "display_data",
          "data": {
            "text/plain": [
              "<Figure size 432x288 with 1 Axes>"
            ],
            "image/png": "[encoded data removed]"
          },
          "metadata": {
            "needs_background": "light"
          }
        }
      ]
    },
    {
      "cell_type": "code",
      "source": [
        "sns.histplot(data=data, x='Total Number of declines/day', kde=True)"
      ],
      "metadata": {
        "colab": {
          "base_uri": "https://localhost:8080/",
          "height": 300
        },
        "id": "7ptLuL-A5cNQ",
        "outputId": "f343f0aa-bdef-4ddc-dfdc-c291b20c2526"
      },
      "execution_count": 11,
      "outputs": [
        {
          "output_type": "execute_result",
          "data": {
            "text/plain": [
              "<matplotlib.axes._subplots.AxesSubplot at 0x7fa12d900f10>"
            ]
          },
          "metadata": {},
          "execution_count": 11
        },
        {
          "output_type": "display_data",
          "data": {
            "text/plain": [
              "<Figure size 432x288 with 1 Axes>"
            ],
            "image/png": "[encoded data removed]"
          },
          "metadata": {
            "needs_background": "light"
          }
        }
      ]
    },
    {
      "cell_type": "code",
      "source": [
        "sns.histplot(data=data, x='Daily_chargeback_avg_amt', kde=True)"
      ],
      "metadata": {
        "colab": {
          "base_uri": "https://localhost:8080/",
          "height": 297
        },
        "id": "mcRUISH754Pc",
        "outputId": "31491d0e-ec91-4bf7-b2d3-70f247ab86e1"
      },
      "execution_count": 12,
      "outputs": [
        {
          "output_type": "execute_result",
          "data": {
            "text/plain": [
              "<matplotlib.axes._subplots.AxesSubplot at 0x7fa12d3fee90>"
            ]
          },
          "metadata": {},
          "execution_count": 12
        },
        {
          "output_type": "display_data",
          "data": {
            "text/plain": [
              "<Figure size 432x288 with 1 Axes>"
            ],
            "image/png": "[encoded data removed]"
          },
          "metadata": {
            "needs_background": "light"
          }
        }
      ]
    },
    {
      "cell_type": "code",
      "source": [
        "sns.histplot(data=data, x='6_month_avg_chbk_amt', kde=True)"
      ],
      "metadata": {
        "colab": {
          "base_uri": "https://localhost:8080/",
          "height": 297
        },
        "id": "-82wByKW6Eec",
        "outputId": "ac6e5ffe-0a0f-4ec3-9a75-81d27783a5d2"
      },
      "execution_count": 13,
      "outputs": [
        {
          "output_type": "execute_result",
          "data": {
            "text/plain": [
              "<matplotlib.axes._subplots.AxesSubplot at 0x7fa12d26ed90>"
            ]
          },
          "metadata": {},
          "execution_count": 13
        },
        {
          "output_type": "display_data",
          "data": {
            "text/plain": [
              "<Figure size 432x288 with 1 Axes>"
            ],
            "image/png": "[encoded data removed]"
          },
          "metadata": {
            "needs_background": "light"
          }
        }
      ]
    },
    {
      "cell_type": "markdown",
      "source": [
        "## Correlaciones"
      ],
      "metadata": {
        "id": "g-7dxzrb09JJ"
      }
    },
    {
      "cell_type": "code",
      "source": [
        "correlaciones = data.corr()\n",
        "correlaciones\n",
        "print (correlaciones['Average Amount/transaction/day'].sort_values(ascending=False)[:7])"
      ],
      "metadata": {
        "colab": {
          "base_uri": "https://localhost:8080/"
        },
        "id": "ZSlr53p308rQ",
        "outputId": "5a688cae-08e0-414e-d02c-e7fd2f7d027b"
      },
      "execution_count": 14,
      "outputs": [
        {
          "output_type": "stream",
          "name": "stdout",
          "text": [
            "Average Amount/transaction/day    1.000000\n",
            "Transaction_amount                0.587111\n",
            "6-month_chbk_freq                 0.071849\n",
            "Daily_chargeback_avg_amt          0.060429\n",
            "6_month_avg_chbk_amt              0.060284\n",
            "Merchant_id                       0.018223\n",
            "Total Number of declines/day     -0.009682\n",
            "Name: Average Amount/transaction/day, dtype: float64\n"
          ]
        }
      ]
    },
    {
      "cell_type": "code",
      "source": [
        "print (correlaciones['Transaction_amount'].sort_values(ascending=False)[:7])"
      ],
      "metadata": {
        "colab": {
          "base_uri": "https://localhost:8080/"
        },
        "id": "j9ktW1Mp1LUl",
        "outputId": "d2e91fe2-384d-436d-d4ca-64adecbe2944"
      },
      "execution_count": 15,
      "outputs": [
        {
          "output_type": "stream",
          "name": "stdout",
          "text": [
            "Transaction_amount                1.000000\n",
            "Average Amount/transaction/day    0.587111\n",
            "6-month_chbk_freq                 0.297623\n",
            "6_month_avg_chbk_amt              0.259663\n",
            "Total Number of declines/day      0.259309\n",
            "Daily_chargeback_avg_amt          0.252298\n",
            "Merchant_id                       0.046065\n",
            "Name: Transaction_amount, dtype: float64\n"
          ]
        }
      ]
    },
    {
      "cell_type": "markdown",
      "source": [
        "## Tablas de contingencia de variables categoricas"
      ],
      "metadata": {
        "id": "HR9QNh4JNqj_"
      }
    },
    {
      "cell_type": "markdown",
      "source": [
        "#### Frecuencia absoluta"
      ],
      "metadata": {
        "id": "LlMKGls9VmON"
      }
    },
    {
      "cell_type": "markdown",
      "source": [
        "Lo que buscamos es obtener la frecuencia absoluta de las columnas categoricas, para cada valor diferente"
      ],
      "metadata": {
        "id": "ezIHi2WYVOTi"
      }
    },
    {
      "cell_type": "code",
      "source": [
        "data['Is declined'] = pd.Categorical(data['Is declined'])\n",
        "data['isForeignTransaction'] = pd.Categorical(data['isForeignTransaction'])\n",
        "data['isFradulent'] = pd.Categorical(data['isFradulent'])\n",
        "data['isHighRiskCountry'] =pd.Categorical(data['isHighRiskCountry'])"
      ],
      "metadata": {
        "id": "3_ovwvp3MarC"
      },
      "execution_count": 16,
      "outputs": []
    },
    {
      "cell_type": "code",
      "source": [
        "data.groupby('isForeignTransaction')['Merchant_id'].count()"
      ],
      "metadata": {
        "colab": {
          "base_uri": "https://localhost:8080/"
        },
        "id": "acYsG_jcOwT6",
        "outputId": "89578720-5234-4d8b-9ef2-7075d1f470fe"
      },
      "execution_count": 17,
      "outputs": [
        {
          "output_type": "execute_result",
          "data": {
            "text/plain": [
              "isForeignTransaction\n",
              "N    2369\n",
              "Y     706\n",
              "Name: Merchant_id, dtype: int64"
            ]
          },
          "metadata": {},
          "execution_count": 17
        }
      ]
    },
    {
      "cell_type": "code",
      "source": [
        "data.groupby('Is declined')['Merchant_id'].count()"
      ],
      "metadata": {
        "colab": {
          "base_uri": "https://localhost:8080/"
        },
        "id": "14QlAn7JRS1m",
        "outputId": "1058b69f-9806-4a4d-d36e-b14baf9b4d35"
      },
      "execution_count": 18,
      "outputs": [
        {
          "output_type": "execute_result",
          "data": {
            "text/plain": [
              "Is declined\n",
              "N    3018\n",
              "Y      57\n",
              "Name: Merchant_id, dtype: int64"
            ]
          },
          "metadata": {},
          "execution_count": 18
        }
      ]
    },
    {
      "cell_type": "code",
      "source": [
        "data.groupby('isHighRiskCountry')['Merchant_id'].count()"
      ],
      "metadata": {
        "colab": {
          "base_uri": "https://localhost:8080/"
        },
        "id": "HbRunCHUSKUb",
        "outputId": "4a1361fa-a274-46c7-9d23-2621705060ea"
      },
      "execution_count": 19,
      "outputs": [
        {
          "output_type": "execute_result",
          "data": {
            "text/plain": [
              "isHighRiskCountry\n",
              "N    2870\n",
              "Y     205\n",
              "Name: Merchant_id, dtype: int64"
            ]
          },
          "metadata": {},
          "execution_count": 19
        }
      ]
    },
    {
      "cell_type": "code",
      "source": [
        "data.groupby('isFradulent')['Merchant_id'].count()"
      ],
      "metadata": {
        "colab": {
          "base_uri": "https://localhost:8080/"
        },
        "id": "QxCZzVZKTvG8",
        "outputId": "90ee56ae-85cb-4a52-ec90-97cca8cc901c"
      },
      "execution_count": 20,
      "outputs": [
        {
          "output_type": "execute_result",
          "data": {
            "text/plain": [
              "isFradulent\n",
              "N    2627\n",
              "Y     448\n",
              "Name: Merchant_id, dtype: int64"
            ]
          },
          "metadata": {},
          "execution_count": 20
        }
      ]
    },
    {
      "cell_type": "markdown",
      "source": [
        "#### Frecuencia Relativa"
      ],
      "metadata": {
        "id": "V_VTt1F6VrvQ"
      }
    },
    {
      "cell_type": "markdown",
      "source": [
        "Crearemos diagramas de pastel para representar graficamente la frecuencia relativa de las variables categoricas en funcion de sus valores."
      ],
      "metadata": {
        "id": "MLy3V4JxV9vx"
      }
    },
    {
      "cell_type": "code",
      "source": [
        "\n",
        "fig = px.pie(data, values='Merchant_id', names='isHighRiskCountry', title= 'High Risk Country', width=400, height=400)\n",
        "fig1 = px.pie(data, values='Merchant_id', names='Is declined', title = 'Declined Transaction', width=400, height=400)\n",
        "fig2 = px.pie(data, values='Merchant_id', names='isForeignTransaction', title ='Foreing Transaction', width=400, height=400)\n",
        "fig3 = px.pie(data, values='Merchant_id', names='isFradulent', title ='Fradulent Transaction', width=400, height=400)\n",
        "\n",
        "fig.show()\n",
        "fig1.show()\n",
        "fig2.show()\n",
        "fig3.show()"
      ],
      "metadata": {
        "colab": {
          "base_uri": "https://localhost:8080/",
          "height": 0
        },
        "id": "Wb8HWeDrZcvv",
        "outputId": "8f2de073-ba11-4149-b960-ef44d4920865"
      },
      "execution_count": 21,
      "outputs": [
        {
          "output_type": "display_data",
          "data": {
            "text/html": [
              "<html>\n",
              "<head><meta charset=\"utf-8\" /></head>\n",
              "<body>\n",
              "    <div>            <script src=\"https://cdnjs.cloudflare.com/ajax/libs/mathjax/2.7.5/MathJax.js?config=TeX-AMS-MML_SVG\"></script><script type=\"text/javascript\">if (window.MathJax) {MathJax.Hub.Config({SVG: {font: \"STIX-Web\"}});}</script>                <script type=\"text/javascript\">window.PlotlyConfig = {MathJaxConfig: 'local'};</script>\n",
              "        <script src=\"https://cdn.plot.ly/plotly-2.8.3.min.js\"></script>                <div id=\"b546afff-dff8-4685-b049-4dfa7edeab36\" class=\"plotly-graph-div\" style=\"height:400px; width:400px;\"></div>            <script type=\"text/javascript\">                                    window.PLOTLYENV=window.PLOTLYENV || {};                                    if (document.getElementById(\"b546afff-dff8-4685-b049-4dfa7edeab36\")) {                    Plotly.newPlot(                        \"b546afff-dff8-4685-b049-4dfa7edeab36\",                        [{\"domain\":{\"x\":[0.0,1.0],\"y\":[0.0,1.0]},\"hovertemplate\":\"isHighRiskCountry=%{label}<br>Merchant_id=%{value}<extra></extra>\",\"labels\":[\"Y\",\"Y\",\"N\",\"N\",\"Y\",\"Y\",\"N\",\"N\",\"N\",\"N\",\"N\",\"Y\",\"Y\",\"Y\",\"N\",\"N\",\"N\",\"N\",\"N\",\"N\",\"Y\",\"N\",\"Y\",\"Y\",\"Y\",\"N\",\"N\",\"Y\",\"N\",\"Y\",\"N\",\"N\",\"N\",\"Y\",\"N\",\"N\",\"Y\",\"N\",\"N\",\"N\",\"Y\",\"N\",\"N\",\"Y\",\"N\",\"N\",\"N\",\"N\",\"N\",\"N\",\"N\",\"N\",\"N\",\"N\",\"N\",\"Y\",\"N\",\"Y\",\"N\",\"N\",\"N\",\"N\",\"Y\",\"Y\",\"N\",\"Y\",\"N\",\"Y\",\"Y\",\"N\",\"N\",\"Y\",\"N\",\"Y\",\"Y\",\"N\",\"Y\",\"Y\",\"N\",\"Y\",\"Y\",\"Y\",\"Y\",\"N\",\"N\",\"Y\",\"Y\",\"N\",\"Y\",\"N\",\"N\",\"N\",\"Y\",\"Y\",\"N\",\"Y\",\"N\",\"Y\",\"Y\",\"Y\",\"N\",\"Y\",\"Y\",\"Y\",\"Y\",\"Y\",\"Y\",\"N\",\"N\",\"Y\",\"N\",\"N\",\"N\",\"N\",\"Y\",\"N\",\"N\",\"N\",\"N\",\"N\",\"N\",\"Y\",\"N\",\"Y\",\"Y\",\"N\",\"N\",\"Y\",\"Y\",\"N\",\"Y\",\"N\",\"N\",\"Y\",\"Y\",\"Y\",\"Y\",\"Y\",\"N\",\"N\",\"N\",\"Y\",\"N\",\"N\",\"Y\",\"Y\",\"N\",\"Y\",\"N\",\"N\",\"N\",\"Y\",\"N\",\"Y\",\"N\",\"Y\",\"N\",\"N\",\"Y\",\"N\",\"Y\",\"N\",\"N\",\"N\",\"Y\",\"Y\",\"Y\",\"Y\",\"Y\",\"Y\",\"Y\",\"Y\",\"Y\",\"N\",\"N\",\"N\",\"N\",\"N\",\"Y\",\"Y\",\"N\",\"N\",\"Y\",\"Y\",\"N\",\"N\",\"N\",\"N\",\"Y\",\"N\",\"Y\",\"Y\",\"Y\",\"Y\",\"Y\",\"Y\",\"Y\",\"Y\",\"Y\",\"N\",\"Y\",\"Y\",\"Y\",\"Y\",\"N\",\"Y\",\"N\",\"N\",\"Y\",\"Y\",\"Y\",\"N\",\"Y\",\"N\",\"Y\",\"N\",\"N\",\"N\",\"N\",\"Y\",\"Y\",\"Y\",\"N\",\"N\",\"N\",\"N\",\"Y\",\"N\",\"N\",\"Y\",\"N\",\"N\",\"Y\",\"N\",\"N\",\"Y\",\"N\",\"Y\",\"N\",\"Y\",\"Y\",\"N\",\"N\",\"N\",\"N\",\"N\",\"Y\",\"N\",\"N\",\"N\",\"N\",\"Y\",\"Y\",\"N\",\"Y\",\"Y\",\"Y\",\"Y\",\"Y\",\"N\",\"N\",\"N\",\"Y\",\"Y\",\"Y\",\"N\",\"N\",\"Y\",\"Y\",\"N\",\"N\",\"Y\",\"N\",\"N\",\"Y\",\"N\",\"Y\",\"Y\",\"N\",\"Y\",\"N\",\"Y\",\"Y\",\"N\",\"N\",\"Y\",\"Y\",\"Y\",\"N\",\"N\",\"N\",\"Y\",\"Y\",\"N\",\"Y\",\"N\",\"Y\",\"N\",\"N\",\"Y\",\"N\",\"Y\",\"N\",\"Y\",\"Y\",\"Y\",\"Y\",\"Y\",\"N\",\"Y\",\"N\",\"Y\",\"N\",\"N\",\"N\",\"N\",\"Y\",\"N\",\"Y\",\"N\",\"N\",\"N\",\"N\",\"N\",\"N\",\"Y\",\"Y\",\"N\",\"N\",\"Y\",\"N\",\"N\",\"N\",\"N\",\"Y\",\"Y\",\"N\",\"N\",\"N\",\"N\",\"N\",\"Y\",\"N\",\"Y\",\"N\",\"Y\",\"Y\",\"N\",\"Y\",\"Y\",\"Y\",\"Y\",\"Y\",\"Y\",\"Y\",\"N\",\"N\",\"Y\",\"N\",\"Y\",\"Y\",\"Y\",\"Y\",\"N\",\"Y\",\"N\",\"N\",\"Y\",\"N\",\"N\",\"N\",\"Y\",\"Y\",\"N\",\"Y\",\"N\",\"N\",\"N\",\"Y\",\"N\",\"N\",\"N\",\"N\",\"Y\",\"Y\",\"Y\",\"N\",\"Y\",\"Y\",\"N\",\"Y\",\"N\",\"Y\",\"N\",\"Y\",\"Y\",\"N\",\"N\",\"N\",\"N\",\"N\",\"N\",\"N\",\"N\",\"N\",\"N\",\"N\",\"N\",\"N\",\"N\",\"Y\",\"Y\",\"Y\",\"N\",\"N\",\"N\",\"N\",\"N\",\"N\",\"N\",\"N\",\"N\",\"N\",\"N\",\"Y\",\"Y\",\"Y\",\"Y\",\"Y\",\"Y\",\"Y\",\"Y\",\"Y\",\"N\",\"N\",\"N\",\"Y\",\"Y\",\"N\",\"N\",\"N\",\"Y\",\"Y\",\"N\",\"N\",\"N\",\"N\",\"N\",\"N\",\"N\",\"N\",\"N\",\"N\",\"N\",\"N\",\"N\",\"N\",\"N\",\"N\",\"N\",\"N\",\"N\",\"N\",\"N\",\"N\",\"N\",\"N\",\"N\",\"N\",\"N\",\"N\",\"N\",\"N\",\"N\",\"N\",\"N\",\"N\",\"N\",\"N\",\"N\",\"N\",\"N\",\"N\",\"N\",\"N\",\"N\",\"N\",\"N\",\"N\",\"N\",\"N\",\"N\",\"N\",\"N\",\"N\",\"N\",\"N\",\"N\",\"N\",\"N\",\"N\",\"N\",\"N\",\"N\",\"N\",\"N\",\"N\",\"N\",\"N\",\"N\",\"N\",\"N\",\"N\",\"N\",\"N\",\"N\",\"N\",\"N\",\"N\",\"N\",\"N\",\"N\",\"N\",\"N\",\"N\",\"N\",\"N\",\"N\",\"N\",\"N\",\"N\",\"N\",\"N\",\"N\",\"N\",\"N\",\"N\",\"N\",\"N\",\"N\",\"N\",\"N\",\"N\",\"N\",\"N\",\"N\",\"N\",\"N\",\"N\",\"N\",\"N\",\"N\",\"N\",\"N\",\"N\",\"N\",\"N\",\"N\",\"N\",\"N\",\"N\",\"N\",\"N\",\"N\",\"N\",\"N\",\"N\",\"N\",\"N\",\"N\",\"N\",\"N\",\"N\",\"N\",\"N\",\"N\",\"N\",\"N\",\"N\",\"N\",\"N\",\"N\",\"N\",\"N\",\"N\",\"N\",\"N\",\"N\",\"N\",\"N\",\"N\",\"N\",\"N\",\"N\",\"N\",\"N\",\"N\",\"N\",\"N\",\"N\",\"N\",\"N\",\"N\",\"N\",\"N\",\"N\",\"N\",\"N\",\"N\",\"N\",\"N\",\"N\",\"N\",\"N\",\"N\",\"N\",\"N\",\"N\",\"N\",\"N\",\"N\",\"N\",\"N\",\"N\",\"N\",\"N\",\"N\",\"N\",\"N\",\"N\",\"N\",\"N\",\"N\",\"N\",\"N\",\"N\",\"N\",\"N\",\"N\",\"N\",\"N\",\"N\",\"N\",\"N\",\"N\",\"N\",\"N\",\"N\",\"N\",\"N\",\"N\",\"N\",\"N\",\"N\",\"N\",\"N\",\"N\",\"N\",\"N\",\"N\",\"N\",\"N\",\"N\",\"N\",\"N\",\"N\",\"N\",\"N\",\"N\",\"N\",\"N\",\"N\",\"N\",\"N\",\"N\",\"N\",\"N\",\"N\",\"N\",\"N\",\"N\",\"N\",\"N\",\"N\",\"N\",\"N\",\"N\",\"N\",\"N\",\"N\",\"N\",\"N\",\"N\",\"N\",\"N\",\"N\",\"N\",\"N\",\"N\",\"N\",\"N\",\"N\",\"N\",\"N\",\"N\",\"N\",\"N\",\"N\",\"N\",\"N\",\"N\",\"N\",\"N\",\"N\",\"N\",\"N\",\"N\",\"N\",\"N\",\"N\",\"N\",\"N\",\"N\",\"N\",\"N\",\"N\",\"N\",\"N\",\"N\",\"N\",\"N\",\"N\",\"N\",\"N\",\"N\",\"N\",\"N\",\"N\",\"N\",\"N\",\"N\",\"N\",\"N\",\"N\",\"N\",\"N\",\"N\",\"N\",\"N\",\"N\",\"N\",\"N\",\"N\",\"N\",\"N\",\"N\",\"N\",\"N\",\"N\",\"N\",\"N\",\"N\",\"N\",\"N\",\"N\",\"N\",\"N\",\"N\",\"N\",\"N\",\"N\",\"N\",\"N\",\"N\",\"N\",\"N\",\"N\",\"N\",\"N\",\"N\",\"N\",\"N\",\"N\",\"N\",\"N\",\"N\",\"N\",\"N\",\"N\",\"N\",\"N\",\"N\",\"N\",\"N\",\"N\",\"N\",\"N\",\"N\",\"N\",\"N\",\"N\",\"N\",\"N\",\"N\",\"N\",\"N\",\"N\",\"N\",\"N\",\"N\",\"N\",\"N\",\"N\",\"N\",\"N\",\"N\",\"N\",\"N\",\"N\",\"N\",\"N\",\"N\",\"N\",\"N\",\"N\",\"N\",\"N\",\"N\",\"N\",\"N\",\"N\",\"N\",\"N\",\"N\",\"N\",\"N\",\"N\",\"N\",\"N\",\"N\",\"N\",\"N\",\"N\",\"N\",\"N\",\"N\",\"N\",\"N\",\"N\",\"N\",\"N\",\"N\",\"N\",\"N\",\"N\",\"N\",\"N\",\"N\",\"N\",\"N\",\"N\",\"N\",\"N\",\"N\",\"N\",\"N\",\"N\",\"N\",\"N\",\"N\",\"N\",\"N\",\"N\",\"N\",\"N\",\"N\",\"N\",\"N\",\"N\",\"N\",\"N\",\"N\",\"N\",\"N\",\"N\",\"N\",\"N\",\"N\",\"N\",\"N\",\"N\",\"N\",\"N\",\"N\",\"N\",\"N\",\"N\",\"N\",\"N\",\"N\",\"N\",\"N\",\"N\",\"N\",\"N\",\"N\",\"N\",\"N\",\"N\",\"N\",\"N\",\"N\",\"N\",\"N\",\"N\",\"N\",\"N\",\"N\",\"N\",\"N\",\"N\",\"N\",\"N\",\"N\",\"N\",\"N\",\"N\",\"N\",\"N\",\"N\",\"N\",\"N\",\"N\",\"N\",\"N\",\"N\",\"N\",\"N\",\"N\",\"N\",\"N\",\"N\",\"N\",\"N\",\"N\",\"N\",\"N\",\"N\",\"N\",\"N\",\"N\",\"N\",\"N\",\"N\",\"N\",\"N\",\"N\",\"N\",\"N\",\"N\",\"N\",\"N\",\"N\",\"N\",\"N\",\"N\",\"N\",\"N\",\"N\",\"N\",\"N\",\"N\",\"N\",\"N\",\"N\",\"N\",\"N\",\"N\",\"N\",\"N\",\"N\",\"N\",\"N\",\"N\",\"N\",\"N\",\"N\",\"N\",\"N\",\"N\",\"N\",\"N\",\"N\",\"N\",\"N\",\"N\",\"N\",\"N\",\"N\",\"N\",\"N\",\"N\",\"N\",\"N\",\"N\",\"N\",\"N\",\"N\",\"N\",\"N\",\"N\",\"N\",\"N\",\"N\",\"N\",\"N\",\"N\",\"N\",\"N\",\"N\",\"N\",\"N\",\"N\",\"N\",\"N\",\"N\",\"N\",\"N\",\"N\",\"N\",\"N\",\"N\",\"N\",\"N\",\"N\",\"N\",\"N\",\"N\",\"N\",\"N\",\"N\",\"N\",\"N\",\"N\",\"N\",\"N\",\"N\",\"N\",\"N\",\"N\",\"N\",\"N\",\"N\",\"N\",\"N\",\"N\",\"N\",\"N\",\"N\",\"N\",\"N\",\"N\",\"N\",\"N\",\"N\",\"N\",\"N\",\"N\",\"N\",\"N\",\"N\",\"N\",\"N\",\"N\",\"N\",\"N\",\"N\",\"N\",\"N\",\"N\",\"N\",\"N\",\"N\",\"N\",\"N\",\"N\",\"N\",\"N\",\"N\",\"N\",\"N\",\"N\",\"N\",\"N\",\"N\",\"N\",\"N\",\"N\",\"N\",\"N\",\"N\",\"N\",\"N\",\"N\",\"N\",\"N\",\"N\",\"N\",\"N\",\"N\",\"N\",\"N\",\"N\",\"N\",\"N\",\"N\",\"N\",\"N\",\"N\",\"N\",\"N\",\"N\",\"N\",\"N\",\"N\",\"N\",\"N\",\"N\",\"N\",\"N\",\"N\",\"N\",\"N\",\"N\",\"N\",\"N\",\"N\",\"N\",\"N\",\"N\",\"N\",\"N\",\"N\",\"N\",\"N\",\"N\",\"N\",\"N\",\"N\",\"N\",\"N\",\"N\",\"N\",\"N\",\"N\",\"N\",\"N\",\"N\",\"N\",\"N\",\"N\",\"N\",\"N\",\"N\",\"N\",\"N\",\"N\",\"N\",\"N\",\"N\",\"N\",\"N\",\"N\",\"N\",\"N\",\"N\",\"N\",\"N\",\"N\",\"N\",\"N\",\"N\",\"N\",\"N\",\"N\",\"N\",\"N\",\"N\",\"N\",\"N\",\"N\",\"N\",\"N\",\"N\",\"N\",\"N\",\"N\",\"N\",\"N\",\"N\",\"N\",\"N\",\"N\",\"N\",\"N\",\"N\",\"N\",\"N\",\"N\",\"N\",\"N\",\"N\",\"N\",\"N\",\"N\",\"N\",\"N\",\"N\",\"N\",\"N\",\"N\",\"N\",\"N\",\"N\",\"N\",\"N\",\"N\",\"N\",\"N\",\"N\",\"N\",\"N\",\"N\",\"N\",\"N\",\"N\",\"N\",\"N\",\"N\",\"N\",\"N\",\"N\",\"N\",\"N\",\"N\",\"N\",\"N\",\"N\",\"N\",\"N\",\"N\",\"N\",\"N\",\"N\",\"N\",\"N\",\"N\",\"N\",\"N\",\"N\",\"N\",\"N\",\"N\",\"N\",\"N\",\"N\",\"N\",\"N\",\"N\",\"N\",\"N\",\"N\",\"N\",\"N\",\"N\",\"N\",\"N\",\"N\",\"N\",\"N\",\"N\",\"N\",\"N\",\"N\",\"N\",\"N\",\"N\",\"N\",\"N\",\"N\",\"N\",\"N\",\"N\",\"N\",\"N\",\"N\",\"N\",\"N\",\"N\",\"N\",\"N\",\"N\",\"N\",\"N\",\"N\",\"N\",\"N\",\"N\",\"N\",\"N\",\"N\",\"N\",\"N\",\"N\",\"N\",\"N\",\"N\",\"N\",\"N\",\"N\",\"N\",\"N\",\"N\",\"N\",\"N\",\"N\",\"N\",\"N\",\"N\",\"N\",\"N\",\"N\",\"N\",\"N\",\"N\",\"N\",\"N\",\"N\",\"N\",\"N\",\"N\",\"N\",\"N\",\"N\",\"N\",\"N\",\"N\",\"N\",\"N\",\"N\",\"N\",\"N\",\"N\",\"N\",\"N\",\"N\",\"N\",\"N\",\"N\",\"N\",\"N\",\"N\",\"N\",\"N\",\"N\",\"N\",\"N\",\"N\",\"N\",\"N\",\"N\",\"N\",\"N\",\"N\",\"N\",\"N\",\"N\",\"N\",\"N\",\"N\",\"N\",\"N\",\"N\",\"N\",\"N\",\"N\",\"N\",\"N\",\"N\",\"N\",\"N\",\"N\",\"N\",\"N\",\"N\",\"N\",\"N\",\"N\",\"N\",\"N\",\"N\",\"N\",\"N\",\"N\",\"N\",\"N\",\"N\",\"N\",\"N\",\"N\",\"N\",\"N\",\"N\",\"N\",\"N\",\"N\",\"N\",\"N\",\"N\",\"N\",\"N\",\"N\",\"N\",\"N\",\"N\",\"N\",\"N\",\"N\",\"N\",\"N\",\"N\",\"N\",\"N\",\"N\",\"N\",\"N\",\"N\",\"N\",\"N\",\"N\",\"N\",\"N\",\"N\",\"N\",\"N\",\"N\",\"N\",\"N\",\"N\",\"N\",\"N\",\"N\",\"N\",\"N\",\"N\",\"N\",\"N\",\"N\",\"N\",\"N\",\"N\",\"N\",\"N\",\"N\",\"N\",\"N\",\"N\",\"N\",\"N\",\"N\",\"N\",\"N\",\"N\",\"N\",\"N\",\"N\",\"N\",\"N\",\"N\",\"N\",\"N\",\"N\",\"N\",\"N\",\"N\",\"N\",\"N\",\"N\",\"N\",\"N\",\"N\",\"N\",\"N\",\"N\",\"N\",\"N\",\"N\",\"N\",\"N\",\"N\",\"N\",\"N\",\"N\",\"N\",\"N\",\"N\",\"N\",\"N\",\"N\",\"N\",\"N\",\"N\",\"N\",\"N\",\"N\",\"N\",\"N\",\"N\",\"N\",\"N\",\"N\",\"N\",\"N\",\"N\",\"N\",\"N\",\"N\",\"N\",\"N\",\"N\",\"N\",\"N\",\"N\",\"N\",\"N\",\"N\",\"N\",\"N\",\"N\",\"N\",\"N\",\"N\",\"N\",\"N\",\"N\",\"N\",\"N\",\"N\",\"N\",\"N\",\"N\",\"N\",\"N\",\"N\",\"N\",\"N\",\"N\",\"N\",\"N\",\"N\",\"N\",\"N\",\"N\",\"N\",\"N\",\"N\",\"N\",\"N\",\"N\",\"N\",\"N\",\"N\",\"N\",\"N\",\"N\",\"N\",\"N\",\"N\",\"N\",\"N\",\"N\",\"N\",\"N\",\"N\",\"N\",\"N\",\"N\",\"N\",\"N\",\"N\",\"N\",\"N\",\"N\",\"N\",\"N\",\"N\",\"N\",\"N\",\"N\",\"N\",\"N\",\"N\",\"N\",\"N\",\"N\",\"N\",\"N\",\"N\",\"N\",\"N\",\"N\",\"N\",\"N\",\"N\",\"N\",\"N\",\"N\",\"N\",\"N\",\"N\",\"N\",\"N\",\"N\",\"N\",\"N\",\"N\",\"N\",\"N\",\"N\",\"N\",\"N\",\"N\",\"N\",\"N\",\"N\",\"N\",\"N\",\"N\",\"N\",\"N\",\"N\",\"N\",\"N\",\"N\",\"N\",\"N\",\"N\",\"N\",\"N\",\"N\",\"N\",\"N\",\"N\",\"N\",\"N\",\"N\",\"N\",\"N\",\"N\",\"N\",\"N\",\"N\",\"N\",\"N\",\"N\",\"N\",\"N\",\"N\",\"N\",\"N\",\"N\",\"N\",\"N\",\"N\",\"N\",\"N\",\"N\",\"N\",\"N\",\"N\",\"N\",\"N\",\"N\",\"N\",\"N\",\"N\",\"N\",\"N\",\"N\",\"N\",\"N\",\"N\",\"N\",\"N\",\"N\",\"N\",\"N\",\"N\",\"N\",\"N\",\"N\",\"N\",\"N\",\"N\",\"N\",\"N\",\"N\",\"N\",\"N\",\"N\",\"N\",\"N\",\"N\",\"N\",\"N\",\"N\",\"N\",\"N\",\"N\",\"N\",\"N\",\"N\",\"N\",\"N\",\"N\",\"N\",\"N\",\"N\",\"N\",\"N\",\"N\",\"N\",\"N\",\"N\",\"N\",\"N\",\"N\",\"N\",\"N\",\"N\",\"N\",\"N\",\"N\",\"N\",\"N\",\"N\",\"N\",\"N\",\"N\",\"N\",\"N\",\"N\",\"N\",\"N\",\"N\",\"N\",\"N\",\"N\",\"N\",\"N\",\"N\",\"N\",\"N\",\"N\",\"N\",\"N\",\"N\",\"N\",\"N\",\"N\",\"N\",\"N\",\"N\",\"N\",\"N\",\"N\",\"N\",\"N\",\"N\",\"N\",\"N\",\"N\",\"N\",\"N\",\"N\",\"N\",\"N\",\"N\",\"N\",\"N\",\"N\",\"N\",\"N\",\"N\",\"N\",\"N\",\"N\",\"N\",\"N\",\"N\",\"N\",\"N\",\"N\",\"N\",\"N\",\"N\",\"N\",\"N\",\"N\",\"N\",\"N\",\"N\",\"N\",\"N\",\"N\",\"N\",\"N\",\"N\",\"N\",\"N\",\"N\",\"N\",\"N\",\"N\",\"N\",\"N\",\"N\",\"N\",\"N\",\"N\",\"N\",\"N\",\"N\",\"N\",\"N\",\"N\",\"N\",\"N\",\"N\",\"N\",\"N\",\"N\",\"N\",\"N\",\"N\",\"N\",\"N\",\"N\",\"N\",\"N\",\"N\",\"N\",\"N\",\"N\",\"N\",\"N\",\"N\",\"N\",\"N\",\"N\",\"N\",\"N\",\"N\",\"N\",\"N\",\"N\",\"N\",\"N\",\"N\",\"N\",\"N\",\"N\",\"N\",\"N\",\"N\",\"N\",\"N\",\"N\",\"N\",\"N\",\"N\",\"N\",\"N\",\"N\",\"N\",\"N\",\"N\",\"N\",\"N\",\"N\",\"N\",\"N\",\"N\",\"N\",\"N\",\"N\",\"N\",\"N\",\"N\",\"N\",\"N\",\"N\",\"N\",\"N\",\"N\",\"N\",\"N\",\"N\",\"N\",\"N\",\"N\",\"N\",\"N\",\"N\",\"N\",\"N\",\"N\",\"N\",\"N\",\"N\",\"N\",\"N\",\"N\",\"N\",\"N\",\"N\",\"N\",\"N\",\"N\",\"N\",\"N\",\"N\",\"N\",\"N\",\"N\",\"N\",\"N\",\"N\",\"N\",\"N\",\"N\",\"N\",\"N\",\"N\",\"N\",\"N\",\"N\",\"N\",\"N\",\"N\",\"N\",\"N\",\"N\",\"N\",\"N\",\"N\",\"N\",\"N\",\"N\",\"N\",\"N\",\"N\",\"N\",\"N\",\"N\",\"N\",\"N\",\"N\",\"N\",\"N\",\"N\",\"N\",\"N\",\"N\",\"N\",\"N\",\"N\",\"N\",\"N\",\"N\",\"N\",\"N\",\"N\",\"N\",\"N\",\"N\",\"N\",\"N\",\"N\",\"N\",\"N\",\"N\",\"N\",\"N\",\"N\",\"N\",\"N\",\"N\",\"N\",\"N\",\"N\",\"N\",\"N\",\"N\",\"N\",\"N\",\"N\",\"N\",\"N\",\"N\",\"N\",\"N\",\"N\",\"N\",\"N\",\"N\",\"N\",\"N\",\"N\",\"N\",\"N\",\"N\",\"N\",\"N\",\"N\",\"N\",\"N\",\"N\",\"N\",\"N\",\"N\",\"N\",\"N\",\"N\",\"N\",\"N\",\"N\",\"N\",\"N\",\"N\",\"N\",\"N\",\"N\",\"N\",\"N\",\"N\",\"N\",\"N\",\"N\",\"N\",\"N\",\"N\",\"N\",\"N\",\"N\",\"N\",\"N\",\"N\",\"N\",\"N\",\"N\",\"N\",\"N\",\"N\",\"N\",\"N\",\"N\",\"N\",\"N\",\"N\",\"N\",\"N\",\"N\",\"N\",\"N\",\"N\",\"N\",\"N\",\"N\",\"N\",\"N\",\"N\",\"N\",\"N\",\"N\",\"N\",\"N\",\"N\",\"N\",\"N\",\"N\",\"N\",\"N\",\"N\",\"N\",\"N\",\"N\",\"N\",\"N\",\"N\",\"N\",\"N\",\"N\",\"N\",\"N\",\"N\",\"N\",\"N\",\"N\",\"N\",\"N\",\"N\",\"N\",\"N\",\"N\",\"N\",\"N\",\"N\",\"N\",\"N\",\"N\",\"N\",\"N\",\"N\",\"N\",\"N\",\"N\",\"N\",\"N\",\"N\",\"N\",\"N\",\"N\",\"N\",\"N\",\"N\",\"N\",\"N\",\"N\",\"N\",\"N\",\"N\",\"N\",\"N\",\"N\",\"N\",\"N\",\"N\",\"N\",\"N\",\"N\",\"N\",\"N\",\"N\",\"N\",\"N\",\"N\",\"N\",\"N\",\"N\",\"N\",\"N\",\"N\",\"N\",\"N\",\"N\",\"N\",\"N\",\"N\",\"N\",\"N\",\"N\",\"N\",\"N\",\"N\",\"N\",\"N\",\"N\",\"N\",\"N\",\"N\",\"N\",\"N\",\"N\",\"N\",\"N\",\"N\",\"N\",\"N\",\"N\",\"N\",\"N\",\"N\",\"N\",\"N\",\"N\",\"N\",\"N\",\"N\",\"N\",\"N\",\"N\",\"N\",\"N\",\"N\",\"N\",\"N\",\"N\",\"N\",\"N\",\"N\",\"N\",\"N\",\"N\",\"N\",\"N\",\"N\",\"N\",\"N\",\"N\",\"N\",\"N\",\"N\",\"N\",\"N\",\"N\",\"N\",\"N\",\"N\",\"N\",\"N\",\"N\",\"N\",\"N\",\"N\",\"N\",\"N\",\"N\",\"N\",\"N\",\"N\",\"N\",\"N\",\"N\",\"N\",\"N\",\"N\",\"N\",\"N\",\"N\",\"N\",\"N\",\"N\",\"N\",\"N\",\"N\",\"N\",\"N\",\"N\",\"N\",\"N\",\"N\",\"N\",\"N\",\"N\",\"N\",\"N\",\"N\",\"N\",\"N\",\"N\",\"N\",\"N\",\"N\",\"N\",\"N\",\"N\",\"N\",\"N\",\"N\",\"N\",\"N\",\"N\",\"N\",\"N\",\"N\",\"N\",\"N\",\"N\",\"N\",\"N\",\"N\",\"N\",\"N\",\"N\",\"N\",\"N\",\"N\",\"N\",\"N\",\"N\",\"N\",\"N\",\"N\",\"N\",\"N\",\"N\",\"N\",\"N\",\"N\",\"N\",\"N\",\"N\",\"N\",\"N\",\"N\",\"N\",\"N\",\"N\",\"N\",\"N\",\"N\",\"N\",\"N\",\"N\",\"N\",\"N\",\"N\",\"N\",\"N\",\"N\",\"N\",\"N\",\"N\",\"N\",\"N\",\"N\",\"N\",\"N\",\"N\",\"N\",\"N\",\"N\",\"N\",\"N\",\"N\",\"N\",\"N\",\"N\",\"N\",\"N\",\"N\",\"N\",\"N\",\"N\",\"N\",\"N\",\"N\",\"N\",\"N\",\"N\",\"N\",\"N\",\"N\",\"N\",\"N\",\"N\",\"N\",\"N\",\"N\",\"N\",\"N\",\"N\",\"N\",\"N\",\"N\",\"N\",\"N\",\"N\",\"N\",\"N\",\"N\",\"N\",\"N\",\"N\",\"N\",\"N\",\"N\",\"N\",\"N\",\"N\",\"N\",\"N\",\"N\",\"N\",\"N\",\"N\",\"N\",\"N\",\"N\",\"N\",\"N\",\"N\",\"N\",\"N\",\"N\",\"N\",\"N\",\"N\",\"N\",\"N\",\"N\",\"N\",\"N\",\"N\",\"N\",\"N\",\"N\",\"N\",\"N\",\"N\",\"N\",\"N\",\"N\",\"N\",\"N\",\"N\",\"N\",\"N\",\"N\",\"N\",\"N\",\"N\",\"N\",\"N\",\"N\",\"N\",\"N\",\"N\",\"N\",\"N\",\"N\",\"N\",\"N\",\"N\",\"N\",\"N\",\"N\",\"N\",\"N\",\"N\",\"N\",\"N\",\"N\",\"N\",\"N\",\"N\",\"N\",\"N\",\"N\",\"N\",\"N\",\"N\",\"N\",\"N\",\"N\",\"N\",\"N\",\"N\",\"N\",\"N\",\"N\",\"N\",\"N\",\"N\",\"N\",\"N\",\"N\",\"N\",\"N\",\"N\",\"N\",\"N\",\"N\",\"N\",\"N\",\"N\",\"N\",\"N\",\"N\",\"N\",\"N\",\"N\",\"N\",\"N\",\"N\",\"N\",\"N\",\"N\",\"N\",\"N\",\"N\",\"N\",\"N\",\"N\",\"N\",\"N\",\"N\",\"N\",\"N\",\"N\",\"N\",\"N\",\"N\",\"N\",\"N\",\"N\",\"N\",\"N\",\"N\",\"N\",\"N\",\"N\",\"N\",\"N\",\"N\",\"N\",\"N\",\"N\",\"N\",\"N\",\"N\",\"N\",\"N\",\"N\",\"N\",\"N\",\"N\",\"N\",\"N\",\"N\",\"N\",\"N\",\"N\",\"N\",\"N\",\"N\",\"N\",\"N\",\"N\",\"N\",\"N\",\"N\",\"N\",\"N\",\"N\",\"N\",\"N\",\"N\",\"N\",\"N\",\"N\",\"N\",\"N\",\"N\",\"N\",\"N\",\"N\",\"N\",\"N\",\"N\",\"N\",\"N\",\"N\",\"N\",\"N\",\"N\",\"N\",\"N\",\"N\",\"N\",\"N\",\"N\",\"N\",\"N\",\"N\",\"N\",\"N\",\"N\",\"N\",\"N\",\"N\",\"N\",\"N\",\"N\",\"N\",\"N\",\"N\",\"N\",\"N\",\"N\",\"N\",\"N\",\"N\",\"N\",\"N\",\"N\",\"N\",\"N\",\"N\",\"N\",\"N\",\"N\",\"N\",\"N\",\"N\",\"N\",\"N\",\"N\",\"N\",\"N\",\"N\",\"N\",\"N\",\"N\",\"N\",\"N\",\"N\",\"N\",\"N\",\"N\",\"N\",\"N\",\"N\",\"N\",\"N\",\"N\",\"N\",\"N\",\"N\",\"N\",\"N\",\"N\",\"N\",\"N\",\"N\",\"N\",\"N\",\"N\",\"N\",\"N\",\"N\",\"N\",\"N\",\"N\",\"N\",\"N\",\"N\",\"N\",\"N\",\"N\",\"N\",\"N\",\"N\",\"N\",\"N\",\"N\",\"N\",\"N\",\"N\",\"N\",\"N\",\"N\",\"N\",\"N\",\"N\",\"N\",\"N\",\"N\",\"N\",\"N\",\"N\",\"N\",\"N\",\"N\",\"N\",\"N\",\"N\",\"N\",\"N\",\"N\",\"N\",\"N\",\"N\",\"N\",\"N\",\"N\",\"N\",\"N\",\"N\",\"N\",\"N\",\"N\",\"N\",\"N\",\"N\",\"N\",\"N\",\"N\",\"N\",\"N\",\"N\",\"N\",\"N\",\"N\",\"N\",\"N\",\"N\",\"N\",\"N\",\"N\",\"N\",\"N\",\"N\",\"N\",\"N\",\"N\",\"N\",\"N\",\"N\",\"N\",\"N\",\"N\",\"N\",\"N\",\"N\",\"N\",\"N\",\"N\",\"N\",\"N\",\"N\",\"N\",\"N\",\"N\",\"N\",\"N\",\"N\",\"N\",\"N\",\"N\",\"N\",\"N\",\"N\",\"N\",\"N\",\"N\",\"N\",\"N\",\"N\",\"N\",\"N\",\"N\",\"N\",\"N\",\"N\",\"N\",\"N\",\"N\",\"N\",\"N\",\"N\",\"N\",\"N\",\"N\",\"N\",\"N\",\"N\",\"N\",\"N\",\"N\",\"N\",\"N\",\"N\",\"N\",\"N\",\"N\",\"N\",\"N\",\"N\",\"N\",\"N\",\"N\",\"N\",\"N\",\"N\",\"N\",\"N\",\"N\",\"N\",\"N\",\"N\",\"N\",\"N\",\"N\",\"N\",\"N\",\"N\",\"N\",\"N\",\"N\",\"N\",\"N\",\"N\",\"N\",\"N\",\"N\",\"N\",\"N\",\"N\",\"N\",\"N\",\"N\",\"N\",\"N\",\"N\",\"N\",\"N\",\"N\",\"N\",\"N\",\"N\",\"N\",\"N\",\"N\",\"N\",\"N\",\"N\",\"N\",\"N\",\"N\",\"N\",\"N\",\"N\",\"N\",\"N\",\"N\",\"N\",\"N\",\"N\",\"N\",\"N\",\"N\",\"N\",\"N\",\"N\",\"N\",\"N\",\"N\",\"N\",\"N\",\"N\",\"N\",\"N\",\"N\",\"N\",\"N\",\"N\",\"N\",\"N\",\"N\",\"N\",\"N\",\"N\",\"N\",\"N\",\"N\",\"N\",\"N\",\"N\",\"N\",\"N\",\"N\",\"N\",\"N\",\"N\",\"N\",\"N\",\"N\",\"N\",\"N\",\"N\",\"N\",\"N\",\"N\",\"N\",\"N\",\"N\",\"N\",\"N\",\"N\",\"N\",\"N\",\"N\",\"N\",\"N\",\"N\",\"N\",\"N\",\"N\",\"N\",\"N\",\"N\",\"N\",\"N\",\"N\",\"N\",\"N\",\"N\",\"N\",\"N\",\"N\",\"N\",\"N\",\"N\",\"N\",\"N\",\"N\",\"N\",\"N\",\"N\",\"N\",\"N\",\"N\",\"N\",\"N\",\"N\",\"N\",\"N\",\"N\",\"N\",\"N\",\"N\",\"N\",\"N\",\"N\",\"N\",\"N\",\"N\",\"N\",\"N\",\"N\",\"N\",\"N\",\"N\",\"N\",\"N\",\"N\",\"N\",\"N\",\"N\",\"N\",\"N\",\"N\",\"N\",\"N\",\"N\",\"N\",\"N\",\"N\",\"N\",\"N\",\"N\",\"N\",\"N\",\"N\",\"N\",\"N\",\"N\",\"N\",\"N\",\"N\",\"N\",\"N\",\"N\",\"N\",\"N\",\"N\",\"N\",\"N\",\"N\",\"N\",\"N\",\"N\",\"N\",\"N\",\"N\",\"N\",\"N\",\"N\",\"N\",\"N\",\"N\",\"N\",\"N\",\"N\",\"N\",\"N\",\"N\",\"N\",\"N\",\"N\",\"N\",\"N\",\"N\",\"N\",\"N\",\"N\",\"N\",\"N\",\"N\",\"N\",\"N\",\"N\",\"N\",\"N\",\"N\",\"N\",\"N\",\"N\",\"N\",\"N\",\"N\",\"N\",\"N\",\"N\",\"N\",\"N\",\"N\",\"N\",\"N\",\"N\",\"N\",\"N\",\"N\",\"N\",\"N\",\"N\",\"N\",\"N\",\"N\",\"N\",\"N\",\"N\",\"N\",\"N\",\"N\",\"N\",\"N\",\"N\",\"N\",\"N\",\"N\",\"N\",\"N\",\"N\",\"N\",\"N\",\"N\",\"N\",\"N\",\"N\",\"N\",\"Y\",\"Y\"],\"legendgroup\":\"\",\"name\":\"\",\"showlegend\":true,\"values\":[3160040998,3160040998,3160041896,3160141996,3160241992,3160241992,3160272997,3162041996,3162041996,3162041996,3356298138,3359162473,3359690891,3364840542,3365355395,3369900897,3376306597,3386662126,3388251889,3394638119,3402333645,3405816400,3408183027,3413226850,3418090677,3450127241,3462219091,3465787492,3483626412,3498029973,3505845546,3506126990,3508979345,3527533497,3541182255,3557460410,3564918618,3604409798,3641844855,3642050373,3651341559,3657008341,3659140079,3675535563,3687691773,3706361915,3714090682,3714419514,3729024090,3742656867,3752015916,3760238152,3764558156,3774659995,3776798621,3785665909,3785986636,3799132406,3800617237,3806421625,3808398633,3811662493,3816482428,3835542787,3837335703,3840707845,3852916753,3856955720,3858398119,3859811531,3875188381,3884139657,3884787232,3905893865,3938462850,3950041893,3958135740,3964604570,3995706579,4018645384,4022945723,4024505715,4036426557,4058823520,4061849015,4063172111,4072532307,4084592872,4105344658,4114574519,4117880439,4127150902,4128978968,4130501464,4135098150,4138506573,4139060865,4139280493,4151187710,4154299431,4155574823,4161661486,4163803727,4172276215,4173436510,4177712289,4180015902,4192972254,4202639184,4205436781,4209927538,4223065137,4224420959,4225126900,4225921989,4232210297,4240669276,4244630120,4266029386,4294222139,4304266734,4305702710,4312225167,4314204125,4327113971,4345258543,4348694075,4349047749,4351013109,4361157500,4373776212,4378980797,4397330540,4398664733,4405257384,4409660001,4427137431,4431147517,4439427249,4443404173,4453850276,4456899824,4481195802,4489896961,4526633692,4536078157,4544005938,4557040500,4563845771,4579872633,4585226511,4586229903,4592811487,4596416910,4628780648,4629967388,4633703602,4639560839,4645301386,4648858919,4664574739,4667293611,4671682416,4684495167,4687490727,4690923132,4691564176,4713612792,4716163260,4718777983,4721121199,4727426967,4734471000,4736685684,4748248523,4751116909,4762163981,4763086973,4764736078,4772667475,4786546169,4796001508,4805279645,4818869188,4835465818,4838852609,4839374244,4851963556,4858660021,4870833599,4871980109,4873110740,4878516375,4879626708,4881579578,4890143931,4898289645,4902634359,4906320707,4908055617,4908884376,4933502657,4937588881,4940039747,4942320098,4943712797,4946946678,4948629322,4970606263,4973267879,4973310264,4988866051,4989248225,5020008779,5022726674,5035552703,5037840894,5041652546,5054473235,5057209186,5063944744,5066590987,5076373986,5091764220,5108511837,5116547959,5120397575,5121812372,5134289117,5150845822,5180064875,5183376007,5193134213,5195567970,5202727146,5224070838,5235580276,5258312871,5259123670,5264128511,5271180204,5274967692,5284726016,5309800449,5331771857,5338031118,5339489340,5339849253,5345941652,5355399779,5425524255,5426200375,5426239243,5436582563,5436781051,5438087941,5439431588,5440569593,5444358642,5449566080,5459497990,5474497608,5475382688,5491231228,5495610149,5497895958,5498518099,5499666666,5504141167,5507239729,5508434208,5516509929,5520132673,5526236381,5560111892,5562961422,5586273121,5588296997,5591651411,5602598291,5614772190,5624569909,5631261207,5634640261,5636587443,5639232781,5646455022,5655572596,5656117724,5663085583,5671132124,5673635669,5675544222,5676841832,5688747995,5690777846,5693783739,5696577327,5703519784,5708922255,5731414073,5733530619,5734095507,5760152287,5766099974,5790085700,5793673119,5795857704,5797107780,5811420020,5845551567,5859908215,5862353618,5863189919,5869315272,5871664480,5874863707,5879049904,5884529995,5892017866,5928254406,5930697966,5934351213,5938834165,5943567820,5959708973,5969094614,5988848064,5991109342,6016034477,6023215001,6028844245,6051871856,6052221972,6062032943,6062389909,6070790055,6080895069,6083913860,6101824913,6102479353,6115607724,6118190038,6122610392,6124595289,6139931192,6142510334,6148192483,6177585619,6188405933,6189443441,6196064718,6199861179,6201160714,6210230406,6278623414,6283390216,6283975662,6287176937,6291161670,6298132922,6321557899,6326408917,6338071932,6339832383,6347291796,6348242452,6353760025,6356587989,6374053602,6378428813,6392329354,6396307681,6403649379,6412131239,6416323290,6419109258,6455635890,6471049957,6485322328,6486520105,6487405222,6494182360,6511919222,6514902255,6516357223,6537548014,6553441185,6561840914,6586987902,6597904988,6606661761,6612448144,6619775423,6633884878,6656725630,6661273529,6661273529,6661273529,6661273529,6661273529,6661273529,6661273529,6661273530,6661273530,6661273530,6661273530,6661273530,6661273530,6661273530,6661273531,6661273531,6661273531,6661273531,6661273531,6661273531,6661273532,6661273532,6661273532,6661273532,6661273532,6661273533,6661273533,6661273533,6661273534,6661273534,6661273534,6661273534,6661273534,6661273534,6661273531,6661273531,6661273531,6661273531,6661273531,6661273531,6661273532,6661273532,6661273532,6661273532,6661273532,6661273533,6661273533,6661273533,6661273533,6661273533,6661273533,6661273533,3160041996,3160041996,3160041996,3200016990,3200016990,3200016990,3333780991,3335028024,3335329456,3337530841,3338290326,3341313096,3341718873,3342028911,3343183606,3343565842,3347141750,3349106106,3349221228,3351178102,3351313375,3352166255,3352708526,3356830106,3358331170,3359485487,3359515389,3361344544,3362934997,3363782481,3364000461,3364792317,3365168978,3369503548,3372853708,3373747581,3374256191,3376642926,3377525986,3377598810,3379194612,3379286495,3382903731,3382992385,3384289990,3386119800,3386625503,3389037502,3390311896,3390408118,3390421922,3391137811,3392483844,3392901760,3393045253,3393235177,3394443999,3395034027,3396089333,3396563973,3396727901,3399674481,3400217521,3401041254,3401072583,3401445241,3401878013,3403918452,3405895343,3406168428,3406913277,3406925116,3409044326,3409095418,3409260594,3411546968,3412458375,3413554900,3414287941,3416522311,3417285699,3418158556,3419080002,3419693206,3420501022,3420560059,3422472079,3422768759,3423976232,3425665457,3426603333,3426923173,3432025717,3433367068,3434958979,3436535040,3439089244,3441115676,3444008590,3444574612,3450450657,3454656550,3456680998,3456739646,3457182263,3457793169,3458102286,3459461025,3459826071,3466513147,3469733087,3469801806,3470036109,3470420389,3473277510,3474413225,3475849004,3475935285,3479876243,3480678455,3481118585,3481901056,3482015123,3482027814,3482372454,3483261554,3483773246,3484573869,3484615286,3488297673,3489307761,3489590587,3489678612,3490791034,3491083090,3491505286,3491557751,3493976559,3496464197,3498263337,3499087362,3499488049,3499689294,3500328343,3501885583,3505803066,3507404802,3508386391,3508392910,3510594343,3511712407,3514946201,3515458871,3515534397,3516097910,3516508833,3516805332,3517947519,3518189460,3518236039,3518422544,3518784657,3519472772,3519486219,3521648616,3522325752,3527412600,3531995557,3535300409,3535357836,3536978368,3538500518,3539473672,3540314065,3540872906,3543390736,3548719208,3551084045,3551342299,3551695659,3552394097,3552859408,3553696100,3553702381,3553896680,3556739004,3557818586,3559232671,3559739048,3562603242,3565697089,3567225316,3568227646,3568567942,3568848026,3569707046,3570312802,3572165186,3576609711,3579409275,3581339014,3581393535,3581554883,3581611981,3581842005,3582877117,3583430505,3584037717,3584372064,3584920170,3587111798,3589338723,3589352375,3591169587,3592066133,3595135291,3595429127,3596953390,3597840001,3598283335,3598667002,3600685674,3600781509,3602850906,3604056060,3606558690,3608676640,3608832053,3609537995,3609627958,3611209181,3611436503,3613369246,3613914338,3614959069,3616173485,3616518993,3618666797,3620451052,3622219417,3622897210,3626875653,3628159967,3631838831,3632098158,3634250878,3634909182,3635023073,3635454329,3636177004,3637706677,3638878615,3639888440,3644488478,3646878488,3646890136,3649263911,3650364777,3650732830,3651916813,3652480301,3652909999,3658323901,3658809107,3660144651,3662226171,3663158118,3668076095,3669527781,3669567925,3669591416,3671190139,3674935143,3675302818,3676078129,3678951139,3684775236,3685379831,3685418050,3692503266,3693280007,3693537296,3694077083,3698051431,3701023477,3702226634,3704833774,3707149502,3708167132,3708469594,3708889491,3712792482,3714377023,3714469580,3714929449,3715363485,3715986505,3716861385,3717332618,3719419524,3719466512,3722133584,3722770866,3723219248,3723499820,3724965486,3726435993,3731079653,3732340651,3733178718,3733684328,3733812221,3733913655,3734041065,3737637735,3739346624,3743616647,3744543082,3744723486,3746750530,3748646082,3748967456,3753168362,3753572882,3754783798,3755892531,3757168855,3757180542,3758247756,3758300746,3758384645,3760252470,3760349148,3766710393,3768949196,3769129330,3769223968,3772445997,3773720479,3774542057,3774763666,3775377628,3779199839,3781821220,3782068019,3788537411,3792103032,3792474266,3793900430,3794492807,3798022882,3804630024,3805446760,3808008068,3809569149,3810841480,3811465718,3813563637,3815293880,3815423940,3815698527,3816004490,3817747404,3818895517,3819564866,3819709978,3821456401,3821685967,3822669297,3822728355,3823452816,3823580013,3825656302,3827739049,3829134200,3829150944,3831714030,3832343281,3835659842,3840303535,3841498691,3843922940,3844294109,3844382018,3845584393,3845884657,3846730100,3847854033,3850822236,3850844318,3850853150,3850921556,3852087919,3852937700,3854309964,3854796168,3855319715,3856401711,3856990818,3857738576,3860560237,3860701409,3862020693,3862773857,3863457693,3863958627,3865195005,3866401217,3868650570,3869917954,3870243310,3870997193,3872083130,3873535694,3875442012,3875651104,3875736019,3876477306,3877890732,3881405281,3881707989,3883744513,3884128397,3884248311,3884981946,3885244030,3886416675,3888498894,3889356901,3889457104,3889639325,3889665134,3891197216,3891228978,3892328207,3892666722,3892945658,3896030736,3896906666,3900952232,3901228232,3901580295,3905864145,3908336478,3908656072,3908796783,3911427727,3911799264,3912232078,3913164374,3913678770,3913883048,3915217260,3915247881,3917488020,3917890373,3918390727,3919160758,3920022081,3920616594,3922163934,3922954963,3923552962,3923664582,3924262934,3925045990,3925963652,3926519401,3928093462,3928927967,3929585791,3930124249,3930625457,3931307365,3931533472,3932883691,3933155977,3935020092,3937101765,3939207631,3939574366,3940304695,3941465381,3942446683,3942757524,3943474211,3944812242,3949361319,3949764482,3951405904,3952805008,3953059579,3953235974,3953363100,3954144552,3954523507,3956004722,3961376797,3963943210,3964390673,3964826054,3965319407,3965496444,3966147765,3969890180,3971515176,3972755602,3972994790,3973086442,3973579189,3973699604,3975445799,3975821902,3977707812,3979301383,3980028754,3980403053,3981178312,3982735801,3983445346,3986383377,3987699434,3990075107,3991804875,3992366567,3992368779,3995928910,3996627786,3997559227,3998860637,4000709141,4000762145,4002610502,4003888794,4003902589,4003922670,4005759372,4006543160,4007124161,4007370647,4009534478,4010128740,4011604835,4014500966,4014933651,4016078493,4016371790,4020619832,4021575581,4023759175,4025627949,4026452800,4028436728,4031049368,4033051787,4034539813,4035113563,4036077867,4037355501,4038322391,4039082720,4040105708,4040696204,4040741732,4040797922,4041092874,4041346403,4041525679,4041889902,4044154716,4044923757,4045171059,4046620550,4048237084,4048970095,4050019925,4050851402,4057992318,4060085918,4060137644,4060519274,4061138801,4062578099,4066779232,4066893280,4067279381,4068820302,4070489094,4074690951,4076057482,4078057488,4079083394,4081166970,4081309172,4082017617,4082116860,4082271010,4082521658,4085084708,4088215698,4090858730,4091501588,4091865330,4092363304,4095958329,4096008781,4097798551,4098488129,4098641393,4099394301,4103662280,4103989208,4104229672,4106922433,4109066561,4110101760,4110801530,4111289732,4112595797,4116308413,4116583683,4116803102,4118889531,4119237225,4119681952,4120987804,4121635732,4121776983,4123455712,4124918495,4126565206,4129147097,4129841331,4130182268,4132770314,4133274531,4136293685,4139729954,4141125120,4145436858,4145685208,4149815950,4150399541,4151869801,4153895227,4155002753,4155239210,4157473725,4157543577,4157679542,4158755914,4158993415,4159586617,4159896719,4160657708,4161261580,4161397964,4163286388,4163853118,4164781309,4165364368,4165374969,4167933595,4169371251,4169687180,4170696132,4170932313,4171156517,4171311921,4171517408,4173748091,4174243565,4174741859,4174856968,4175215462,4176161664,4177152745,4177646641,4178031307,4178890366,4178901170,4180293041,4181021092,4181730271,4182698208,4182750729,4182757268,4183308153,4183950227,4184421176,4190035890,4190848896,4191388992,4191768038,4193257362,4195574502,4196118627,4197856478,4199721800,4200072021,4204179082,4207845177,4209086254,4210822923,4211432542,4211901343,4211957241,4213414836,4214611010,4216556181,4217579416,4218833431,4219423489,4221158582,4222264603,4222455854,4223411414,4226331554,4226525797,4226827849,4228693102,4229363879,4229825736,4231258339,4231468591,4234452834,4237889622,4239506014,4240115967,4241853103,4243077800,4243857944,4246732156,4248302555,4248318955,4248887664,4248895489,4249225035,4249959767,4251489020,4252158780,4253865376,4254683525,4254802512,4256899166,4257130815,4257814710,4259155000,4261234113,4261581592,4261689055,4261995123,4262714821,4263116522,4264361411,4265426457,4265454837,4265488933,4267390091,4269774584,4273141616,4276029080,4277255889,4277914726,4278677191,4278765845,4281086769,4281631758,4281812457,4282055119,4283226314,4290990079,4294538214,4295937556,4296732936,4297088362,4301878246,4302769187,4303142796,4303983018,4305584104,4306108800,4306986403,4309226616,4310034710,4312347732,4315854966,4317096628,4317324133,4319062040,4321199236,4322775829,4323198342,4323742617,4328548477,4328588749,4331069400,4332550518,4333312598,4333808041,4335572636,4335858434,4337799195,4339096239,4339111820,4344524503,4345856886,4348106568,4348901195,4349926606,4352555891,4352596295,4352679197,4354540579,4354864246,4355212819,4355776611,4356552064,4360674746,4361561414,4362447321,4363560965,4364551165,4364767229,4365711086,4367246925,4368033822,4368585217,4369938652,4370325279,4370931423,4371452142,4372242243,4373338897,4374537648,4374726163,4375005493,4376928581,4377647545,4378312091,4378660048,4381977333,4383407202,4386462841,4386567086,4387511758,4387688165,4389531784,4390219267,4392970432,4394191146,4395933809,4396895356,4398785923,4401720961,4401904001,4405219716,4405630735,4407785985,4407796076,4409967957,4410998518,4411249912,4414605298,4414762348,4415240594,4415982394,4416248743,4418287452,4419076544,4419161765,4419624728,4420826703,4421124944,4423389881,4424384292,4425285475,4425442706,4426966493,4429621234,4429628423,4430053297,4430864922,4433044714,4433849217,4435276489,4436144819,4436694580,4439667991,4444228573,4444641352,4445606916,4446299025,4451011218,4452090773,4452503521,4453664856,4456050496,4458218507,4459558995,4460394088,4461750360,4465591987,4465596188,4469711632,4471835006,4473005499,4473405985,4473791013,4474461579,4474854416,4475387183,4477112901,4480456742,4480871095,4481374514,4481573683,4482059165,4482425234,4484893134,4487026266,4489186248,4490031511,4493592490,4494268948,4495333300,4496530005,4497003717,4498046485,4499078198,4499079450,4499635964,4502932064,4506301486,4506678581,4507569034,4507691895,4509309220,4509479900,4509560375,4509987976,4510694844,4512379173,4516411055,4522312918,4523063490,4524699927,4526613276,4527137930,4527243185,4530819743,4530993536,4531717685,4531732333,4534471126,4535622185,4538916734,4538998799,4543407507,4544322870,4544655328,4546243015,4546546332,4547030467,4553611344,4554445412,4558168151,4560801796,4561746814,4562806127,4567728503,4568891626,4570798117,4571659884,4572341074,4573073242,4575031126,4576152716,4576480510,4577445791,4580749497,4581559353,4581737959,4582338937,4585805405,4588263213,4590265033,4590779061,4590840069,4591151338,4591551707,4595862211,4596037865,4596065922,4596419765,4596609645,4597344904,4597717326,4601075426,4601837759,4604181296,4605104041,4605234705,4605466183,4606853717,4610489392,4610863948,4611206655,4611809772,4613109980,4614170505,4614659386,4617467202,4619981841,4620208941,4621432644,4621721660,4622741975,4622775727,4623535755,4624856681,4625417833,4626168352,4626464577,4629776556,4631512539,4632179471,4636280731,4637446683,4638430637,4638746671,4639597637,4641573890,4643903053,4644836861,4647253038,4648167961,4651227029,4651683955,4652451929,4654259444,4655628864,4655730662,4656675123,4658221229,4658927838,4658938285,4661693729,4661842060,4663170145,4664740044,4667788689,4667847385,4669661257,4669860506,4671134041,4674942761,4676085949,4676455249,4677246411,4677861623,4682063083,4682075796,4682430428,4682444427,4682706242,4683321693,4684329335,4685081016,4685307221,4686915370,4689781016,4692033866,4692201230,4692353706,4693944514,4697435045,4700845732,4704929031,4706030716,4706077499,4707228129,4707296550,4707846624,4709163213,4710671148,4711218511,4714293937,4714741937,4715643215,4716195313,4716313355,4718054543,4718242897,4723133061,4723800136,4725527324,4726458610,4729116312,4729767723,4730821328,4733390648,4737493347,4738239969,4738569749,4739653972,4743118018,4743541810,4744120956,4746002023,4746493495,4750069035,4751716947,4754143182,4755112015,4757232410,4758421140,4759333388,4760317530,4764683893,4766044608,4769473672,4770409737,4770897222,4771767173,4771839885,4773283826,4775227909,4775431988,4778167208,4778453785,4779098055,4779494254,4780024963,4780451210,4781725177,4784644048,4785409566,4788196478,4792966026,4793666919,4797249662,4797632930,4797821841,4798295087,4806241805,4807459922,4808511537,4809708876,4812355629,4812692910,4813851869,4814202142,4816024621,4818039852,4818760082,4818817622,4819584339,4820185403,4821159116,4821787349,4824326644,4825366301,4826008582,4827230143,4828074573,4831718508,4832477319,4833170938,4833796990,4834862979,4834988814,4835418063,4840349215,4843145551,4843255478,4845670775,4848091459,4852853142,4853408224,4853664564,4854051119,4854759962,4855866036,4856300504,4856954433,4858344421,4859282412,4859455438,4859674497,4860094979,4869468058,4869557815,4870378479,4871663654,4872782005,4872920109,4874763435,4875484139,4875783686,4879564068,4881263218,4881460696,4881663943,4884412998,4885071754,4885504921,4886068496,4886245584,4888176583,4889978781,4893489985,4895121963,4897813560,4898276219,4899562159,4901367228,4904107914,4905618136,4905999479,4908076485,4908464027,4908479091,4908777390,4909167880,4910321694,4910953344,4911008056,4911807375,4912250925,4912881602,4913701123,4915194001,4915245781,4915255439,4915488194,4917620858,4919041379,4921096287,4925211699,4925580116,4927344169,4928171322,4931552646,4932505586,4935893756,4937536340,4937713482,4938652233,4940720993,4940863393,4941140760,4942934901,4943484276,4943769634,4945253733,4946008159,4946682280,4947057073,4947134386,4947247094,4947353399,4949746454,4951984072,4953154922,4953501367,4954138572,4954359893,4954607019,4954769594,4954985014,4955711613,4956026020,4958590499,4960625720,4961531876,4963913041,4965333019,4967865208,4967884257,4970797577,4970887268,4971710225,4971951914,4973911294,4975206764,4978281944,4979764046,4982037041,4982080293,4984480880,4986076169,4987011444,4988690933,4989731900,4990335216,4991146482,4992442147,4993243064,4993297258,4993462744,4996987442,4997094269,4999528474,5000529929,5003994670,5005973612,5007677961,5009112825,5009197383,5010774731,5011093107,5014853689,5016477710,5016486359,5016572043,5017284005,5017595852,5018773064,5021193586,5023404743,5024747296,5025577967,5025632897,5027477231,5027920308,5030039860,5031000911,5031373379,5031507967,5032603296,5033516914,5034062717,5036473982,5037335286,5039198092,5040866240,5042085779,5043895401,5044060555,5044764754,5045047864,5047142502,5047205380,5047286572,5053244473,5053748768,5054391995,5054783482,5055183987,5055894231,5057972551,5058916137,5063391386,5063828599,5063978355,5065698716,5067990852,5068323567,5073070579,5079027348,5080161007,5080325041,5082436769,5084201586,5085129317,5085211012,5085567933,5086323903,5087023685,5090295894,5090479409,5095276335,5096711530,5097263705,5097684787,5099518325,5100406426,5104524190,5105583435,5106136340,5107953684,5110498349,5111187537,5111938964,5114208138,5115743213,5116981272,5117166927,5118785477,5119401860,5120548091,5124179623,5124411649,5127324303,5129708906,5131667685,5133271439,5134919048,5135287371,5135958475,5138208018,5138548962,5139483804,5139776398,5142361491,5146560352,5146783538,5147036875,5147073234,5149899349,5152015423,5153059874,5153237413,5153433930,5154016142,5154324185,5154463541,5154533480,5154712615,5155524762,5157452062,5157668825,5160703113,5161545492,5162201246,5163167874,5166487247,5167444866,5167722376,5168397202,5169518782,5169951512,5170735550,5171502115,5173098566,5175623174,5175909989,5176756468,5178648887,5178743194,5181857055,5183534635,5184044199,5185059616,5187166619,5189471304,5192949232,5193169296,5193478889,5195378598,5196673540,5198147305,5199852977,5200067407,5200187307,5202441846,5202788252,5203076842,5204707439,5205576693,5206591715,5206665521,5207376750,5208894462,5212210306,5212658365,5212779041,5214618687,5215789667,5216204048,5217180471,5218039489,5221231190,5223508706,5224395572,5224590902,5226281688,5227763140,5228306886,5229597344,5229895915,5230316426,5232522386,5233228333,5233449979,5238776955,5241583810,5242109462,5243960761,5245294233,5246376165,5246695272,5251420726,5252456943,5259963854,5261489968,5265886486,5267300379,5269336606,5270082148,5270768781,5272613760,5272771336,5273136671,5273141204,5274804319,5275825716,5276412713,5276862350,5277241644,5277488252,5279042349,5282192868,5290049173,5290144972,5291006844,5292939423,5293887542,5294626614,5296817853,5299087393,5300196133,5301391154,5301774466,5303239979,5303961090,5304099667,5306888427,5307257120,5310170028,5313148453,5314193872,5315815767,5317216798,5317267704,5318188951,5320478505,5320959815,5321766247,5322937570,5323754995,5325772796,5327402767,5330407599,5331564130,5331642863,5334726307,5335039856,5335382806,5339613613,5339697250,5340612351,5341322312,5341835517,5341905737,5342829619,5343027781,5346409227,5347145202,5347754353,5347997725,5352440922,5353291785,5355979052,5356239202,5357491956,5358975214,5361231930,5361597905,5362503716,5362772132,5363224592,5364346516,5364693592,5364777357,5365062135,5369848529,5369952164,5370020852,5370182401,5370567294,5370748866,5371225525,5372745821,5374715535,5375692686,5377078073,5379837842,5380480333,5381497249,5382534133,5383375668,5385182093,5385586368,5385914292,5386953359,5387432278,5388333370,5389937215,5390588346,5394665416,5396479695,5396897182,5397138815,5400971583,5401578011,5402641078,5403242865,5403483651,5403568918,5403640175,5403965157,5404135769,5405037008,5405554302,5406097383,5406984603,5408773716,5408834218,5409631205,5409671951,5410194757,5413457100,5413686750,5413973038,5415581414,5417253398,5417361183,5418243329,5418298565,5421505417,5422761402,5423244241,5423548217,5425564944,5425772619,5425859487,5427389229,5427966261,5428010720,5428164388,5433137366,5434709280,5436992828,5437582895,5439195876,5439257054,5440287694,5440877532,5440914683,5441239355,5442269697,5444359736,5445971980,5447126905,5447484505,5447895920,5449621099,5449703402,5451178242,5451493405,5451554368,5453489742,5455074557,5455100830,5456291679,5457275408,5458077208,5459144049,5460013586,5461162846,5462041801,5463058900,5463991492,5467311681,5467754324,5470532817,5470854000,5471234967,5471400500,5475836334,5476211967,5477484882,5479423817,5482718746,5483361785,5483978200,5484246757,5484670534,5485416143,5489815741,5489972389,5494351979,5499077413,5499667606,5502152972,5504867181,5507496039,5508051970,5510179991,5513318578,5513826948,5513941147,5517537099,5517957700,5518736216,5519340148,5520560277,5523668032,5525905631,5529545869,5531009966,5531288738,5531553155,5532308435,5533059149,5535437188,5536472450,5538228452,5538278293,5538366331,5540023889,5541980980,5542689826,5542720364,5543091323,5544020709,5544595318,5545153979,5547372815,5548509355,5550534388,5551800658,5555838237,5558471729,5559866918,5561796926,5562153594,5562215006,5564436455,5566467426,5566674406,5568182502,5569790714,5570080710,5570670541,5573978043,5574331217,5575109051,5575238378,5577443411,5579092237,5580182470,5580439313,5580618131,5580738204,5582819256,5583988882,5584016282,5585242529,5586299590,5587503967,5588538170,5590279794,5591785718,5591849611,5593028203,5593096366,5593449638,5594007866,5594818728,5596290358,5596385436,5598007250,5598366413,5601732774,5603512274,5606924601,5607164218,5607546840,5611449058,5614251437,5615270704,5615331903,5616018879,5617077301,5619682843,5619971923,5620881157,5621545712,5622539417,5626431514,5626936258,5627416028,5631736179,5632313575,5634170729,5634519132,5635685753,5636223113,5637457745,5640320949,5640581601,5641182616,5641519159,5643672345,5648066325,5648698449,5650966096,5652666123,5653533469,5656091151,5656467584,5658867329,5659148497,5664940103,5666315839,5667057152,5667724612,5670542069,5672478016,5672806118,5674342106,5674628598,5676104105,5677847688,5681678350,5685637288,5685703593,5685712527,5686467663,5687490962,5690658240,5690863794,5691512561,5692097696,5692295785,5693985632,5696631575,5696740905,5697245104,5699540824,5701047326,5701321540,5702044213,5703851983,5706411478,5708756837,5708872893,5710081467,5713758148,5715258202,5715768489,5719111153,5720029371,5720762549,5721916566,5724015482,5724872895,5729039253,5729862332,5730517454,5730727851,5731774077,5731899252,5732717531,5733917520,5734233965,5735540490,5736026869,5738922113,5740841284,5742388267,5747511747,5748576246,5749828442,5751020598,5751895828,5752258333,5755065824,5758435336,5759732320,5760357668,5760944008,5761871097,5762596531,5763178244,5766630954,5766730673,5768243949,5768572987,5769540242,5770383534,5771359804,5772463958,5773200261,5773973963,5776315140,5776594319,5777009852,5778547333,5778810523,5779197037,5780624782,5782931717,5783625437,5783727173,5786109680,5786693205,5788247208,5793335602,5794984589,5795453812,5796240735,5803630501,5803961137,5804863216,5806440222,5807249178,5807568851,5807575104,5809891755,5811663867,5812014200,5814397285,5816562201,5821474658,5822790684,5823832940,5823881444,5824691068,5824965353,5826195180,5828586171,5829834176,5830801726,5830852068,5831652710,5832050147,5834013736,5834048834,5834423629,5834584709,5835304551,5835968680,5837590788,5839772621,5840898814,5841499701,5843243686,5843413264,5843547400,5847844000,5848788919,5851198740,5851311155,5852178989,5858053228,5858730732,5859655062,5862321338,5862466488,5862725347,5864647309,5865320793,5866404731,5868406850,5871389581,5872810440,5873798609,5874276320,5875998838,5876723793,5876945276,5878676386,5879260689,5879884188,5880194250,5881400706,5882751271,5882947485,5883463476,5883873231,5885936177,5888143953,5888622318,5890628274,5891343522,5891670658,5894266023,5895356028,5897070149,5897177757,5898299321,5901943967,5902728687,5905149904,5906536406,5906911279,5907485507,5908634612,5908810613,5911752738,5912216509,5914156557,5914216110,5914532437,5915155740,5916389506,5916462985,5916846481,5918561849,5920395279,5921170787,5924516708,5924575028,5924881569,5927173289,5929523112,5929709161,5929787677,5930924638,5931006675,5933276103,5934336477,5934758164,5937002801,5937154186,5937210483,5937496433,5938614350,5939151925,5942636468,5942882031,5943425327,5945688972,5948276632,5948802700,5949351338,5949619250,5950044519,5950698585,5950758671,5952354946,5953281341,5953880987,5953890481,5954046281,5954461686,5957712718,5959048901,5959669831,5959967607,5965686096,5965782183,5966493316,5968013640,5968380453,5970248633,5971011586,5971482398,5974590623,5975391632,5975883303,5977466395,5979395968,5979407653,5979587084,5980604985,5984811427,5985343454,5989567890,5990555697,5992929438,5994418857,5995948038,5996371504,6000263533,6001431409,6001561628,6001893064,6002256595,6004190840,6004980802,6006271775,6008009818,6008028300,6011629768,6013944673,6014691658,6016246771,6016473892,6016992340,6019144074,6021072119,6023647375,6026230238,6027643776,6027678344,6029065418,6030421013,6030628457,6031581505,6034686275,6035934812,6038651250,6038761323,6038804064,6039950972,6040399931,6041707431,6042042428,6042211738,6042956483,6043248647,6043277279,6045334233,6047061304,6047857497,6049527934,6050263501,6050927380,6052112167,6052607459,6052896581,6052933282,6053768624,6056810153,6057376867,6057587110,6058359030,6058708290,6060013953,6063299497,6064177379,6064426848,6065822477,6067968052,6069015273,6070409962,6071656871,6073311055,6074734722,6075318206,6075624889,6075703320,6076013907,6078751342,6078844231,6078886360,6079666770,6080489400,6081221536,6084179904,6084304616,6086776330,6087325399,6089681489,6093797384,6098642992,6099945108,6101978178,6102242500,6102845005,6103779219,6103851846,6104264269,6104662351,6104824042,6104877090,6106783774,6106869750,6108970413,6109923771,6112599503,6113460690,6114099716,6114470999,6116081811,6116232277,6120239199,6120580636,6124002087,6127359634,6129665683,6131336784,6131400863,6133607000,6137093344,6137597224,6138117147,6139126408,6139438529,6142181269,6143270526,6144738025,6144791734,6145796047,6146195799,6146282084,6146695340,6146799075,6146913660,6147081108,6149350467,6149726996,6151687779,6151964606,6152223602,6152532235,6153496681,6156307260,6157702037,6157894111,6158898054,6159772656,6160300261,6161084512,6162593013,6167219281,6167533542,6168888541,6169611791,6172156117,6172549638,6173870842,6174197949,6175259577,6175432303,6175482525,6177826828,6181384953,6181894047,6182040577,6182785599,6182844692,6184230317,6184561729,6184844784,6185067689,6185520943,6185892823,6186530874,6188615028,6190704049,6190983700,6193727841,6193755276,6194874423,6198769562,6202611223,6203828143,6204173555,6205169551,6205841673,6205955340,6206183790,6206322200,6207235196,6208245083,6208386624,6209643210,6210176056,6211613470,6211763310,6211805352,6211902985,6215992784,6218861623,6227241873,6227518526,6229877008,6231807957,6231908262,6233352098,6234384004,6235547105,6238673355,6239313639,6239886634,6241680882,6242296794,6242909401,6243703001,6244913089,6247308811,6248112923,6249538017,6249719297,6250651797,6252095597,6254507303,6257110788,6259416454,6264436787,6265569646,6266360263,6266867623,6266870535,6267378579,6268389830,6269886083,6272049521,6272804572,6273513058,6273697394,6276438383,6281530258,6291411544,6292342798,6292552319,6293097734,6293513581,6294003438,6296125100,6297222861,6301038665,6301586342,6302537713,6303129642,6303969872,6311204587,6311635823,6312693496,6314131796,6314157444,6314935441,6315065408,6315922215,6320836540,6321484398,6321520053,6321865115,6322767353,6322917921,6323457475,6324841313,6325432342,6325964162,6328645849,6329817531,6329912947,6331683956,6332566377,6333432217,6334449348,6335405612,6336874945,6339323177,6339645033,6340264147,6340760061,6342064869,6342192899,6343038292,6346022350,6346251620,6347684691,6348932022,6350931154,6353416200,6353607761,6353758451,6354227738,6357447984,6359321897,6363291678,6365279752,6366598463,6368612399,6368923515,6369291627,6369378335,6370521492,6373314979,6374007284,6380113731,6380245178,6380285974,6380434311,6380626809,6382215931,6383814802,6384797283,6385093167,6386166156,6388126868,6391295795,6393136475,6393255268,6394558551,6395370880,6396101033,6397501503,6397798527,6398272354,6400286892,6404617033,6404902424,6405633403,6406299601,6406791707,6407875650,6408502165,6408698828,6409015120,6411374866,6412468363,6413139723,6415549729,6418308737,6418511441,6418698124,6418932023,6419578104,6420830392,6420984333,6421257222,6422331964,6422473992,6422694428,6423069724,6423589786,6424341371,6424769963,6426205577,6428587880,6429031412,6430349735,6431357456,6431484164,6432495485,6432897813,6433232020,6433289969,6433821257,6434345148,6434842159,6438073967,6438861040,6442393145,6443896024,6445039516,6445942392,6446161554,6446391563,6449951909,6450381813,6450768890,6452661445,6453708853,6456549783,6456774027,6460450796,6460627506,6462110958,6463028437,6463269051,6465058295,6465667536,6468995388,6470761349,6471954819,6472884362,6474181446,6476220981,6476904037,6479962208,6480434739,6481476274,6484758345,6485509657,6486055356,6486105039,6492243302,6493991136,6495429661,6495513958,6496247521,6496780116,6498967089,6500921039,6501060142,6501157708,6501390974,6502216396,6502333956,6504233975,6504260289,6505065321,6505073936,6505260734,6512113072,6512419860,6515155212,6515743381,6517985480,6519310061,6520083740,6521379420,6521692854,6524054044,6524227876,6524453525,6527371810,6529059505,6529747014,6530694104,6531644884,6531690304,6531736229,6535228110,6536766375,6538828603,6539510877,6539938485,6540577241,6540917016,6542029045,6543255292,6543366233,6543371702,6544201089,6544536383,6546031085,6546870499,6546981883,6547043063,6547422856,6548913137,6549383841,6552001545,6552074738,6553298425,6554028515,6555865033,6555999785,6558569852,6561310783,6561783573,6565448827,6565793817,6566159384,6567650074,6567846656,6568879601,6571515078,6572732555,6574569646,6575815976,6576529686,6577947894,6580583830,6581340838,6582949033,6583905680,6584005538,6585169000,6586392610,6586603651,6590688439,6591124535,6593978614,6594351483,6595781148,6598185485,6600249491,6600708313,6605004438,6605484408,6605959260,6605971417,6606749921,6607074564,6617510083,6618748647,6619030744,6619789630,6620741732,6620829586,6623006333,6623876934,6625814755,6626020006,6626944478,6627351218,6628624555,6631881964,6632395757,6633716947,6634664569,6635261498,6635848076,6636990126,6637686909,6638512176,6638540153,6639733742,6641494778,6642146926,6643562617,6644492798,6651112346,6651786312,6652925666,6653334419,6654600186,6654612638,6654851998,6654871637,6658165981,6659324296,6659424566,6660066018,6660093468,6661610317,6662015632,6664866404,6665254221,6665906072,6661273529,6661273532,6661273532,6661273533,6661273532,6661273533],\"type\":\"pie\"}],                        {\"template\":{\"data\":{\"bar\":[{\"error_x\":{\"color\":\"#2a3f5f\"},\"error_y\":{\"color\":\"#2a3f5f\"},\"marker\":{\"line\":{\"color\":\"#E5ECF6\",\"width\":0.5},\"pattern\":{\"fillmode\":\"overlay\",\"size\":10,\"solidity\":0.2}},\"type\":\"bar\"}],\"barpolar\":[{\"marker\":{\"line\":{\"color\":\"#E5ECF6\",\"width\":0.5},\"pattern\":{\"fillmode\":\"overlay\",\"size\":10,\"solidity\":0.2}},\"type\":\"barpolar\"}],\"carpet\":[{\"aaxis\":{\"endlinecolor\":\"#2a3f5f\",\"gridcolor\":\"white\",\"linecolor\":\"white\",\"minorgridcolor\":\"white\",\"startlinecolor\":\"#2a3f5f\"},\"baxis\":{\"endlinecolor\":\"#2a3f5f\",\"gridcolor\":\"white\",\"linecolor\":\"white\",\"minorgridcolor\":\"white\",\"startlinecolor\":\"#2a3f5f\"},\"type\":\"carpet\"}],\"choropleth\":[{\"colorbar\":{\"outlinewidth\":0,\"ticks\":\"\"},\"type\":\"choropleth\"}],\"contour\":[{\"colorbar\":{\"outlinewidth\":0,\"ticks\":\"\"},\"colorscale\":[[0.0,\"#0d0887\"],[0.1111111111111111,\"#46039f\"],[0.2222222222222222,\"#7201a8\"],[0.3333333333333333,\"#9c179e\"],[0.4444444444444444,\"#bd3786\"],[0.5555555555555556,\"#d8576b\"],[0.6666666666666666,\"#ed7953\"],[0.7777777777777778,\"#fb9f3a\"],[0.8888888888888888,\"#fdca26\"],[1.0,\"#f0f921\"]],\"type\":\"contour\"}],\"contourcarpet\":[{\"colorbar\":{\"outlinewidth\":0,\"ticks\":\"\"},\"type\":\"contourcarpet\"}],\"heatmap\":[{\"colorbar\":{\"outlinewidth\":0,\"ticks\":\"\"},\"colorscale\":[[0.0,\"#0d0887\"],[0.1111111111111111,\"#46039f\"],[0.2222222222222222,\"#7201a8\"],[0.3333333333333333,\"#9c179e\"],[0.4444444444444444,\"#bd3786\"],[0.5555555555555556,\"#d8576b\"],[0.6666666666666666,\"#ed7953\"],[0.7777777777777778,\"#fb9f3a\"],[0.8888888888888888,\"#fdca26\"],[1.0,\"#f0f921\"]],\"type\":\"heatmap\"}],\"heatmapgl\":[{\"colorbar\":{\"outlinewidth\":0,\"ticks\":\"\"},\"colorscale\":[[0.0,\"#0d0887\"],[0.1111111111111111,\"#46039f\"],[0.2222222222222222,\"#7201a8\"],[0.3333333333333333,\"#9c179e\"],[0.4444444444444444,\"#bd3786\"],[0.5555555555555556,\"#d8576b\"],[0.6666666666666666,\"#ed7953\"],[0.7777777777777778,\"#fb9f3a\"],[0.8888888888888888,\"#fdca26\"],[1.0,\"#f0f921\"]],\"type\":\"heatmapgl\"}],\"histogram\":[{\"marker\":{\"pattern\":{\"fillmode\":\"overlay\",\"size\":10,\"solidity\":0.2}},\"type\":\"histogram\"}],\"histogram2d\":[{\"colorbar\":{\"outlinewidth\":0,\"ticks\":\"\"},\"colorscale\":[[0.0,\"#0d0887\"],[0.1111111111111111,\"#46039f\"],[0.2222222222222222,\"#7201a8\"],[0.3333333333333333,\"#9c179e\"],[0.4444444444444444,\"#bd3786\"],[0.5555555555555556,\"#d8576b\"],[0.6666666666666666,\"#ed7953\"],[0.7777777777777778,\"#fb9f3a\"],[0.8888888888888888,\"#fdca26\"],[1.0,\"#f0f921\"]],\"type\":\"histogram2d\"}],\"histogram2dcontour\":[{\"colorbar\":{\"outlinewidth\":0,\"ticks\":\"\"},\"colorscale\":[[0.0,\"#0d0887\"],[0.1111111111111111,\"#46039f\"],[0.2222222222222222,\"#7201a8\"],[0.3333333333333333,\"#9c179e\"],[0.4444444444444444,\"#bd3786\"],[0.5555555555555556,\"#d8576b\"],[0.6666666666666666,\"#ed7953\"],[0.7777777777777778,\"#fb9f3a\"],[0.8888888888888888,\"#fdca26\"],[1.0,\"#f0f921\"]],\"type\":\"histogram2dcontour\"}],\"mesh3d\":[{\"colorbar\":{\"outlinewidth\":0,\"ticks\":\"\"},\"type\":\"mesh3d\"}],\"parcoords\":[{\"line\":{\"colorbar\":{\"outlinewidth\":0,\"ticks\":\"\"}},\"type\":\"parcoords\"}],\"pie\":[{\"automargin\":true,\"type\":\"pie\"}],\"scatter\":[{\"marker\":{\"colorbar\":{\"outlinewidth\":0,\"ticks\":\"\"}},\"type\":\"scatter\"}],\"scatter3d\":[{\"line\":{\"colorbar\":{\"outlinewidth\":0,\"ticks\":\"\"}},\"marker\":{\"colorbar\":{\"outlinewidth\":0,\"ticks\":\"\"}},\"type\":\"scatter3d\"}],\"scattercarpet\":[{\"marker\":{\"colorbar\":{\"outlinewidth\":0,\"ticks\":\"\"}},\"type\":\"scattercarpet\"}],\"scattergeo\":[{\"marker\":{\"colorbar\":{\"outlinewidth\":0,\"ticks\":\"\"}},\"type\":\"scattergeo\"}],\"scattergl\":[{\"marker\":{\"colorbar\":{\"outlinewidth\":0,\"ticks\":\"\"}},\"type\":\"scattergl\"}],\"scattermapbox\":[{\"marker\":{\"colorbar\":{\"outlinewidth\":0,\"ticks\":\"\"}},\"type\":\"scattermapbox\"}],\"scatterpolar\":[{\"marker\":{\"colorbar\":{\"outlinewidth\":0,\"ticks\":\"\"}},\"type\":\"scatterpolar\"}],\"scatterpolargl\":[{\"marker\":{\"colorbar\":{\"outlinewidth\":0,\"ticks\":\"\"}},\"type\":\"scatterpolargl\"}],\"scatterternary\":[{\"marker\":{\"colorbar\":{\"outlinewidth\":0,\"ticks\":\"\"}},\"type\":\"scatterternary\"}],\"surface\":[{\"colorbar\":{\"outlinewidth\":0,\"ticks\":\"\"},\"colorscale\":[[0.0,\"#0d0887\"],[0.1111111111111111,\"#46039f\"],[0.2222222222222222,\"#7201a8\"],[0.3333333333333333,\"#9c179e\"],[0.4444444444444444,\"#bd3786\"],[0.5555555555555556,\"#d8576b\"],[0.6666666666666666,\"#ed7953\"],[0.7777777777777778,\"#fb9f3a\"],[0.8888888888888888,\"#fdca26\"],[1.0,\"#f0f921\"]],\"type\":\"surface\"}],\"table\":[{\"cells\":{\"fill\":{\"color\":\"#EBF0F8\"},\"line\":{\"color\":\"white\"}},\"header\":{\"fill\":{\"color\":\"#C8D4E3\"},\"line\":{\"color\":\"white\"}},\"type\":\"table\"}]},\"layout\":{\"annotationdefaults\":{\"arrowcolor\":\"#2a3f5f\",\"arrowhead\":0,\"arrowwidth\":1},\"autotypenumbers\":\"strict\",\"coloraxis\":{\"colorbar\":{\"outlinewidth\":0,\"ticks\":\"\"}},\"colorscale\":{\"diverging\":[[0,\"#8e0152\"],[0.1,\"#c51b7d\"],[0.2,\"#de77ae\"],[0.3,\"#f1b6da\"],[0.4,\"#fde0ef\"],[0.5,\"#f7f7f7\"],[0.6,\"#e6f5d0\"],[0.7,\"#b8e186\"],[0.8,\"#7fbc41\"],[0.9,\"#4d9221\"],[1,\"#276419\"]],\"sequential\":[[0.0,\"#0d0887\"],[0.1111111111111111,\"#46039f\"],[0.2222222222222222,\"#7201a8\"],[0.3333333333333333,\"#9c179e\"],[0.4444444444444444,\"#bd3786\"],[0.5555555555555556,\"#d8576b\"],[0.6666666666666666,\"#ed7953\"],[0.7777777777777778,\"#fb9f3a\"],[0.8888888888888888,\"#fdca26\"],[1.0,\"#f0f921\"]],\"sequentialminus\":[[0.0,\"#0d0887\"],[0.1111111111111111,\"#46039f\"],[0.2222222222222222,\"#7201a8\"],[0.3333333333333333,\"#9c179e\"],[0.4444444444444444,\"#bd3786\"],[0.5555555555555556,\"#d8576b\"],[0.6666666666666666,\"#ed7953\"],[0.7777777777777778,\"#fb9f3a\"],[0.8888888888888888,\"#fdca26\"],[1.0,\"#f0f921\"]]},\"colorway\":[\"#636efa\",\"#EF553B\",\"#00cc96\",\"#ab63fa\",\"#FFA15A\",\"#19d3f3\",\"#FF6692\",\"#B6E880\",\"#FF97FF\",\"#FECB52\"],\"font\":{\"color\":\"#2a3f5f\"},\"geo\":{\"bgcolor\":\"white\",\"lakecolor\":\"white\",\"landcolor\":\"#E5ECF6\",\"showlakes\":true,\"showland\":true,\"subunitcolor\":\"white\"},\"hoverlabel\":{\"align\":\"left\"},\"hovermode\":\"closest\",\"mapbox\":{\"style\":\"light\"},\"paper_bgcolor\":\"white\",\"plot_bgcolor\":\"#E5ECF6\",\"polar\":{\"angularaxis\":{\"gridcolor\":\"white\",\"linecolor\":\"white\",\"ticks\":\"\"},\"bgcolor\":\"#E5ECF6\",\"radialaxis\":{\"gridcolor\":\"white\",\"linecolor\":\"white\",\"ticks\":\"\"}},\"scene\":{\"xaxis\":{\"backgroundcolor\":\"#E5ECF6\",\"gridcolor\":\"white\",\"gridwidth\":2,\"linecolor\":\"white\",\"showbackground\":true,\"ticks\":\"\",\"zerolinecolor\":\"white\"},\"yaxis\":{\"backgroundcolor\":\"#E5ECF6\",\"gridcolor\":\"white\",\"gridwidth\":2,\"linecolor\":\"white\",\"showbackground\":true,\"ticks\":\"\",\"zerolinecolor\":\"white\"},\"zaxis\":{\"backgroundcolor\":\"#E5ECF6\",\"gridcolor\":\"white\",\"gridwidth\":2,\"linecolor\":\"white\",\"showbackground\":true,\"ticks\":\"\",\"zerolinecolor\":\"white\"}},\"shapedefaults\":{\"line\":{\"color\":\"#2a3f5f\"}},\"ternary\":{\"aaxis\":{\"gridcolor\":\"white\",\"linecolor\":\"white\",\"ticks\":\"\"},\"baxis\":{\"gridcolor\":\"white\",\"linecolor\":\"white\",\"ticks\":\"\"},\"bgcolor\":\"#E5ECF6\",\"caxis\":{\"gridcolor\":\"white\",\"linecolor\":\"white\",\"ticks\":\"\"}},\"title\":{\"x\":0.05},\"xaxis\":{\"automargin\":true,\"gridcolor\":\"white\",\"linecolor\":\"white\",\"ticks\":\"\",\"title\":{\"standoff\":15},\"zerolinecolor\":\"white\",\"zerolinewidth\":2},\"yaxis\":{\"automargin\":true,\"gridcolor\":\"white\",\"linecolor\":\"white\",\"ticks\":\"\",\"title\":{\"standoff\":15},\"zerolinecolor\":\"white\",\"zerolinewidth\":2}}},\"legend\":{\"tracegroupgap\":0},\"title\":{\"text\":\"High Risk Country\"},\"height\":400,\"width\":400},                        {\"responsive\": true}                    ).then(function(){\n",
              "                            \n",
              "var gd = document.getElementById('b546afff-dff8-4685-b049-4dfa7edeab36');\n",
              "var x = new MutationObserver(function (mutations, observer) {{\n",
              "        var display = window.getComputedStyle(gd).display;\n",
              "        if (!display || display === 'none') {{\n",
              "            console.log([gd, 'removed!']);\n",
              "            Plotly.purge(gd);\n",
              "            observer.disconnect();\n",
              "        }}\n",
              "}});\n",
              "\n",
              "// Listen for the removal of the full notebook cells\n",
              "var notebookContainer = gd.closest('#notebook-container');\n",
              "if (notebookContainer) {{\n",
              "    x.observe(notebookContainer, {childList: true});\n",
              "}}\n",
              "\n",
              "// Listen for the clearing of the current output cell\n",
              "var outputEl = gd.closest('.output');\n",
              "if (outputEl) {{\n",
              "    x.observe(outputEl, {childList: true});\n",
              "}}\n",
              "\n",
              "                        })                };                            </script>        </div>\n",
              "</body>\n",
              "</html>"
            ]
          },
          "metadata": {}
        },
        {
          "output_type": "display_data",
          "data": {
            "text/html": [
              "<html>\n",
              "<head><meta charset=\"utf-8\" /></head>\n",
              "<body>\n",
              "    <div>            <script src=\"https://cdnjs.cloudflare.com/ajax/libs/mathjax/2.7.5/MathJax.js?config=TeX-AMS-MML_SVG\"></script><script type=\"text/javascript\">if (window.MathJax) {MathJax.Hub.Config({SVG: {font: \"STIX-Web\"}});}</script>                <script type=\"text/javascript\">window.PlotlyConfig = {MathJaxConfig: 'local'};</script>\n",
              "        <script src=\"https://cdn.plot.ly/plotly-2.8.3.min.js\"></script>                <div id=\"cd806a8b-6c12-4e04-a418-1ecc8d5fec2f\" class=\"plotly-graph-div\" style=\"height:400px; width:400px;\"></div>            <script type=\"text/javascript\">                                    window.PLOTLYENV=window.PLOTLYENV || {};                                    if (document.getElementById(\"cd806a8b-6c12-4e04-a418-1ecc8d5fec2f\")) {                    Plotly.newPlot(                        \"cd806a8b-6c12-4e04-a418-1ecc8d5fec2f\",                        [{\"domain\":{\"x\":[0.0,1.0],\"y\":[0.0,1.0]},\"hovertemplate\":\"Is declined=%{label}<br>Merchant_id=%{value}<extra></extra>\",\"labels\":[\"N\",\"N\",\"Y\",\"Y\",\"N\",\"N\",\"N\",\"Y\",\"Y\",\"Y\",\"N\",\"N\",\"N\",\"N\",\"N\",\"N\",\"N\",\"N\",\"N\",\"N\",\"N\",\"N\",\"N\",\"N\",\"N\",\"N\",\"N\",\"N\",\"N\",\"N\",\"N\",\"N\",\"N\",\"N\",\"N\",\"N\",\"N\",\"N\",\"N\",\"N\",\"N\",\"N\",\"N\",\"N\",\"N\",\"N\",\"N\",\"N\",\"N\",\"N\",\"N\",\"N\",\"N\",\"N\",\"N\",\"N\",\"N\",\"N\",\"N\",\"N\",\"N\",\"N\",\"N\",\"N\",\"N\",\"N\",\"N\",\"N\",\"N\",\"N\",\"N\",\"N\",\"N\",\"N\",\"N\",\"N\",\"N\",\"N\",\"N\",\"N\",\"N\",\"N\",\"N\",\"N\",\"N\",\"N\",\"N\",\"N\",\"N\",\"N\",\"N\",\"N\",\"N\",\"N\",\"N\",\"N\",\"N\",\"N\",\"N\",\"N\",\"N\",\"N\",\"N\",\"N\",\"N\",\"N\",\"N\",\"N\",\"N\",\"N\",\"N\",\"N\",\"N\",\"N\",\"N\",\"N\",\"N\",\"N\",\"N\",\"N\",\"N\",\"N\",\"N\",\"N\",\"N\",\"N\",\"N\",\"N\",\"N\",\"N\",\"N\",\"N\",\"N\",\"N\",\"N\",\"N\",\"N\",\"N\",\"N\",\"N\",\"N\",\"N\",\"N\",\"N\",\"N\",\"N\",\"N\",\"N\",\"N\",\"N\",\"N\",\"N\",\"N\",\"N\",\"N\",\"N\",\"N\",\"N\",\"N\",\"N\",\"N\",\"N\",\"N\",\"N\",\"N\",\"N\",\"N\",\"N\",\"N\",\"N\",\"N\",\"N\",\"N\",\"N\",\"N\",\"N\",\"N\",\"N\",\"N\",\"N\",\"N\",\"N\",\"N\",\"N\",\"N\",\"N\",\"N\",\"N\",\"N\",\"N\",\"N\",\"N\",\"N\",\"N\",\"N\",\"N\",\"N\",\"N\",\"N\",\"N\",\"N\",\"N\",\"N\",\"N\",\"N\",\"N\",\"N\",\"N\",\"N\",\"N\",\"N\",\"N\",\"N\",\"N\",\"N\",\"N\",\"N\",\"N\",\"N\",\"N\",\"N\",\"N\",\"N\",\"N\",\"N\",\"N\",\"N\",\"N\",\"N\",\"N\",\"N\",\"N\",\"N\",\"N\",\"N\",\"N\",\"N\",\"N\",\"N\",\"N\",\"N\",\"N\",\"N\",\"N\",\"N\",\"N\",\"N\",\"N\",\"N\",\"N\",\"N\",\"N\",\"N\",\"N\",\"N\",\"N\",\"N\",\"N\",\"N\",\"N\",\"N\",\"N\",\"N\",\"N\",\"N\",\"N\",\"N\",\"N\",\"N\",\"N\",\"N\",\"N\",\"N\",\"N\",\"N\",\"N\",\"N\",\"N\",\"N\",\"N\",\"N\",\"N\",\"N\",\"N\",\"N\",\"N\",\"N\",\"N\",\"N\",\"N\",\"N\",\"N\",\"N\",\"N\",\"N\",\"N\",\"N\",\"N\",\"N\",\"N\",\"N\",\"N\",\"N\",\"N\",\"N\",\"N\",\"N\",\"N\",\"N\",\"N\",\"N\",\"N\",\"N\",\"N\",\"N\",\"N\",\"N\",\"N\",\"N\",\"N\",\"N\",\"N\",\"N\",\"N\",\"N\",\"N\",\"N\",\"N\",\"N\",\"N\",\"N\",\"N\",\"N\",\"N\",\"N\",\"N\",\"N\",\"N\",\"N\",\"N\",\"N\",\"N\",\"N\",\"N\",\"N\",\"N\",\"N\",\"N\",\"N\",\"N\",\"N\",\"N\",\"N\",\"N\",\"N\",\"N\",\"N\",\"N\",\"N\",\"N\",\"N\",\"N\",\"N\",\"N\",\"N\",\"N\",\"N\",\"N\",\"N\",\"N\",\"N\",\"N\",\"N\",\"N\",\"N\",\"N\",\"N\",\"N\",\"N\",\"N\",\"N\",\"N\",\"N\",\"N\",\"N\",\"N\",\"N\",\"N\",\"N\",\"N\",\"N\",\"N\",\"N\",\"N\",\"N\",\"N\",\"N\",\"Y\",\"Y\",\"N\",\"N\",\"N\",\"N\",\"Y\",\"Y\",\"Y\",\"Y\",\"Y\",\"Y\",\"Y\",\"Y\",\"Y\",\"Y\",\"Y\",\"Y\",\"Y\",\"Y\",\"N\",\"Y\",\"Y\",\"N\",\"Y\",\"Y\",\"N\",\"Y\",\"Y\",\"Y\",\"Y\",\"Y\",\"N\",\"Y\",\"Y\",\"Y\",\"Y\",\"Y\",\"Y\",\"Y\",\"Y\",\"Y\",\"Y\",\"Y\",\"Y\",\"Y\",\"Y\",\"Y\",\"Y\",\"Y\",\"Y\",\"Y\",\"Y\",\"Y\",\"N\",\"N\",\"N\",\"N\",\"N\",\"N\",\"N\",\"N\",\"N\",\"N\",\"N\",\"N\",\"N\",\"N\",\"N\",\"N\",\"N\",\"N\",\"N\",\"N\",\"N\",\"N\",\"N\",\"N\",\"N\",\"N\",\"N\",\"N\",\"N\",\"N\",\"N\",\"N\",\"N\",\"N\",\"N\",\"N\",\"N\",\"N\",\"N\",\"N\",\"N\",\"N\",\"N\",\"N\",\"N\",\"N\",\"N\",\"N\",\"N\",\"N\",\"N\",\"N\",\"N\",\"N\",\"N\",\"N\",\"N\",\"N\",\"N\",\"N\",\"N\",\"N\",\"N\",\"N\",\"N\",\"N\",\"N\",\"N\",\"N\",\"N\",\"N\",\"N\",\"N\",\"N\",\"N\",\"N\",\"N\",\"N\",\"N\",\"N\",\"N\",\"N\",\"N\",\"N\",\"N\",\"N\",\"N\",\"N\",\"N\",\"N\",\"N\",\"N\",\"N\",\"N\",\"N\",\"N\",\"N\",\"N\",\"N\",\"N\",\"N\",\"N\",\"N\",\"N\",\"N\",\"N\",\"N\",\"N\",\"N\",\"N\",\"N\",\"N\",\"N\",\"N\",\"N\",\"N\",\"N\",\"N\",\"N\",\"N\",\"N\",\"N\",\"N\",\"N\",\"N\",\"N\",\"N\",\"N\",\"N\",\"N\",\"N\",\"N\",\"N\",\"N\",\"N\",\"N\",\"N\",\"N\",\"N\",\"N\",\"N\",\"N\",\"N\",\"N\",\"N\",\"N\",\"N\",\"N\",\"N\",\"N\",\"N\",\"N\",\"N\",\"N\",\"N\",\"N\",\"N\",\"N\",\"N\",\"N\",\"N\",\"N\",\"N\",\"N\",\"N\",\"N\",\"N\",\"N\",\"N\",\"N\",\"N\",\"N\",\"N\",\"N\",\"N\",\"N\",\"N\",\"N\",\"N\",\"N\",\"N\",\"N\",\"N\",\"N\",\"N\",\"N\",\"N\",\"N\",\"N\",\"N\",\"N\",\"N\",\"N\",\"N\",\"N\",\"N\",\"N\",\"N\",\"N\",\"N\",\"N\",\"N\",\"N\",\"N\",\"N\",\"N\",\"N\",\"N\",\"N\",\"N\",\"N\",\"N\",\"N\",\"N\",\"N\",\"N\",\"N\",\"N\",\"N\",\"N\",\"N\",\"N\",\"N\",\"N\",\"N\",\"N\",\"N\",\"N\",\"N\",\"N\",\"N\",\"N\",\"N\",\"N\",\"N\",\"N\",\"N\",\"N\",\"N\",\"N\",\"N\",\"N\",\"N\",\"N\",\"N\",\"N\",\"N\",\"N\",\"N\",\"N\",\"N\",\"N\",\"N\",\"N\",\"N\",\"N\",\"N\",\"N\",\"N\",\"N\",\"N\",\"N\",\"N\",\"N\",\"N\",\"N\",\"N\",\"N\",\"N\",\"N\",\"N\",\"N\",\"N\",\"N\",\"N\",\"N\",\"N\",\"N\",\"N\",\"N\",\"N\",\"N\",\"N\",\"N\",\"N\",\"N\",\"N\",\"N\",\"N\",\"N\",\"N\",\"N\",\"N\",\"N\",\"N\",\"N\",\"N\",\"N\",\"N\",\"N\",\"N\",\"N\",\"N\",\"N\",\"N\",\"N\",\"N\",\"N\",\"N\",\"N\",\"N\",\"N\",\"N\",\"N\",\"N\",\"N\",\"N\",\"N\",\"N\",\"N\",\"N\",\"N\",\"N\",\"N\",\"N\",\"N\",\"N\",\"N\",\"N\",\"N\",\"N\",\"N\",\"N\",\"N\",\"N\",\"N\",\"N\",\"N\",\"N\",\"N\",\"N\",\"N\",\"N\",\"N\",\"N\",\"N\",\"N\",\"N\",\"N\",\"N\",\"N\",\"N\",\"N\",\"N\",\"N\",\"N\",\"N\",\"N\",\"N\",\"N\",\"N\",\"N\",\"N\",\"N\",\"N\",\"N\",\"N\",\"N\",\"N\",\"N\",\"N\",\"N\",\"N\",\"N\",\"N\",\"N\",\"N\",\"N\",\"N\",\"N\",\"N\",\"N\",\"N\",\"N\",\"N\",\"N\",\"N\",\"N\",\"N\",\"N\",\"N\",\"N\",\"N\",\"N\",\"N\",\"N\",\"N\",\"N\",\"N\",\"N\",\"N\",\"N\",\"N\",\"N\",\"N\",\"N\",\"N\",\"N\",\"N\",\"N\",\"N\",\"N\",\"N\",\"N\",\"N\",\"N\",\"N\",\"N\",\"N\",\"N\",\"N\",\"N\",\"N\",\"N\",\"N\",\"N\",\"N\",\"N\",\"N\",\"N\",\"N\",\"N\",\"N\",\"N\",\"N\",\"N\",\"N\",\"N\",\"N\",\"N\",\"N\",\"N\",\"N\",\"N\",\"N\",\"N\",\"N\",\"N\",\"N\",\"N\",\"N\",\"N\",\"N\",\"N\",\"N\",\"N\",\"N\",\"N\",\"N\",\"N\",\"N\",\"N\",\"N\",\"N\",\"N\",\"N\",\"N\",\"N\",\"N\",\"N\",\"N\",\"N\",\"N\",\"N\",\"N\",\"N\",\"N\",\"N\",\"N\",\"N\",\"N\",\"N\",\"N\",\"N\",\"N\",\"N\",\"N\",\"N\",\"N\",\"N\",\"N\",\"N\",\"N\",\"N\",\"N\",\"N\",\"N\",\"N\",\"N\",\"N\",\"N\",\"N\",\"N\",\"N\",\"N\",\"N\",\"N\",\"N\",\"N\",\"N\",\"N\",\"N\",\"N\",\"N\",\"N\",\"N\",\"N\",\"N\",\"N\",\"N\",\"N\",\"N\",\"N\",\"N\",\"N\",\"N\",\"N\",\"N\",\"N\",\"N\",\"N\",\"N\",\"N\",\"N\",\"N\",\"N\",\"N\",\"N\",\"N\",\"N\",\"N\",\"N\",\"N\",\"N\",\"N\",\"N\",\"N\",\"N\",\"N\",\"N\",\"N\",\"N\",\"N\",\"N\",\"N\",\"N\",\"N\",\"N\",\"N\",\"N\",\"N\",\"N\",\"N\",\"N\",\"N\",\"N\",\"N\",\"N\",\"N\",\"N\",\"N\",\"N\",\"N\",\"N\",\"N\",\"N\",\"N\",\"N\",\"N\",\"N\",\"N\",\"N\",\"N\",\"N\",\"N\",\"N\",\"N\",\"N\",\"N\",\"N\",\"N\",\"N\",\"N\",\"N\",\"N\",\"N\",\"N\",\"N\",\"N\",\"N\",\"N\",\"N\",\"N\",\"N\",\"N\",\"N\",\"N\",\"N\",\"N\",\"N\",\"N\",\"N\",\"N\",\"N\",\"N\",\"N\",\"N\",\"N\",\"N\",\"N\",\"N\",\"N\",\"N\",\"N\",\"N\",\"N\",\"N\",\"N\",\"N\",\"N\",\"N\",\"N\",\"N\",\"N\",\"N\",\"N\",\"N\",\"N\",\"N\",\"N\",\"N\",\"N\",\"N\",\"N\",\"N\",\"N\",\"N\",\"N\",\"N\",\"N\",\"N\",\"N\",\"N\",\"N\",\"N\",\"N\",\"N\",\"N\",\"N\",\"N\",\"N\",\"N\",\"N\",\"N\",\"N\",\"N\",\"N\",\"N\",\"N\",\"N\",\"N\",\"N\",\"N\",\"N\",\"N\",\"N\",\"N\",\"N\",\"N\",\"N\",\"N\",\"N\",\"N\",\"N\",\"N\",\"N\",\"N\",\"N\",\"N\",\"N\",\"N\",\"N\",\"N\",\"N\",\"N\",\"N\",\"N\",\"N\",\"N\",\"N\",\"N\",\"N\",\"N\",\"N\",\"N\",\"N\",\"N\",\"N\",\"N\",\"N\",\"N\",\"N\",\"N\",\"N\",\"N\",\"N\",\"N\",\"N\",\"N\",\"N\",\"N\",\"N\",\"N\",\"N\",\"N\",\"N\",\"N\",\"N\",\"N\",\"N\",\"N\",\"N\",\"N\",\"N\",\"N\",\"N\",\"N\",\"N\",\"N\",\"N\",\"N\",\"N\",\"N\",\"N\",\"N\",\"N\",\"N\",\"N\",\"N\",\"N\",\"N\",\"N\",\"N\",\"N\",\"N\",\"N\",\"N\",\"N\",\"N\",\"N\",\"N\",\"N\",\"N\",\"N\",\"N\",\"N\",\"N\",\"N\",\"N\",\"N\",\"N\",\"N\",\"N\",\"N\",\"N\",\"N\",\"N\",\"N\",\"N\",\"N\",\"N\",\"N\",\"N\",\"N\",\"N\",\"N\",\"N\",\"N\",\"N\",\"N\",\"N\",\"N\",\"N\",\"N\",\"N\",\"N\",\"N\",\"N\",\"N\",\"N\",\"N\",\"N\",\"N\",\"N\",\"N\",\"N\",\"N\",\"N\",\"N\",\"N\",\"N\",\"N\",\"N\",\"N\",\"N\",\"N\",\"N\",\"N\",\"N\",\"N\",\"N\",\"N\",\"N\",\"N\",\"N\",\"N\",\"N\",\"N\",\"N\",\"N\",\"N\",\"N\",\"N\",\"N\",\"N\",\"N\",\"N\",\"N\",\"N\",\"N\",\"N\",\"N\",\"N\",\"N\",\"N\",\"N\",\"N\",\"N\",\"N\",\"N\",\"N\",\"N\",\"N\",\"N\",\"N\",\"N\",\"N\",\"N\",\"N\",\"N\",\"N\",\"N\",\"N\",\"N\",\"N\",\"N\",\"N\",\"N\",\"N\",\"N\",\"N\",\"N\",\"N\",\"N\",\"N\",\"N\",\"N\",\"N\",\"N\",\"N\",\"N\",\"N\",\"N\",\"N\",\"N\",\"N\",\"N\",\"N\",\"N\",\"N\",\"N\",\"N\",\"N\",\"N\",\"N\",\"N\",\"N\",\"N\",\"N\",\"N\",\"N\",\"N\",\"N\",\"N\",\"N\",\"N\",\"N\",\"N\",\"N\",\"N\",\"N\",\"N\",\"N\",\"N\",\"N\",\"N\",\"N\",\"N\",\"N\",\"N\",\"N\",\"N\",\"N\",\"N\",\"N\",\"N\",\"N\",\"N\",\"N\",\"N\",\"N\",\"N\",\"N\",\"N\",\"N\",\"N\",\"N\",\"N\",\"N\",\"N\",\"N\",\"N\",\"N\",\"N\",\"N\",\"N\",\"N\",\"N\",\"N\",\"N\",\"N\",\"N\",\"N\",\"N\",\"N\",\"N\",\"N\",\"N\",\"N\",\"N\",\"N\",\"N\",\"N\",\"N\",\"N\",\"N\",\"N\",\"N\",\"N\",\"N\",\"N\",\"N\",\"N\",\"N\",\"N\",\"N\",\"N\",\"N\",\"N\",\"N\",\"N\",\"N\",\"N\",\"N\",\"N\",\"N\",\"N\",\"N\",\"N\",\"N\",\"N\",\"N\",\"N\",\"N\",\"N\",\"N\",\"N\",\"N\",\"N\",\"N\",\"N\",\"N\",\"N\",\"N\",\"N\",\"N\",\"N\",\"N\",\"N\",\"N\",\"N\",\"N\",\"N\",\"N\",\"N\",\"N\",\"N\",\"N\",\"N\",\"N\",\"N\",\"N\",\"N\",\"N\",\"N\",\"N\",\"N\",\"N\",\"N\",\"N\",\"N\",\"N\",\"N\",\"N\",\"N\",\"N\",\"N\",\"N\",\"N\",\"N\",\"N\",\"N\",\"N\",\"N\",\"N\",\"N\",\"N\",\"N\",\"N\",\"N\",\"N\",\"N\",\"N\",\"N\",\"N\",\"N\",\"N\",\"N\",\"N\",\"N\",\"N\",\"N\",\"N\",\"N\",\"N\",\"N\",\"N\",\"N\",\"N\",\"N\",\"N\",\"N\",\"N\",\"N\",\"N\",\"N\",\"N\",\"N\",\"N\",\"N\",\"N\",\"N\",\"N\",\"N\",\"N\",\"N\",\"N\",\"N\",\"N\",\"N\",\"N\",\"N\",\"N\",\"N\",\"N\",\"N\",\"N\",\"N\",\"N\",\"N\",\"N\",\"N\",\"N\",\"N\",\"N\",\"N\",\"N\",\"N\",\"N\",\"N\",\"N\",\"N\",\"N\",\"N\",\"N\",\"N\",\"N\",\"N\",\"N\",\"N\",\"N\",\"N\",\"N\",\"N\",\"N\",\"N\",\"N\",\"N\",\"N\",\"N\",\"N\",\"N\",\"N\",\"N\",\"N\",\"N\",\"N\",\"N\",\"N\",\"N\",\"N\",\"N\",\"N\",\"N\",\"N\",\"N\",\"N\",\"N\",\"N\",\"N\",\"N\",\"N\",\"N\",\"N\",\"N\",\"N\",\"N\",\"N\",\"N\",\"N\",\"N\",\"N\",\"N\",\"N\",\"N\",\"N\",\"N\",\"N\",\"N\",\"N\",\"N\",\"N\",\"N\",\"N\",\"N\",\"N\",\"N\",\"N\",\"N\",\"N\",\"N\",\"N\",\"N\",\"N\",\"N\",\"N\",\"N\",\"N\",\"N\",\"N\",\"N\",\"N\",\"N\",\"N\",\"N\",\"N\",\"N\",\"N\",\"N\",\"N\",\"N\",\"N\",\"N\",\"N\",\"N\",\"N\",\"N\",\"N\",\"N\",\"N\",\"N\",\"N\",\"N\",\"N\",\"N\",\"N\",\"N\",\"N\",\"N\",\"N\",\"N\",\"N\",\"N\",\"N\",\"N\",\"N\",\"N\",\"N\",\"N\",\"N\",\"N\",\"N\",\"N\",\"N\",\"N\",\"N\",\"N\",\"N\",\"N\",\"N\",\"N\",\"N\",\"N\",\"N\",\"N\",\"N\",\"N\",\"N\",\"N\",\"N\",\"N\",\"N\",\"N\",\"N\",\"N\",\"N\",\"N\",\"N\",\"N\",\"N\",\"N\",\"N\",\"N\",\"N\",\"N\",\"N\",\"N\",\"N\",\"N\",\"N\",\"N\",\"N\",\"N\",\"N\",\"N\",\"N\",\"N\",\"N\",\"N\",\"N\",\"N\",\"N\",\"N\",\"N\",\"N\",\"N\",\"N\",\"N\",\"N\",\"N\",\"N\",\"N\",\"N\",\"N\",\"N\",\"N\",\"N\",\"N\",\"N\",\"N\",\"N\",\"N\",\"N\",\"N\",\"N\",\"N\",\"N\",\"N\",\"N\",\"N\",\"N\",\"N\",\"N\",\"N\",\"N\",\"N\",\"N\",\"N\",\"N\",\"N\",\"N\",\"N\",\"N\",\"N\",\"N\",\"N\",\"N\",\"N\",\"N\",\"N\",\"N\",\"N\",\"N\",\"N\",\"N\",\"N\",\"N\",\"N\",\"N\",\"N\",\"N\",\"N\",\"N\",\"N\",\"N\",\"N\",\"N\",\"N\",\"N\",\"N\",\"N\",\"N\",\"N\",\"N\",\"N\",\"N\",\"N\",\"N\",\"N\",\"N\",\"N\",\"N\",\"N\",\"N\",\"N\",\"N\",\"N\",\"N\",\"N\",\"N\",\"N\",\"N\",\"N\",\"N\",\"N\",\"N\",\"N\",\"N\",\"N\",\"N\",\"N\",\"N\",\"N\",\"N\",\"N\",\"N\",\"N\",\"N\",\"N\",\"N\",\"N\",\"N\",\"N\",\"N\",\"N\",\"N\",\"N\",\"N\",\"N\",\"N\",\"N\",\"N\",\"N\",\"N\",\"N\",\"N\",\"N\",\"N\",\"N\",\"N\",\"N\",\"N\",\"N\",\"N\",\"N\",\"N\",\"N\",\"N\",\"N\",\"N\",\"N\",\"N\",\"N\",\"N\",\"N\",\"N\",\"N\",\"N\",\"N\",\"N\",\"N\",\"N\",\"N\",\"N\",\"N\",\"N\",\"N\",\"N\",\"N\",\"N\",\"N\",\"N\",\"N\",\"N\",\"N\",\"N\",\"N\",\"N\",\"N\",\"N\",\"N\",\"N\",\"N\",\"N\",\"N\",\"N\",\"N\",\"N\",\"N\",\"N\",\"N\",\"N\",\"N\",\"N\",\"N\",\"N\",\"N\",\"N\",\"N\",\"N\",\"N\",\"N\",\"N\",\"N\",\"N\",\"N\",\"N\",\"N\",\"N\",\"N\",\"N\",\"N\",\"N\",\"N\",\"N\",\"N\",\"N\",\"N\",\"N\",\"N\",\"N\",\"N\",\"N\",\"N\",\"N\",\"N\",\"N\",\"N\",\"N\",\"N\",\"N\",\"N\",\"N\",\"N\",\"N\",\"N\",\"N\",\"N\",\"N\",\"N\",\"N\",\"N\",\"N\",\"N\",\"N\",\"N\",\"N\",\"N\",\"N\",\"N\",\"N\",\"N\",\"N\",\"N\",\"N\",\"N\",\"N\",\"N\",\"N\",\"N\",\"N\",\"N\",\"N\",\"N\",\"N\",\"N\",\"N\",\"N\",\"N\",\"N\",\"N\",\"N\",\"N\",\"N\",\"N\",\"N\",\"N\",\"N\",\"N\",\"N\",\"N\",\"N\",\"N\",\"N\",\"N\",\"N\",\"N\",\"N\",\"N\",\"N\",\"N\",\"N\",\"N\",\"N\",\"N\",\"N\",\"N\",\"N\",\"N\",\"N\",\"N\",\"N\",\"N\",\"N\",\"N\",\"N\",\"N\",\"N\",\"N\",\"N\",\"N\",\"N\",\"N\",\"N\",\"N\",\"N\",\"N\",\"N\",\"N\",\"N\",\"N\",\"N\",\"N\",\"N\",\"N\",\"N\",\"N\",\"N\",\"N\",\"N\",\"N\",\"N\",\"N\",\"N\",\"N\",\"N\",\"N\",\"N\",\"N\",\"N\",\"N\",\"N\",\"N\",\"N\",\"N\",\"N\",\"N\",\"N\",\"N\",\"N\",\"N\",\"N\",\"N\",\"N\",\"N\",\"N\",\"N\",\"N\",\"N\",\"N\",\"N\",\"N\",\"N\",\"N\",\"N\",\"N\",\"N\",\"N\",\"N\",\"N\",\"N\",\"N\",\"N\",\"N\",\"N\",\"N\",\"N\",\"N\",\"N\",\"N\",\"N\",\"N\",\"N\",\"N\",\"N\",\"N\",\"N\",\"N\",\"N\",\"N\",\"N\",\"N\",\"N\",\"N\",\"N\",\"N\",\"N\",\"N\",\"N\",\"N\",\"N\",\"N\",\"N\",\"N\",\"N\",\"N\",\"N\",\"N\",\"N\",\"N\",\"N\",\"N\",\"N\",\"N\",\"N\",\"N\",\"N\",\"N\",\"N\",\"N\",\"N\",\"N\",\"N\",\"N\",\"N\",\"N\",\"N\",\"N\",\"N\",\"N\",\"N\",\"N\",\"N\",\"N\",\"N\",\"N\",\"N\",\"N\",\"N\",\"N\",\"N\",\"N\",\"N\",\"N\",\"N\",\"N\",\"N\",\"N\",\"N\",\"N\",\"N\",\"N\",\"N\",\"N\",\"N\",\"N\",\"N\",\"N\",\"N\",\"N\",\"N\",\"N\",\"N\",\"N\",\"N\",\"N\",\"N\",\"N\",\"N\",\"N\",\"N\",\"N\",\"N\",\"N\",\"N\",\"N\",\"N\",\"N\",\"N\",\"N\",\"N\",\"N\",\"N\",\"N\",\"N\",\"N\",\"N\",\"N\",\"N\",\"N\",\"N\",\"N\",\"N\",\"N\",\"N\",\"N\",\"N\",\"N\",\"N\",\"N\",\"N\",\"N\",\"N\",\"N\",\"N\",\"N\",\"N\",\"N\",\"N\",\"N\",\"N\",\"N\",\"N\",\"N\",\"N\",\"N\",\"N\",\"N\",\"N\",\"N\",\"N\",\"N\",\"N\",\"N\",\"N\",\"N\",\"N\",\"N\",\"N\",\"N\",\"N\",\"N\",\"N\",\"N\",\"N\",\"N\",\"N\",\"N\",\"N\",\"N\",\"N\",\"N\",\"N\",\"N\",\"N\",\"N\",\"N\",\"N\",\"N\",\"N\",\"N\",\"N\",\"N\",\"N\",\"N\",\"N\",\"N\",\"N\",\"N\",\"N\",\"N\",\"N\",\"N\",\"N\",\"N\",\"N\",\"N\",\"N\",\"N\",\"N\",\"N\",\"N\",\"N\",\"N\",\"N\",\"N\",\"N\",\"N\",\"N\",\"N\",\"N\",\"N\",\"N\",\"N\",\"N\",\"N\",\"N\",\"N\",\"N\",\"N\",\"N\",\"N\",\"N\",\"N\",\"N\",\"N\",\"N\",\"N\",\"N\",\"N\",\"N\",\"N\",\"N\",\"N\",\"N\",\"N\",\"N\",\"N\",\"N\",\"N\",\"N\",\"N\",\"N\",\"N\",\"N\",\"N\",\"N\",\"N\",\"N\",\"N\",\"N\",\"N\",\"N\",\"N\",\"N\",\"N\",\"N\",\"N\",\"N\",\"N\",\"N\",\"N\",\"N\",\"N\",\"N\",\"N\",\"N\",\"N\",\"N\",\"N\",\"N\",\"N\",\"N\",\"N\",\"N\",\"N\",\"N\",\"N\",\"N\",\"N\",\"N\",\"N\",\"N\",\"N\",\"N\",\"N\",\"N\",\"N\",\"N\",\"N\",\"N\",\"N\",\"N\",\"N\",\"N\",\"N\",\"N\",\"N\",\"N\",\"N\",\"N\",\"N\",\"N\",\"N\",\"N\",\"N\",\"N\",\"N\",\"N\",\"N\",\"N\",\"N\",\"N\",\"N\",\"N\",\"N\",\"N\",\"N\",\"N\",\"N\",\"N\",\"N\",\"N\",\"N\",\"N\",\"N\",\"N\",\"N\",\"N\",\"N\",\"N\",\"N\",\"N\",\"N\",\"N\",\"N\",\"N\",\"N\",\"N\",\"N\",\"N\",\"N\",\"N\",\"N\",\"N\",\"N\",\"N\",\"N\",\"N\",\"N\",\"N\",\"N\",\"N\",\"N\",\"N\",\"N\",\"N\",\"N\",\"N\",\"N\",\"N\",\"N\",\"N\",\"N\",\"N\",\"N\",\"N\",\"N\",\"N\",\"N\",\"N\",\"N\",\"N\",\"N\",\"N\",\"N\",\"N\",\"N\",\"N\",\"N\",\"N\",\"N\",\"N\",\"N\",\"N\",\"N\",\"N\",\"N\",\"N\",\"N\",\"N\",\"N\",\"N\",\"N\",\"N\",\"N\",\"N\",\"N\",\"N\",\"N\",\"N\",\"N\",\"N\",\"N\",\"N\",\"N\",\"N\",\"N\",\"N\",\"N\",\"N\",\"N\",\"N\",\"N\",\"N\",\"N\",\"N\",\"N\",\"N\",\"N\",\"N\",\"N\",\"N\",\"N\",\"N\",\"N\",\"N\",\"N\",\"N\",\"N\",\"N\",\"N\",\"N\",\"N\",\"N\",\"N\",\"N\",\"N\",\"N\",\"N\",\"N\",\"N\",\"N\",\"N\",\"N\",\"N\",\"N\",\"N\",\"N\",\"N\",\"N\",\"N\",\"N\",\"N\",\"N\",\"N\",\"N\",\"N\",\"N\",\"N\",\"N\",\"N\",\"N\",\"N\",\"N\",\"N\",\"N\",\"N\",\"N\",\"N\",\"N\",\"N\",\"N\",\"N\",\"N\",\"N\",\"N\",\"N\",\"N\",\"N\",\"N\",\"N\",\"N\",\"N\",\"N\",\"N\",\"N\",\"N\",\"N\",\"N\",\"N\",\"N\",\"N\",\"N\",\"N\",\"N\",\"N\",\"N\",\"N\",\"N\",\"N\",\"N\",\"N\",\"N\",\"N\",\"N\",\"N\",\"N\",\"N\",\"N\",\"N\",\"N\",\"N\",\"N\",\"N\",\"N\",\"N\",\"N\",\"N\",\"N\",\"N\",\"N\",\"N\",\"N\",\"N\",\"N\",\"N\",\"N\",\"N\",\"N\",\"N\",\"N\",\"N\",\"N\",\"N\",\"N\",\"N\",\"N\",\"N\",\"N\",\"N\",\"N\",\"N\",\"N\",\"N\",\"N\",\"N\",\"N\",\"N\",\"N\",\"N\",\"N\",\"N\",\"N\",\"N\",\"N\",\"N\",\"N\",\"N\",\"N\",\"N\",\"N\",\"N\",\"N\",\"N\",\"N\",\"N\",\"N\",\"N\",\"N\",\"N\",\"N\",\"N\",\"N\",\"N\",\"N\",\"N\",\"N\",\"N\",\"N\",\"N\",\"N\",\"N\",\"N\",\"N\",\"N\",\"N\",\"N\",\"N\",\"N\",\"N\",\"N\",\"N\",\"N\",\"N\",\"N\",\"N\",\"N\",\"N\",\"N\",\"N\",\"N\",\"N\",\"N\",\"N\",\"N\",\"N\",\"N\",\"N\",\"N\",\"N\",\"N\",\"N\",\"N\",\"N\",\"N\",\"N\",\"N\",\"N\",\"N\",\"N\",\"N\",\"N\",\"N\",\"N\",\"N\",\"N\",\"N\",\"N\",\"N\",\"N\",\"N\",\"N\",\"N\",\"N\",\"N\",\"N\",\"N\",\"N\",\"N\",\"N\",\"N\",\"N\",\"N\",\"N\",\"N\",\"N\",\"N\",\"N\",\"N\",\"N\",\"N\",\"N\",\"N\",\"N\",\"N\",\"N\",\"N\",\"N\",\"N\",\"N\",\"N\",\"N\",\"N\",\"N\",\"N\",\"N\",\"N\",\"N\",\"N\",\"N\",\"N\",\"N\",\"N\",\"N\",\"N\",\"N\",\"N\",\"N\",\"N\",\"N\",\"N\",\"N\",\"N\",\"N\",\"N\",\"N\",\"N\",\"N\",\"N\",\"N\",\"N\",\"N\",\"N\",\"N\",\"N\",\"N\",\"N\",\"N\",\"N\",\"N\",\"N\",\"N\",\"N\",\"N\",\"N\",\"N\",\"N\",\"N\",\"N\",\"N\",\"N\",\"N\",\"N\",\"N\",\"N\",\"N\",\"N\",\"N\",\"N\",\"N\",\"N\",\"N\",\"N\",\"N\",\"N\",\"N\",\"N\",\"N\",\"N\",\"N\",\"N\",\"N\",\"N\",\"N\",\"N\",\"N\",\"N\",\"N\",\"N\",\"N\",\"N\",\"N\",\"N\",\"N\",\"N\",\"N\",\"N\",\"N\",\"N\",\"N\",\"N\",\"N\",\"N\",\"N\",\"N\",\"N\",\"N\",\"N\",\"N\",\"N\",\"N\",\"N\",\"N\",\"N\",\"N\",\"N\",\"N\",\"N\",\"N\",\"N\",\"N\",\"N\",\"N\",\"N\",\"N\",\"N\",\"N\",\"N\",\"N\",\"N\",\"N\",\"N\",\"N\",\"N\",\"N\",\"N\",\"N\",\"N\",\"N\",\"N\",\"N\",\"N\",\"N\",\"N\",\"N\",\"N\",\"N\",\"N\",\"N\",\"N\",\"N\",\"N\",\"N\",\"N\",\"N\",\"N\",\"N\",\"N\",\"N\",\"N\",\"N\",\"N\",\"N\",\"N\",\"N\",\"N\",\"N\",\"N\",\"N\",\"N\",\"N\",\"N\",\"N\",\"N\",\"N\",\"N\",\"N\",\"N\",\"N\",\"N\",\"N\",\"N\",\"N\",\"N\",\"N\",\"N\",\"N\",\"N\",\"N\",\"N\",\"N\",\"N\",\"N\",\"N\",\"N\",\"N\",\"N\",\"N\",\"N\",\"N\",\"N\",\"N\",\"N\",\"N\",\"N\",\"N\",\"N\",\"N\",\"N\",\"N\",\"N\",\"N\",\"N\",\"N\",\"N\",\"N\",\"N\",\"N\",\"N\",\"N\",\"N\",\"N\",\"N\",\"N\",\"N\",\"N\",\"N\",\"N\",\"N\",\"N\",\"N\",\"N\",\"N\",\"N\",\"N\",\"N\",\"N\",\"N\",\"N\",\"N\",\"N\",\"N\",\"N\",\"N\",\"N\",\"N\",\"N\",\"N\",\"N\",\"N\",\"N\",\"N\",\"N\",\"N\",\"N\",\"N\",\"N\",\"N\",\"N\",\"N\",\"N\",\"N\",\"N\",\"N\",\"N\",\"N\",\"N\",\"N\",\"N\",\"N\",\"N\",\"N\",\"N\",\"N\",\"N\",\"N\",\"N\",\"N\",\"N\",\"N\",\"N\",\"N\",\"N\",\"N\",\"N\",\"N\",\"N\",\"N\",\"N\",\"N\",\"N\",\"N\",\"N\",\"N\",\"N\",\"N\",\"N\",\"N\",\"N\",\"N\",\"N\",\"N\",\"N\",\"N\",\"N\",\"N\",\"N\",\"N\",\"N\",\"N\",\"N\",\"N\",\"N\",\"N\",\"N\",\"N\",\"N\",\"N\",\"N\",\"N\",\"N\",\"N\",\"N\",\"N\",\"N\",\"N\",\"N\",\"Y\",\"Y\",\"Y\",\"Y\",\"Y\",\"Y\"],\"legendgroup\":\"\",\"name\":\"\",\"showlegend\":true,\"values\":[3160040998,3160040998,3160041896,3160141996,3160241992,3160241992,3160272997,3162041996,3162041996,3162041996,3356298138,3359162473,3359690891,3364840542,3365355395,3369900897,3376306597,3386662126,3388251889,3394638119,3402333645,3405816400,3408183027,3413226850,3418090677,3450127241,3462219091,3465787492,3483626412,3498029973,3505845546,3506126990,3508979345,3527533497,3541182255,3557460410,3564918618,3604409798,3641844855,3642050373,3651341559,3657008341,3659140079,3675535563,3687691773,3706361915,3714090682,3714419514,3729024090,3742656867,3752015916,3760238152,3764558156,3774659995,3776798621,3785665909,3785986636,3799132406,3800617237,3806421625,3808398633,3811662493,3816482428,3835542787,3837335703,3840707845,3852916753,3856955720,3858398119,3859811531,3875188381,3884139657,3884787232,3905893865,3938462850,3950041893,3958135740,3964604570,3995706579,4018645384,4022945723,4024505715,4036426557,4058823520,4061849015,4063172111,4072532307,4084592872,4105344658,4114574519,4117880439,4127150902,4128978968,4130501464,4135098150,4138506573,4139060865,4139280493,4151187710,4154299431,4155574823,4161661486,4163803727,4172276215,4173436510,4177712289,4180015902,4192972254,4202639184,4205436781,4209927538,4223065137,4224420959,4225126900,4225921989,4232210297,4240669276,4244630120,4266029386,4294222139,4304266734,4305702710,4312225167,4314204125,4327113971,4345258543,4348694075,4349047749,4351013109,4361157500,4373776212,4378980797,4397330540,4398664733,4405257384,4409660001,4427137431,4431147517,4439427249,4443404173,4453850276,4456899824,4481195802,4489896961,4526633692,4536078157,4544005938,4557040500,4563845771,4579872633,4585226511,4586229903,4592811487,4596416910,4628780648,4629967388,4633703602,4639560839,4645301386,4648858919,4664574739,4667293611,4671682416,4684495167,4687490727,4690923132,4691564176,4713612792,4716163260,4718777983,4721121199,4727426967,4734471000,4736685684,4748248523,4751116909,4762163981,4763086973,4764736078,4772667475,4786546169,4796001508,4805279645,4818869188,4835465818,4838852609,4839374244,4851963556,4858660021,4870833599,4871980109,4873110740,4878516375,4879626708,4881579578,4890143931,4898289645,4902634359,4906320707,4908055617,4908884376,4933502657,4937588881,4940039747,4942320098,4943712797,4946946678,4948629322,4970606263,4973267879,4973310264,4988866051,4989248225,5020008779,5022726674,5035552703,5037840894,5041652546,5054473235,5057209186,5063944744,5066590987,5076373986,5091764220,5108511837,5116547959,5120397575,5121812372,5134289117,5150845822,5180064875,5183376007,5193134213,5195567970,5202727146,5224070838,5235580276,5258312871,5259123670,5264128511,5271180204,5274967692,5284726016,5309800449,5331771857,5338031118,5339489340,5339849253,5345941652,5355399779,5425524255,5426200375,5426239243,5436582563,5436781051,5438087941,5439431588,5440569593,5444358642,5449566080,5459497990,5474497608,5475382688,5491231228,5495610149,5497895958,5498518099,5499666666,5504141167,5507239729,5508434208,5516509929,5520132673,5526236381,5560111892,5562961422,5586273121,5588296997,5591651411,5602598291,5614772190,5624569909,5631261207,5634640261,5636587443,5639232781,5646455022,5655572596,5656117724,5663085583,5671132124,5673635669,5675544222,5676841832,5688747995,5690777846,5693783739,5696577327,5703519784,5708922255,5731414073,5733530619,5734095507,5760152287,5766099974,5790085700,5793673119,5795857704,5797107780,5811420020,5845551567,5859908215,5862353618,5863189919,5869315272,5871664480,5874863707,5879049904,5884529995,5892017866,5928254406,5930697966,5934351213,5938834165,5943567820,5959708973,5969094614,5988848064,5991109342,6016034477,6023215001,6028844245,6051871856,6052221972,6062032943,6062389909,6070790055,6080895069,6083913860,6101824913,6102479353,6115607724,6118190038,6122610392,6124595289,6139931192,6142510334,6148192483,6177585619,6188405933,6189443441,6196064718,6199861179,6201160714,6210230406,6278623414,6283390216,6283975662,6287176937,6291161670,6298132922,6321557899,6326408917,6338071932,6339832383,6347291796,6348242452,6353760025,6356587989,6374053602,6378428813,6392329354,6396307681,6403649379,6412131239,6416323290,6419109258,6455635890,6471049957,6485322328,6486520105,6487405222,6494182360,6511919222,6514902255,6516357223,6537548014,6553441185,6561840914,6586987902,6597904988,6606661761,6612448144,6619775423,6633884878,6656725630,6661273529,6661273529,6661273529,6661273529,6661273529,6661273529,6661273529,6661273530,6661273530,6661273530,6661273530,6661273530,6661273530,6661273530,6661273531,6661273531,6661273531,6661273531,6661273531,6661273531,6661273532,6661273532,6661273532,6661273532,6661273532,6661273533,6661273533,6661273533,6661273534,6661273534,6661273534,6661273534,6661273534,6661273534,6661273531,6661273531,6661273531,6661273531,6661273531,6661273531,6661273532,6661273532,6661273532,6661273532,6661273532,6661273533,6661273533,6661273533,6661273533,6661273533,6661273533,6661273533,3160041996,3160041996,3160041996,3200016990,3200016990,3200016990,3333780991,3335028024,3335329456,3337530841,3338290326,3341313096,3341718873,3342028911,3343183606,3343565842,3347141750,3349106106,3349221228,3351178102,3351313375,3352166255,3352708526,3356830106,3358331170,3359485487,3359515389,3361344544,3362934997,3363782481,3364000461,3364792317,3365168978,3369503548,3372853708,3373747581,3374256191,3376642926,3377525986,3377598810,3379194612,3379286495,3382903731,3382992385,3384289990,3386119800,3386625503,3389037502,3390311896,3390408118,3390421922,3391137811,3392483844,3392901760,3393045253,3393235177,3394443999,3395034027,3396089333,3396563973,3396727901,3399674481,3400217521,3401041254,3401072583,3401445241,3401878013,3403918452,3405895343,3406168428,3406913277,3406925116,3409044326,3409095418,3409260594,3411546968,3412458375,3413554900,3414287941,3416522311,3417285699,3418158556,3419080002,3419693206,3420501022,3420560059,3422472079,3422768759,3423976232,3425665457,3426603333,3426923173,3432025717,3433367068,3434958979,3436535040,3439089244,3441115676,3444008590,3444574612,3450450657,3454656550,3456680998,3456739646,3457182263,3457793169,3458102286,3459461025,3459826071,3466513147,3469733087,3469801806,3470036109,3470420389,3473277510,3474413225,3475849004,3475935285,3479876243,3480678455,3481118585,3481901056,3482015123,3482027814,3482372454,3483261554,3483773246,3484573869,3484615286,3488297673,3489307761,3489590587,3489678612,3490791034,3491083090,3491505286,3491557751,3493976559,3496464197,3498263337,3499087362,3499488049,3499689294,3500328343,3501885583,3505803066,3507404802,3508386391,3508392910,3510594343,3511712407,3514946201,3515458871,3515534397,3516097910,3516508833,3516805332,3517947519,3518189460,3518236039,3518422544,3518784657,3519472772,3519486219,3521648616,3522325752,3527412600,3531995557,3535300409,3535357836,3536978368,3538500518,3539473672,3540314065,3540872906,3543390736,3548719208,3551084045,3551342299,3551695659,3552394097,3552859408,3553696100,3553702381,3553896680,3556739004,3557818586,3559232671,3559739048,3562603242,3565697089,3567225316,3568227646,3568567942,3568848026,3569707046,3570312802,3572165186,3576609711,3579409275,3581339014,3581393535,3581554883,3581611981,3581842005,3582877117,3583430505,3584037717,3584372064,3584920170,3587111798,3589338723,3589352375,3591169587,3592066133,3595135291,3595429127,3596953390,3597840001,3598283335,3598667002,3600685674,3600781509,3602850906,3604056060,3606558690,3608676640,3608832053,3609537995,3609627958,3611209181,3611436503,3613369246,3613914338,3614959069,3616173485,3616518993,3618666797,3620451052,3622219417,3622897210,3626875653,3628159967,3631838831,3632098158,3634250878,3634909182,3635023073,3635454329,3636177004,3637706677,3638878615,3639888440,3644488478,3646878488,3646890136,3649263911,3650364777,3650732830,3651916813,3652480301,3652909999,3658323901,3658809107,3660144651,3662226171,3663158118,3668076095,3669527781,3669567925,3669591416,3671190139,3674935143,3675302818,3676078129,3678951139,3684775236,3685379831,3685418050,3692503266,3693280007,3693537296,3694077083,3698051431,3701023477,3702226634,3704833774,3707149502,3708167132,3708469594,3708889491,3712792482,3714377023,3714469580,3714929449,3715363485,3715986505,3716861385,3717332618,3719419524,3719466512,3722133584,3722770866,3723219248,3723499820,3724965486,3726435993,3731079653,3732340651,3733178718,3733684328,3733812221,3733913655,3734041065,3737637735,3739346624,3743616647,3744543082,3744723486,3746750530,3748646082,3748967456,3753168362,3753572882,3754783798,3755892531,3757168855,3757180542,3758247756,3758300746,3758384645,3760252470,3760349148,3766710393,3768949196,3769129330,3769223968,3772445997,3773720479,3774542057,3774763666,3775377628,3779199839,3781821220,3782068019,3788537411,3792103032,3792474266,3793900430,3794492807,3798022882,3804630024,3805446760,3808008068,3809569149,3810841480,3811465718,3813563637,3815293880,3815423940,3815698527,3816004490,3817747404,3818895517,3819564866,3819709978,3821456401,3821685967,3822669297,3822728355,3823452816,3823580013,3825656302,3827739049,3829134200,3829150944,3831714030,3832343281,3835659842,3840303535,3841498691,3843922940,3844294109,3844382018,3845584393,3845884657,3846730100,3847854033,3850822236,3850844318,3850853150,3850921556,3852087919,3852937700,3854309964,3854796168,3855319715,3856401711,3856990818,3857738576,3860560237,3860701409,3862020693,3862773857,3863457693,3863958627,3865195005,3866401217,3868650570,3869917954,3870243310,3870997193,3872083130,3873535694,3875442012,3875651104,3875736019,3876477306,3877890732,3881405281,3881707989,3883744513,3884128397,3884248311,3884981946,3885244030,3886416675,3888498894,3889356901,3889457104,3889639325,3889665134,3891197216,3891228978,3892328207,3892666722,3892945658,3896030736,3896906666,3900952232,3901228232,3901580295,3905864145,3908336478,3908656072,3908796783,3911427727,3911799264,3912232078,3913164374,3913678770,3913883048,3915217260,3915247881,3917488020,3917890373,3918390727,3919160758,3920022081,3920616594,3922163934,3922954963,3923552962,3923664582,3924262934,3925045990,3925963652,3926519401,3928093462,3928927967,3929585791,3930124249,3930625457,3931307365,3931533472,3932883691,3933155977,3935020092,3937101765,3939207631,3939574366,3940304695,3941465381,3942446683,3942757524,3943474211,3944812242,3949361319,3949764482,3951405904,3952805008,3953059579,3953235974,3953363100,3954144552,3954523507,3956004722,3961376797,3963943210,3964390673,3964826054,3965319407,3965496444,3966147765,3969890180,3971515176,3972755602,3972994790,3973086442,3973579189,3973699604,3975445799,3975821902,3977707812,3979301383,3980028754,3980403053,3981178312,3982735801,3983445346,3986383377,3987699434,3990075107,3991804875,3992366567,3992368779,3995928910,3996627786,3997559227,3998860637,4000709141,4000762145,4002610502,4003888794,4003902589,4003922670,4005759372,4006543160,4007124161,4007370647,4009534478,4010128740,4011604835,4014500966,4014933651,4016078493,4016371790,4020619832,4021575581,4023759175,4025627949,4026452800,4028436728,4031049368,4033051787,4034539813,4035113563,4036077867,4037355501,4038322391,4039082720,4040105708,4040696204,4040741732,4040797922,4041092874,4041346403,4041525679,4041889902,4044154716,4044923757,4045171059,4046620550,4048237084,4048970095,4050019925,4050851402,4057992318,4060085918,4060137644,4060519274,4061138801,4062578099,4066779232,4066893280,4067279381,4068820302,4070489094,4074690951,4076057482,4078057488,4079083394,4081166970,4081309172,4082017617,4082116860,4082271010,4082521658,4085084708,4088215698,4090858730,4091501588,4091865330,4092363304,4095958329,4096008781,4097798551,4098488129,4098641393,4099394301,4103662280,4103989208,4104229672,4106922433,4109066561,4110101760,4110801530,4111289732,4112595797,4116308413,4116583683,4116803102,4118889531,4119237225,4119681952,4120987804,4121635732,4121776983,4123455712,4124918495,4126565206,4129147097,4129841331,4130182268,4132770314,4133274531,4136293685,4139729954,4141125120,4145436858,4145685208,4149815950,4150399541,4151869801,4153895227,4155002753,4155239210,4157473725,4157543577,4157679542,4158755914,4158993415,4159586617,4159896719,4160657708,4161261580,4161397964,4163286388,4163853118,4164781309,4165364368,4165374969,4167933595,4169371251,4169687180,4170696132,4170932313,4171156517,4171311921,4171517408,4173748091,4174243565,4174741859,4174856968,4175215462,4176161664,4177152745,4177646641,4178031307,4178890366,4178901170,4180293041,4181021092,4181730271,4182698208,4182750729,4182757268,4183308153,4183950227,4184421176,4190035890,4190848896,4191388992,4191768038,4193257362,4195574502,4196118627,4197856478,4199721800,4200072021,4204179082,4207845177,4209086254,4210822923,4211432542,4211901343,4211957241,4213414836,4214611010,4216556181,4217579416,4218833431,4219423489,4221158582,4222264603,4222455854,4223411414,4226331554,4226525797,4226827849,4228693102,4229363879,4229825736,4231258339,4231468591,4234452834,4237889622,4239506014,4240115967,4241853103,4243077800,4243857944,4246732156,4248302555,4248318955,4248887664,4248895489,4249225035,4249959767,4251489020,4252158780,4253865376,4254683525,4254802512,4256899166,4257130815,4257814710,4259155000,4261234113,4261581592,4261689055,4261995123,4262714821,4263116522,4264361411,4265426457,4265454837,4265488933,4267390091,4269774584,4273141616,4276029080,4277255889,4277914726,4278677191,4278765845,4281086769,4281631758,4281812457,4282055119,4283226314,4290990079,4294538214,4295937556,4296732936,4297088362,4301878246,4302769187,4303142796,4303983018,4305584104,4306108800,4306986403,4309226616,4310034710,4312347732,4315854966,4317096628,4317324133,4319062040,4321199236,4322775829,4323198342,4323742617,4328548477,4328588749,4331069400,4332550518,4333312598,4333808041,4335572636,4335858434,4337799195,4339096239,4339111820,4344524503,4345856886,4348106568,4348901195,4349926606,4352555891,4352596295,4352679197,4354540579,4354864246,4355212819,4355776611,4356552064,4360674746,4361561414,4362447321,4363560965,4364551165,4364767229,4365711086,4367246925,4368033822,4368585217,4369938652,4370325279,4370931423,4371452142,4372242243,4373338897,4374537648,4374726163,4375005493,4376928581,4377647545,4378312091,4378660048,4381977333,4383407202,4386462841,4386567086,4387511758,4387688165,4389531784,4390219267,4392970432,4394191146,4395933809,4396895356,4398785923,4401720961,4401904001,4405219716,4405630735,4407785985,4407796076,4409967957,4410998518,4411249912,4414605298,4414762348,4415240594,4415982394,4416248743,4418287452,4419076544,4419161765,4419624728,4420826703,4421124944,4423389881,4424384292,4425285475,4425442706,4426966493,4429621234,4429628423,4430053297,4430864922,4433044714,4433849217,4435276489,4436144819,4436694580,4439667991,4444228573,4444641352,4445606916,4446299025,4451011218,4452090773,4452503521,4453664856,4456050496,4458218507,4459558995,4460394088,4461750360,4465591987,4465596188,4469711632,4471835006,4473005499,4473405985,4473791013,4474461579,4474854416,4475387183,4477112901,4480456742,4480871095,4481374514,4481573683,4482059165,4482425234,4484893134,4487026266,4489186248,4490031511,4493592490,4494268948,4495333300,4496530005,4497003717,4498046485,4499078198,4499079450,4499635964,4502932064,4506301486,4506678581,4507569034,4507691895,4509309220,4509479900,4509560375,4509987976,4510694844,4512379173,4516411055,4522312918,4523063490,4524699927,4526613276,4527137930,4527243185,4530819743,4530993536,4531717685,4531732333,4534471126,4535622185,4538916734,4538998799,4543407507,4544322870,4544655328,4546243015,4546546332,4547030467,4553611344,4554445412,4558168151,4560801796,4561746814,4562806127,4567728503,4568891626,4570798117,4571659884,4572341074,4573073242,4575031126,4576152716,4576480510,4577445791,4580749497,4581559353,4581737959,4582338937,4585805405,4588263213,4590265033,4590779061,4590840069,4591151338,4591551707,4595862211,4596037865,4596065922,4596419765,4596609645,4597344904,4597717326,4601075426,4601837759,4604181296,4605104041,4605234705,4605466183,4606853717,4610489392,4610863948,4611206655,4611809772,4613109980,4614170505,4614659386,4617467202,4619981841,4620208941,4621432644,4621721660,4622741975,4622775727,4623535755,4624856681,4625417833,4626168352,4626464577,4629776556,4631512539,4632179471,4636280731,4637446683,4638430637,4638746671,4639597637,4641573890,4643903053,4644836861,4647253038,4648167961,4651227029,4651683955,4652451929,4654259444,4655628864,4655730662,4656675123,4658221229,4658927838,4658938285,4661693729,4661842060,4663170145,4664740044,4667788689,4667847385,4669661257,4669860506,4671134041,4674942761,4676085949,4676455249,4677246411,4677861623,4682063083,4682075796,4682430428,4682444427,4682706242,4683321693,4684329335,4685081016,4685307221,4686915370,4689781016,4692033866,4692201230,4692353706,4693944514,4697435045,4700845732,4704929031,4706030716,4706077499,4707228129,4707296550,4707846624,4709163213,4710671148,4711218511,4714293937,4714741937,4715643215,4716195313,4716313355,4718054543,4718242897,4723133061,4723800136,4725527324,4726458610,4729116312,4729767723,4730821328,4733390648,4737493347,4738239969,4738569749,4739653972,4743118018,4743541810,4744120956,4746002023,4746493495,4750069035,4751716947,4754143182,4755112015,4757232410,4758421140,4759333388,4760317530,4764683893,4766044608,4769473672,4770409737,4770897222,4771767173,4771839885,4773283826,4775227909,4775431988,4778167208,4778453785,4779098055,4779494254,4780024963,4780451210,4781725177,4784644048,4785409566,4788196478,4792966026,4793666919,4797249662,4797632930,4797821841,4798295087,4806241805,4807459922,4808511537,4809708876,4812355629,4812692910,4813851869,4814202142,4816024621,4818039852,4818760082,4818817622,4819584339,4820185403,4821159116,4821787349,4824326644,4825366301,4826008582,4827230143,4828074573,4831718508,4832477319,4833170938,4833796990,4834862979,4834988814,4835418063,4840349215,4843145551,4843255478,4845670775,4848091459,4852853142,4853408224,4853664564,4854051119,4854759962,4855866036,4856300504,4856954433,4858344421,4859282412,4859455438,4859674497,4860094979,4869468058,4869557815,4870378479,4871663654,4872782005,4872920109,4874763435,4875484139,4875783686,4879564068,4881263218,4881460696,4881663943,4884412998,4885071754,4885504921,4886068496,4886245584,4888176583,4889978781,4893489985,4895121963,4897813560,4898276219,4899562159,4901367228,4904107914,4905618136,4905999479,4908076485,4908464027,4908479091,4908777390,4909167880,4910321694,4910953344,4911008056,4911807375,4912250925,4912881602,4913701123,4915194001,4915245781,4915255439,4915488194,4917620858,4919041379,4921096287,4925211699,4925580116,4927344169,4928171322,4931552646,4932505586,4935893756,4937536340,4937713482,4938652233,4940720993,4940863393,4941140760,4942934901,4943484276,4943769634,4945253733,4946008159,4946682280,4947057073,4947134386,4947247094,4947353399,4949746454,4951984072,4953154922,4953501367,4954138572,4954359893,4954607019,4954769594,4954985014,4955711613,4956026020,4958590499,4960625720,4961531876,4963913041,4965333019,4967865208,4967884257,4970797577,4970887268,4971710225,4971951914,4973911294,4975206764,4978281944,4979764046,4982037041,4982080293,4984480880,4986076169,4987011444,4988690933,4989731900,4990335216,4991146482,4992442147,4993243064,4993297258,4993462744,4996987442,4997094269,4999528474,5000529929,5003994670,5005973612,5007677961,5009112825,5009197383,5010774731,5011093107,5014853689,5016477710,5016486359,5016572043,5017284005,5017595852,5018773064,5021193586,5023404743,5024747296,5025577967,5025632897,5027477231,5027920308,5030039860,5031000911,5031373379,5031507967,5032603296,5033516914,5034062717,5036473982,5037335286,5039198092,5040866240,5042085779,5043895401,5044060555,5044764754,5045047864,5047142502,5047205380,5047286572,5053244473,5053748768,5054391995,5054783482,5055183987,5055894231,5057972551,5058916137,5063391386,5063828599,5063978355,5065698716,5067990852,5068323567,5073070579,5079027348,5080161007,5080325041,5082436769,5084201586,5085129317,5085211012,5085567933,5086323903,5087023685,5090295894,5090479409,5095276335,5096711530,5097263705,5097684787,5099518325,5100406426,5104524190,5105583435,5106136340,5107953684,5110498349,5111187537,5111938964,5114208138,5115743213,5116981272,5117166927,5118785477,5119401860,5120548091,5124179623,5124411649,5127324303,5129708906,5131667685,5133271439,5134919048,5135287371,5135958475,5138208018,5138548962,5139483804,5139776398,5142361491,5146560352,5146783538,5147036875,5147073234,5149899349,5152015423,5153059874,5153237413,5153433930,5154016142,5154324185,5154463541,5154533480,5154712615,5155524762,5157452062,5157668825,5160703113,5161545492,5162201246,5163167874,5166487247,5167444866,5167722376,5168397202,5169518782,5169951512,5170735550,5171502115,5173098566,5175623174,5175909989,5176756468,5178648887,5178743194,5181857055,5183534635,5184044199,5185059616,5187166619,5189471304,5192949232,5193169296,5193478889,5195378598,5196673540,5198147305,5199852977,5200067407,5200187307,5202441846,5202788252,5203076842,5204707439,5205576693,5206591715,5206665521,5207376750,5208894462,5212210306,5212658365,5212779041,5214618687,5215789667,5216204048,5217180471,5218039489,5221231190,5223508706,5224395572,5224590902,5226281688,5227763140,5228306886,5229597344,5229895915,5230316426,5232522386,5233228333,5233449979,5238776955,5241583810,5242109462,5243960761,5245294233,5246376165,5246695272,5251420726,5252456943,5259963854,5261489968,5265886486,5267300379,5269336606,5270082148,5270768781,5272613760,5272771336,5273136671,5273141204,5274804319,5275825716,5276412713,5276862350,5277241644,5277488252,5279042349,5282192868,5290049173,5290144972,5291006844,5292939423,5293887542,5294626614,5296817853,5299087393,5300196133,5301391154,5301774466,5303239979,5303961090,5304099667,5306888427,5307257120,5310170028,5313148453,5314193872,5315815767,5317216798,5317267704,5318188951,5320478505,5320959815,5321766247,5322937570,5323754995,5325772796,5327402767,5330407599,5331564130,5331642863,5334726307,5335039856,5335382806,5339613613,5339697250,5340612351,5341322312,5341835517,5341905737,5342829619,5343027781,5346409227,5347145202,5347754353,5347997725,5352440922,5353291785,5355979052,5356239202,5357491956,5358975214,5361231930,5361597905,5362503716,5362772132,5363224592,5364346516,5364693592,5364777357,5365062135,5369848529,5369952164,5370020852,5370182401,5370567294,5370748866,5371225525,5372745821,5374715535,5375692686,5377078073,5379837842,5380480333,5381497249,5382534133,5383375668,5385182093,5385586368,5385914292,5386953359,5387432278,5388333370,5389937215,5390588346,5394665416,5396479695,5396897182,5397138815,5400971583,5401578011,5402641078,5403242865,5403483651,5403568918,5403640175,5403965157,5404135769,5405037008,5405554302,5406097383,5406984603,5408773716,5408834218,5409631205,5409671951,5410194757,5413457100,5413686750,5413973038,5415581414,5417253398,5417361183,5418243329,5418298565,5421505417,5422761402,5423244241,5423548217,5425564944,5425772619,5425859487,5427389229,5427966261,5428010720,5428164388,5433137366,5434709280,5436992828,5437582895,5439195876,5439257054,5440287694,5440877532,5440914683,5441239355,5442269697,5444359736,5445971980,5447126905,5447484505,5447895920,5449621099,5449703402,5451178242,5451493405,5451554368,5453489742,5455074557,5455100830,5456291679,5457275408,5458077208,5459144049,5460013586,5461162846,5462041801,5463058900,5463991492,5467311681,5467754324,5470532817,5470854000,5471234967,5471400500,5475836334,5476211967,5477484882,5479423817,5482718746,5483361785,5483978200,5484246757,5484670534,5485416143,5489815741,5489972389,5494351979,5499077413,5499667606,5502152972,5504867181,5507496039,5508051970,5510179991,5513318578,5513826948,5513941147,5517537099,5517957700,5518736216,5519340148,5520560277,5523668032,5525905631,5529545869,5531009966,5531288738,5531553155,5532308435,5533059149,5535437188,5536472450,5538228452,5538278293,5538366331,5540023889,5541980980,5542689826,5542720364,5543091323,5544020709,5544595318,5545153979,5547372815,5548509355,5550534388,5551800658,5555838237,5558471729,5559866918,5561796926,5562153594,5562215006,5564436455,5566467426,5566674406,5568182502,5569790714,5570080710,5570670541,5573978043,5574331217,5575109051,5575238378,5577443411,5579092237,5580182470,5580439313,5580618131,5580738204,5582819256,5583988882,5584016282,5585242529,5586299590,5587503967,5588538170,5590279794,5591785718,5591849611,5593028203,5593096366,5593449638,5594007866,5594818728,5596290358,5596385436,5598007250,5598366413,5601732774,5603512274,5606924601,5607164218,5607546840,5611449058,5614251437,5615270704,5615331903,5616018879,5617077301,5619682843,5619971923,5620881157,5621545712,5622539417,5626431514,5626936258,5627416028,5631736179,5632313575,5634170729,5634519132,5635685753,5636223113,5637457745,5640320949,5640581601,5641182616,5641519159,5643672345,5648066325,5648698449,5650966096,5652666123,5653533469,5656091151,5656467584,5658867329,5659148497,5664940103,5666315839,5667057152,5667724612,5670542069,5672478016,5672806118,5674342106,5674628598,5676104105,5677847688,5681678350,5685637288,5685703593,5685712527,5686467663,5687490962,5690658240,5690863794,5691512561,5692097696,5692295785,5693985632,5696631575,5696740905,5697245104,5699540824,5701047326,5701321540,5702044213,5703851983,5706411478,5708756837,5708872893,5710081467,5713758148,5715258202,5715768489,5719111153,5720029371,5720762549,5721916566,5724015482,5724872895,5729039253,5729862332,5730517454,5730727851,5731774077,5731899252,5732717531,5733917520,5734233965,5735540490,5736026869,5738922113,5740841284,5742388267,5747511747,5748576246,5749828442,5751020598,5751895828,5752258333,5755065824,5758435336,5759732320,5760357668,5760944008,5761871097,5762596531,5763178244,5766630954,5766730673,5768243949,5768572987,5769540242,5770383534,5771359804,5772463958,5773200261,5773973963,5776315140,5776594319,5777009852,5778547333,5778810523,5779197037,5780624782,5782931717,5783625437,5783727173,5786109680,5786693205,5788247208,5793335602,5794984589,5795453812,5796240735,5803630501,5803961137,5804863216,5806440222,5807249178,5807568851,5807575104,5809891755,5811663867,5812014200,5814397285,5816562201,5821474658,5822790684,5823832940,5823881444,5824691068,5824965353,5826195180,5828586171,5829834176,5830801726,5830852068,5831652710,5832050147,5834013736,5834048834,5834423629,5834584709,5835304551,5835968680,5837590788,5839772621,5840898814,5841499701,5843243686,5843413264,5843547400,5847844000,5848788919,5851198740,5851311155,5852178989,5858053228,5858730732,5859655062,5862321338,5862466488,5862725347,5864647309,5865320793,5866404731,5868406850,5871389581,5872810440,5873798609,5874276320,5875998838,5876723793,5876945276,5878676386,5879260689,5879884188,5880194250,5881400706,5882751271,5882947485,5883463476,5883873231,5885936177,5888143953,5888622318,5890628274,5891343522,5891670658,5894266023,5895356028,5897070149,5897177757,5898299321,5901943967,5902728687,5905149904,5906536406,5906911279,5907485507,5908634612,5908810613,5911752738,5912216509,5914156557,5914216110,5914532437,5915155740,5916389506,5916462985,5916846481,5918561849,5920395279,5921170787,5924516708,5924575028,5924881569,5927173289,5929523112,5929709161,5929787677,5930924638,5931006675,5933276103,5934336477,5934758164,5937002801,5937154186,5937210483,5937496433,5938614350,5939151925,5942636468,5942882031,5943425327,5945688972,5948276632,5948802700,5949351338,5949619250,5950044519,5950698585,5950758671,5952354946,5953281341,5953880987,5953890481,5954046281,5954461686,5957712718,5959048901,5959669831,5959967607,5965686096,5965782183,5966493316,5968013640,5968380453,5970248633,5971011586,5971482398,5974590623,5975391632,5975883303,5977466395,5979395968,5979407653,5979587084,5980604985,5984811427,5985343454,5989567890,5990555697,5992929438,5994418857,5995948038,5996371504,6000263533,6001431409,6001561628,6001893064,6002256595,6004190840,6004980802,6006271775,6008009818,6008028300,6011629768,6013944673,6014691658,6016246771,6016473892,6016992340,6019144074,6021072119,6023647375,6026230238,6027643776,6027678344,6029065418,6030421013,6030628457,6031581505,6034686275,6035934812,6038651250,6038761323,6038804064,6039950972,6040399931,6041707431,6042042428,6042211738,6042956483,6043248647,6043277279,6045334233,6047061304,6047857497,6049527934,6050263501,6050927380,6052112167,6052607459,6052896581,6052933282,6053768624,6056810153,6057376867,6057587110,6058359030,6058708290,6060013953,6063299497,6064177379,6064426848,6065822477,6067968052,6069015273,6070409962,6071656871,6073311055,6074734722,6075318206,6075624889,6075703320,6076013907,6078751342,6078844231,6078886360,6079666770,6080489400,6081221536,6084179904,6084304616,6086776330,6087325399,6089681489,6093797384,6098642992,6099945108,6101978178,6102242500,6102845005,6103779219,6103851846,6104264269,6104662351,6104824042,6104877090,6106783774,6106869750,6108970413,6109923771,6112599503,6113460690,6114099716,6114470999,6116081811,6116232277,6120239199,6120580636,6124002087,6127359634,6129665683,6131336784,6131400863,6133607000,6137093344,6137597224,6138117147,6139126408,6139438529,6142181269,6143270526,6144738025,6144791734,6145796047,6146195799,6146282084,6146695340,6146799075,6146913660,6147081108,6149350467,6149726996,6151687779,6151964606,6152223602,6152532235,6153496681,6156307260,6157702037,6157894111,6158898054,6159772656,6160300261,6161084512,6162593013,6167219281,6167533542,6168888541,6169611791,6172156117,6172549638,6173870842,6174197949,6175259577,6175432303,6175482525,6177826828,6181384953,6181894047,6182040577,6182785599,6182844692,6184230317,6184561729,6184844784,6185067689,6185520943,6185892823,6186530874,6188615028,6190704049,6190983700,6193727841,6193755276,6194874423,6198769562,6202611223,6203828143,6204173555,6205169551,6205841673,6205955340,6206183790,6206322200,6207235196,6208245083,6208386624,6209643210,6210176056,6211613470,6211763310,6211805352,6211902985,6215992784,6218861623,6227241873,6227518526,6229877008,6231807957,6231908262,6233352098,6234384004,6235547105,6238673355,6239313639,6239886634,6241680882,6242296794,6242909401,6243703001,6244913089,6247308811,6248112923,6249538017,6249719297,6250651797,6252095597,6254507303,6257110788,6259416454,6264436787,6265569646,6266360263,6266867623,6266870535,6267378579,6268389830,6269886083,6272049521,6272804572,6273513058,6273697394,6276438383,6281530258,6291411544,6292342798,6292552319,6293097734,6293513581,6294003438,6296125100,6297222861,6301038665,6301586342,6302537713,6303129642,6303969872,6311204587,6311635823,6312693496,6314131796,6314157444,6314935441,6315065408,6315922215,6320836540,6321484398,6321520053,6321865115,6322767353,6322917921,6323457475,6324841313,6325432342,6325964162,6328645849,6329817531,6329912947,6331683956,6332566377,6333432217,6334449348,6335405612,6336874945,6339323177,6339645033,6340264147,6340760061,6342064869,6342192899,6343038292,6346022350,6346251620,6347684691,6348932022,6350931154,6353416200,6353607761,6353758451,6354227738,6357447984,6359321897,6363291678,6365279752,6366598463,6368612399,6368923515,6369291627,6369378335,6370521492,6373314979,6374007284,6380113731,6380245178,6380285974,6380434311,6380626809,6382215931,6383814802,6384797283,6385093167,6386166156,6388126868,6391295795,6393136475,6393255268,6394558551,6395370880,6396101033,6397501503,6397798527,6398272354,6400286892,6404617033,6404902424,6405633403,6406299601,6406791707,6407875650,6408502165,6408698828,6409015120,6411374866,6412468363,6413139723,6415549729,6418308737,6418511441,6418698124,6418932023,6419578104,6420830392,6420984333,6421257222,6422331964,6422473992,6422694428,6423069724,6423589786,6424341371,6424769963,6426205577,6428587880,6429031412,6430349735,6431357456,6431484164,6432495485,6432897813,6433232020,6433289969,6433821257,6434345148,6434842159,6438073967,6438861040,6442393145,6443896024,6445039516,6445942392,6446161554,6446391563,6449951909,6450381813,6450768890,6452661445,6453708853,6456549783,6456774027,6460450796,6460627506,6462110958,6463028437,6463269051,6465058295,6465667536,6468995388,6470761349,6471954819,6472884362,6474181446,6476220981,6476904037,6479962208,6480434739,6481476274,6484758345,6485509657,6486055356,6486105039,6492243302,6493991136,6495429661,6495513958,6496247521,6496780116,6498967089,6500921039,6501060142,6501157708,6501390974,6502216396,6502333956,6504233975,6504260289,6505065321,6505073936,6505260734,6512113072,6512419860,6515155212,6515743381,6517985480,6519310061,6520083740,6521379420,6521692854,6524054044,6524227876,6524453525,6527371810,6529059505,6529747014,6530694104,6531644884,6531690304,6531736229,6535228110,6536766375,6538828603,6539510877,6539938485,6540577241,6540917016,6542029045,6543255292,6543366233,6543371702,6544201089,6544536383,6546031085,6546870499,6546981883,6547043063,6547422856,6548913137,6549383841,6552001545,6552074738,6553298425,6554028515,6555865033,6555999785,6558569852,6561310783,6561783573,6565448827,6565793817,6566159384,6567650074,6567846656,6568879601,6571515078,6572732555,6574569646,6575815976,6576529686,6577947894,6580583830,6581340838,6582949033,6583905680,6584005538,6585169000,6586392610,6586603651,6590688439,6591124535,6593978614,6594351483,6595781148,6598185485,6600249491,6600708313,6605004438,6605484408,6605959260,6605971417,6606749921,6607074564,6617510083,6618748647,6619030744,6619789630,6620741732,6620829586,6623006333,6623876934,6625814755,6626020006,6626944478,6627351218,6628624555,6631881964,6632395757,6633716947,6634664569,6635261498,6635848076,6636990126,6637686909,6638512176,6638540153,6639733742,6641494778,6642146926,6643562617,6644492798,6651112346,6651786312,6652925666,6653334419,6654600186,6654612638,6654851998,6654871637,6658165981,6659324296,6659424566,6660066018,6660093468,6661610317,6662015632,6664866404,6665254221,6665906072,6661273529,6661273532,6661273532,6661273533,6661273532,6661273533],\"type\":\"pie\"}],                        {\"template\":{\"data\":{\"bar\":[{\"error_x\":{\"color\":\"#2a3f5f\"},\"error_y\":{\"color\":\"#2a3f5f\"},\"marker\":{\"line\":{\"color\":\"#E5ECF6\",\"width\":0.5},\"pattern\":{\"fillmode\":\"overlay\",\"size\":10,\"solidity\":0.2}},\"type\":\"bar\"}],\"barpolar\":[{\"marker\":{\"line\":{\"color\":\"#E5ECF6\",\"width\":0.5},\"pattern\":{\"fillmode\":\"overlay\",\"size\":10,\"solidity\":0.2}},\"type\":\"barpolar\"}],\"carpet\":[{\"aaxis\":{\"endlinecolor\":\"#2a3f5f\",\"gridcolor\":\"white\",\"linecolor\":\"white\",\"minorgridcolor\":\"white\",\"startlinecolor\":\"#2a3f5f\"},\"baxis\":{\"endlinecolor\":\"#2a3f5f\",\"gridcolor\":\"white\",\"linecolor\":\"white\",\"minorgridcolor\":\"white\",\"startlinecolor\":\"#2a3f5f\"},\"type\":\"carpet\"}],\"choropleth\":[{\"colorbar\":{\"outlinewidth\":0,\"ticks\":\"\"},\"type\":\"choropleth\"}],\"contour\":[{\"colorbar\":{\"outlinewidth\":0,\"ticks\":\"\"},\"colorscale\":[[0.0,\"#0d0887\"],[0.1111111111111111,\"#46039f\"],[0.2222222222222222,\"#7201a8\"],[0.3333333333333333,\"#9c179e\"],[0.4444444444444444,\"#bd3786\"],[0.5555555555555556,\"#d8576b\"],[0.6666666666666666,\"#ed7953\"],[0.7777777777777778,\"#fb9f3a\"],[0.8888888888888888,\"#fdca26\"],[1.0,\"#f0f921\"]],\"type\":\"contour\"}],\"contourcarpet\":[{\"colorbar\":{\"outlinewidth\":0,\"ticks\":\"\"},\"type\":\"contourcarpet\"}],\"heatmap\":[{\"colorbar\":{\"outlinewidth\":0,\"ticks\":\"\"},\"colorscale\":[[0.0,\"#0d0887\"],[0.1111111111111111,\"#46039f\"],[0.2222222222222222,\"#7201a8\"],[0.3333333333333333,\"#9c179e\"],[0.4444444444444444,\"#bd3786\"],[0.5555555555555556,\"#d8576b\"],[0.6666666666666666,\"#ed7953\"],[0.7777777777777778,\"#fb9f3a\"],[0.8888888888888888,\"#fdca26\"],[1.0,\"#f0f921\"]],\"type\":\"heatmap\"}],\"heatmapgl\":[{\"colorbar\":{\"outlinewidth\":0,\"ticks\":\"\"},\"colorscale\":[[0.0,\"#0d0887\"],[0.1111111111111111,\"#46039f\"],[0.2222222222222222,\"#7201a8\"],[0.3333333333333333,\"#9c179e\"],[0.4444444444444444,\"#bd3786\"],[0.5555555555555556,\"#d8576b\"],[0.6666666666666666,\"#ed7953\"],[0.7777777777777778,\"#fb9f3a\"],[0.8888888888888888,\"#fdca26\"],[1.0,\"#f0f921\"]],\"type\":\"heatmapgl\"}],\"histogram\":[{\"marker\":{\"pattern\":{\"fillmode\":\"overlay\",\"size\":10,\"solidity\":0.2}},\"type\":\"histogram\"}],\"histogram2d\":[{\"colorbar\":{\"outlinewidth\":0,\"ticks\":\"\"},\"colorscale\":[[0.0,\"#0d0887\"],[0.1111111111111111,\"#46039f\"],[0.2222222222222222,\"#7201a8\"],[0.3333333333333333,\"#9c179e\"],[0.4444444444444444,\"#bd3786\"],[0.5555555555555556,\"#d8576b\"],[0.6666666666666666,\"#ed7953\"],[0.7777777777777778,\"#fb9f3a\"],[0.8888888888888888,\"#fdca26\"],[1.0,\"#f0f921\"]],\"type\":\"histogram2d\"}],\"histogram2dcontour\":[{\"colorbar\":{\"outlinewidth\":0,\"ticks\":\"\"},\"colorscale\":[[0.0,\"#0d0887\"],[0.1111111111111111,\"#46039f\"],[0.2222222222222222,\"#7201a8\"],[0.3333333333333333,\"#9c179e\"],[0.4444444444444444,\"#bd3786\"],[0.5555555555555556,\"#d8576b\"],[0.6666666666666666,\"#ed7953\"],[0.7777777777777778,\"#fb9f3a\"],[0.8888888888888888,\"#fdca26\"],[1.0,\"#f0f921\"]],\"type\":\"histogram2dcontour\"}],\"mesh3d\":[{\"colorbar\":{\"outlinewidth\":0,\"ticks\":\"\"},\"type\":\"mesh3d\"}],\"parcoords\":[{\"line\":{\"colorbar\":{\"outlinewidth\":0,\"ticks\":\"\"}},\"type\":\"parcoords\"}],\"pie\":[{\"automargin\":true,\"type\":\"pie\"}],\"scatter\":[{\"marker\":{\"colorbar\":{\"outlinewidth\":0,\"ticks\":\"\"}},\"type\":\"scatter\"}],\"scatter3d\":[{\"line\":{\"colorbar\":{\"outlinewidth\":0,\"ticks\":\"\"}},\"marker\":{\"colorbar\":{\"outlinewidth\":0,\"ticks\":\"\"}},\"type\":\"scatter3d\"}],\"scattercarpet\":[{\"marker\":{\"colorbar\":{\"outlinewidth\":0,\"ticks\":\"\"}},\"type\":\"scattercarpet\"}],\"scattergeo\":[{\"marker\":{\"colorbar\":{\"outlinewidth\":0,\"ticks\":\"\"}},\"type\":\"scattergeo\"}],\"scattergl\":[{\"marker\":{\"colorbar\":{\"outlinewidth\":0,\"ticks\":\"\"}},\"type\":\"scattergl\"}],\"scattermapbox\":[{\"marker\":{\"colorbar\":{\"outlinewidth\":0,\"ticks\":\"\"}},\"type\":\"scattermapbox\"}],\"scatterpolar\":[{\"marker\":{\"colorbar\":{\"outlinewidth\":0,\"ticks\":\"\"}},\"type\":\"scatterpolar\"}],\"scatterpolargl\":[{\"marker\":{\"colorbar\":{\"outlinewidth\":0,\"ticks\":\"\"}},\"type\":\"scatterpolargl\"}],\"scatterternary\":[{\"marker\":{\"colorbar\":{\"outlinewidth\":0,\"ticks\":\"\"}},\"type\":\"scatterternary\"}],\"surface\":[{\"colorbar\":{\"outlinewidth\":0,\"ticks\":\"\"},\"colorscale\":[[0.0,\"#0d0887\"],[0.1111111111111111,\"#46039f\"],[0.2222222222222222,\"#7201a8\"],[0.3333333333333333,\"#9c179e\"],[0.4444444444444444,\"#bd3786\"],[0.5555555555555556,\"#d8576b\"],[0.6666666666666666,\"#ed7953\"],[0.7777777777777778,\"#fb9f3a\"],[0.8888888888888888,\"#fdca26\"],[1.0,\"#f0f921\"]],\"type\":\"surface\"}],\"table\":[{\"cells\":{\"fill\":{\"color\":\"#EBF0F8\"},\"line\":{\"color\":\"white\"}},\"header\":{\"fill\":{\"color\":\"#C8D4E3\"},\"line\":{\"color\":\"white\"}},\"type\":\"table\"}]},\"layout\":{\"annotationdefaults\":{\"arrowcolor\":\"#2a3f5f\",\"arrowhead\":0,\"arrowwidth\":1},\"autotypenumbers\":\"strict\",\"coloraxis\":{\"colorbar\":{\"outlinewidth\":0,\"ticks\":\"\"}},\"colorscale\":{\"diverging\":[[0,\"#8e0152\"],[0.1,\"#c51b7d\"],[0.2,\"#de77ae\"],[0.3,\"#f1b6da\"],[0.4,\"#fde0ef\"],[0.5,\"#f7f7f7\"],[0.6,\"#e6f5d0\"],[0.7,\"#b8e186\"],[0.8,\"#7fbc41\"],[0.9,\"#4d9221\"],[1,\"#276419\"]],\"sequential\":[[0.0,\"#0d0887\"],[0.1111111111111111,\"#46039f\"],[0.2222222222222222,\"#7201a8\"],[0.3333333333333333,\"#9c179e\"],[0.4444444444444444,\"#bd3786\"],[0.5555555555555556,\"#d8576b\"],[0.6666666666666666,\"#ed7953\"],[0.7777777777777778,\"#fb9f3a\"],[0.8888888888888888,\"#fdca26\"],[1.0,\"#f0f921\"]],\"sequentialminus\":[[0.0,\"#0d0887\"],[0.1111111111111111,\"#46039f\"],[0.2222222222222222,\"#7201a8\"],[0.3333333333333333,\"#9c179e\"],[0.4444444444444444,\"#bd3786\"],[0.5555555555555556,\"#d8576b\"],[0.6666666666666666,\"#ed7953\"],[0.7777777777777778,\"#fb9f3a\"],[0.8888888888888888,\"#fdca26\"],[1.0,\"#f0f921\"]]},\"colorway\":[\"#636efa\",\"#EF553B\",\"#00cc96\",\"#ab63fa\",\"#FFA15A\",\"#19d3f3\",\"#FF6692\",\"#B6E880\",\"#FF97FF\",\"#FECB52\"],\"font\":{\"color\":\"#2a3f5f\"},\"geo\":{\"bgcolor\":\"white\",\"lakecolor\":\"white\",\"landcolor\":\"#E5ECF6\",\"showlakes\":true,\"showland\":true,\"subunitcolor\":\"white\"},\"hoverlabel\":{\"align\":\"left\"},\"hovermode\":\"closest\",\"mapbox\":{\"style\":\"light\"},\"paper_bgcolor\":\"white\",\"plot_bgcolor\":\"#E5ECF6\",\"polar\":{\"angularaxis\":{\"gridcolor\":\"white\",\"linecolor\":\"white\",\"ticks\":\"\"},\"bgcolor\":\"#E5ECF6\",\"radialaxis\":{\"gridcolor\":\"white\",\"linecolor\":\"white\",\"ticks\":\"\"}},\"scene\":{\"xaxis\":{\"backgroundcolor\":\"#E5ECF6\",\"gridcolor\":\"white\",\"gridwidth\":2,\"linecolor\":\"white\",\"showbackground\":true,\"ticks\":\"\",\"zerolinecolor\":\"white\"},\"yaxis\":{\"backgroundcolor\":\"#E5ECF6\",\"gridcolor\":\"white\",\"gridwidth\":2,\"linecolor\":\"white\",\"showbackground\":true,\"ticks\":\"\",\"zerolinecolor\":\"white\"},\"zaxis\":{\"backgroundcolor\":\"#E5ECF6\",\"gridcolor\":\"white\",\"gridwidth\":2,\"linecolor\":\"white\",\"showbackground\":true,\"ticks\":\"\",\"zerolinecolor\":\"white\"}},\"shapedefaults\":{\"line\":{\"color\":\"#2a3f5f\"}},\"ternary\":{\"aaxis\":{\"gridcolor\":\"white\",\"linecolor\":\"white\",\"ticks\":\"\"},\"baxis\":{\"gridcolor\":\"white\",\"linecolor\":\"white\",\"ticks\":\"\"},\"bgcolor\":\"#E5ECF6\",\"caxis\":{\"gridcolor\":\"white\",\"linecolor\":\"white\",\"ticks\":\"\"}},\"title\":{\"x\":0.05},\"xaxis\":{\"automargin\":true,\"gridcolor\":\"white\",\"linecolor\":\"white\",\"ticks\":\"\",\"title\":{\"standoff\":15},\"zerolinecolor\":\"white\",\"zerolinewidth\":2},\"yaxis\":{\"automargin\":true,\"gridcolor\":\"white\",\"linecolor\":\"white\",\"ticks\":\"\",\"title\":{\"standoff\":15},\"zerolinecolor\":\"white\",\"zerolinewidth\":2}}},\"legend\":{\"tracegroupgap\":0},\"title\":{\"text\":\"Declined Transaction\"},\"height\":400,\"width\":400},                        {\"responsive\": true}                    ).then(function(){\n",
              "                            \n",
              "var gd = document.getElementById('cd806a8b-6c12-4e04-a418-1ecc8d5fec2f');\n",
              "var x = new MutationObserver(function (mutations, observer) {{\n",
              "        var display = window.getComputedStyle(gd).display;\n",
              "        if (!display || display === 'none') {{\n",
              "            console.log([gd, 'removed!']);\n",
              "            Plotly.purge(gd);\n",
              "            observer.disconnect();\n",
              "        }}\n",
              "}});\n",
              "\n",
              "// Listen for the removal of the full notebook cells\n",
              "var notebookContainer = gd.closest('#notebook-container');\n",
              "if (notebookContainer) {{\n",
              "    x.observe(notebookContainer, {childList: true});\n",
              "}}\n",
              "\n",
              "// Listen for the clearing of the current output cell\n",
              "var outputEl = gd.closest('.output');\n",
              "if (outputEl) {{\n",
              "    x.observe(outputEl, {childList: true});\n",
              "}}\n",
              "\n",
              "                        })                };                            </script>        </div>\n",
              "</body>\n",
              "</html>"
            ]
          },
          "metadata": {}
        },
        {
          "output_type": "display_data",
          "data": {
            "text/html": [
              "<html>\n",
              "<head><meta charset=\"utf-8\" /></head>\n",
              "<body>\n",
              "    <div>            <script src=\"https://cdnjs.cloudflare.com/ajax/libs/mathjax/2.7.5/MathJax.js?config=TeX-AMS-MML_SVG\"></script><script type=\"text/javascript\">if (window.MathJax) {MathJax.Hub.Config({SVG: {font: \"STIX-Web\"}});}</script>                <script type=\"text/javascript\">window.PlotlyConfig = {MathJaxConfig: 'local'};</script>\n",
              "        <script src=\"https://cdn.plot.ly/plotly-2.8.3.min.js\"></script>                <div id=\"7c7f1afe-99d6-4fd7-8ee3-2be5dd79fe98\" class=\"plotly-graph-div\" style=\"height:400px; width:400px;\"></div>            <script type=\"text/javascript\">                                    window.PLOTLYENV=window.PLOTLYENV || {};                                    if (document.getElementById(\"7c7f1afe-99d6-4fd7-8ee3-2be5dd79fe98\")) {                    Plotly.newPlot(                        \"7c7f1afe-99d6-4fd7-8ee3-2be5dd79fe98\",                        [{\"domain\":{\"x\":[0.0,1.0],\"y\":[0.0,1.0]},\"hovertemplate\":\"isForeignTransaction=%{label}<br>Merchant_id=%{value}<extra></extra>\",\"labels\":[\"Y\",\"Y\",\"N\",\"N\",\"Y\",\"Y\",\"N\",\"N\",\"N\",\"N\",\"N\",\"Y\",\"Y\",\"Y\",\"N\",\"Y\",\"N\",\"Y\",\"N\",\"Y\",\"Y\",\"N\",\"Y\",\"Y\",\"Y\",\"Y\",\"Y\",\"Y\",\"Y\",\"Y\",\"Y\",\"Y\",\"Y\",\"Y\",\"N\",\"N\",\"Y\",\"Y\",\"Y\",\"N\",\"Y\",\"Y\",\"Y\",\"Y\",\"N\",\"Y\",\"Y\",\"Y\",\"N\",\"Y\",\"N\",\"Y\",\"Y\",\"Y\",\"Y\",\"Y\",\"N\",\"Y\",\"N\",\"Y\",\"N\",\"N\",\"Y\",\"Y\",\"Y\",\"Y\",\"N\",\"Y\",\"Y\",\"Y\",\"Y\",\"Y\",\"Y\",\"Y\",\"Y\",\"N\",\"Y\",\"Y\",\"Y\",\"Y\",\"Y\",\"Y\",\"Y\",\"Y\",\"N\",\"Y\",\"Y\",\"Y\",\"Y\",\"Y\",\"N\",\"N\",\"Y\",\"Y\",\"N\",\"Y\",\"Y\",\"Y\",\"Y\",\"Y\",\"N\",\"Y\",\"Y\",\"Y\",\"Y\",\"Y\",\"Y\",\"N\",\"N\",\"Y\",\"Y\",\"N\",\"N\",\"N\",\"Y\",\"Y\",\"Y\",\"N\",\"N\",\"Y\",\"Y\",\"Y\",\"Y\",\"Y\",\"Y\",\"N\",\"N\",\"Y\",\"Y\",\"Y\",\"Y\",\"Y\",\"N\",\"Y\",\"Y\",\"Y\",\"Y\",\"Y\",\"Y\",\"N\",\"Y\",\"Y\",\"N\",\"N\",\"Y\",\"Y\",\"N\",\"Y\",\"N\",\"N\",\"Y\",\"Y\",\"Y\",\"Y\",\"N\",\"Y\",\"N\",\"N\",\"Y\",\"N\",\"Y\",\"Y\",\"N\",\"N\",\"Y\",\"Y\",\"Y\",\"Y\",\"Y\",\"Y\",\"Y\",\"Y\",\"Y\",\"Y\",\"Y\",\"Y\",\"Y\",\"Y\",\"Y\",\"Y\",\"N\",\"Y\",\"Y\",\"Y\",\"N\",\"N\",\"N\",\"N\",\"Y\",\"Y\",\"Y\",\"Y\",\"Y\",\"Y\",\"Y\",\"Y\",\"Y\",\"Y\",\"Y\",\"Y\",\"Y\",\"Y\",\"Y\",\"Y\",\"N\",\"Y\",\"N\",\"N\",\"Y\",\"Y\",\"Y\",\"Y\",\"Y\",\"N\",\"Y\",\"N\",\"Y\",\"N\",\"Y\",\"Y\",\"Y\",\"Y\",\"Y\",\"N\",\"N\",\"N\",\"Y\",\"Y\",\"N\",\"Y\",\"Y\",\"N\",\"Y\",\"N\",\"N\",\"Y\",\"Y\",\"Y\",\"Y\",\"Y\",\"Y\",\"Y\",\"Y\",\"N\",\"Y\",\"N\",\"Y\",\"N\",\"N\",\"N\",\"N\",\"Y\",\"Y\",\"Y\",\"Y\",\"Y\",\"Y\",\"Y\",\"Y\",\"N\",\"N\",\"Y\",\"Y\",\"Y\",\"Y\",\"Y\",\"N\",\"Y\",\"Y\",\"N\",\"N\",\"Y\",\"Y\",\"N\",\"Y\",\"N\",\"Y\",\"Y\",\"Y\",\"Y\",\"Y\",\"Y\",\"Y\",\"N\",\"Y\",\"Y\",\"Y\",\"Y\",\"Y\",\"Y\",\"Y\",\"Y\",\"Y\",\"Y\",\"Y\",\"Y\",\"Y\",\"Y\",\"N\",\"Y\",\"N\",\"Y\",\"Y\",\"Y\",\"Y\",\"Y\",\"Y\",\"Y\",\"Y\",\"Y\",\"Y\",\"Y\",\"Y\",\"Y\",\"Y\",\"Y\",\"Y\",\"Y\",\"Y\",\"Y\",\"N\",\"Y\",\"Y\",\"Y\",\"Y\",\"Y\",\"Y\",\"N\",\"N\",\"Y\",\"N\",\"N\",\"Y\",\"Y\",\"Y\",\"Y\",\"Y\",\"N\",\"N\",\"Y\",\"Y\",\"Y\",\"Y\",\"Y\",\"N\",\"Y\",\"Y\",\"N\",\"Y\",\"Y\",\"Y\",\"Y\",\"Y\",\"Y\",\"Y\",\"Y\",\"N\",\"Y\",\"Y\",\"Y\",\"Y\",\"Y\",\"Y\",\"N\",\"Y\",\"Y\",\"Y\",\"Y\",\"Y\",\"N\",\"Y\",\"Y\",\"Y\",\"Y\",\"Y\",\"N\",\"N\",\"N\",\"Y\",\"N\",\"N\",\"N\",\"Y\",\"Y\",\"Y\",\"Y\",\"N\",\"Y\",\"Y\",\"Y\",\"Y\",\"N\",\"Y\",\"N\",\"Y\",\"Y\",\"Y\",\"Y\",\"Y\",\"Y\",\"Y\",\"Y\",\"Y\",\"Y\",\"Y\",\"Y\",\"Y\",\"Y\",\"Y\",\"Y\",\"Y\",\"Y\",\"Y\",\"N\",\"N\",\"N\",\"N\",\"N\",\"N\",\"N\",\"N\",\"N\",\"N\",\"N\",\"Y\",\"Y\",\"Y\",\"Y\",\"Y\",\"Y\",\"Y\",\"Y\",\"Y\",\"N\",\"N\",\"N\",\"Y\",\"Y\",\"N\",\"N\",\"N\",\"Y\",\"Y\",\"N\",\"N\",\"N\",\"N\",\"N\",\"N\",\"N\",\"N\",\"N\",\"N\",\"N\",\"N\",\"N\",\"N\",\"Y\",\"N\",\"N\",\"N\",\"Y\",\"N\",\"N\",\"N\",\"Y\",\"N\",\"N\",\"N\",\"N\",\"N\",\"Y\",\"N\",\"Y\",\"Y\",\"Y\",\"N\",\"N\",\"N\",\"N\",\"N\",\"N\",\"N\",\"N\",\"N\",\"N\",\"Y\",\"N\",\"N\",\"N\",\"N\",\"N\",\"Y\",\"N\",\"N\",\"N\",\"N\",\"N\",\"N\",\"N\",\"N\",\"Y\",\"N\",\"N\",\"N\",\"N\",\"N\",\"N\",\"N\",\"Y\",\"N\",\"N\",\"N\",\"N\",\"N\",\"N\",\"N\",\"Y\",\"N\",\"N\",\"Y\",\"N\",\"N\",\"Y\",\"N\",\"N\",\"N\",\"N\",\"N\",\"N\",\"N\",\"N\",\"N\",\"Y\",\"N\",\"Y\",\"N\",\"N\",\"N\",\"Y\",\"N\",\"N\",\"N\",\"N\",\"N\",\"N\",\"N\",\"N\",\"N\",\"Y\",\"N\",\"N\",\"N\",\"N\",\"N\",\"N\",\"N\",\"N\",\"N\",\"N\",\"N\",\"N\",\"N\",\"N\",\"N\",\"N\",\"N\",\"N\",\"N\",\"N\",\"N\",\"N\",\"N\",\"N\",\"N\",\"N\",\"N\",\"N\",\"N\",\"N\",\"N\",\"N\",\"N\",\"N\",\"N\",\"N\",\"N\",\"Y\",\"Y\",\"N\",\"N\",\"N\",\"N\",\"N\",\"Y\",\"Y\",\"Y\",\"Y\",\"N\",\"N\",\"N\",\"N\",\"N\",\"N\",\"N\",\"N\",\"N\",\"Y\",\"N\",\"N\",\"N\",\"N\",\"N\",\"N\",\"N\",\"N\",\"N\",\"N\",\"N\",\"N\",\"N\",\"Y\",\"N\",\"N\",\"Y\",\"N\",\"N\",\"N\",\"N\",\"Y\",\"N\",\"N\",\"N\",\"N\",\"N\",\"N\",\"N\",\"N\",\"N\",\"Y\",\"N\",\"N\",\"N\",\"N\",\"N\",\"N\",\"N\",\"Y\",\"N\",\"N\",\"N\",\"N\",\"N\",\"N\",\"N\",\"N\",\"N\",\"N\",\"N\",\"Y\",\"N\",\"N\",\"N\",\"N\",\"N\",\"N\",\"N\",\"N\",\"Y\",\"N\",\"N\",\"N\",\"N\",\"N\",\"N\",\"N\",\"Y\",\"N\",\"N\",\"N\",\"Y\",\"N\",\"N\",\"N\",\"N\",\"N\",\"N\",\"N\",\"N\",\"N\",\"N\",\"N\",\"N\",\"Y\",\"N\",\"Y\",\"N\",\"Y\",\"N\",\"N\",\"N\",\"N\",\"N\",\"Y\",\"N\",\"N\",\"N\",\"N\",\"N\",\"N\",\"N\",\"N\",\"N\",\"N\",\"N\",\"N\",\"N\",\"N\",\"Y\",\"Y\",\"Y\",\"N\",\"N\",\"Y\",\"N\",\"N\",\"N\",\"N\",\"N\",\"N\",\"Y\",\"Y\",\"N\",\"N\",\"N\",\"N\",\"N\",\"N\",\"N\",\"N\",\"N\",\"N\",\"N\",\"Y\",\"N\",\"Y\",\"Y\",\"N\",\"N\",\"N\",\"N\",\"Y\",\"N\",\"Y\",\"N\",\"N\",\"N\",\"N\",\"N\",\"N\",\"N\",\"Y\",\"N\",\"N\",\"N\",\"N\",\"N\",\"N\",\"N\",\"N\",\"N\",\"N\",\"N\",\"N\",\"N\",\"N\",\"N\",\"Y\",\"N\",\"N\",\"N\",\"N\",\"N\",\"N\",\"N\",\"N\",\"Y\",\"N\",\"N\",\"N\",\"N\",\"N\",\"N\",\"N\",\"N\",\"N\",\"N\",\"N\",\"N\",\"N\",\"N\",\"N\",\"N\",\"N\",\"N\",\"N\",\"N\",\"N\",\"N\",\"Y\",\"Y\",\"N\",\"N\",\"N\",\"Y\",\"N\",\"N\",\"N\",\"N\",\"Y\",\"N\",\"N\",\"N\",\"N\",\"N\",\"N\",\"N\",\"N\",\"N\",\"N\",\"N\",\"N\",\"N\",\"N\",\"N\",\"N\",\"N\",\"N\",\"N\",\"N\",\"N\",\"N\",\"N\",\"N\",\"N\",\"Y\",\"N\",\"N\",\"N\",\"N\",\"N\",\"N\",\"N\",\"Y\",\"N\",\"N\",\"N\",\"Y\",\"N\",\"N\",\"N\",\"N\",\"Y\",\"Y\",\"N\",\"N\",\"Y\",\"N\",\"N\",\"N\",\"N\",\"N\",\"N\",\"N\",\"N\",\"N\",\"N\",\"N\",\"N\",\"N\",\"N\",\"Y\",\"Y\",\"N\",\"N\",\"N\",\"N\",\"N\",\"N\",\"N\",\"Y\",\"Y\",\"N\",\"N\",\"N\",\"N\",\"N\",\"N\",\"N\",\"N\",\"N\",\"N\",\"N\",\"N\",\"N\",\"N\",\"N\",\"N\",\"N\",\"N\",\"N\",\"N\",\"N\",\"N\",\"N\",\"Y\",\"N\",\"N\",\"N\",\"N\",\"N\",\"N\",\"N\",\"Y\",\"N\",\"N\",\"N\",\"Y\",\"N\",\"Y\",\"N\",\"N\",\"N\",\"N\",\"N\",\"N\",\"N\",\"Y\",\"N\",\"N\",\"N\",\"N\",\"N\",\"N\",\"N\",\"N\",\"N\",\"N\",\"Y\",\"N\",\"N\",\"N\",\"N\",\"Y\",\"N\",\"N\",\"N\",\"N\",\"N\",\"N\",\"N\",\"N\",\"N\",\"N\",\"N\",\"N\",\"N\",\"N\",\"N\",\"N\",\"N\",\"N\",\"N\",\"N\",\"N\",\"Y\",\"N\",\"N\",\"N\",\"N\",\"N\",\"Y\",\"N\",\"N\",\"N\",\"N\",\"N\",\"N\",\"N\",\"N\",\"N\",\"N\",\"N\",\"N\",\"N\",\"N\",\"N\",\"Y\",\"Y\",\"Y\",\"N\",\"N\",\"Y\",\"N\",\"N\",\"N\",\"N\",\"N\",\"N\",\"N\",\"N\",\"N\",\"N\",\"N\",\"N\",\"N\",\"N\",\"N\",\"N\",\"N\",\"N\",\"N\",\"N\",\"N\",\"N\",\"N\",\"N\",\"N\",\"N\",\"N\",\"N\",\"N\",\"N\",\"N\",\"N\",\"N\",\"N\",\"N\",\"N\",\"Y\",\"N\",\"N\",\"N\",\"N\",\"N\",\"N\",\"N\",\"N\",\"N\",\"N\",\"N\",\"N\",\"N\",\"N\",\"N\",\"N\",\"N\",\"N\",\"Y\",\"Y\",\"N\",\"N\",\"N\",\"Y\",\"N\",\"Y\",\"N\",\"N\",\"N\",\"N\",\"N\",\"N\",\"N\",\"N\",\"N\",\"N\",\"N\",\"N\",\"N\",\"N\",\"N\",\"N\",\"Y\",\"N\",\"N\",\"N\",\"N\",\"N\",\"N\",\"N\",\"N\",\"N\",\"N\",\"N\",\"N\",\"N\",\"N\",\"N\",\"N\",\"N\",\"N\",\"N\",\"N\",\"N\",\"N\",\"N\",\"Y\",\"Y\",\"N\",\"N\",\"N\",\"N\",\"N\",\"N\",\"Y\",\"N\",\"N\",\"N\",\"Y\",\"N\",\"N\",\"N\",\"N\",\"N\",\"N\",\"N\",\"N\",\"N\",\"Y\",\"Y\",\"N\",\"N\",\"N\",\"N\",\"N\",\"N\",\"Y\",\"N\",\"N\",\"Y\",\"N\",\"N\",\"N\",\"N\",\"N\",\"Y\",\"N\",\"N\",\"N\",\"N\",\"N\",\"N\",\"N\",\"Y\",\"N\",\"N\",\"N\",\"N\",\"N\",\"N\",\"Y\",\"N\",\"N\",\"N\",\"N\",\"N\",\"N\",\"N\",\"N\",\"N\",\"N\",\"N\",\"N\",\"N\",\"Y\",\"N\",\"N\",\"N\",\"N\",\"N\",\"N\",\"N\",\"N\",\"N\",\"N\",\"N\",\"Y\",\"N\",\"N\",\"N\",\"N\",\"N\",\"N\",\"Y\",\"N\",\"N\",\"N\",\"N\",\"N\",\"N\",\"Y\",\"N\",\"Y\",\"N\",\"N\",\"N\",\"N\",\"N\",\"N\",\"N\",\"N\",\"Y\",\"N\",\"N\",\"N\",\"N\",\"N\",\"Y\",\"N\",\"Y\",\"N\",\"N\",\"Y\",\"N\",\"N\",\"N\",\"Y\",\"N\",\"N\",\"N\",\"N\",\"N\",\"N\",\"N\",\"N\",\"N\",\"N\",\"N\",\"N\",\"N\",\"N\",\"N\",\"N\",\"N\",\"N\",\"Y\",\"N\",\"N\",\"Y\",\"N\",\"N\",\"Y\",\"N\",\"N\",\"N\",\"Y\",\"Y\",\"N\",\"N\",\"N\",\"N\",\"N\",\"Y\",\"N\",\"N\",\"N\",\"N\",\"N\",\"Y\",\"N\",\"N\",\"N\",\"Y\",\"Y\",\"N\",\"N\",\"N\",\"N\",\"N\",\"N\",\"N\",\"N\",\"N\",\"N\",\"N\",\"N\",\"N\",\"N\",\"N\",\"N\",\"N\",\"N\",\"Y\",\"N\",\"Y\",\"N\",\"N\",\"N\",\"Y\",\"N\",\"N\",\"N\",\"Y\",\"N\",\"N\",\"N\",\"N\",\"N\",\"Y\",\"N\",\"N\",\"Y\",\"N\",\"Y\",\"N\",\"N\",\"N\",\"N\",\"N\",\"N\",\"N\",\"Y\",\"N\",\"Y\",\"N\",\"N\",\"N\",\"N\",\"Y\",\"N\",\"N\",\"Y\",\"Y\",\"Y\",\"N\",\"N\",\"Y\",\"Y\",\"N\",\"Y\",\"N\",\"N\",\"Y\",\"N\",\"N\",\"Y\",\"N\",\"Y\",\"N\",\"N\",\"N\",\"N\",\"N\",\"N\",\"N\",\"N\",\"N\",\"N\",\"N\",\"N\",\"Y\",\"N\",\"N\",\"N\",\"N\",\"N\",\"N\",\"N\",\"N\",\"N\",\"N\",\"N\",\"N\",\"N\",\"N\",\"N\",\"N\",\"N\",\"N\",\"N\",\"N\",\"N\",\"N\",\"N\",\"Y\",\"N\",\"N\",\"N\",\"N\",\"N\",\"N\",\"N\",\"N\",\"N\",\"N\",\"N\",\"Y\",\"N\",\"N\",\"N\",\"N\",\"Y\",\"Y\",\"N\",\"N\",\"N\",\"N\",\"N\",\"N\",\"N\",\"N\",\"Y\",\"N\",\"Y\",\"N\",\"N\",\"N\",\"N\",\"N\",\"Y\",\"N\",\"N\",\"N\",\"N\",\"N\",\"N\",\"N\",\"N\",\"N\",\"N\",\"N\",\"N\",\"N\",\"N\",\"N\",\"N\",\"N\",\"N\",\"N\",\"N\",\"N\",\"N\",\"Y\",\"N\",\"N\",\"N\",\"N\",\"N\",\"N\",\"N\",\"Y\",\"N\",\"Y\",\"N\",\"N\",\"N\",\"N\",\"N\",\"N\",\"N\",\"N\",\"N\",\"Y\",\"N\",\"N\",\"N\",\"N\",\"N\",\"N\",\"N\",\"N\",\"N\",\"N\",\"N\",\"N\",\"N\",\"N\",\"N\",\"N\",\"N\",\"N\",\"N\",\"N\",\"N\",\"N\",\"N\",\"N\",\"N\",\"N\",\"N\",\"N\",\"N\",\"N\",\"N\",\"N\",\"N\",\"N\",\"N\",\"N\",\"N\",\"N\",\"N\",\"N\",\"Y\",\"N\",\"N\",\"N\",\"N\",\"N\",\"N\",\"N\",\"N\",\"N\",\"N\",\"N\",\"N\",\"N\",\"Y\",\"N\",\"N\",\"N\",\"N\",\"N\",\"N\",\"Y\",\"Y\",\"N\",\"N\",\"N\",\"N\",\"Y\",\"N\",\"N\",\"N\",\"Y\",\"N\",\"N\",\"N\",\"N\",\"N\",\"N\",\"N\",\"N\",\"N\",\"N\",\"N\",\"N\",\"N\",\"N\",\"Y\",\"N\",\"N\",\"N\",\"Y\",\"N\",\"N\",\"N\",\"N\",\"N\",\"N\",\"N\",\"N\",\"N\",\"N\",\"N\",\"N\",\"N\",\"N\",\"N\",\"N\",\"N\",\"N\",\"N\",\"N\",\"N\",\"Y\",\"N\",\"Y\",\"N\",\"N\",\"N\",\"N\",\"N\",\"N\",\"N\",\"N\",\"N\",\"N\",\"N\",\"N\",\"N\",\"N\",\"Y\",\"N\",\"N\",\"Y\",\"N\",\"N\",\"N\",\"N\",\"N\",\"N\",\"N\",\"N\",\"N\",\"N\",\"N\",\"N\",\"N\",\"N\",\"N\",\"N\",\"Y\",\"N\",\"Y\",\"N\",\"Y\",\"N\",\"N\",\"N\",\"N\",\"N\",\"N\",\"N\",\"N\",\"N\",\"N\",\"N\",\"Y\",\"N\",\"N\",\"N\",\"N\",\"N\",\"N\",\"N\",\"Y\",\"N\",\"N\",\"N\",\"N\",\"N\",\"N\",\"N\",\"Y\",\"N\",\"N\",\"N\",\"N\",\"N\",\"N\",\"Y\",\"N\",\"Y\",\"N\",\"N\",\"Y\",\"N\",\"N\",\"N\",\"N\",\"N\",\"N\",\"N\",\"N\",\"N\",\"Y\",\"N\",\"N\",\"N\",\"N\",\"Y\",\"N\",\"N\",\"N\",\"N\",\"N\",\"N\",\"N\",\"N\",\"N\",\"N\",\"N\",\"N\",\"N\",\"N\",\"N\",\"N\",\"N\",\"N\",\"N\",\"N\",\"N\",\"N\",\"Y\",\"N\",\"Y\",\"N\",\"N\",\"N\",\"N\",\"N\",\"N\",\"Y\",\"N\",\"N\",\"N\",\"N\",\"N\",\"N\",\"N\",\"N\",\"N\",\"N\",\"N\",\"N\",\"N\",\"N\",\"N\",\"Y\",\"N\",\"N\",\"N\",\"Y\",\"N\",\"N\",\"N\",\"N\",\"N\",\"N\",\"N\",\"N\",\"N\",\"N\",\"N\",\"N\",\"N\",\"N\",\"N\",\"Y\",\"N\",\"N\",\"N\",\"Y\",\"N\",\"Y\",\"N\",\"N\",\"N\",\"N\",\"N\",\"N\",\"N\",\"N\",\"Y\",\"N\",\"N\",\"N\",\"Y\",\"N\",\"N\",\"N\",\"N\",\"N\",\"N\",\"Y\",\"N\",\"N\",\"N\",\"Y\",\"N\",\"N\",\"N\",\"N\",\"N\",\"N\",\"N\",\"N\",\"Y\",\"N\",\"N\",\"N\",\"Y\",\"N\",\"Y\",\"N\",\"Y\",\"N\",\"N\",\"N\",\"N\",\"N\",\"N\",\"N\",\"N\",\"N\",\"N\",\"Y\",\"N\",\"N\",\"N\",\"N\",\"N\",\"N\",\"N\",\"N\",\"N\",\"Y\",\"N\",\"N\",\"N\",\"Y\",\"N\",\"N\",\"N\",\"N\",\"N\",\"N\",\"N\",\"N\",\"Y\",\"N\",\"N\",\"N\",\"N\",\"N\",\"N\",\"N\",\"N\",\"Y\",\"N\",\"N\",\"Y\",\"N\",\"N\",\"N\",\"N\",\"N\",\"N\",\"N\",\"N\",\"N\",\"N\",\"N\",\"N\",\"N\",\"N\",\"N\",\"N\",\"N\",\"N\",\"N\",\"N\",\"N\",\"N\",\"Y\",\"Y\",\"N\",\"N\",\"N\",\"N\",\"Y\",\"N\",\"N\",\"Y\",\"N\",\"N\",\"N\",\"N\",\"N\",\"N\",\"N\",\"N\",\"N\",\"N\",\"N\",\"N\",\"N\",\"Y\",\"N\",\"Y\",\"N\",\"N\",\"N\",\"N\",\"N\",\"Y\",\"N\",\"N\",\"Y\",\"N\",\"Y\",\"N\",\"N\",\"Y\",\"N\",\"N\",\"N\",\"N\",\"N\",\"N\",\"N\",\"N\",\"N\",\"N\",\"N\",\"N\",\"N\",\"N\",\"N\",\"N\",\"Y\",\"N\",\"N\",\"Y\",\"N\",\"N\",\"N\",\"N\",\"N\",\"N\",\"N\",\"N\",\"Y\",\"N\",\"Y\",\"N\",\"N\",\"N\",\"N\",\"N\",\"N\",\"N\",\"N\",\"N\",\"N\",\"N\",\"N\",\"Y\",\"N\",\"N\",\"N\",\"N\",\"N\",\"Y\",\"N\",\"N\",\"Y\",\"N\",\"Y\",\"N\",\"N\",\"N\",\"N\",\"N\",\"N\",\"N\",\"N\",\"N\",\"N\",\"N\",\"N\",\"N\",\"N\",\"N\",\"N\",\"N\",\"Y\",\"N\",\"N\",\"N\",\"N\",\"Y\",\"N\",\"Y\",\"N\",\"N\",\"N\",\"N\",\"N\",\"N\",\"N\",\"N\",\"N\",\"Y\",\"Y\",\"N\",\"N\",\"N\",\"N\",\"N\",\"N\",\"N\",\"N\",\"N\",\"N\",\"N\",\"N\",\"N\",\"N\",\"N\",\"N\",\"Y\",\"N\",\"N\",\"N\",\"Y\",\"N\",\"Y\",\"N\",\"N\",\"N\",\"Y\",\"N\",\"N\",\"Y\",\"N\",\"Y\",\"Y\",\"N\",\"N\",\"N\",\"N\",\"N\",\"N\",\"N\",\"Y\",\"Y\",\"N\",\"N\",\"N\",\"Y\",\"N\",\"Y\",\"Y\",\"N\",\"Y\",\"N\",\"N\",\"N\",\"N\",\"Y\",\"N\",\"N\",\"N\",\"Y\",\"Y\",\"N\",\"N\",\"N\",\"N\",\"N\",\"N\",\"N\",\"N\",\"N\",\"N\",\"N\",\"Y\",\"N\",\"N\",\"N\",\"Y\",\"N\",\"N\",\"Y\",\"N\",\"N\",\"N\",\"N\",\"N\",\"N\",\"N\",\"N\",\"N\",\"N\",\"N\",\"N\",\"N\",\"N\",\"N\",\"N\",\"N\",\"N\",\"N\",\"N\",\"N\",\"N\",\"N\",\"N\",\"N\",\"N\",\"N\",\"N\",\"N\",\"Y\",\"N\",\"N\",\"N\",\"N\",\"N\",\"N\",\"N\",\"N\",\"N\",\"N\",\"N\",\"N\",\"N\",\"N\",\"Y\",\"N\",\"N\",\"Y\",\"N\",\"N\",\"N\",\"N\",\"N\",\"Y\",\"N\",\"N\",\"N\",\"N\",\"N\",\"N\",\"N\",\"N\",\"N\",\"N\",\"Y\",\"N\",\"Y\",\"N\",\"N\",\"N\",\"N\",\"N\",\"N\",\"Y\",\"N\",\"N\",\"N\",\"N\",\"N\",\"N\",\"N\",\"N\",\"N\",\"N\",\"N\",\"N\",\"N\",\"N\",\"N\",\"Y\",\"N\",\"N\",\"N\",\"N\",\"N\",\"Y\",\"N\",\"N\",\"N\",\"Y\",\"N\",\"N\",\"N\",\"N\",\"N\",\"N\",\"N\",\"N\",\"N\",\"N\",\"Y\",\"N\",\"N\",\"N\",\"Y\",\"N\",\"Y\",\"Y\",\"N\",\"N\",\"N\",\"N\",\"N\",\"N\",\"N\",\"N\",\"N\",\"Y\",\"N\",\"N\",\"N\",\"N\",\"N\",\"N\",\"N\",\"N\",\"N\",\"N\",\"N\",\"Y\",\"N\",\"N\",\"N\",\"N\",\"N\",\"N\",\"N\",\"N\",\"N\",\"N\",\"Y\",\"Y\",\"N\",\"N\",\"N\",\"N\",\"N\",\"N\",\"Y\",\"N\",\"N\",\"N\",\"N\",\"N\",\"N\",\"Y\",\"Y\",\"N\",\"N\",\"Y\",\"N\",\"N\",\"N\",\"N\",\"N\",\"N\",\"Y\",\"N\",\"N\",\"N\",\"N\",\"Y\",\"N\",\"N\",\"N\",\"N\",\"N\",\"N\",\"N\",\"N\",\"N\",\"N\",\"N\",\"N\",\"Y\",\"N\",\"N\",\"N\",\"N\",\"Y\",\"N\",\"N\",\"N\",\"N\",\"Y\",\"N\",\"N\",\"N\",\"N\",\"N\",\"N\",\"Y\",\"N\",\"N\",\"N\",\"N\",\"N\",\"N\",\"Y\",\"N\",\"N\",\"N\",\"N\",\"N\",\"N\",\"N\",\"N\",\"N\",\"N\",\"N\",\"Y\",\"N\",\"N\",\"N\",\"N\",\"N\",\"N\",\"N\",\"Y\",\"N\",\"N\",\"N\",\"N\",\"N\",\"N\",\"Y\",\"N\",\"N\",\"N\",\"N\",\"N\",\"N\",\"N\",\"N\",\"N\",\"N\",\"N\",\"N\",\"N\",\"N\",\"N\",\"Y\",\"N\",\"N\",\"N\",\"N\",\"Y\",\"Y\",\"N\",\"Y\",\"N\",\"N\",\"N\",\"N\",\"N\",\"N\",\"N\",\"N\",\"N\",\"N\",\"N\",\"N\",\"N\",\"Y\",\"N\",\"Y\",\"N\",\"N\",\"N\",\"N\",\"Y\",\"N\",\"N\",\"N\",\"N\",\"N\",\"Y\",\"N\",\"N\",\"N\",\"Y\",\"N\",\"N\",\"N\",\"N\",\"N\",\"N\",\"N\",\"N\",\"N\",\"Y\",\"N\",\"N\",\"Y\",\"N\",\"N\",\"Y\",\"N\",\"N\",\"N\",\"N\",\"N\",\"Y\",\"N\",\"Y\",\"N\",\"N\",\"N\",\"N\",\"N\",\"Y\",\"N\",\"N\",\"N\",\"N\",\"N\",\"N\",\"N\",\"N\",\"N\",\"N\",\"N\",\"N\",\"N\",\"N\",\"N\",\"Y\",\"N\",\"Y\",\"N\",\"N\",\"N\",\"Y\",\"N\",\"Y\",\"N\",\"Y\",\"N\",\"N\",\"N\",\"N\",\"N\",\"N\",\"N\",\"N\",\"N\",\"Y\",\"Y\",\"Y\",\"N\",\"Y\",\"N\",\"N\",\"N\",\"N\",\"N\",\"N\",\"N\",\"N\",\"Y\",\"N\",\"N\",\"N\",\"N\",\"N\",\"N\",\"Y\",\"Y\",\"N\",\"N\",\"N\",\"N\",\"N\",\"N\",\"N\",\"N\",\"Y\",\"N\",\"N\",\"Y\",\"N\",\"N\",\"N\",\"N\",\"Y\",\"N\",\"N\",\"N\",\"N\",\"Y\",\"N\",\"Y\",\"N\",\"N\",\"N\",\"Y\",\"N\",\"N\",\"N\",\"Y\",\"N\",\"N\",\"N\",\"Y\",\"N\",\"Y\",\"N\",\"N\",\"N\",\"N\",\"N\",\"N\",\"N\",\"N\",\"N\",\"N\",\"Y\",\"N\",\"N\",\"N\",\"N\",\"N\",\"N\",\"N\",\"N\",\"N\",\"N\",\"Y\",\"N\",\"N\",\"N\",\"N\",\"N\",\"N\",\"N\",\"N\",\"N\",\"N\",\"N\",\"N\",\"Y\",\"N\",\"N\",\"N\",\"N\",\"Y\",\"N\",\"N\",\"N\",\"N\",\"N\",\"N\",\"N\",\"N\",\"N\",\"N\",\"N\",\"N\",\"N\",\"N\",\"N\",\"N\",\"N\",\"N\",\"N\",\"N\",\"N\",\"N\",\"N\",\"N\",\"N\",\"N\",\"N\",\"Y\",\"N\",\"N\",\"Y\",\"N\",\"Y\",\"N\",\"N\",\"N\",\"N\",\"N\",\"N\",\"N\",\"Y\",\"N\",\"Y\",\"N\",\"N\",\"N\",\"Y\",\"N\",\"N\",\"N\",\"Y\",\"Y\",\"N\",\"N\",\"N\",\"N\",\"N\",\"N\",\"N\",\"N\",\"N\",\"N\",\"N\",\"N\",\"N\",\"N\",\"N\",\"N\",\"N\",\"Y\",\"N\",\"N\",\"N\",\"N\",\"N\",\"Y\",\"N\",\"Y\",\"N\",\"N\",\"N\",\"N\",\"Y\",\"N\",\"N\",\"N\",\"N\",\"N\",\"N\",\"N\",\"N\",\"N\",\"N\",\"Y\",\"N\",\"N\",\"N\",\"Y\",\"N\",\"N\",\"Y\",\"N\",\"N\",\"Y\",\"N\",\"N\",\"N\",\"N\",\"N\",\"N\",\"Y\",\"N\",\"Y\",\"N\",\"N\",\"N\",\"Y\",\"N\",\"N\",\"N\",\"N\",\"Y\",\"N\",\"Y\",\"N\",\"N\",\"Y\",\"Y\",\"N\",\"Y\",\"N\",\"N\",\"N\",\"N\",\"Y\",\"N\",\"N\",\"N\",\"N\",\"N\",\"N\",\"N\",\"N\",\"N\",\"N\",\"N\",\"N\",\"N\",\"N\",\"N\",\"N\",\"N\",\"N\",\"N\",\"N\",\"N\",\"N\",\"N\",\"Y\",\"N\",\"N\",\"N\",\"N\",\"N\",\"N\",\"N\",\"N\",\"N\",\"N\",\"Y\",\"N\",\"N\",\"N\",\"Y\",\"N\",\"N\",\"N\",\"N\",\"Y\",\"Y\",\"N\",\"N\",\"N\",\"N\",\"N\",\"Y\",\"Y\",\"N\",\"Y\",\"Y\",\"N\",\"N\",\"N\",\"Y\",\"Y\",\"N\",\"N\",\"N\",\"N\",\"N\",\"Y\",\"N\",\"N\",\"N\",\"N\",\"N\",\"N\",\"N\",\"N\",\"N\",\"Y\",\"N\",\"N\",\"N\",\"Y\",\"N\",\"N\",\"N\",\"N\",\"Y\",\"N\",\"N\",\"N\",\"N\",\"N\",\"N\",\"N\",\"N\",\"Y\",\"N\",\"N\",\"N\",\"N\",\"N\",\"Y\",\"N\",\"N\",\"N\",\"N\",\"N\",\"N\",\"N\",\"N\",\"N\",\"Y\",\"N\",\"N\",\"N\",\"N\",\"N\",\"Y\",\"N\",\"N\",\"N\",\"N\",\"N\",\"N\",\"N\",\"N\",\"N\",\"N\",\"N\",\"N\",\"N\",\"Y\",\"N\",\"N\",\"Y\",\"N\",\"N\",\"N\",\"N\",\"N\",\"N\",\"N\",\"N\",\"N\",\"N\",\"N\",\"N\",\"N\",\"N\",\"N\",\"N\",\"N\",\"N\",\"N\",\"N\",\"N\",\"N\",\"Y\",\"N\",\"N\",\"N\",\"N\",\"N\",\"N\",\"N\",\"N\",\"N\",\"N\",\"N\",\"N\",\"N\",\"Y\",\"N\",\"N\",\"N\",\"N\",\"N\",\"N\",\"N\",\"N\",\"N\",\"N\",\"N\",\"N\",\"N\",\"N\",\"N\",\"N\",\"N\",\"N\",\"N\",\"N\",\"Y\",\"N\",\"N\",\"N\",\"N\",\"N\",\"N\",\"N\",\"N\",\"N\",\"N\",\"Y\",\"N\",\"N\",\"Y\",\"N\",\"N\",\"N\",\"N\",\"N\",\"Y\",\"N\",\"N\",\"N\",\"N\",\"N\",\"N\",\"N\",\"N\",\"N\",\"N\",\"N\",\"N\",\"N\",\"N\",\"N\",\"N\",\"N\",\"N\",\"N\",\"N\",\"N\",\"N\",\"N\",\"N\",\"N\",\"N\",\"N\",\"N\",\"N\",\"Y\",\"N\",\"N\",\"N\",\"Y\",\"N\",\"N\",\"N\",\"N\",\"N\",\"N\",\"N\",\"N\",\"N\",\"N\",\"N\",\"N\",\"N\",\"N\",\"N\",\"N\",\"Y\",\"N\",\"N\",\"N\",\"N\",\"N\",\"N\",\"Y\",\"Y\",\"N\",\"N\",\"Y\",\"N\",\"N\",\"N\",\"N\",\"N\",\"N\",\"N\",\"N\",\"Y\",\"N\",\"N\",\"Y\",\"N\",\"N\",\"N\",\"N\",\"N\",\"Y\",\"N\",\"N\",\"N\",\"N\",\"N\",\"N\",\"N\",\"N\",\"N\",\"N\",\"N\",\"N\",\"N\",\"N\",\"N\",\"N\",\"N\",\"N\",\"N\",\"N\",\"N\",\"N\",\"N\",\"N\",\"N\",\"Y\",\"N\",\"N\",\"N\",\"N\",\"N\",\"N\",\"N\",\"N\",\"N\",\"N\",\"N\",\"N\",\"N\",\"Y\",\"N\",\"N\",\"N\",\"N\",\"N\",\"Y\",\"N\",\"Y\",\"Y\",\"N\",\"Y\",\"Y\",\"N\",\"N\",\"N\",\"Y\",\"Y\",\"N\",\"N\",\"N\",\"N\",\"N\",\"N\",\"N\",\"N\",\"N\",\"N\",\"N\",\"Y\",\"N\",\"N\",\"N\",\"N\",\"N\",\"N\",\"N\",\"N\",\"Y\",\"N\",\"N\",\"N\",\"N\",\"N\",\"N\",\"N\",\"N\",\"N\",\"Y\",\"N\",\"N\",\"N\",\"Y\",\"N\",\"N\",\"Y\",\"N\",\"N\",\"N\",\"N\",\"N\",\"N\",\"N\",\"N\",\"N\",\"Y\",\"N\",\"Y\",\"N\",\"N\",\"N\",\"N\",\"Y\",\"N\",\"N\",\"N\",\"Y\",\"Y\"],\"legendgroup\":\"\",\"name\":\"\",\"showlegend\":true,\"values\":[3160040998,3160040998,3160041896,3160141996,3160241992,3160241992,3160272997,3162041996,3162041996,3162041996,3356298138,3359162473,3359690891,3364840542,3365355395,3369900897,3376306597,3386662126,3388251889,3394638119,3402333645,3405816400,3408183027,3413226850,3418090677,3450127241,3462219091,3465787492,3483626412,3498029973,3505845546,3506126990,3508979345,3527533497,3541182255,3557460410,3564918618,3604409798,3641844855,3642050373,3651341559,3657008341,3659140079,3675535563,3687691773,3706361915,3714090682,3714419514,3729024090,3742656867,3752015916,3760238152,3764558156,3774659995,3776798621,3785665909,3785986636,3799132406,3800617237,3806421625,3808398633,3811662493,3816482428,3835542787,3837335703,3840707845,3852916753,3856955720,3858398119,3859811531,3875188381,3884139657,3884787232,3905893865,3938462850,3950041893,3958135740,3964604570,3995706579,4018645384,4022945723,4024505715,4036426557,4058823520,4061849015,4063172111,4072532307,4084592872,4105344658,4114574519,4117880439,4127150902,4128978968,4130501464,4135098150,4138506573,4139060865,4139280493,4151187710,4154299431,4155574823,4161661486,4163803727,4172276215,4173436510,4177712289,4180015902,4192972254,4202639184,4205436781,4209927538,4223065137,4224420959,4225126900,4225921989,4232210297,4240669276,4244630120,4266029386,4294222139,4304266734,4305702710,4312225167,4314204125,4327113971,4345258543,4348694075,4349047749,4351013109,4361157500,4373776212,4378980797,4397330540,4398664733,4405257384,4409660001,4427137431,4431147517,4439427249,4443404173,4453850276,4456899824,4481195802,4489896961,4526633692,4536078157,4544005938,4557040500,4563845771,4579872633,4585226511,4586229903,4592811487,4596416910,4628780648,4629967388,4633703602,4639560839,4645301386,4648858919,4664574739,4667293611,4671682416,4684495167,4687490727,4690923132,4691564176,4713612792,4716163260,4718777983,4721121199,4727426967,4734471000,4736685684,4748248523,4751116909,4762163981,4763086973,4764736078,4772667475,4786546169,4796001508,4805279645,4818869188,4835465818,4838852609,4839374244,4851963556,4858660021,4870833599,4871980109,4873110740,4878516375,4879626708,4881579578,4890143931,4898289645,4902634359,4906320707,4908055617,4908884376,4933502657,4937588881,4940039747,4942320098,4943712797,4946946678,4948629322,4970606263,4973267879,4973310264,4988866051,4989248225,5020008779,5022726674,5035552703,5037840894,5041652546,5054473235,5057209186,5063944744,5066590987,5076373986,5091764220,5108511837,5116547959,5120397575,5121812372,5134289117,5150845822,5180064875,5183376007,5193134213,5195567970,5202727146,5224070838,5235580276,5258312871,5259123670,5264128511,5271180204,5274967692,5284726016,5309800449,5331771857,5338031118,5339489340,5339849253,5345941652,5355399779,5425524255,5426200375,5426239243,5436582563,5436781051,5438087941,5439431588,5440569593,5444358642,5449566080,5459497990,5474497608,5475382688,5491231228,5495610149,5497895958,5498518099,5499666666,5504141167,5507239729,5508434208,5516509929,5520132673,5526236381,5560111892,5562961422,5586273121,5588296997,5591651411,5602598291,5614772190,5624569909,5631261207,5634640261,5636587443,5639232781,5646455022,5655572596,5656117724,5663085583,5671132124,5673635669,5675544222,5676841832,5688747995,5690777846,5693783739,5696577327,5703519784,5708922255,5731414073,5733530619,5734095507,5760152287,5766099974,5790085700,5793673119,5795857704,5797107780,5811420020,5845551567,5859908215,5862353618,5863189919,5869315272,5871664480,5874863707,5879049904,5884529995,5892017866,5928254406,5930697966,5934351213,5938834165,5943567820,5959708973,5969094614,5988848064,5991109342,6016034477,6023215001,6028844245,6051871856,6052221972,6062032943,6062389909,6070790055,6080895069,6083913860,6101824913,6102479353,6115607724,6118190038,6122610392,6124595289,6139931192,6142510334,6148192483,6177585619,6188405933,6189443441,6196064718,6199861179,6201160714,6210230406,6278623414,6283390216,6283975662,6287176937,6291161670,6298132922,6321557899,6326408917,6338071932,6339832383,6347291796,6348242452,6353760025,6356587989,6374053602,6378428813,6392329354,6396307681,6403649379,6412131239,6416323290,6419109258,6455635890,6471049957,6485322328,6486520105,6487405222,6494182360,6511919222,6514902255,6516357223,6537548014,6553441185,6561840914,6586987902,6597904988,6606661761,6612448144,6619775423,6633884878,6656725630,6661273529,6661273529,6661273529,6661273529,6661273529,6661273529,6661273529,6661273530,6661273530,6661273530,6661273530,6661273530,6661273530,6661273530,6661273531,6661273531,6661273531,6661273531,6661273531,6661273531,6661273532,6661273532,6661273532,6661273532,6661273532,6661273533,6661273533,6661273533,6661273534,6661273534,6661273534,6661273534,6661273534,6661273534,6661273531,6661273531,6661273531,6661273531,6661273531,6661273531,6661273532,6661273532,6661273532,6661273532,6661273532,6661273533,6661273533,6661273533,6661273533,6661273533,6661273533,6661273533,3160041996,3160041996,3160041996,3200016990,3200016990,3200016990,3333780991,3335028024,3335329456,3337530841,3338290326,3341313096,3341718873,3342028911,3343183606,3343565842,3347141750,3349106106,3349221228,3351178102,3351313375,3352166255,3352708526,3356830106,3358331170,3359485487,3359515389,3361344544,3362934997,3363782481,3364000461,3364792317,3365168978,3369503548,3372853708,3373747581,3374256191,3376642926,3377525986,3377598810,3379194612,3379286495,3382903731,3382992385,3384289990,3386119800,3386625503,3389037502,3390311896,3390408118,3390421922,3391137811,3392483844,3392901760,3393045253,3393235177,3394443999,3395034027,3396089333,3396563973,3396727901,3399674481,3400217521,3401041254,3401072583,3401445241,3401878013,3403918452,3405895343,3406168428,3406913277,3406925116,3409044326,3409095418,3409260594,3411546968,3412458375,3413554900,3414287941,3416522311,3417285699,3418158556,3419080002,3419693206,3420501022,3420560059,3422472079,3422768759,3423976232,3425665457,3426603333,3426923173,3432025717,3433367068,3434958979,3436535040,3439089244,3441115676,3444008590,3444574612,3450450657,3454656550,3456680998,3456739646,3457182263,3457793169,3458102286,3459461025,3459826071,3466513147,3469733087,3469801806,3470036109,3470420389,3473277510,3474413225,3475849004,3475935285,3479876243,3480678455,3481118585,3481901056,3482015123,3482027814,3482372454,3483261554,3483773246,3484573869,3484615286,3488297673,3489307761,3489590587,3489678612,3490791034,3491083090,3491505286,3491557751,3493976559,3496464197,3498263337,3499087362,3499488049,3499689294,3500328343,3501885583,3505803066,3507404802,3508386391,3508392910,3510594343,3511712407,3514946201,3515458871,3515534397,3516097910,3516508833,3516805332,3517947519,3518189460,3518236039,3518422544,3518784657,3519472772,3519486219,3521648616,3522325752,3527412600,3531995557,3535300409,3535357836,3536978368,3538500518,3539473672,3540314065,3540872906,3543390736,3548719208,3551084045,3551342299,3551695659,3552394097,3552859408,3553696100,3553702381,3553896680,3556739004,3557818586,3559232671,3559739048,3562603242,3565697089,3567225316,3568227646,3568567942,3568848026,3569707046,3570312802,3572165186,3576609711,3579409275,3581339014,3581393535,3581554883,3581611981,3581842005,3582877117,3583430505,3584037717,3584372064,3584920170,3587111798,3589338723,3589352375,3591169587,3592066133,3595135291,3595429127,3596953390,3597840001,3598283335,3598667002,3600685674,3600781509,3602850906,3604056060,3606558690,3608676640,3608832053,3609537995,3609627958,3611209181,3611436503,3613369246,3613914338,3614959069,3616173485,3616518993,3618666797,3620451052,3622219417,3622897210,3626875653,3628159967,3631838831,3632098158,3634250878,3634909182,3635023073,3635454329,3636177004,3637706677,3638878615,3639888440,3644488478,3646878488,3646890136,3649263911,3650364777,3650732830,3651916813,3652480301,3652909999,3658323901,3658809107,3660144651,3662226171,3663158118,3668076095,3669527781,3669567925,3669591416,3671190139,3674935143,3675302818,3676078129,3678951139,3684775236,3685379831,3685418050,3692503266,3693280007,3693537296,3694077083,3698051431,3701023477,3702226634,3704833774,3707149502,3708167132,3708469594,3708889491,3712792482,3714377023,3714469580,3714929449,3715363485,3715986505,3716861385,3717332618,3719419524,3719466512,3722133584,3722770866,3723219248,3723499820,3724965486,3726435993,3731079653,3732340651,3733178718,3733684328,3733812221,3733913655,3734041065,3737637735,3739346624,3743616647,3744543082,3744723486,3746750530,3748646082,3748967456,3753168362,3753572882,3754783798,3755892531,3757168855,3757180542,3758247756,3758300746,3758384645,3760252470,3760349148,3766710393,3768949196,3769129330,3769223968,3772445997,3773720479,3774542057,3774763666,3775377628,3779199839,3781821220,3782068019,3788537411,3792103032,3792474266,3793900430,3794492807,3798022882,3804630024,3805446760,3808008068,3809569149,3810841480,3811465718,3813563637,3815293880,3815423940,3815698527,3816004490,3817747404,3818895517,3819564866,3819709978,3821456401,3821685967,3822669297,3822728355,3823452816,3823580013,3825656302,3827739049,3829134200,3829150944,3831714030,3832343281,3835659842,3840303535,3841498691,3843922940,3844294109,3844382018,3845584393,3845884657,3846730100,3847854033,3850822236,3850844318,3850853150,3850921556,3852087919,3852937700,3854309964,3854796168,3855319715,3856401711,3856990818,3857738576,3860560237,3860701409,3862020693,3862773857,3863457693,3863958627,3865195005,3866401217,3868650570,3869917954,3870243310,3870997193,3872083130,3873535694,3875442012,3875651104,3875736019,3876477306,3877890732,3881405281,3881707989,3883744513,3884128397,3884248311,3884981946,3885244030,3886416675,3888498894,3889356901,3889457104,3889639325,3889665134,3891197216,3891228978,3892328207,3892666722,3892945658,3896030736,3896906666,3900952232,3901228232,3901580295,3905864145,3908336478,3908656072,3908796783,3911427727,3911799264,3912232078,3913164374,3913678770,3913883048,3915217260,3915247881,3917488020,3917890373,3918390727,3919160758,3920022081,3920616594,3922163934,3922954963,3923552962,3923664582,3924262934,3925045990,3925963652,3926519401,3928093462,3928927967,3929585791,3930124249,3930625457,3931307365,3931533472,3932883691,3933155977,3935020092,3937101765,3939207631,3939574366,3940304695,3941465381,3942446683,3942757524,3943474211,3944812242,3949361319,3949764482,3951405904,3952805008,3953059579,3953235974,3953363100,3954144552,3954523507,3956004722,3961376797,3963943210,3964390673,3964826054,3965319407,3965496444,3966147765,3969890180,3971515176,3972755602,3972994790,3973086442,3973579189,3973699604,3975445799,3975821902,3977707812,3979301383,3980028754,3980403053,3981178312,3982735801,3983445346,3986383377,3987699434,3990075107,3991804875,3992366567,3992368779,3995928910,3996627786,3997559227,3998860637,4000709141,4000762145,4002610502,4003888794,4003902589,4003922670,4005759372,4006543160,4007124161,4007370647,4009534478,4010128740,4011604835,4014500966,4014933651,4016078493,4016371790,4020619832,4021575581,4023759175,4025627949,4026452800,4028436728,4031049368,4033051787,4034539813,4035113563,4036077867,4037355501,4038322391,4039082720,4040105708,4040696204,4040741732,4040797922,4041092874,4041346403,4041525679,4041889902,4044154716,4044923757,4045171059,4046620550,4048237084,4048970095,4050019925,4050851402,4057992318,4060085918,4060137644,4060519274,4061138801,4062578099,4066779232,4066893280,4067279381,4068820302,4070489094,4074690951,4076057482,4078057488,4079083394,4081166970,4081309172,4082017617,4082116860,4082271010,4082521658,4085084708,4088215698,4090858730,4091501588,4091865330,4092363304,4095958329,4096008781,4097798551,4098488129,4098641393,4099394301,4103662280,4103989208,4104229672,4106922433,4109066561,4110101760,4110801530,4111289732,4112595797,4116308413,4116583683,4116803102,4118889531,4119237225,4119681952,4120987804,4121635732,4121776983,4123455712,4124918495,4126565206,4129147097,4129841331,4130182268,4132770314,4133274531,4136293685,4139729954,4141125120,4145436858,4145685208,4149815950,4150399541,4151869801,4153895227,4155002753,4155239210,4157473725,4157543577,4157679542,4158755914,4158993415,4159586617,4159896719,4160657708,4161261580,4161397964,4163286388,4163853118,4164781309,4165364368,4165374969,4167933595,4169371251,4169687180,4170696132,4170932313,4171156517,4171311921,4171517408,4173748091,4174243565,4174741859,4174856968,4175215462,4176161664,4177152745,4177646641,4178031307,4178890366,4178901170,4180293041,4181021092,4181730271,4182698208,4182750729,4182757268,4183308153,4183950227,4184421176,4190035890,4190848896,4191388992,4191768038,4193257362,4195574502,4196118627,4197856478,4199721800,4200072021,4204179082,4207845177,4209086254,4210822923,4211432542,4211901343,4211957241,4213414836,4214611010,4216556181,4217579416,4218833431,4219423489,4221158582,4222264603,4222455854,4223411414,4226331554,4226525797,4226827849,4228693102,4229363879,4229825736,4231258339,4231468591,4234452834,4237889622,4239506014,4240115967,4241853103,4243077800,4243857944,4246732156,4248302555,4248318955,4248887664,4248895489,4249225035,4249959767,4251489020,4252158780,4253865376,4254683525,4254802512,4256899166,4257130815,4257814710,4259155000,4261234113,4261581592,4261689055,4261995123,4262714821,4263116522,4264361411,4265426457,4265454837,4265488933,4267390091,4269774584,4273141616,4276029080,4277255889,4277914726,4278677191,4278765845,4281086769,4281631758,4281812457,4282055119,4283226314,4290990079,4294538214,4295937556,4296732936,4297088362,4301878246,4302769187,4303142796,4303983018,4305584104,4306108800,4306986403,4309226616,4310034710,4312347732,4315854966,4317096628,4317324133,4319062040,4321199236,4322775829,4323198342,4323742617,4328548477,4328588749,4331069400,4332550518,4333312598,4333808041,4335572636,4335858434,4337799195,4339096239,4339111820,4344524503,4345856886,4348106568,4348901195,4349926606,4352555891,4352596295,4352679197,4354540579,4354864246,4355212819,4355776611,4356552064,4360674746,4361561414,4362447321,4363560965,4364551165,4364767229,4365711086,4367246925,4368033822,4368585217,4369938652,4370325279,4370931423,4371452142,4372242243,4373338897,4374537648,4374726163,4375005493,4376928581,4377647545,4378312091,4378660048,4381977333,4383407202,4386462841,4386567086,4387511758,4387688165,4389531784,4390219267,4392970432,4394191146,4395933809,4396895356,4398785923,4401720961,4401904001,4405219716,4405630735,4407785985,4407796076,4409967957,4410998518,4411249912,4414605298,4414762348,4415240594,4415982394,4416248743,4418287452,4419076544,4419161765,4419624728,4420826703,4421124944,4423389881,4424384292,4425285475,4425442706,4426966493,4429621234,4429628423,4430053297,4430864922,4433044714,4433849217,4435276489,4436144819,4436694580,4439667991,4444228573,4444641352,4445606916,4446299025,4451011218,4452090773,4452503521,4453664856,4456050496,4458218507,4459558995,4460394088,4461750360,4465591987,4465596188,4469711632,4471835006,4473005499,4473405985,4473791013,4474461579,4474854416,4475387183,4477112901,4480456742,4480871095,4481374514,4481573683,4482059165,4482425234,4484893134,4487026266,4489186248,4490031511,4493592490,4494268948,4495333300,4496530005,4497003717,4498046485,4499078198,4499079450,4499635964,4502932064,4506301486,4506678581,4507569034,4507691895,4509309220,4509479900,4509560375,4509987976,4510694844,4512379173,4516411055,4522312918,4523063490,4524699927,4526613276,4527137930,4527243185,4530819743,4530993536,4531717685,4531732333,4534471126,4535622185,4538916734,4538998799,4543407507,4544322870,4544655328,4546243015,4546546332,4547030467,4553611344,4554445412,4558168151,4560801796,4561746814,4562806127,4567728503,4568891626,4570798117,4571659884,4572341074,4573073242,4575031126,4576152716,4576480510,4577445791,4580749497,4581559353,4581737959,4582338937,4585805405,4588263213,4590265033,4590779061,4590840069,4591151338,4591551707,4595862211,4596037865,4596065922,4596419765,4596609645,4597344904,4597717326,4601075426,4601837759,4604181296,4605104041,4605234705,4605466183,4606853717,4610489392,4610863948,4611206655,4611809772,4613109980,4614170505,4614659386,4617467202,4619981841,4620208941,4621432644,4621721660,4622741975,4622775727,4623535755,4624856681,4625417833,4626168352,4626464577,4629776556,4631512539,4632179471,4636280731,4637446683,4638430637,4638746671,4639597637,4641573890,4643903053,4644836861,4647253038,4648167961,4651227029,4651683955,4652451929,4654259444,4655628864,4655730662,4656675123,4658221229,4658927838,4658938285,4661693729,4661842060,4663170145,4664740044,4667788689,4667847385,4669661257,4669860506,4671134041,4674942761,4676085949,4676455249,4677246411,4677861623,4682063083,4682075796,4682430428,4682444427,4682706242,4683321693,4684329335,4685081016,4685307221,4686915370,4689781016,4692033866,4692201230,4692353706,4693944514,4697435045,4700845732,4704929031,4706030716,4706077499,4707228129,4707296550,4707846624,4709163213,4710671148,4711218511,4714293937,4714741937,4715643215,4716195313,4716313355,4718054543,4718242897,4723133061,4723800136,4725527324,4726458610,4729116312,4729767723,4730821328,4733390648,4737493347,4738239969,4738569749,4739653972,4743118018,4743541810,4744120956,4746002023,4746493495,4750069035,4751716947,4754143182,4755112015,4757232410,4758421140,4759333388,4760317530,4764683893,4766044608,4769473672,4770409737,4770897222,4771767173,4771839885,4773283826,4775227909,4775431988,4778167208,4778453785,4779098055,4779494254,4780024963,4780451210,4781725177,4784644048,4785409566,4788196478,4792966026,4793666919,4797249662,4797632930,4797821841,4798295087,4806241805,4807459922,4808511537,4809708876,4812355629,4812692910,4813851869,4814202142,4816024621,4818039852,4818760082,4818817622,4819584339,4820185403,4821159116,4821787349,4824326644,4825366301,4826008582,4827230143,4828074573,4831718508,4832477319,4833170938,4833796990,4834862979,4834988814,4835418063,4840349215,4843145551,4843255478,4845670775,4848091459,4852853142,4853408224,4853664564,4854051119,4854759962,4855866036,4856300504,4856954433,4858344421,4859282412,4859455438,4859674497,4860094979,4869468058,4869557815,4870378479,4871663654,4872782005,4872920109,4874763435,4875484139,4875783686,4879564068,4881263218,4881460696,4881663943,4884412998,4885071754,4885504921,4886068496,4886245584,4888176583,4889978781,4893489985,4895121963,4897813560,4898276219,4899562159,4901367228,4904107914,4905618136,4905999479,4908076485,4908464027,4908479091,4908777390,4909167880,4910321694,4910953344,4911008056,4911807375,4912250925,4912881602,4913701123,4915194001,4915245781,4915255439,4915488194,4917620858,4919041379,4921096287,4925211699,4925580116,4927344169,4928171322,4931552646,4932505586,4935893756,4937536340,4937713482,4938652233,4940720993,4940863393,4941140760,4942934901,4943484276,4943769634,4945253733,4946008159,4946682280,4947057073,4947134386,4947247094,4947353399,4949746454,4951984072,4953154922,4953501367,4954138572,4954359893,4954607019,4954769594,4954985014,4955711613,4956026020,4958590499,4960625720,4961531876,4963913041,4965333019,4967865208,4967884257,4970797577,4970887268,4971710225,4971951914,4973911294,4975206764,4978281944,4979764046,4982037041,4982080293,4984480880,4986076169,4987011444,4988690933,4989731900,4990335216,4991146482,4992442147,4993243064,4993297258,4993462744,4996987442,4997094269,4999528474,5000529929,5003994670,5005973612,5007677961,5009112825,5009197383,5010774731,5011093107,5014853689,5016477710,5016486359,5016572043,5017284005,5017595852,5018773064,5021193586,5023404743,5024747296,5025577967,5025632897,5027477231,5027920308,5030039860,5031000911,5031373379,5031507967,5032603296,5033516914,5034062717,5036473982,5037335286,5039198092,5040866240,5042085779,5043895401,5044060555,5044764754,5045047864,5047142502,5047205380,5047286572,5053244473,5053748768,5054391995,5054783482,5055183987,5055894231,5057972551,5058916137,5063391386,5063828599,5063978355,5065698716,5067990852,5068323567,5073070579,5079027348,5080161007,5080325041,5082436769,5084201586,5085129317,5085211012,5085567933,5086323903,5087023685,5090295894,5090479409,5095276335,5096711530,5097263705,5097684787,5099518325,5100406426,5104524190,5105583435,5106136340,5107953684,5110498349,5111187537,5111938964,5114208138,5115743213,5116981272,5117166927,5118785477,5119401860,5120548091,5124179623,5124411649,5127324303,5129708906,5131667685,5133271439,5134919048,5135287371,5135958475,5138208018,5138548962,5139483804,5139776398,5142361491,5146560352,5146783538,5147036875,5147073234,5149899349,5152015423,5153059874,5153237413,5153433930,5154016142,5154324185,5154463541,5154533480,5154712615,5155524762,5157452062,5157668825,5160703113,5161545492,5162201246,5163167874,5166487247,5167444866,5167722376,5168397202,5169518782,5169951512,5170735550,5171502115,5173098566,5175623174,5175909989,5176756468,5178648887,5178743194,5181857055,5183534635,5184044199,5185059616,5187166619,5189471304,5192949232,5193169296,5193478889,5195378598,5196673540,5198147305,5199852977,5200067407,5200187307,5202441846,5202788252,5203076842,5204707439,5205576693,5206591715,5206665521,5207376750,5208894462,5212210306,5212658365,5212779041,5214618687,5215789667,5216204048,5217180471,5218039489,5221231190,5223508706,5224395572,5224590902,5226281688,5227763140,5228306886,5229597344,5229895915,5230316426,5232522386,5233228333,5233449979,5238776955,5241583810,5242109462,5243960761,5245294233,5246376165,5246695272,5251420726,5252456943,5259963854,5261489968,5265886486,5267300379,5269336606,5270082148,5270768781,5272613760,5272771336,5273136671,5273141204,5274804319,5275825716,5276412713,5276862350,5277241644,5277488252,5279042349,5282192868,5290049173,5290144972,5291006844,5292939423,5293887542,5294626614,5296817853,5299087393,5300196133,5301391154,5301774466,5303239979,5303961090,5304099667,5306888427,5307257120,5310170028,5313148453,5314193872,5315815767,5317216798,5317267704,5318188951,5320478505,5320959815,5321766247,5322937570,5323754995,5325772796,5327402767,5330407599,5331564130,5331642863,5334726307,5335039856,5335382806,5339613613,5339697250,5340612351,5341322312,5341835517,5341905737,5342829619,5343027781,5346409227,5347145202,5347754353,5347997725,5352440922,5353291785,5355979052,5356239202,5357491956,5358975214,5361231930,5361597905,5362503716,5362772132,5363224592,5364346516,5364693592,5364777357,5365062135,5369848529,5369952164,5370020852,5370182401,5370567294,5370748866,5371225525,5372745821,5374715535,5375692686,5377078073,5379837842,5380480333,5381497249,5382534133,5383375668,5385182093,5385586368,5385914292,5386953359,5387432278,5388333370,5389937215,5390588346,5394665416,5396479695,5396897182,5397138815,5400971583,5401578011,5402641078,5403242865,5403483651,5403568918,5403640175,5403965157,5404135769,5405037008,5405554302,5406097383,5406984603,5408773716,5408834218,5409631205,5409671951,5410194757,5413457100,5413686750,5413973038,5415581414,5417253398,5417361183,5418243329,5418298565,5421505417,5422761402,5423244241,5423548217,5425564944,5425772619,5425859487,5427389229,5427966261,5428010720,5428164388,5433137366,5434709280,5436992828,5437582895,5439195876,5439257054,5440287694,5440877532,5440914683,5441239355,5442269697,5444359736,5445971980,5447126905,5447484505,5447895920,5449621099,5449703402,5451178242,5451493405,5451554368,5453489742,5455074557,5455100830,5456291679,5457275408,5458077208,5459144049,5460013586,5461162846,5462041801,5463058900,5463991492,5467311681,5467754324,5470532817,5470854000,5471234967,5471400500,5475836334,5476211967,5477484882,5479423817,5482718746,5483361785,5483978200,5484246757,5484670534,5485416143,5489815741,5489972389,5494351979,5499077413,5499667606,5502152972,5504867181,5507496039,5508051970,5510179991,5513318578,5513826948,5513941147,5517537099,5517957700,5518736216,5519340148,5520560277,5523668032,5525905631,5529545869,5531009966,5531288738,5531553155,5532308435,5533059149,5535437188,5536472450,5538228452,5538278293,5538366331,5540023889,5541980980,5542689826,5542720364,5543091323,5544020709,5544595318,5545153979,5547372815,5548509355,5550534388,5551800658,5555838237,5558471729,5559866918,5561796926,5562153594,5562215006,5564436455,5566467426,5566674406,5568182502,5569790714,5570080710,5570670541,5573978043,5574331217,5575109051,5575238378,5577443411,5579092237,5580182470,5580439313,5580618131,5580738204,5582819256,5583988882,5584016282,5585242529,5586299590,5587503967,5588538170,5590279794,5591785718,5591849611,5593028203,5593096366,5593449638,5594007866,5594818728,5596290358,5596385436,5598007250,5598366413,5601732774,5603512274,5606924601,5607164218,5607546840,5611449058,5614251437,5615270704,5615331903,5616018879,5617077301,5619682843,5619971923,5620881157,5621545712,5622539417,5626431514,5626936258,5627416028,5631736179,5632313575,5634170729,5634519132,5635685753,5636223113,5637457745,5640320949,5640581601,5641182616,5641519159,5643672345,5648066325,5648698449,5650966096,5652666123,5653533469,5656091151,5656467584,5658867329,5659148497,5664940103,5666315839,5667057152,5667724612,5670542069,5672478016,5672806118,5674342106,5674628598,5676104105,5677847688,5681678350,5685637288,5685703593,5685712527,5686467663,5687490962,5690658240,5690863794,5691512561,5692097696,5692295785,5693985632,5696631575,5696740905,5697245104,5699540824,5701047326,5701321540,5702044213,5703851983,5706411478,5708756837,5708872893,5710081467,5713758148,5715258202,5715768489,5719111153,5720029371,5720762549,5721916566,5724015482,5724872895,5729039253,5729862332,5730517454,5730727851,5731774077,5731899252,5732717531,5733917520,5734233965,5735540490,5736026869,5738922113,5740841284,5742388267,5747511747,5748576246,5749828442,5751020598,5751895828,5752258333,5755065824,5758435336,5759732320,5760357668,5760944008,5761871097,5762596531,5763178244,5766630954,5766730673,5768243949,5768572987,5769540242,5770383534,5771359804,5772463958,5773200261,5773973963,5776315140,5776594319,5777009852,5778547333,5778810523,5779197037,5780624782,5782931717,5783625437,5783727173,5786109680,5786693205,5788247208,5793335602,5794984589,5795453812,5796240735,5803630501,5803961137,5804863216,5806440222,5807249178,5807568851,5807575104,5809891755,5811663867,5812014200,5814397285,5816562201,5821474658,5822790684,5823832940,5823881444,5824691068,5824965353,5826195180,5828586171,5829834176,5830801726,5830852068,5831652710,5832050147,5834013736,5834048834,5834423629,5834584709,5835304551,5835968680,5837590788,5839772621,5840898814,5841499701,5843243686,5843413264,5843547400,5847844000,5848788919,5851198740,5851311155,5852178989,5858053228,5858730732,5859655062,5862321338,5862466488,5862725347,5864647309,5865320793,5866404731,5868406850,5871389581,5872810440,5873798609,5874276320,5875998838,5876723793,5876945276,5878676386,5879260689,5879884188,5880194250,5881400706,5882751271,5882947485,5883463476,5883873231,5885936177,5888143953,5888622318,5890628274,5891343522,5891670658,5894266023,5895356028,5897070149,5897177757,5898299321,5901943967,5902728687,5905149904,5906536406,5906911279,5907485507,5908634612,5908810613,5911752738,5912216509,5914156557,5914216110,5914532437,5915155740,5916389506,5916462985,5916846481,5918561849,5920395279,5921170787,5924516708,5924575028,5924881569,5927173289,5929523112,5929709161,5929787677,5930924638,5931006675,5933276103,5934336477,5934758164,5937002801,5937154186,5937210483,5937496433,5938614350,5939151925,5942636468,5942882031,5943425327,5945688972,5948276632,5948802700,5949351338,5949619250,5950044519,5950698585,5950758671,5952354946,5953281341,5953880987,5953890481,5954046281,5954461686,5957712718,5959048901,5959669831,5959967607,5965686096,5965782183,5966493316,5968013640,5968380453,5970248633,5971011586,5971482398,5974590623,5975391632,5975883303,5977466395,5979395968,5979407653,5979587084,5980604985,5984811427,5985343454,5989567890,5990555697,5992929438,5994418857,5995948038,5996371504,6000263533,6001431409,6001561628,6001893064,6002256595,6004190840,6004980802,6006271775,6008009818,6008028300,6011629768,6013944673,6014691658,6016246771,6016473892,6016992340,6019144074,6021072119,6023647375,6026230238,6027643776,6027678344,6029065418,6030421013,6030628457,6031581505,6034686275,6035934812,6038651250,6038761323,6038804064,6039950972,6040399931,6041707431,6042042428,6042211738,6042956483,6043248647,6043277279,6045334233,6047061304,6047857497,6049527934,6050263501,6050927380,6052112167,6052607459,6052896581,6052933282,6053768624,6056810153,6057376867,6057587110,6058359030,6058708290,6060013953,6063299497,6064177379,6064426848,6065822477,6067968052,6069015273,6070409962,6071656871,6073311055,6074734722,6075318206,6075624889,6075703320,6076013907,6078751342,6078844231,6078886360,6079666770,6080489400,6081221536,6084179904,6084304616,6086776330,6087325399,6089681489,6093797384,6098642992,6099945108,6101978178,6102242500,6102845005,6103779219,6103851846,6104264269,6104662351,6104824042,6104877090,6106783774,6106869750,6108970413,6109923771,6112599503,6113460690,6114099716,6114470999,6116081811,6116232277,6120239199,6120580636,6124002087,6127359634,6129665683,6131336784,6131400863,6133607000,6137093344,6137597224,6138117147,6139126408,6139438529,6142181269,6143270526,6144738025,6144791734,6145796047,6146195799,6146282084,6146695340,6146799075,6146913660,6147081108,6149350467,6149726996,6151687779,6151964606,6152223602,6152532235,6153496681,6156307260,6157702037,6157894111,6158898054,6159772656,6160300261,6161084512,6162593013,6167219281,6167533542,6168888541,6169611791,6172156117,6172549638,6173870842,6174197949,6175259577,6175432303,6175482525,6177826828,6181384953,6181894047,6182040577,6182785599,6182844692,6184230317,6184561729,6184844784,6185067689,6185520943,6185892823,6186530874,6188615028,6190704049,6190983700,6193727841,6193755276,6194874423,6198769562,6202611223,6203828143,6204173555,6205169551,6205841673,6205955340,6206183790,6206322200,6207235196,6208245083,6208386624,6209643210,6210176056,6211613470,6211763310,6211805352,6211902985,6215992784,6218861623,6227241873,6227518526,6229877008,6231807957,6231908262,6233352098,6234384004,6235547105,6238673355,6239313639,6239886634,6241680882,6242296794,6242909401,6243703001,6244913089,6247308811,6248112923,6249538017,6249719297,6250651797,6252095597,6254507303,6257110788,6259416454,6264436787,6265569646,6266360263,6266867623,6266870535,6267378579,6268389830,6269886083,6272049521,6272804572,6273513058,6273697394,6276438383,6281530258,6291411544,6292342798,6292552319,6293097734,6293513581,6294003438,6296125100,6297222861,6301038665,6301586342,6302537713,6303129642,6303969872,6311204587,6311635823,6312693496,6314131796,6314157444,6314935441,6315065408,6315922215,6320836540,6321484398,6321520053,6321865115,6322767353,6322917921,6323457475,6324841313,6325432342,6325964162,6328645849,6329817531,6329912947,6331683956,6332566377,6333432217,6334449348,6335405612,6336874945,6339323177,6339645033,6340264147,6340760061,6342064869,6342192899,6343038292,6346022350,6346251620,6347684691,6348932022,6350931154,6353416200,6353607761,6353758451,6354227738,6357447984,6359321897,6363291678,6365279752,6366598463,6368612399,6368923515,6369291627,6369378335,6370521492,6373314979,6374007284,6380113731,6380245178,6380285974,6380434311,6380626809,6382215931,6383814802,6384797283,6385093167,6386166156,6388126868,6391295795,6393136475,6393255268,6394558551,6395370880,6396101033,6397501503,6397798527,6398272354,6400286892,6404617033,6404902424,6405633403,6406299601,6406791707,6407875650,6408502165,6408698828,6409015120,6411374866,6412468363,6413139723,6415549729,6418308737,6418511441,6418698124,6418932023,6419578104,6420830392,6420984333,6421257222,6422331964,6422473992,6422694428,6423069724,6423589786,6424341371,6424769963,6426205577,6428587880,6429031412,6430349735,6431357456,6431484164,6432495485,6432897813,6433232020,6433289969,6433821257,6434345148,6434842159,6438073967,6438861040,6442393145,6443896024,6445039516,6445942392,6446161554,6446391563,6449951909,6450381813,6450768890,6452661445,6453708853,6456549783,6456774027,6460450796,6460627506,6462110958,6463028437,6463269051,6465058295,6465667536,6468995388,6470761349,6471954819,6472884362,6474181446,6476220981,6476904037,6479962208,6480434739,6481476274,6484758345,6485509657,6486055356,6486105039,6492243302,6493991136,6495429661,6495513958,6496247521,6496780116,6498967089,6500921039,6501060142,6501157708,6501390974,6502216396,6502333956,6504233975,6504260289,6505065321,6505073936,6505260734,6512113072,6512419860,6515155212,6515743381,6517985480,6519310061,6520083740,6521379420,6521692854,6524054044,6524227876,6524453525,6527371810,6529059505,6529747014,6530694104,6531644884,6531690304,6531736229,6535228110,6536766375,6538828603,6539510877,6539938485,6540577241,6540917016,6542029045,6543255292,6543366233,6543371702,6544201089,6544536383,6546031085,6546870499,6546981883,6547043063,6547422856,6548913137,6549383841,6552001545,6552074738,6553298425,6554028515,6555865033,6555999785,6558569852,6561310783,6561783573,6565448827,6565793817,6566159384,6567650074,6567846656,6568879601,6571515078,6572732555,6574569646,6575815976,6576529686,6577947894,6580583830,6581340838,6582949033,6583905680,6584005538,6585169000,6586392610,6586603651,6590688439,6591124535,6593978614,6594351483,6595781148,6598185485,6600249491,6600708313,6605004438,6605484408,6605959260,6605971417,6606749921,6607074564,6617510083,6618748647,6619030744,6619789630,6620741732,6620829586,6623006333,6623876934,6625814755,6626020006,6626944478,6627351218,6628624555,6631881964,6632395757,6633716947,6634664569,6635261498,6635848076,6636990126,6637686909,6638512176,6638540153,6639733742,6641494778,6642146926,6643562617,6644492798,6651112346,6651786312,6652925666,6653334419,6654600186,6654612638,6654851998,6654871637,6658165981,6659324296,6659424566,6660066018,6660093468,6661610317,6662015632,6664866404,6665254221,6665906072,6661273529,6661273532,6661273532,6661273533,6661273532,6661273533],\"type\":\"pie\"}],                        {\"template\":{\"data\":{\"bar\":[{\"error_x\":{\"color\":\"#2a3f5f\"},\"error_y\":{\"color\":\"#2a3f5f\"},\"marker\":{\"line\":{\"color\":\"#E5ECF6\",\"width\":0.5},\"pattern\":{\"fillmode\":\"overlay\",\"size\":10,\"solidity\":0.2}},\"type\":\"bar\"}],\"barpolar\":[{\"marker\":{\"line\":{\"color\":\"#E5ECF6\",\"width\":0.5},\"pattern\":{\"fillmode\":\"overlay\",\"size\":10,\"solidity\":0.2}},\"type\":\"barpolar\"}],\"carpet\":[{\"aaxis\":{\"endlinecolor\":\"#2a3f5f\",\"gridcolor\":\"white\",\"linecolor\":\"white\",\"minorgridcolor\":\"white\",\"startlinecolor\":\"#2a3f5f\"},\"baxis\":{\"endlinecolor\":\"#2a3f5f\",\"gridcolor\":\"white\",\"linecolor\":\"white\",\"minorgridcolor\":\"white\",\"startlinecolor\":\"#2a3f5f\"},\"type\":\"carpet\"}],\"choropleth\":[{\"colorbar\":{\"outlinewidth\":0,\"ticks\":\"\"},\"type\":\"choropleth\"}],\"contour\":[{\"colorbar\":{\"outlinewidth\":0,\"ticks\":\"\"},\"colorscale\":[[0.0,\"#0d0887\"],[0.1111111111111111,\"#46039f\"],[0.2222222222222222,\"#7201a8\"],[0.3333333333333333,\"#9c179e\"],[0.4444444444444444,\"#bd3786\"],[0.5555555555555556,\"#d8576b\"],[0.6666666666666666,\"#ed7953\"],[0.7777777777777778,\"#fb9f3a\"],[0.8888888888888888,\"#fdca26\"],[1.0,\"#f0f921\"]],\"type\":\"contour\"}],\"contourcarpet\":[{\"colorbar\":{\"outlinewidth\":0,\"ticks\":\"\"},\"type\":\"contourcarpet\"}],\"heatmap\":[{\"colorbar\":{\"outlinewidth\":0,\"ticks\":\"\"},\"colorscale\":[[0.0,\"#0d0887\"],[0.1111111111111111,\"#46039f\"],[0.2222222222222222,\"#7201a8\"],[0.3333333333333333,\"#9c179e\"],[0.4444444444444444,\"#bd3786\"],[0.5555555555555556,\"#d8576b\"],[0.6666666666666666,\"#ed7953\"],[0.7777777777777778,\"#fb9f3a\"],[0.8888888888888888,\"#fdca26\"],[1.0,\"#f0f921\"]],\"type\":\"heatmap\"}],\"heatmapgl\":[{\"colorbar\":{\"outlinewidth\":0,\"ticks\":\"\"},\"colorscale\":[[0.0,\"#0d0887\"],[0.1111111111111111,\"#46039f\"],[0.2222222222222222,\"#7201a8\"],[0.3333333333333333,\"#9c179e\"],[0.4444444444444444,\"#bd3786\"],[0.5555555555555556,\"#d8576b\"],[0.6666666666666666,\"#ed7953\"],[0.7777777777777778,\"#fb9f3a\"],[0.8888888888888888,\"#fdca26\"],[1.0,\"#f0f921\"]],\"type\":\"heatmapgl\"}],\"histogram\":[{\"marker\":{\"pattern\":{\"fillmode\":\"overlay\",\"size\":10,\"solidity\":0.2}},\"type\":\"histogram\"}],\"histogram2d\":[{\"colorbar\":{\"outlinewidth\":0,\"ticks\":\"\"},\"colorscale\":[[0.0,\"#0d0887\"],[0.1111111111111111,\"#46039f\"],[0.2222222222222222,\"#7201a8\"],[0.3333333333333333,\"#9c179e\"],[0.4444444444444444,\"#bd3786\"],[0.5555555555555556,\"#d8576b\"],[0.6666666666666666,\"#ed7953\"],[0.7777777777777778,\"#fb9f3a\"],[0.8888888888888888,\"#fdca26\"],[1.0,\"#f0f921\"]],\"type\":\"histogram2d\"}],\"histogram2dcontour\":[{\"colorbar\":{\"outlinewidth\":0,\"ticks\":\"\"},\"colorscale\":[[0.0,\"#0d0887\"],[0.1111111111111111,\"#46039f\"],[0.2222222222222222,\"#7201a8\"],[0.3333333333333333,\"#9c179e\"],[0.4444444444444444,\"#bd3786\"],[0.5555555555555556,\"#d8576b\"],[0.6666666666666666,\"#ed7953\"],[0.7777777777777778,\"#fb9f3a\"],[0.8888888888888888,\"#fdca26\"],[1.0,\"#f0f921\"]],\"type\":\"histogram2dcontour\"}],\"mesh3d\":[{\"colorbar\":{\"outlinewidth\":0,\"ticks\":\"\"},\"type\":\"mesh3d\"}],\"parcoords\":[{\"line\":{\"colorbar\":{\"outlinewidth\":0,\"ticks\":\"\"}},\"type\":\"parcoords\"}],\"pie\":[{\"automargin\":true,\"type\":\"pie\"}],\"scatter\":[{\"marker\":{\"colorbar\":{\"outlinewidth\":0,\"ticks\":\"\"}},\"type\":\"scatter\"}],\"scatter3d\":[{\"line\":{\"colorbar\":{\"outlinewidth\":0,\"ticks\":\"\"}},\"marker\":{\"colorbar\":{\"outlinewidth\":0,\"ticks\":\"\"}},\"type\":\"scatter3d\"}],\"scattercarpet\":[{\"marker\":{\"colorbar\":{\"outlinewidth\":0,\"ticks\":\"\"}},\"type\":\"scattercarpet\"}],\"scattergeo\":[{\"marker\":{\"colorbar\":{\"outlinewidth\":0,\"ticks\":\"\"}},\"type\":\"scattergeo\"}],\"scattergl\":[{\"marker\":{\"colorbar\":{\"outlinewidth\":0,\"ticks\":\"\"}},\"type\":\"scattergl\"}],\"scattermapbox\":[{\"marker\":{\"colorbar\":{\"outlinewidth\":0,\"ticks\":\"\"}},\"type\":\"scattermapbox\"}],\"scatterpolar\":[{\"marker\":{\"colorbar\":{\"outlinewidth\":0,\"ticks\":\"\"}},\"type\":\"scatterpolar\"}],\"scatterpolargl\":[{\"marker\":{\"colorbar\":{\"outlinewidth\":0,\"ticks\":\"\"}},\"type\":\"scatterpolargl\"}],\"scatterternary\":[{\"marker\":{\"colorbar\":{\"outlinewidth\":0,\"ticks\":\"\"}},\"type\":\"scatterternary\"}],\"surface\":[{\"colorbar\":{\"outlinewidth\":0,\"ticks\":\"\"},\"colorscale\":[[0.0,\"#0d0887\"],[0.1111111111111111,\"#46039f\"],[0.2222222222222222,\"#7201a8\"],[0.3333333333333333,\"#9c179e\"],[0.4444444444444444,\"#bd3786\"],[0.5555555555555556,\"#d8576b\"],[0.6666666666666666,\"#ed7953\"],[0.7777777777777778,\"#fb9f3a\"],[0.8888888888888888,\"#fdca26\"],[1.0,\"#f0f921\"]],\"type\":\"surface\"}],\"table\":[{\"cells\":{\"fill\":{\"color\":\"#EBF0F8\"},\"line\":{\"color\":\"white\"}},\"header\":{\"fill\":{\"color\":\"#C8D4E3\"},\"line\":{\"color\":\"white\"}},\"type\":\"table\"}]},\"layout\":{\"annotationdefaults\":{\"arrowcolor\":\"#2a3f5f\",\"arrowhead\":0,\"arrowwidth\":1},\"autotypenumbers\":\"strict\",\"coloraxis\":{\"colorbar\":{\"outlinewidth\":0,\"ticks\":\"\"}},\"colorscale\":{\"diverging\":[[0,\"#8e0152\"],[0.1,\"#c51b7d\"],[0.2,\"#de77ae\"],[0.3,\"#f1b6da\"],[0.4,\"#fde0ef\"],[0.5,\"#f7f7f7\"],[0.6,\"#e6f5d0\"],[0.7,\"#b8e186\"],[0.8,\"#7fbc41\"],[0.9,\"#4d9221\"],[1,\"#276419\"]],\"sequential\":[[0.0,\"#0d0887\"],[0.1111111111111111,\"#46039f\"],[0.2222222222222222,\"#7201a8\"],[0.3333333333333333,\"#9c179e\"],[0.4444444444444444,\"#bd3786\"],[0.5555555555555556,\"#d8576b\"],[0.6666666666666666,\"#ed7953\"],[0.7777777777777778,\"#fb9f3a\"],[0.8888888888888888,\"#fdca26\"],[1.0,\"#f0f921\"]],\"sequentialminus\":[[0.0,\"#0d0887\"],[0.1111111111111111,\"#46039f\"],[0.2222222222222222,\"#7201a8\"],[0.3333333333333333,\"#9c179e\"],[0.4444444444444444,\"#bd3786\"],[0.5555555555555556,\"#d8576b\"],[0.6666666666666666,\"#ed7953\"],[0.7777777777777778,\"#fb9f3a\"],[0.8888888888888888,\"#fdca26\"],[1.0,\"#f0f921\"]]},\"colorway\":[\"#636efa\",\"#EF553B\",\"#00cc96\",\"#ab63fa\",\"#FFA15A\",\"#19d3f3\",\"#FF6692\",\"#B6E880\",\"#FF97FF\",\"#FECB52\"],\"font\":{\"color\":\"#2a3f5f\"},\"geo\":{\"bgcolor\":\"white\",\"lakecolor\":\"white\",\"landcolor\":\"#E5ECF6\",\"showlakes\":true,\"showland\":true,\"subunitcolor\":\"white\"},\"hoverlabel\":{\"align\":\"left\"},\"hovermode\":\"closest\",\"mapbox\":{\"style\":\"light\"},\"paper_bgcolor\":\"white\",\"plot_bgcolor\":\"#E5ECF6\",\"polar\":{\"angularaxis\":{\"gridcolor\":\"white\",\"linecolor\":\"white\",\"ticks\":\"\"},\"bgcolor\":\"#E5ECF6\",\"radialaxis\":{\"gridcolor\":\"white\",\"linecolor\":\"white\",\"ticks\":\"\"}},\"scene\":{\"xaxis\":{\"backgroundcolor\":\"#E5ECF6\",\"gridcolor\":\"white\",\"gridwidth\":2,\"linecolor\":\"white\",\"showbackground\":true,\"ticks\":\"\",\"zerolinecolor\":\"white\"},\"yaxis\":{\"backgroundcolor\":\"#E5ECF6\",\"gridcolor\":\"white\",\"gridwidth\":2,\"linecolor\":\"white\",\"showbackground\":true,\"ticks\":\"\",\"zerolinecolor\":\"white\"},\"zaxis\":{\"backgroundcolor\":\"#E5ECF6\",\"gridcolor\":\"white\",\"gridwidth\":2,\"linecolor\":\"white\",\"showbackground\":true,\"ticks\":\"\",\"zerolinecolor\":\"white\"}},\"shapedefaults\":{\"line\":{\"color\":\"#2a3f5f\"}},\"ternary\":{\"aaxis\":{\"gridcolor\":\"white\",\"linecolor\":\"white\",\"ticks\":\"\"},\"baxis\":{\"gridcolor\":\"white\",\"linecolor\":\"white\",\"ticks\":\"\"},\"bgcolor\":\"#E5ECF6\",\"caxis\":{\"gridcolor\":\"white\",\"linecolor\":\"white\",\"ticks\":\"\"}},\"title\":{\"x\":0.05},\"xaxis\":{\"automargin\":true,\"gridcolor\":\"white\",\"linecolor\":\"white\",\"ticks\":\"\",\"title\":{\"standoff\":15},\"zerolinecolor\":\"white\",\"zerolinewidth\":2},\"yaxis\":{\"automargin\":true,\"gridcolor\":\"white\",\"linecolor\":\"white\",\"ticks\":\"\",\"title\":{\"standoff\":15},\"zerolinecolor\":\"white\",\"zerolinewidth\":2}}},\"legend\":{\"tracegroupgap\":0},\"title\":{\"text\":\"Foreing Transaction\"},\"height\":400,\"width\":400},                        {\"responsive\": true}                    ).then(function(){\n",
              "                            \n",
              "var gd = document.getElementById('7c7f1afe-99d6-4fd7-8ee3-2be5dd79fe98');\n",
              "var x = new MutationObserver(function (mutations, observer) {{\n",
              "        var display = window.getComputedStyle(gd).display;\n",
              "        if (!display || display === 'none') {{\n",
              "            console.log([gd, 'removed!']);\n",
              "            Plotly.purge(gd);\n",
              "            observer.disconnect();\n",
              "        }}\n",
              "}});\n",
              "\n",
              "// Listen for the removal of the full notebook cells\n",
              "var notebookContainer = gd.closest('#notebook-container');\n",
              "if (notebookContainer) {{\n",
              "    x.observe(notebookContainer, {childList: true});\n",
              "}}\n",
              "\n",
              "// Listen for the clearing of the current output cell\n",
              "var outputEl = gd.closest('.output');\n",
              "if (outputEl) {{\n",
              "    x.observe(outputEl, {childList: true});\n",
              "}}\n",
              "\n",
              "                        })                };                            </script>        </div>\n",
              "</body>\n",
              "</html>"
            ]
          },
          "metadata": {}
        },
        {
          "output_type": "display_data",
          "data": {
            "text/html": [
              "<html>\n",
              "<head><meta charset=\"utf-8\" /></head>\n",
              "<body>\n",
              "    <div>            <script src=\"https://cdnjs.cloudflare.com/ajax/libs/mathjax/2.7.5/MathJax.js?config=TeX-AMS-MML_SVG\"></script><script type=\"text/javascript\">if (window.MathJax) {MathJax.Hub.Config({SVG: {font: \"STIX-Web\"}});}</script>                <script type=\"text/javascript\">window.PlotlyConfig = {MathJaxConfig: 'local'};</script>\n",
              "        <script src=\"https://cdn.plot.ly/plotly-2.8.3.min.js\"></script>                <div id=\"1523ebb6-916f-494c-a3ad-9355cbccdacd\" class=\"plotly-graph-div\" style=\"height:400px; width:400px;\"></div>            <script type=\"text/javascript\">                                    window.PLOTLYENV=window.PLOTLYENV || {};                                    if (document.getElementById(\"1523ebb6-916f-494c-a3ad-9355cbccdacd\")) {                    Plotly.newPlot(                        \"1523ebb6-916f-494c-a3ad-9355cbccdacd\",                        [{\"domain\":{\"x\":[0.0,1.0],\"y\":[0.0,1.0]},\"hovertemplate\":\"isFradulent=%{label}<br>Merchant_id=%{value}<extra></extra>\",\"labels\":[\"Y\",\"Y\",\"Y\",\"Y\",\"Y\",\"Y\",\"Y\",\"Y\",\"Y\",\"Y\",\"Y\",\"Y\",\"Y\",\"Y\",\"Y\",\"Y\",\"Y\",\"Y\",\"Y\",\"Y\",\"Y\",\"Y\",\"Y\",\"Y\",\"Y\",\"Y\",\"Y\",\"Y\",\"Y\",\"Y\",\"Y\",\"Y\",\"Y\",\"Y\",\"Y\",\"Y\",\"Y\",\"Y\",\"Y\",\"Y\",\"Y\",\"Y\",\"Y\",\"Y\",\"Y\",\"Y\",\"Y\",\"Y\",\"Y\",\"Y\",\"Y\",\"Y\",\"Y\",\"Y\",\"Y\",\"Y\",\"Y\",\"Y\",\"Y\",\"Y\",\"Y\",\"Y\",\"Y\",\"Y\",\"Y\",\"Y\",\"Y\",\"Y\",\"Y\",\"Y\",\"Y\",\"Y\",\"Y\",\"Y\",\"Y\",\"Y\",\"Y\",\"Y\",\"Y\",\"Y\",\"Y\",\"Y\",\"Y\",\"Y\",\"Y\",\"Y\",\"Y\",\"Y\",\"Y\",\"Y\",\"Y\",\"Y\",\"Y\",\"Y\",\"Y\",\"Y\",\"Y\",\"Y\",\"Y\",\"Y\",\"Y\",\"Y\",\"Y\",\"Y\",\"Y\",\"Y\",\"Y\",\"Y\",\"Y\",\"Y\",\"Y\",\"Y\",\"Y\",\"Y\",\"Y\",\"Y\",\"Y\",\"Y\",\"Y\",\"Y\",\"Y\",\"Y\",\"Y\",\"Y\",\"Y\",\"Y\",\"Y\",\"Y\",\"Y\",\"Y\",\"Y\",\"Y\",\"Y\",\"Y\",\"Y\",\"Y\",\"Y\",\"Y\",\"Y\",\"Y\",\"Y\",\"Y\",\"Y\",\"Y\",\"Y\",\"Y\",\"Y\",\"Y\",\"Y\",\"Y\",\"Y\",\"Y\",\"Y\",\"Y\",\"Y\",\"Y\",\"Y\",\"Y\",\"Y\",\"Y\",\"Y\",\"Y\",\"Y\",\"Y\",\"Y\",\"Y\",\"Y\",\"Y\",\"Y\",\"Y\",\"Y\",\"Y\",\"Y\",\"Y\",\"Y\",\"Y\",\"Y\",\"Y\",\"Y\",\"Y\",\"Y\",\"Y\",\"Y\",\"Y\",\"Y\",\"Y\",\"Y\",\"Y\",\"Y\",\"Y\",\"Y\",\"Y\",\"Y\",\"Y\",\"Y\",\"Y\",\"Y\",\"Y\",\"Y\",\"Y\",\"Y\",\"Y\",\"Y\",\"Y\",\"Y\",\"Y\",\"Y\",\"Y\",\"Y\",\"Y\",\"Y\",\"Y\",\"Y\",\"Y\",\"Y\",\"Y\",\"Y\",\"Y\",\"Y\",\"Y\",\"Y\",\"Y\",\"Y\",\"Y\",\"Y\",\"Y\",\"Y\",\"Y\",\"Y\",\"Y\",\"Y\",\"Y\",\"Y\",\"Y\",\"Y\",\"Y\",\"Y\",\"Y\",\"Y\",\"Y\",\"Y\",\"Y\",\"Y\",\"Y\",\"Y\",\"Y\",\"Y\",\"Y\",\"Y\",\"Y\",\"Y\",\"Y\",\"Y\",\"Y\",\"Y\",\"Y\",\"Y\",\"Y\",\"Y\",\"Y\",\"Y\",\"Y\",\"Y\",\"Y\",\"Y\",\"Y\",\"Y\",\"Y\",\"Y\",\"Y\",\"Y\",\"Y\",\"Y\",\"Y\",\"Y\",\"Y\",\"Y\",\"Y\",\"Y\",\"Y\",\"Y\",\"Y\",\"Y\",\"Y\",\"Y\",\"Y\",\"Y\",\"Y\",\"Y\",\"Y\",\"Y\",\"Y\",\"Y\",\"Y\",\"Y\",\"Y\",\"Y\",\"Y\",\"Y\",\"Y\",\"Y\",\"Y\",\"Y\",\"Y\",\"Y\",\"Y\",\"Y\",\"Y\",\"Y\",\"Y\",\"Y\",\"Y\",\"Y\",\"Y\",\"Y\",\"Y\",\"Y\",\"Y\",\"Y\",\"Y\",\"Y\",\"Y\",\"Y\",\"Y\",\"Y\",\"Y\",\"Y\",\"Y\",\"Y\",\"Y\",\"Y\",\"Y\",\"Y\",\"Y\",\"Y\",\"Y\",\"Y\",\"Y\",\"Y\",\"Y\",\"Y\",\"Y\",\"Y\",\"Y\",\"Y\",\"Y\",\"Y\",\"Y\",\"Y\",\"Y\",\"Y\",\"Y\",\"Y\",\"Y\",\"Y\",\"Y\",\"Y\",\"Y\",\"Y\",\"Y\",\"Y\",\"Y\",\"Y\",\"Y\",\"Y\",\"Y\",\"Y\",\"Y\",\"Y\",\"Y\",\"Y\",\"Y\",\"Y\",\"Y\",\"Y\",\"Y\",\"Y\",\"Y\",\"Y\",\"Y\",\"Y\",\"Y\",\"Y\",\"Y\",\"Y\",\"Y\",\"Y\",\"Y\",\"Y\",\"Y\",\"Y\",\"Y\",\"Y\",\"Y\",\"Y\",\"Y\",\"Y\",\"Y\",\"Y\",\"Y\",\"Y\",\"Y\",\"Y\",\"Y\",\"Y\",\"Y\",\"Y\",\"Y\",\"Y\",\"Y\",\"Y\",\"Y\",\"Y\",\"Y\",\"Y\",\"Y\",\"Y\",\"Y\",\"Y\",\"Y\",\"Y\",\"Y\",\"Y\",\"Y\",\"Y\",\"Y\",\"Y\",\"Y\",\"Y\",\"Y\",\"Y\",\"Y\",\"Y\",\"Y\",\"Y\",\"Y\",\"Y\",\"Y\",\"Y\",\"Y\",\"Y\",\"Y\",\"Y\",\"Y\",\"Y\",\"Y\",\"Y\",\"Y\",\"N\",\"N\",\"N\",\"N\",\"N\",\"N\",\"N\",\"N\",\"N\",\"N\",\"N\",\"N\",\"N\",\"N\",\"N\",\"N\",\"N\",\"N\",\"N\",\"N\",\"N\",\"N\",\"N\",\"N\",\"N\",\"N\",\"N\",\"N\",\"N\",\"N\",\"N\",\"N\",\"N\",\"N\",\"N\",\"N\",\"N\",\"N\",\"N\",\"N\",\"N\",\"N\",\"N\",\"N\",\"N\",\"N\",\"N\",\"N\",\"N\",\"N\",\"N\",\"N\",\"N\",\"N\",\"N\",\"N\",\"N\",\"N\",\"N\",\"N\",\"N\",\"N\",\"N\",\"N\",\"N\",\"N\",\"N\",\"N\",\"N\",\"N\",\"N\",\"N\",\"N\",\"N\",\"N\",\"N\",\"N\",\"N\",\"N\",\"N\",\"N\",\"N\",\"N\",\"N\",\"N\",\"N\",\"N\",\"N\",\"N\",\"N\",\"N\",\"N\",\"N\",\"N\",\"N\",\"N\",\"N\",\"N\",\"N\",\"N\",\"N\",\"N\",\"N\",\"N\",\"N\",\"N\",\"N\",\"N\",\"N\",\"N\",\"N\",\"N\",\"N\",\"N\",\"N\",\"N\",\"N\",\"N\",\"N\",\"N\",\"N\",\"N\",\"N\",\"N\",\"N\",\"N\",\"N\",\"N\",\"N\",\"N\",\"N\",\"N\",\"N\",\"N\",\"N\",\"N\",\"N\",\"N\",\"N\",\"N\",\"N\",\"N\",\"N\",\"N\",\"N\",\"N\",\"N\",\"N\",\"N\",\"N\",\"N\",\"N\",\"N\",\"N\",\"N\",\"N\",\"N\",\"N\",\"N\",\"N\",\"N\",\"N\",\"N\",\"N\",\"N\",\"N\",\"N\",\"N\",\"N\",\"N\",\"N\",\"N\",\"N\",\"N\",\"N\",\"N\",\"N\",\"N\",\"N\",\"N\",\"N\",\"N\",\"N\",\"N\",\"N\",\"N\",\"N\",\"N\",\"N\",\"N\",\"N\",\"N\",\"N\",\"N\",\"N\",\"N\",\"N\",\"N\",\"N\",\"N\",\"N\",\"N\",\"N\",\"N\",\"N\",\"N\",\"N\",\"N\",\"N\",\"N\",\"N\",\"N\",\"N\",\"N\",\"N\",\"N\",\"N\",\"N\",\"N\",\"N\",\"N\",\"N\",\"N\",\"N\",\"N\",\"N\",\"N\",\"N\",\"N\",\"N\",\"N\",\"N\",\"N\",\"N\",\"N\",\"N\",\"N\",\"N\",\"N\",\"N\",\"N\",\"N\",\"N\",\"N\",\"N\",\"N\",\"N\",\"N\",\"N\",\"N\",\"N\",\"N\",\"N\",\"N\",\"N\",\"N\",\"N\",\"N\",\"N\",\"N\",\"N\",\"N\",\"N\",\"N\",\"N\",\"N\",\"N\",\"N\",\"N\",\"N\",\"N\",\"N\",\"N\",\"N\",\"N\",\"N\",\"N\",\"N\",\"N\",\"N\",\"N\",\"N\",\"N\",\"N\",\"N\",\"N\",\"N\",\"N\",\"N\",\"N\",\"N\",\"N\",\"N\",\"N\",\"N\",\"N\",\"N\",\"N\",\"N\",\"N\",\"N\",\"N\",\"N\",\"N\",\"N\",\"N\",\"N\",\"N\",\"N\",\"N\",\"N\",\"N\",\"N\",\"N\",\"N\",\"N\",\"N\",\"N\",\"N\",\"N\",\"N\",\"N\",\"N\",\"N\",\"N\",\"N\",\"N\",\"N\",\"N\",\"N\",\"N\",\"N\",\"N\",\"N\",\"N\",\"N\",\"N\",\"N\",\"N\",\"N\",\"N\",\"N\",\"N\",\"N\",\"N\",\"N\",\"N\",\"N\",\"N\",\"N\",\"N\",\"N\",\"N\",\"N\",\"N\",\"N\",\"N\",\"N\",\"N\",\"N\",\"N\",\"N\",\"N\",\"N\",\"N\",\"N\",\"N\",\"N\",\"N\",\"N\",\"N\",\"N\",\"N\",\"N\",\"N\",\"N\",\"N\",\"N\",\"N\",\"N\",\"N\",\"N\",\"N\",\"N\",\"N\",\"N\",\"N\",\"N\",\"N\",\"N\",\"N\",\"N\",\"N\",\"N\",\"N\",\"N\",\"N\",\"N\",\"N\",\"N\",\"N\",\"N\",\"N\",\"N\",\"N\",\"N\",\"N\",\"N\",\"N\",\"N\",\"N\",\"N\",\"N\",\"N\",\"N\",\"N\",\"N\",\"N\",\"N\",\"N\",\"N\",\"N\",\"N\",\"N\",\"N\",\"N\",\"N\",\"N\",\"N\",\"N\",\"N\",\"N\",\"N\",\"N\",\"N\",\"N\",\"N\",\"N\",\"N\",\"N\",\"N\",\"N\",\"N\",\"N\",\"N\",\"N\",\"N\",\"N\",\"N\",\"N\",\"N\",\"N\",\"N\",\"N\",\"N\",\"N\",\"N\",\"N\",\"N\",\"N\",\"N\",\"N\",\"N\",\"N\",\"N\",\"N\",\"N\",\"N\",\"N\",\"N\",\"N\",\"N\",\"N\",\"N\",\"N\",\"N\",\"N\",\"N\",\"N\",\"N\",\"N\",\"N\",\"N\",\"N\",\"N\",\"N\",\"N\",\"N\",\"N\",\"N\",\"N\",\"N\",\"N\",\"N\",\"N\",\"N\",\"N\",\"N\",\"N\",\"N\",\"N\",\"N\",\"N\",\"N\",\"N\",\"N\",\"N\",\"N\",\"N\",\"N\",\"N\",\"N\",\"N\",\"N\",\"N\",\"N\",\"N\",\"N\",\"N\",\"N\",\"N\",\"N\",\"N\",\"N\",\"N\",\"N\",\"N\",\"N\",\"N\",\"N\",\"N\",\"N\",\"N\",\"N\",\"N\",\"N\",\"N\",\"N\",\"N\",\"N\",\"N\",\"N\",\"N\",\"N\",\"N\",\"N\",\"N\",\"N\",\"N\",\"N\",\"N\",\"N\",\"N\",\"N\",\"N\",\"N\",\"N\",\"N\",\"N\",\"N\",\"N\",\"N\",\"N\",\"N\",\"N\",\"N\",\"N\",\"N\",\"N\",\"N\",\"N\",\"N\",\"N\",\"N\",\"N\",\"N\",\"N\",\"N\",\"N\",\"N\",\"N\",\"N\",\"N\",\"N\",\"N\",\"N\",\"N\",\"N\",\"N\",\"N\",\"N\",\"N\",\"N\",\"N\",\"N\",\"N\",\"N\",\"N\",\"N\",\"N\",\"N\",\"N\",\"N\",\"N\",\"N\",\"N\",\"N\",\"N\",\"N\",\"N\",\"N\",\"N\",\"N\",\"N\",\"N\",\"N\",\"N\",\"N\",\"N\",\"N\",\"N\",\"N\",\"N\",\"N\",\"N\",\"N\",\"N\",\"N\",\"N\",\"N\",\"N\",\"N\",\"N\",\"N\",\"N\",\"N\",\"N\",\"N\",\"N\",\"N\",\"N\",\"N\",\"N\",\"N\",\"N\",\"N\",\"N\",\"N\",\"N\",\"N\",\"N\",\"N\",\"N\",\"N\",\"N\",\"N\",\"N\",\"N\",\"N\",\"N\",\"N\",\"N\",\"N\",\"N\",\"N\",\"N\",\"N\",\"N\",\"N\",\"N\",\"N\",\"N\",\"N\",\"N\",\"N\",\"N\",\"N\",\"N\",\"N\",\"N\",\"N\",\"N\",\"N\",\"N\",\"N\",\"N\",\"N\",\"N\",\"N\",\"N\",\"N\",\"N\",\"N\",\"N\",\"N\",\"N\",\"N\",\"N\",\"N\",\"N\",\"N\",\"N\",\"N\",\"N\",\"N\",\"N\",\"N\",\"N\",\"N\",\"N\",\"N\",\"N\",\"N\",\"N\",\"N\",\"N\",\"N\",\"N\",\"N\",\"N\",\"N\",\"N\",\"N\",\"N\",\"N\",\"N\",\"N\",\"N\",\"N\",\"N\",\"N\",\"N\",\"N\",\"N\",\"N\",\"N\",\"N\",\"N\",\"N\",\"N\",\"N\",\"N\",\"N\",\"N\",\"N\",\"N\",\"N\",\"N\",\"N\",\"N\",\"N\",\"N\",\"N\",\"N\",\"N\",\"N\",\"N\",\"N\",\"N\",\"N\",\"N\",\"N\",\"N\",\"N\",\"N\",\"N\",\"N\",\"N\",\"N\",\"N\",\"N\",\"N\",\"N\",\"N\",\"N\",\"N\",\"N\",\"N\",\"N\",\"N\",\"N\",\"N\",\"N\",\"N\",\"N\",\"N\",\"N\",\"N\",\"N\",\"N\",\"N\",\"N\",\"N\",\"N\",\"N\",\"N\",\"N\",\"N\",\"N\",\"N\",\"N\",\"N\",\"N\",\"N\",\"N\",\"N\",\"N\",\"N\",\"N\",\"N\",\"N\",\"N\",\"N\",\"N\",\"N\",\"N\",\"N\",\"N\",\"N\",\"N\",\"N\",\"N\",\"N\",\"N\",\"N\",\"N\",\"N\",\"N\",\"N\",\"N\",\"N\",\"N\",\"N\",\"N\",\"N\",\"N\",\"N\",\"N\",\"N\",\"N\",\"N\",\"N\",\"N\",\"N\",\"N\",\"N\",\"N\",\"N\",\"N\",\"N\",\"N\",\"N\",\"N\",\"N\",\"N\",\"N\",\"N\",\"N\",\"N\",\"N\",\"N\",\"N\",\"N\",\"N\",\"N\",\"N\",\"N\",\"N\",\"N\",\"N\",\"N\",\"N\",\"N\",\"N\",\"N\",\"N\",\"N\",\"N\",\"N\",\"N\",\"N\",\"N\",\"N\",\"N\",\"N\",\"N\",\"N\",\"N\",\"N\",\"N\",\"N\",\"N\",\"N\",\"N\",\"N\",\"N\",\"N\",\"N\",\"N\",\"N\",\"N\",\"N\",\"N\",\"N\",\"N\",\"N\",\"N\",\"N\",\"N\",\"N\",\"N\",\"N\",\"N\",\"N\",\"N\",\"N\",\"N\",\"N\",\"N\",\"N\",\"N\",\"N\",\"N\",\"N\",\"N\",\"N\",\"N\",\"N\",\"N\",\"N\",\"N\",\"N\",\"N\",\"N\",\"N\",\"N\",\"N\",\"N\",\"N\",\"N\",\"N\",\"N\",\"N\",\"N\",\"N\",\"N\",\"N\",\"N\",\"N\",\"N\",\"N\",\"N\",\"N\",\"N\",\"N\",\"N\",\"N\",\"N\",\"N\",\"N\",\"N\",\"N\",\"N\",\"N\",\"N\",\"N\",\"N\",\"N\",\"N\",\"N\",\"N\",\"N\",\"N\",\"N\",\"N\",\"N\",\"N\",\"N\",\"N\",\"N\",\"N\",\"N\",\"N\",\"N\",\"N\",\"N\",\"N\",\"N\",\"N\",\"N\",\"N\",\"N\",\"N\",\"N\",\"N\",\"N\",\"N\",\"N\",\"N\",\"N\",\"N\",\"N\",\"N\",\"N\",\"N\",\"N\",\"N\",\"N\",\"N\",\"N\",\"N\",\"N\",\"N\",\"N\",\"N\",\"N\",\"N\",\"N\",\"N\",\"N\",\"N\",\"N\",\"N\",\"N\",\"N\",\"N\",\"N\",\"N\",\"N\",\"N\",\"N\",\"N\",\"N\",\"N\",\"N\",\"N\",\"N\",\"N\",\"N\",\"N\",\"N\",\"N\",\"N\",\"N\",\"N\",\"N\",\"N\",\"N\",\"N\",\"N\",\"N\",\"N\",\"N\",\"N\",\"N\",\"N\",\"N\",\"N\",\"N\",\"N\",\"N\",\"N\",\"N\",\"N\",\"N\",\"N\",\"N\",\"N\",\"N\",\"N\",\"N\",\"N\",\"N\",\"N\",\"N\",\"N\",\"N\",\"N\",\"N\",\"N\",\"N\",\"N\",\"N\",\"N\",\"N\",\"N\",\"N\",\"N\",\"N\",\"N\",\"N\",\"N\",\"N\",\"N\",\"N\",\"N\",\"N\",\"N\",\"N\",\"N\",\"N\",\"N\",\"N\",\"N\",\"N\",\"N\",\"N\",\"N\",\"N\",\"N\",\"N\",\"N\",\"N\",\"N\",\"N\",\"N\",\"N\",\"N\",\"N\",\"N\",\"N\",\"N\",\"N\",\"N\",\"N\",\"N\",\"N\",\"N\",\"N\",\"N\",\"N\",\"N\",\"N\",\"N\",\"N\",\"N\",\"N\",\"N\",\"N\",\"N\",\"N\",\"N\",\"N\",\"N\",\"N\",\"N\",\"N\",\"N\",\"N\",\"N\",\"N\",\"N\",\"N\",\"N\",\"N\",\"N\",\"N\",\"N\",\"N\",\"N\",\"N\",\"N\",\"N\",\"N\",\"N\",\"N\",\"N\",\"N\",\"N\",\"N\",\"N\",\"N\",\"N\",\"N\",\"N\",\"N\",\"N\",\"N\",\"N\",\"N\",\"N\",\"N\",\"N\",\"N\",\"N\",\"N\",\"N\",\"N\",\"N\",\"N\",\"N\",\"N\",\"N\",\"N\",\"N\",\"N\",\"N\",\"N\",\"N\",\"N\",\"N\",\"N\",\"N\",\"N\",\"N\",\"N\",\"N\",\"N\",\"N\",\"N\",\"N\",\"N\",\"N\",\"N\",\"N\",\"N\",\"N\",\"N\",\"N\",\"N\",\"N\",\"N\",\"N\",\"N\",\"N\",\"N\",\"N\",\"N\",\"N\",\"N\",\"N\",\"N\",\"N\",\"N\",\"N\",\"N\",\"N\",\"N\",\"N\",\"N\",\"N\",\"N\",\"N\",\"N\",\"N\",\"N\",\"N\",\"N\",\"N\",\"N\",\"N\",\"N\",\"N\",\"N\",\"N\",\"N\",\"N\",\"N\",\"N\",\"N\",\"N\",\"N\",\"N\",\"N\",\"N\",\"N\",\"N\",\"N\",\"N\",\"N\",\"N\",\"N\",\"N\",\"N\",\"N\",\"N\",\"N\",\"N\",\"N\",\"N\",\"N\",\"N\",\"N\",\"N\",\"N\",\"N\",\"N\",\"N\",\"N\",\"N\",\"N\",\"N\",\"N\",\"N\",\"N\",\"N\",\"N\",\"N\",\"N\",\"N\",\"N\",\"N\",\"N\",\"N\",\"N\",\"N\",\"N\",\"N\",\"N\",\"N\",\"N\",\"N\",\"N\",\"N\",\"N\",\"N\",\"N\",\"N\",\"N\",\"N\",\"N\",\"N\",\"N\",\"N\",\"N\",\"N\",\"N\",\"N\",\"N\",\"N\",\"N\",\"N\",\"N\",\"N\",\"N\",\"N\",\"N\",\"N\",\"N\",\"N\",\"N\",\"N\",\"N\",\"N\",\"N\",\"N\",\"N\",\"N\",\"N\",\"N\",\"N\",\"N\",\"N\",\"N\",\"N\",\"N\",\"N\",\"N\",\"N\",\"N\",\"N\",\"N\",\"N\",\"N\",\"N\",\"N\",\"N\",\"N\",\"N\",\"N\",\"N\",\"N\",\"N\",\"N\",\"N\",\"N\",\"N\",\"N\",\"N\",\"N\",\"N\",\"N\",\"N\",\"N\",\"N\",\"N\",\"N\",\"N\",\"N\",\"N\",\"N\",\"N\",\"N\",\"N\",\"N\",\"N\",\"N\",\"N\",\"N\",\"N\",\"N\",\"N\",\"N\",\"N\",\"N\",\"N\",\"N\",\"N\",\"N\",\"N\",\"N\",\"N\",\"N\",\"N\",\"N\",\"N\",\"N\",\"N\",\"N\",\"N\",\"N\",\"N\",\"N\",\"N\",\"N\",\"N\",\"N\",\"N\",\"N\",\"N\",\"N\",\"N\",\"N\",\"N\",\"N\",\"N\",\"N\",\"N\",\"N\",\"N\",\"N\",\"N\",\"N\",\"N\",\"N\",\"N\",\"N\",\"N\",\"N\",\"N\",\"N\",\"N\",\"N\",\"N\",\"N\",\"N\",\"N\",\"N\",\"N\",\"N\",\"N\",\"N\",\"N\",\"N\",\"N\",\"N\",\"N\",\"N\",\"N\",\"N\",\"N\",\"N\",\"N\",\"N\",\"N\",\"N\",\"N\",\"N\",\"N\",\"N\",\"N\",\"N\",\"N\",\"N\",\"N\",\"N\",\"N\",\"N\",\"N\",\"N\",\"N\",\"N\",\"N\",\"N\",\"N\",\"N\",\"N\",\"N\",\"N\",\"N\",\"N\",\"N\",\"N\",\"N\",\"N\",\"N\",\"N\",\"N\",\"N\",\"N\",\"N\",\"N\",\"N\",\"N\",\"N\",\"N\",\"N\",\"N\",\"N\",\"N\",\"N\",\"N\",\"N\",\"N\",\"N\",\"N\",\"N\",\"N\",\"N\",\"N\",\"N\",\"N\",\"N\",\"N\",\"N\",\"N\",\"N\",\"N\",\"N\",\"N\",\"N\",\"N\",\"N\",\"N\",\"N\",\"N\",\"N\",\"N\",\"N\",\"N\",\"N\",\"N\",\"N\",\"N\",\"N\",\"N\",\"N\",\"N\",\"N\",\"N\",\"N\",\"N\",\"N\",\"N\",\"N\",\"N\",\"N\",\"N\",\"N\",\"N\",\"N\",\"N\",\"N\",\"N\",\"N\",\"N\",\"N\",\"N\",\"N\",\"N\",\"N\",\"N\",\"N\",\"N\",\"N\",\"N\",\"N\",\"N\",\"N\",\"N\",\"N\",\"N\",\"N\",\"N\",\"N\",\"N\",\"N\",\"N\",\"N\",\"N\",\"N\",\"N\",\"N\",\"N\",\"N\",\"N\",\"N\",\"N\",\"N\",\"N\",\"N\",\"N\",\"N\",\"N\",\"N\",\"N\",\"N\",\"N\",\"N\",\"N\",\"N\",\"N\",\"N\",\"N\",\"N\",\"N\",\"N\",\"N\",\"N\",\"N\",\"N\",\"N\",\"N\",\"N\",\"N\",\"N\",\"N\",\"N\",\"N\",\"N\",\"N\",\"N\",\"N\",\"N\",\"N\",\"N\",\"N\",\"N\",\"N\",\"N\",\"N\",\"N\",\"N\",\"N\",\"N\",\"N\",\"N\",\"N\",\"N\",\"N\",\"N\",\"N\",\"N\",\"N\",\"N\",\"N\",\"N\",\"N\",\"N\",\"N\",\"N\",\"N\",\"N\",\"N\",\"N\",\"N\",\"N\",\"N\",\"N\",\"N\",\"N\",\"N\",\"N\",\"N\",\"N\",\"N\",\"N\",\"N\",\"N\",\"N\",\"N\",\"N\",\"N\",\"N\",\"N\",\"N\",\"N\",\"N\",\"N\",\"N\",\"N\",\"N\",\"N\",\"N\",\"N\",\"N\",\"N\",\"N\",\"N\",\"N\",\"N\",\"N\",\"N\",\"N\",\"N\",\"N\",\"N\",\"N\",\"N\",\"N\",\"N\",\"N\",\"N\",\"N\",\"N\",\"N\",\"N\",\"N\",\"N\",\"N\",\"N\",\"N\",\"N\",\"N\",\"N\",\"N\",\"N\",\"N\",\"N\",\"N\",\"N\",\"N\",\"N\",\"N\",\"N\",\"N\",\"N\",\"N\",\"N\",\"N\",\"N\",\"N\",\"N\",\"N\",\"N\",\"N\",\"N\",\"N\",\"N\",\"N\",\"N\",\"N\",\"N\",\"N\",\"N\",\"N\",\"N\",\"N\",\"N\",\"N\",\"N\",\"N\",\"N\",\"N\",\"N\",\"N\",\"N\",\"N\",\"N\",\"N\",\"N\",\"N\",\"N\",\"N\",\"N\",\"N\",\"N\",\"N\",\"N\",\"N\",\"N\",\"N\",\"N\",\"N\",\"N\",\"N\",\"N\",\"N\",\"N\",\"N\",\"N\",\"N\",\"N\",\"N\",\"N\",\"N\",\"N\",\"N\",\"N\",\"N\",\"N\",\"N\",\"N\",\"N\",\"N\",\"N\",\"N\",\"N\",\"N\",\"N\",\"N\",\"N\",\"N\",\"N\",\"N\",\"N\",\"N\",\"N\",\"N\",\"N\",\"N\",\"N\",\"N\",\"N\",\"N\",\"N\",\"N\",\"N\",\"N\",\"N\",\"N\",\"N\",\"N\",\"N\",\"N\",\"N\",\"N\",\"N\",\"N\",\"N\",\"N\",\"N\",\"N\",\"N\",\"N\",\"N\",\"N\",\"N\",\"N\",\"N\",\"N\",\"N\",\"N\",\"N\",\"N\",\"N\",\"N\",\"N\",\"N\",\"N\",\"N\",\"N\",\"N\",\"N\",\"N\",\"N\",\"N\",\"N\",\"N\",\"N\",\"N\",\"N\",\"N\",\"N\",\"N\",\"N\",\"N\",\"N\",\"N\",\"N\",\"N\",\"N\",\"N\",\"N\",\"N\",\"N\",\"N\",\"N\",\"N\",\"N\",\"N\",\"N\",\"N\",\"N\",\"N\",\"N\",\"N\",\"N\",\"N\",\"N\",\"N\",\"N\",\"N\",\"N\",\"N\",\"N\",\"N\",\"N\",\"N\",\"N\",\"N\",\"N\",\"N\",\"N\",\"N\",\"N\",\"N\",\"N\",\"N\",\"N\",\"N\",\"N\",\"N\",\"N\",\"N\",\"N\",\"N\",\"N\",\"N\",\"N\",\"N\",\"N\",\"N\",\"N\",\"N\",\"N\",\"N\",\"N\",\"N\",\"N\",\"N\",\"N\",\"N\",\"N\",\"N\",\"N\",\"N\",\"N\",\"N\",\"N\",\"N\",\"N\",\"N\",\"N\",\"N\",\"N\",\"N\",\"N\",\"N\",\"N\",\"N\",\"N\",\"N\",\"N\",\"N\",\"N\",\"N\",\"N\",\"N\",\"N\",\"N\",\"N\",\"N\",\"N\",\"N\",\"N\",\"N\",\"N\",\"N\",\"N\",\"N\",\"N\",\"N\",\"N\",\"N\",\"N\",\"N\",\"N\",\"N\",\"N\",\"N\",\"N\",\"N\",\"N\",\"N\",\"N\",\"N\",\"N\",\"N\",\"N\",\"N\",\"N\",\"N\",\"N\",\"N\",\"N\",\"N\",\"N\",\"N\",\"N\",\"N\",\"N\",\"N\",\"N\",\"N\",\"N\",\"N\",\"N\",\"N\",\"N\",\"N\",\"N\",\"N\",\"N\",\"N\",\"N\",\"N\",\"N\",\"N\",\"N\",\"N\",\"N\",\"N\",\"N\",\"N\",\"N\",\"N\",\"N\",\"N\",\"N\",\"N\",\"N\",\"N\",\"N\",\"N\",\"N\",\"N\",\"N\",\"N\",\"N\",\"N\",\"N\",\"N\",\"N\",\"N\",\"N\",\"N\",\"N\",\"N\",\"N\",\"N\",\"N\",\"N\",\"N\",\"N\",\"N\",\"N\",\"N\",\"N\",\"N\",\"N\",\"N\",\"N\",\"N\",\"N\",\"N\",\"N\",\"N\",\"N\",\"N\",\"N\",\"N\",\"N\",\"N\",\"N\",\"N\",\"N\",\"N\",\"N\",\"N\",\"N\",\"N\",\"N\",\"N\",\"N\",\"N\",\"N\",\"N\",\"N\",\"N\",\"N\",\"N\",\"N\",\"N\",\"N\",\"N\",\"N\",\"N\",\"N\",\"N\",\"N\",\"N\",\"N\",\"N\",\"N\",\"N\",\"N\",\"N\",\"N\",\"N\",\"N\",\"N\",\"N\",\"N\",\"N\",\"N\",\"N\",\"N\",\"N\",\"N\",\"N\",\"N\",\"N\",\"N\",\"N\",\"N\",\"N\",\"N\",\"N\",\"N\",\"N\",\"N\",\"N\",\"N\",\"N\",\"N\",\"N\",\"N\",\"N\",\"N\",\"N\",\"N\",\"N\",\"N\",\"N\",\"N\",\"N\",\"N\",\"N\",\"N\",\"N\",\"N\",\"N\",\"N\",\"N\",\"N\",\"N\",\"N\",\"N\",\"N\",\"N\",\"N\",\"N\",\"N\",\"N\",\"N\",\"N\",\"N\",\"N\",\"N\",\"N\",\"N\",\"N\",\"N\",\"N\",\"N\",\"N\",\"N\",\"N\",\"N\",\"N\",\"N\",\"N\",\"N\",\"N\",\"N\",\"N\",\"N\",\"N\",\"N\",\"N\",\"N\",\"N\",\"N\",\"N\",\"N\",\"N\",\"N\",\"N\",\"N\",\"N\",\"N\",\"N\",\"N\",\"N\",\"N\",\"N\",\"N\",\"N\",\"N\",\"N\",\"N\",\"N\",\"N\",\"N\",\"N\",\"N\",\"N\",\"N\",\"N\",\"N\",\"N\",\"N\",\"N\",\"N\",\"N\",\"N\",\"N\",\"N\",\"N\",\"N\",\"N\",\"N\",\"N\",\"N\",\"N\",\"N\",\"N\",\"N\",\"N\",\"N\",\"N\",\"N\",\"N\",\"N\",\"N\",\"N\",\"N\",\"N\",\"N\",\"N\",\"N\",\"N\",\"N\",\"N\",\"N\",\"N\",\"N\",\"N\",\"N\",\"N\",\"N\",\"N\",\"N\",\"N\",\"N\",\"N\",\"N\",\"N\",\"N\",\"N\",\"N\",\"N\",\"N\",\"N\",\"N\",\"N\",\"N\",\"N\",\"N\",\"N\",\"N\",\"N\",\"N\",\"N\",\"N\",\"N\",\"N\",\"N\",\"N\",\"N\",\"N\",\"N\",\"N\",\"N\",\"N\",\"N\",\"N\",\"N\",\"N\",\"N\",\"N\",\"N\",\"N\",\"N\",\"N\",\"N\",\"N\",\"N\",\"N\",\"N\",\"N\",\"N\",\"N\",\"N\",\"N\",\"N\",\"N\",\"N\",\"N\",\"N\",\"N\",\"N\",\"N\",\"N\",\"N\",\"N\",\"N\",\"N\",\"N\",\"N\",\"N\",\"N\",\"N\",\"N\",\"N\",\"N\",\"N\",\"N\",\"N\",\"N\",\"N\",\"N\",\"N\",\"N\",\"N\",\"N\",\"N\",\"N\",\"N\",\"N\",\"N\",\"N\",\"N\",\"N\",\"N\",\"N\",\"N\",\"N\",\"N\",\"N\",\"N\",\"N\",\"N\",\"N\",\"N\",\"N\",\"N\",\"N\",\"N\",\"N\",\"N\",\"N\",\"N\",\"N\",\"N\",\"N\",\"N\",\"N\",\"N\",\"N\",\"N\",\"N\",\"N\",\"N\",\"N\",\"N\",\"N\",\"N\",\"N\",\"N\",\"N\",\"N\",\"N\",\"N\",\"N\",\"N\",\"N\",\"N\",\"N\",\"N\",\"N\",\"N\",\"N\",\"N\",\"N\",\"N\",\"N\",\"N\",\"N\",\"N\",\"N\",\"N\",\"N\",\"N\",\"N\",\"N\",\"N\",\"N\",\"N\",\"N\",\"N\",\"N\",\"N\",\"N\",\"N\",\"N\",\"N\",\"N\",\"N\",\"N\",\"N\",\"N\",\"N\",\"N\",\"N\",\"N\",\"N\",\"N\",\"N\",\"N\",\"N\",\"N\",\"N\",\"N\",\"N\",\"N\",\"N\",\"N\",\"N\",\"N\",\"N\",\"N\",\"N\",\"N\",\"N\",\"N\",\"N\",\"N\",\"N\",\"N\",\"N\",\"N\",\"N\",\"N\",\"N\",\"N\",\"N\",\"N\",\"N\",\"N\",\"N\",\"N\",\"N\",\"N\",\"N\",\"N\",\"N\",\"N\",\"N\",\"N\",\"N\",\"N\",\"N\",\"N\",\"N\",\"N\",\"N\",\"N\",\"N\",\"N\",\"N\",\"N\",\"N\",\"N\",\"N\",\"N\",\"N\",\"N\",\"N\",\"N\",\"N\",\"N\",\"N\",\"N\",\"N\",\"N\",\"N\",\"N\",\"N\",\"N\",\"N\",\"N\",\"N\",\"N\",\"N\",\"N\",\"N\",\"N\",\"N\",\"N\",\"N\",\"N\",\"N\",\"N\",\"N\",\"N\",\"N\",\"N\",\"N\",\"N\",\"N\",\"N\",\"N\",\"N\",\"N\",\"N\",\"N\",\"N\",\"N\",\"N\",\"N\",\"N\",\"N\",\"N\",\"N\",\"N\",\"N\",\"N\",\"N\",\"N\",\"N\",\"N\",\"N\",\"N\",\"N\",\"N\",\"N\",\"N\",\"N\",\"N\",\"N\",\"N\",\"N\",\"N\",\"N\",\"N\",\"N\",\"N\",\"N\",\"N\",\"N\",\"N\",\"N\",\"N\",\"N\",\"N\",\"N\",\"N\",\"N\",\"N\",\"N\",\"N\",\"N\",\"N\",\"N\",\"N\",\"N\",\"N\",\"N\",\"N\",\"N\",\"N\",\"N\",\"N\",\"N\",\"N\",\"N\",\"N\",\"N\",\"N\",\"N\",\"N\",\"N\",\"N\",\"N\",\"N\"],\"legendgroup\":\"\",\"name\":\"\",\"showlegend\":true,\"values\":[3160040998,3160040998,3160041896,3160141996,3160241992,3160241992,3160272997,3162041996,3162041996,3162041996,3356298138,3359162473,3359690891,3364840542,3365355395,3369900897,3376306597,3386662126,3388251889,3394638119,3402333645,3405816400,3408183027,3413226850,3418090677,3450127241,3462219091,3465787492,3483626412,3498029973,3505845546,3506126990,3508979345,3527533497,3541182255,3557460410,3564918618,3604409798,3641844855,3642050373,3651341559,3657008341,3659140079,3675535563,3687691773,3706361915,3714090682,3714419514,3729024090,3742656867,3752015916,3760238152,3764558156,3774659995,3776798621,3785665909,3785986636,3799132406,3800617237,3806421625,3808398633,3811662493,3816482428,3835542787,3837335703,3840707845,3852916753,3856955720,3858398119,3859811531,3875188381,3884139657,3884787232,3905893865,3938462850,3950041893,3958135740,3964604570,3995706579,4018645384,4022945723,4024505715,4036426557,4058823520,4061849015,4063172111,4072532307,4084592872,4105344658,4114574519,4117880439,4127150902,4128978968,4130501464,4135098150,4138506573,4139060865,4139280493,4151187710,4154299431,4155574823,4161661486,4163803727,4172276215,4173436510,4177712289,4180015902,4192972254,4202639184,4205436781,4209927538,4223065137,4224420959,4225126900,4225921989,4232210297,4240669276,4244630120,4266029386,4294222139,4304266734,4305702710,4312225167,4314204125,4327113971,4345258543,4348694075,4349047749,4351013109,4361157500,4373776212,4378980797,4397330540,4398664733,4405257384,4409660001,4427137431,4431147517,4439427249,4443404173,4453850276,4456899824,4481195802,4489896961,4526633692,4536078157,4544005938,4557040500,4563845771,4579872633,4585226511,4586229903,4592811487,4596416910,4628780648,4629967388,4633703602,4639560839,4645301386,4648858919,4664574739,4667293611,4671682416,4684495167,4687490727,4690923132,4691564176,4713612792,4716163260,4718777983,4721121199,4727426967,4734471000,4736685684,4748248523,4751116909,4762163981,4763086973,4764736078,4772667475,4786546169,4796001508,4805279645,4818869188,4835465818,4838852609,4839374244,4851963556,4858660021,4870833599,4871980109,4873110740,4878516375,4879626708,4881579578,4890143931,4898289645,4902634359,4906320707,4908055617,4908884376,4933502657,4937588881,4940039747,4942320098,4943712797,4946946678,4948629322,4970606263,4973267879,4973310264,4988866051,4989248225,5020008779,5022726674,5035552703,5037840894,5041652546,5054473235,5057209186,5063944744,5066590987,5076373986,5091764220,5108511837,5116547959,5120397575,5121812372,5134289117,5150845822,5180064875,5183376007,5193134213,5195567970,5202727146,5224070838,5235580276,5258312871,5259123670,5264128511,5271180204,5274967692,5284726016,5309800449,5331771857,5338031118,5339489340,5339849253,5345941652,5355399779,5425524255,5426200375,5426239243,5436582563,5436781051,5438087941,5439431588,5440569593,5444358642,5449566080,5459497990,5474497608,5475382688,5491231228,5495610149,5497895958,5498518099,5499666666,5504141167,5507239729,5508434208,5516509929,5520132673,5526236381,5560111892,5562961422,5586273121,5588296997,5591651411,5602598291,5614772190,5624569909,5631261207,5634640261,5636587443,5639232781,5646455022,5655572596,5656117724,5663085583,5671132124,5673635669,5675544222,5676841832,5688747995,5690777846,5693783739,5696577327,5703519784,5708922255,5731414073,5733530619,5734095507,5760152287,5766099974,5790085700,5793673119,5795857704,5797107780,5811420020,5845551567,5859908215,5862353618,5863189919,5869315272,5871664480,5874863707,5879049904,5884529995,5892017866,5928254406,5930697966,5934351213,5938834165,5943567820,5959708973,5969094614,5988848064,5991109342,6016034477,6023215001,6028844245,6051871856,6052221972,6062032943,6062389909,6070790055,6080895069,6083913860,6101824913,6102479353,6115607724,6118190038,6122610392,6124595289,6139931192,6142510334,6148192483,6177585619,6188405933,6189443441,6196064718,6199861179,6201160714,6210230406,6278623414,6283390216,6283975662,6287176937,6291161670,6298132922,6321557899,6326408917,6338071932,6339832383,6347291796,6348242452,6353760025,6356587989,6374053602,6378428813,6392329354,6396307681,6403649379,6412131239,6416323290,6419109258,6455635890,6471049957,6485322328,6486520105,6487405222,6494182360,6511919222,6514902255,6516357223,6537548014,6553441185,6561840914,6586987902,6597904988,6606661761,6612448144,6619775423,6633884878,6656725630,6661273529,6661273529,6661273529,6661273529,6661273529,6661273529,6661273529,6661273530,6661273530,6661273530,6661273530,6661273530,6661273530,6661273530,6661273531,6661273531,6661273531,6661273531,6661273531,6661273531,6661273532,6661273532,6661273532,6661273532,6661273532,6661273533,6661273533,6661273533,6661273534,6661273534,6661273534,6661273534,6661273534,6661273534,6661273531,6661273531,6661273531,6661273531,6661273531,6661273531,6661273532,6661273532,6661273532,6661273532,6661273532,6661273533,6661273533,6661273533,6661273533,6661273533,6661273533,6661273533,3160041996,3160041996,3160041996,3200016990,3200016990,3200016990,3333780991,3335028024,3335329456,3337530841,3338290326,3341313096,3341718873,3342028911,3343183606,3343565842,3347141750,3349106106,3349221228,3351178102,3351313375,3352166255,3352708526,3356830106,3358331170,3359485487,3359515389,3361344544,3362934997,3363782481,3364000461,3364792317,3365168978,3369503548,3372853708,3373747581,3374256191,3376642926,3377525986,3377598810,3379194612,3379286495,3382903731,3382992385,3384289990,3386119800,3386625503,3389037502,3390311896,3390408118,3390421922,3391137811,3392483844,3392901760,3393045253,3393235177,3394443999,3395034027,3396089333,3396563973,3396727901,3399674481,3400217521,3401041254,3401072583,3401445241,3401878013,3403918452,3405895343,3406168428,3406913277,3406925116,3409044326,3409095418,3409260594,3411546968,3412458375,3413554900,3414287941,3416522311,3417285699,3418158556,3419080002,3419693206,3420501022,3420560059,3422472079,3422768759,3423976232,3425665457,3426603333,3426923173,3432025717,3433367068,3434958979,3436535040,3439089244,3441115676,3444008590,3444574612,3450450657,3454656550,3456680998,3456739646,3457182263,3457793169,3458102286,3459461025,3459826071,3466513147,3469733087,3469801806,3470036109,3470420389,3473277510,3474413225,3475849004,3475935285,3479876243,3480678455,3481118585,3481901056,3482015123,3482027814,3482372454,3483261554,3483773246,3484573869,3484615286,3488297673,3489307761,3489590587,3489678612,3490791034,3491083090,3491505286,3491557751,3493976559,3496464197,3498263337,3499087362,3499488049,3499689294,3500328343,3501885583,3505803066,3507404802,3508386391,3508392910,3510594343,3511712407,3514946201,3515458871,3515534397,3516097910,3516508833,3516805332,3517947519,3518189460,3518236039,3518422544,3518784657,3519472772,3519486219,3521648616,3522325752,3527412600,3531995557,3535300409,3535357836,3536978368,3538500518,3539473672,3540314065,3540872906,3543390736,3548719208,3551084045,3551342299,3551695659,3552394097,3552859408,3553696100,3553702381,3553896680,3556739004,3557818586,3559232671,3559739048,3562603242,3565697089,3567225316,3568227646,3568567942,3568848026,3569707046,3570312802,3572165186,3576609711,3579409275,3581339014,3581393535,3581554883,3581611981,3581842005,3582877117,3583430505,3584037717,3584372064,3584920170,3587111798,3589338723,3589352375,3591169587,3592066133,3595135291,3595429127,3596953390,3597840001,3598283335,3598667002,3600685674,3600781509,3602850906,3604056060,3606558690,3608676640,3608832053,3609537995,3609627958,3611209181,3611436503,3613369246,3613914338,3614959069,3616173485,3616518993,3618666797,3620451052,3622219417,3622897210,3626875653,3628159967,3631838831,3632098158,3634250878,3634909182,3635023073,3635454329,3636177004,3637706677,3638878615,3639888440,3644488478,3646878488,3646890136,3649263911,3650364777,3650732830,3651916813,3652480301,3652909999,3658323901,3658809107,3660144651,3662226171,3663158118,3668076095,3669527781,3669567925,3669591416,3671190139,3674935143,3675302818,3676078129,3678951139,3684775236,3685379831,3685418050,3692503266,3693280007,3693537296,3694077083,3698051431,3701023477,3702226634,3704833774,3707149502,3708167132,3708469594,3708889491,3712792482,3714377023,3714469580,3714929449,3715363485,3715986505,3716861385,3717332618,3719419524,3719466512,3722133584,3722770866,3723219248,3723499820,3724965486,3726435993,3731079653,3732340651,3733178718,3733684328,3733812221,3733913655,3734041065,3737637735,3739346624,3743616647,3744543082,3744723486,3746750530,3748646082,3748967456,3753168362,3753572882,3754783798,3755892531,3757168855,3757180542,3758247756,3758300746,3758384645,3760252470,3760349148,3766710393,3768949196,3769129330,3769223968,3772445997,3773720479,3774542057,3774763666,3775377628,3779199839,3781821220,3782068019,3788537411,3792103032,3792474266,3793900430,3794492807,3798022882,3804630024,3805446760,3808008068,3809569149,3810841480,3811465718,3813563637,3815293880,3815423940,3815698527,3816004490,3817747404,3818895517,3819564866,3819709978,3821456401,3821685967,3822669297,3822728355,3823452816,3823580013,3825656302,3827739049,3829134200,3829150944,3831714030,3832343281,3835659842,3840303535,3841498691,3843922940,3844294109,3844382018,3845584393,3845884657,3846730100,3847854033,3850822236,3850844318,3850853150,3850921556,3852087919,3852937700,3854309964,3854796168,3855319715,3856401711,3856990818,3857738576,3860560237,3860701409,3862020693,3862773857,3863457693,3863958627,3865195005,3866401217,3868650570,3869917954,3870243310,3870997193,3872083130,3873535694,3875442012,3875651104,3875736019,3876477306,3877890732,3881405281,3881707989,3883744513,3884128397,3884248311,3884981946,3885244030,3886416675,3888498894,3889356901,3889457104,3889639325,3889665134,3891197216,3891228978,3892328207,3892666722,3892945658,3896030736,3896906666,3900952232,3901228232,3901580295,3905864145,3908336478,3908656072,3908796783,3911427727,3911799264,3912232078,3913164374,3913678770,3913883048,3915217260,3915247881,3917488020,3917890373,3918390727,3919160758,3920022081,3920616594,3922163934,3922954963,3923552962,3923664582,3924262934,3925045990,3925963652,3926519401,3928093462,3928927967,3929585791,3930124249,3930625457,3931307365,3931533472,3932883691,3933155977,3935020092,3937101765,3939207631,3939574366,3940304695,3941465381,3942446683,3942757524,3943474211,3944812242,3949361319,3949764482,3951405904,3952805008,3953059579,3953235974,3953363100,3954144552,3954523507,3956004722,3961376797,3963943210,3964390673,3964826054,3965319407,3965496444,3966147765,3969890180,3971515176,3972755602,3972994790,3973086442,3973579189,3973699604,3975445799,3975821902,3977707812,3979301383,3980028754,3980403053,3981178312,3982735801,3983445346,3986383377,3987699434,3990075107,3991804875,3992366567,3992368779,3995928910,3996627786,3997559227,3998860637,4000709141,4000762145,4002610502,4003888794,4003902589,4003922670,4005759372,4006543160,4007124161,4007370647,4009534478,4010128740,4011604835,4014500966,4014933651,4016078493,4016371790,4020619832,4021575581,4023759175,4025627949,4026452800,4028436728,4031049368,4033051787,4034539813,4035113563,4036077867,4037355501,4038322391,4039082720,4040105708,4040696204,4040741732,4040797922,4041092874,4041346403,4041525679,4041889902,4044154716,4044923757,4045171059,4046620550,4048237084,4048970095,4050019925,4050851402,4057992318,4060085918,4060137644,4060519274,4061138801,4062578099,4066779232,4066893280,4067279381,4068820302,4070489094,4074690951,4076057482,4078057488,4079083394,4081166970,4081309172,4082017617,4082116860,4082271010,4082521658,4085084708,4088215698,4090858730,4091501588,4091865330,4092363304,4095958329,4096008781,4097798551,4098488129,4098641393,4099394301,4103662280,4103989208,4104229672,4106922433,4109066561,4110101760,4110801530,4111289732,4112595797,4116308413,4116583683,4116803102,4118889531,4119237225,4119681952,4120987804,4121635732,4121776983,4123455712,4124918495,4126565206,4129147097,4129841331,4130182268,4132770314,4133274531,4136293685,4139729954,4141125120,4145436858,4145685208,4149815950,4150399541,4151869801,4153895227,4155002753,4155239210,4157473725,4157543577,4157679542,4158755914,4158993415,4159586617,4159896719,4160657708,4161261580,4161397964,4163286388,4163853118,4164781309,4165364368,4165374969,4167933595,4169371251,4169687180,4170696132,4170932313,4171156517,4171311921,4171517408,4173748091,4174243565,4174741859,4174856968,4175215462,4176161664,4177152745,4177646641,4178031307,4178890366,4178901170,4180293041,4181021092,4181730271,4182698208,4182750729,4182757268,4183308153,4183950227,4184421176,4190035890,4190848896,4191388992,4191768038,4193257362,4195574502,4196118627,4197856478,4199721800,4200072021,4204179082,4207845177,4209086254,4210822923,4211432542,4211901343,4211957241,4213414836,4214611010,4216556181,4217579416,4218833431,4219423489,4221158582,4222264603,4222455854,4223411414,4226331554,4226525797,4226827849,4228693102,4229363879,4229825736,4231258339,4231468591,4234452834,4237889622,4239506014,4240115967,4241853103,4243077800,4243857944,4246732156,4248302555,4248318955,4248887664,4248895489,4249225035,4249959767,4251489020,4252158780,4253865376,4254683525,4254802512,4256899166,4257130815,4257814710,4259155000,4261234113,4261581592,4261689055,4261995123,4262714821,4263116522,4264361411,4265426457,4265454837,4265488933,4267390091,4269774584,4273141616,4276029080,4277255889,4277914726,4278677191,4278765845,4281086769,4281631758,4281812457,4282055119,4283226314,4290990079,4294538214,4295937556,4296732936,4297088362,4301878246,4302769187,4303142796,4303983018,4305584104,4306108800,4306986403,4309226616,4310034710,4312347732,4315854966,4317096628,4317324133,4319062040,4321199236,4322775829,4323198342,4323742617,4328548477,4328588749,4331069400,4332550518,4333312598,4333808041,4335572636,4335858434,4337799195,4339096239,4339111820,4344524503,4345856886,4348106568,4348901195,4349926606,4352555891,4352596295,4352679197,4354540579,4354864246,4355212819,4355776611,4356552064,4360674746,4361561414,4362447321,4363560965,4364551165,4364767229,4365711086,4367246925,4368033822,4368585217,4369938652,4370325279,4370931423,4371452142,4372242243,4373338897,4374537648,4374726163,4375005493,4376928581,4377647545,4378312091,4378660048,4381977333,4383407202,4386462841,4386567086,4387511758,4387688165,4389531784,4390219267,4392970432,4394191146,4395933809,4396895356,4398785923,4401720961,4401904001,4405219716,4405630735,4407785985,4407796076,4409967957,4410998518,4411249912,4414605298,4414762348,4415240594,4415982394,4416248743,4418287452,4419076544,4419161765,4419624728,4420826703,4421124944,4423389881,4424384292,4425285475,4425442706,4426966493,4429621234,4429628423,4430053297,4430864922,4433044714,4433849217,4435276489,4436144819,4436694580,4439667991,4444228573,4444641352,4445606916,4446299025,4451011218,4452090773,4452503521,4453664856,4456050496,4458218507,4459558995,4460394088,4461750360,4465591987,4465596188,4469711632,4471835006,4473005499,4473405985,4473791013,4474461579,4474854416,4475387183,4477112901,4480456742,4480871095,4481374514,4481573683,4482059165,4482425234,4484893134,4487026266,4489186248,4490031511,4493592490,4494268948,4495333300,4496530005,4497003717,4498046485,4499078198,4499079450,4499635964,4502932064,4506301486,4506678581,4507569034,4507691895,4509309220,4509479900,4509560375,4509987976,4510694844,4512379173,4516411055,4522312918,4523063490,4524699927,4526613276,4527137930,4527243185,4530819743,4530993536,4531717685,4531732333,4534471126,4535622185,4538916734,4538998799,4543407507,4544322870,4544655328,4546243015,4546546332,4547030467,4553611344,4554445412,4558168151,4560801796,4561746814,4562806127,4567728503,4568891626,4570798117,4571659884,4572341074,4573073242,4575031126,4576152716,4576480510,4577445791,4580749497,4581559353,4581737959,4582338937,4585805405,4588263213,4590265033,4590779061,4590840069,4591151338,4591551707,4595862211,4596037865,4596065922,4596419765,4596609645,4597344904,4597717326,4601075426,4601837759,4604181296,4605104041,4605234705,4605466183,4606853717,4610489392,4610863948,4611206655,4611809772,4613109980,4614170505,4614659386,4617467202,4619981841,4620208941,4621432644,4621721660,4622741975,4622775727,4623535755,4624856681,4625417833,4626168352,4626464577,4629776556,4631512539,4632179471,4636280731,4637446683,4638430637,4638746671,4639597637,4641573890,4643903053,4644836861,4647253038,4648167961,4651227029,4651683955,4652451929,4654259444,4655628864,4655730662,4656675123,4658221229,4658927838,4658938285,4661693729,4661842060,4663170145,4664740044,4667788689,4667847385,4669661257,4669860506,4671134041,4674942761,4676085949,4676455249,4677246411,4677861623,4682063083,4682075796,4682430428,4682444427,4682706242,4683321693,4684329335,4685081016,4685307221,4686915370,4689781016,4692033866,4692201230,4692353706,4693944514,4697435045,4700845732,4704929031,4706030716,4706077499,4707228129,4707296550,4707846624,4709163213,4710671148,4711218511,4714293937,4714741937,4715643215,4716195313,4716313355,4718054543,4718242897,4723133061,4723800136,4725527324,4726458610,4729116312,4729767723,4730821328,4733390648,4737493347,4738239969,4738569749,4739653972,4743118018,4743541810,4744120956,4746002023,4746493495,4750069035,4751716947,4754143182,4755112015,4757232410,4758421140,4759333388,4760317530,4764683893,4766044608,4769473672,4770409737,4770897222,4771767173,4771839885,4773283826,4775227909,4775431988,4778167208,4778453785,4779098055,4779494254,4780024963,4780451210,4781725177,4784644048,4785409566,4788196478,4792966026,4793666919,4797249662,4797632930,4797821841,4798295087,4806241805,4807459922,4808511537,4809708876,4812355629,4812692910,4813851869,4814202142,4816024621,4818039852,4818760082,4818817622,4819584339,4820185403,4821159116,4821787349,4824326644,4825366301,4826008582,4827230143,4828074573,4831718508,4832477319,4833170938,4833796990,4834862979,4834988814,4835418063,4840349215,4843145551,4843255478,4845670775,4848091459,4852853142,4853408224,4853664564,4854051119,4854759962,4855866036,4856300504,4856954433,4858344421,4859282412,4859455438,4859674497,4860094979,4869468058,4869557815,4870378479,4871663654,4872782005,4872920109,4874763435,4875484139,4875783686,4879564068,4881263218,4881460696,4881663943,4884412998,4885071754,4885504921,4886068496,4886245584,4888176583,4889978781,4893489985,4895121963,4897813560,4898276219,4899562159,4901367228,4904107914,4905618136,4905999479,4908076485,4908464027,4908479091,4908777390,4909167880,4910321694,4910953344,4911008056,4911807375,4912250925,4912881602,4913701123,4915194001,4915245781,4915255439,4915488194,4917620858,4919041379,4921096287,4925211699,4925580116,4927344169,4928171322,4931552646,4932505586,4935893756,4937536340,4937713482,4938652233,4940720993,4940863393,4941140760,4942934901,4943484276,4943769634,4945253733,4946008159,4946682280,4947057073,4947134386,4947247094,4947353399,4949746454,4951984072,4953154922,4953501367,4954138572,4954359893,4954607019,4954769594,4954985014,4955711613,4956026020,4958590499,4960625720,4961531876,4963913041,4965333019,4967865208,4967884257,4970797577,4970887268,4971710225,4971951914,4973911294,4975206764,4978281944,4979764046,4982037041,4982080293,4984480880,4986076169,4987011444,4988690933,4989731900,4990335216,4991146482,4992442147,4993243064,4993297258,4993462744,4996987442,4997094269,4999528474,5000529929,5003994670,5005973612,5007677961,5009112825,5009197383,5010774731,5011093107,5014853689,5016477710,5016486359,5016572043,5017284005,5017595852,5018773064,5021193586,5023404743,5024747296,5025577967,5025632897,5027477231,5027920308,5030039860,5031000911,5031373379,5031507967,5032603296,5033516914,5034062717,5036473982,5037335286,5039198092,5040866240,5042085779,5043895401,5044060555,5044764754,5045047864,5047142502,5047205380,5047286572,5053244473,5053748768,5054391995,5054783482,5055183987,5055894231,5057972551,5058916137,5063391386,5063828599,5063978355,5065698716,5067990852,5068323567,5073070579,5079027348,5080161007,5080325041,5082436769,5084201586,5085129317,5085211012,5085567933,5086323903,5087023685,5090295894,5090479409,5095276335,5096711530,5097263705,5097684787,5099518325,5100406426,5104524190,5105583435,5106136340,5107953684,5110498349,5111187537,5111938964,5114208138,5115743213,5116981272,5117166927,5118785477,5119401860,5120548091,5124179623,5124411649,5127324303,5129708906,5131667685,5133271439,5134919048,5135287371,5135958475,5138208018,5138548962,5139483804,5139776398,5142361491,5146560352,5146783538,5147036875,5147073234,5149899349,5152015423,5153059874,5153237413,5153433930,5154016142,5154324185,5154463541,5154533480,5154712615,5155524762,5157452062,5157668825,5160703113,5161545492,5162201246,5163167874,5166487247,5167444866,5167722376,5168397202,5169518782,5169951512,5170735550,5171502115,5173098566,5175623174,5175909989,5176756468,5178648887,5178743194,5181857055,5183534635,5184044199,5185059616,5187166619,5189471304,5192949232,5193169296,5193478889,5195378598,5196673540,5198147305,5199852977,5200067407,5200187307,5202441846,5202788252,5203076842,5204707439,5205576693,5206591715,5206665521,5207376750,5208894462,5212210306,5212658365,5212779041,5214618687,5215789667,5216204048,5217180471,5218039489,5221231190,5223508706,5224395572,5224590902,5226281688,5227763140,5228306886,5229597344,5229895915,5230316426,5232522386,5233228333,5233449979,5238776955,5241583810,5242109462,5243960761,5245294233,5246376165,5246695272,5251420726,5252456943,5259963854,5261489968,5265886486,5267300379,5269336606,5270082148,5270768781,5272613760,5272771336,5273136671,5273141204,5274804319,5275825716,5276412713,5276862350,5277241644,5277488252,5279042349,5282192868,5290049173,5290144972,5291006844,5292939423,5293887542,5294626614,5296817853,5299087393,5300196133,5301391154,5301774466,5303239979,5303961090,5304099667,5306888427,5307257120,5310170028,5313148453,5314193872,5315815767,5317216798,5317267704,5318188951,5320478505,5320959815,5321766247,5322937570,5323754995,5325772796,5327402767,5330407599,5331564130,5331642863,5334726307,5335039856,5335382806,5339613613,5339697250,5340612351,5341322312,5341835517,5341905737,5342829619,5343027781,5346409227,5347145202,5347754353,5347997725,5352440922,5353291785,5355979052,5356239202,5357491956,5358975214,5361231930,5361597905,5362503716,5362772132,5363224592,5364346516,5364693592,5364777357,5365062135,5369848529,5369952164,5370020852,5370182401,5370567294,5370748866,5371225525,5372745821,5374715535,5375692686,5377078073,5379837842,5380480333,5381497249,5382534133,5383375668,5385182093,5385586368,5385914292,5386953359,5387432278,5388333370,5389937215,5390588346,5394665416,5396479695,5396897182,5397138815,5400971583,5401578011,5402641078,5403242865,5403483651,5403568918,5403640175,5403965157,5404135769,5405037008,5405554302,5406097383,5406984603,5408773716,5408834218,5409631205,5409671951,5410194757,5413457100,5413686750,5413973038,5415581414,5417253398,5417361183,5418243329,5418298565,5421505417,5422761402,5423244241,5423548217,5425564944,5425772619,5425859487,5427389229,5427966261,5428010720,5428164388,5433137366,5434709280,5436992828,5437582895,5439195876,5439257054,5440287694,5440877532,5440914683,5441239355,5442269697,5444359736,5445971980,5447126905,5447484505,5447895920,5449621099,5449703402,5451178242,5451493405,5451554368,5453489742,5455074557,5455100830,5456291679,5457275408,5458077208,5459144049,5460013586,5461162846,5462041801,5463058900,5463991492,5467311681,5467754324,5470532817,5470854000,5471234967,5471400500,5475836334,5476211967,5477484882,5479423817,5482718746,5483361785,5483978200,5484246757,5484670534,5485416143,5489815741,5489972389,5494351979,5499077413,5499667606,5502152972,5504867181,5507496039,5508051970,5510179991,5513318578,5513826948,5513941147,5517537099,5517957700,5518736216,5519340148,5520560277,5523668032,5525905631,5529545869,5531009966,5531288738,5531553155,5532308435,5533059149,5535437188,5536472450,5538228452,5538278293,5538366331,5540023889,5541980980,5542689826,5542720364,5543091323,5544020709,5544595318,5545153979,5547372815,5548509355,5550534388,5551800658,5555838237,5558471729,5559866918,5561796926,5562153594,5562215006,5564436455,5566467426,5566674406,5568182502,5569790714,5570080710,5570670541,5573978043,5574331217,5575109051,5575238378,5577443411,5579092237,5580182470,5580439313,5580618131,5580738204,5582819256,5583988882,5584016282,5585242529,5586299590,5587503967,5588538170,5590279794,5591785718,5591849611,5593028203,5593096366,5593449638,5594007866,5594818728,5596290358,5596385436,5598007250,5598366413,5601732774,5603512274,5606924601,5607164218,5607546840,5611449058,5614251437,5615270704,5615331903,5616018879,5617077301,5619682843,5619971923,5620881157,5621545712,5622539417,5626431514,5626936258,5627416028,5631736179,5632313575,5634170729,5634519132,5635685753,5636223113,5637457745,5640320949,5640581601,5641182616,5641519159,5643672345,5648066325,5648698449,5650966096,5652666123,5653533469,5656091151,5656467584,5658867329,5659148497,5664940103,5666315839,5667057152,5667724612,5670542069,5672478016,5672806118,5674342106,5674628598,5676104105,5677847688,5681678350,5685637288,5685703593,5685712527,5686467663,5687490962,5690658240,5690863794,5691512561,5692097696,5692295785,5693985632,5696631575,5696740905,5697245104,5699540824,5701047326,5701321540,5702044213,5703851983,5706411478,5708756837,5708872893,5710081467,5713758148,5715258202,5715768489,5719111153,5720029371,5720762549,5721916566,5724015482,5724872895,5729039253,5729862332,5730517454,5730727851,5731774077,5731899252,5732717531,5733917520,5734233965,5735540490,5736026869,5738922113,5740841284,5742388267,5747511747,5748576246,5749828442,5751020598,5751895828,5752258333,5755065824,5758435336,5759732320,5760357668,5760944008,5761871097,5762596531,5763178244,5766630954,5766730673,5768243949,5768572987,5769540242,5770383534,5771359804,5772463958,5773200261,5773973963,5776315140,5776594319,5777009852,5778547333,5778810523,5779197037,5780624782,5782931717,5783625437,5783727173,5786109680,5786693205,5788247208,5793335602,5794984589,5795453812,5796240735,5803630501,5803961137,5804863216,5806440222,5807249178,5807568851,5807575104,5809891755,5811663867,5812014200,5814397285,5816562201,5821474658,5822790684,5823832940,5823881444,5824691068,5824965353,5826195180,5828586171,5829834176,5830801726,5830852068,5831652710,5832050147,5834013736,5834048834,5834423629,5834584709,5835304551,5835968680,5837590788,5839772621,5840898814,5841499701,5843243686,5843413264,5843547400,5847844000,5848788919,5851198740,5851311155,5852178989,5858053228,5858730732,5859655062,5862321338,5862466488,5862725347,5864647309,5865320793,5866404731,5868406850,5871389581,5872810440,5873798609,5874276320,5875998838,5876723793,5876945276,5878676386,5879260689,5879884188,5880194250,5881400706,5882751271,5882947485,5883463476,5883873231,5885936177,5888143953,5888622318,5890628274,5891343522,5891670658,5894266023,5895356028,5897070149,5897177757,5898299321,5901943967,5902728687,5905149904,5906536406,5906911279,5907485507,5908634612,5908810613,5911752738,5912216509,5914156557,5914216110,5914532437,5915155740,5916389506,5916462985,5916846481,5918561849,5920395279,5921170787,5924516708,5924575028,5924881569,5927173289,5929523112,5929709161,5929787677,5930924638,5931006675,5933276103,5934336477,5934758164,5937002801,5937154186,5937210483,5937496433,5938614350,5939151925,5942636468,5942882031,5943425327,5945688972,5948276632,5948802700,5949351338,5949619250,5950044519,5950698585,5950758671,5952354946,5953281341,5953880987,5953890481,5954046281,5954461686,5957712718,5959048901,5959669831,5959967607,5965686096,5965782183,5966493316,5968013640,5968380453,5970248633,5971011586,5971482398,5974590623,5975391632,5975883303,5977466395,5979395968,5979407653,5979587084,5980604985,5984811427,5985343454,5989567890,5990555697,5992929438,5994418857,5995948038,5996371504,6000263533,6001431409,6001561628,6001893064,6002256595,6004190840,6004980802,6006271775,6008009818,6008028300,6011629768,6013944673,6014691658,6016246771,6016473892,6016992340,6019144074,6021072119,6023647375,6026230238,6027643776,6027678344,6029065418,6030421013,6030628457,6031581505,6034686275,6035934812,6038651250,6038761323,6038804064,6039950972,6040399931,6041707431,6042042428,6042211738,6042956483,6043248647,6043277279,6045334233,6047061304,6047857497,6049527934,6050263501,6050927380,6052112167,6052607459,6052896581,6052933282,6053768624,6056810153,6057376867,6057587110,6058359030,6058708290,6060013953,6063299497,6064177379,6064426848,6065822477,6067968052,6069015273,6070409962,6071656871,6073311055,6074734722,6075318206,6075624889,6075703320,6076013907,6078751342,6078844231,6078886360,6079666770,6080489400,6081221536,6084179904,6084304616,6086776330,6087325399,6089681489,6093797384,6098642992,6099945108,6101978178,6102242500,6102845005,6103779219,6103851846,6104264269,6104662351,6104824042,6104877090,6106783774,6106869750,6108970413,6109923771,6112599503,6113460690,6114099716,6114470999,6116081811,6116232277,6120239199,6120580636,6124002087,6127359634,6129665683,6131336784,6131400863,6133607000,6137093344,6137597224,6138117147,6139126408,6139438529,6142181269,6143270526,6144738025,6144791734,6145796047,6146195799,6146282084,6146695340,6146799075,6146913660,6147081108,6149350467,6149726996,6151687779,6151964606,6152223602,6152532235,6153496681,6156307260,6157702037,6157894111,6158898054,6159772656,6160300261,6161084512,6162593013,6167219281,6167533542,6168888541,6169611791,6172156117,6172549638,6173870842,6174197949,6175259577,6175432303,6175482525,6177826828,6181384953,6181894047,6182040577,6182785599,6182844692,6184230317,6184561729,6184844784,6185067689,6185520943,6185892823,6186530874,6188615028,6190704049,6190983700,6193727841,6193755276,6194874423,6198769562,6202611223,6203828143,6204173555,6205169551,6205841673,6205955340,6206183790,6206322200,6207235196,6208245083,6208386624,6209643210,6210176056,6211613470,6211763310,6211805352,6211902985,6215992784,6218861623,6227241873,6227518526,6229877008,6231807957,6231908262,6233352098,6234384004,6235547105,6238673355,6239313639,6239886634,6241680882,6242296794,6242909401,6243703001,6244913089,6247308811,6248112923,6249538017,6249719297,6250651797,6252095597,6254507303,6257110788,6259416454,6264436787,6265569646,6266360263,6266867623,6266870535,6267378579,6268389830,6269886083,6272049521,6272804572,6273513058,6273697394,6276438383,6281530258,6291411544,6292342798,6292552319,6293097734,6293513581,6294003438,6296125100,6297222861,6301038665,6301586342,6302537713,6303129642,6303969872,6311204587,6311635823,6312693496,6314131796,6314157444,6314935441,6315065408,6315922215,6320836540,6321484398,6321520053,6321865115,6322767353,6322917921,6323457475,6324841313,6325432342,6325964162,6328645849,6329817531,6329912947,6331683956,6332566377,6333432217,6334449348,6335405612,6336874945,6339323177,6339645033,6340264147,6340760061,6342064869,6342192899,6343038292,6346022350,6346251620,6347684691,6348932022,6350931154,6353416200,6353607761,6353758451,6354227738,6357447984,6359321897,6363291678,6365279752,6366598463,6368612399,6368923515,6369291627,6369378335,6370521492,6373314979,6374007284,6380113731,6380245178,6380285974,6380434311,6380626809,6382215931,6383814802,6384797283,6385093167,6386166156,6388126868,6391295795,6393136475,6393255268,6394558551,6395370880,6396101033,6397501503,6397798527,6398272354,6400286892,6404617033,6404902424,6405633403,6406299601,6406791707,6407875650,6408502165,6408698828,6409015120,6411374866,6412468363,6413139723,6415549729,6418308737,6418511441,6418698124,6418932023,6419578104,6420830392,6420984333,6421257222,6422331964,6422473992,6422694428,6423069724,6423589786,6424341371,6424769963,6426205577,6428587880,6429031412,6430349735,6431357456,6431484164,6432495485,6432897813,6433232020,6433289969,6433821257,6434345148,6434842159,6438073967,6438861040,6442393145,6443896024,6445039516,6445942392,6446161554,6446391563,6449951909,6450381813,6450768890,6452661445,6453708853,6456549783,6456774027,6460450796,6460627506,6462110958,6463028437,6463269051,6465058295,6465667536,6468995388,6470761349,6471954819,6472884362,6474181446,6476220981,6476904037,6479962208,6480434739,6481476274,6484758345,6485509657,6486055356,6486105039,6492243302,6493991136,6495429661,6495513958,6496247521,6496780116,6498967089,6500921039,6501060142,6501157708,6501390974,6502216396,6502333956,6504233975,6504260289,6505065321,6505073936,6505260734,6512113072,6512419860,6515155212,6515743381,6517985480,6519310061,6520083740,6521379420,6521692854,6524054044,6524227876,6524453525,6527371810,6529059505,6529747014,6530694104,6531644884,6531690304,6531736229,6535228110,6536766375,6538828603,6539510877,6539938485,6540577241,6540917016,6542029045,6543255292,6543366233,6543371702,6544201089,6544536383,6546031085,6546870499,6546981883,6547043063,6547422856,6548913137,6549383841,6552001545,6552074738,6553298425,6554028515,6555865033,6555999785,6558569852,6561310783,6561783573,6565448827,6565793817,6566159384,6567650074,6567846656,6568879601,6571515078,6572732555,6574569646,6575815976,6576529686,6577947894,6580583830,6581340838,6582949033,6583905680,6584005538,6585169000,6586392610,6586603651,6590688439,6591124535,6593978614,6594351483,6595781148,6598185485,6600249491,6600708313,6605004438,6605484408,6605959260,6605971417,6606749921,6607074564,6617510083,6618748647,6619030744,6619789630,6620741732,6620829586,6623006333,6623876934,6625814755,6626020006,6626944478,6627351218,6628624555,6631881964,6632395757,6633716947,6634664569,6635261498,6635848076,6636990126,6637686909,6638512176,6638540153,6639733742,6641494778,6642146926,6643562617,6644492798,6651112346,6651786312,6652925666,6653334419,6654600186,6654612638,6654851998,6654871637,6658165981,6659324296,6659424566,6660066018,6660093468,6661610317,6662015632,6664866404,6665254221,6665906072,6661273529,6661273532,6661273532,6661273533,6661273532,6661273533],\"type\":\"pie\"}],                        {\"template\":{\"data\":{\"bar\":[{\"error_x\":{\"color\":\"#2a3f5f\"},\"error_y\":{\"color\":\"#2a3f5f\"},\"marker\":{\"line\":{\"color\":\"#E5ECF6\",\"width\":0.5},\"pattern\":{\"fillmode\":\"overlay\",\"size\":10,\"solidity\":0.2}},\"type\":\"bar\"}],\"barpolar\":[{\"marker\":{\"line\":{\"color\":\"#E5ECF6\",\"width\":0.5},\"pattern\":{\"fillmode\":\"overlay\",\"size\":10,\"solidity\":0.2}},\"type\":\"barpolar\"}],\"carpet\":[{\"aaxis\":{\"endlinecolor\":\"#2a3f5f\",\"gridcolor\":\"white\",\"linecolor\":\"white\",\"minorgridcolor\":\"white\",\"startlinecolor\":\"#2a3f5f\"},\"baxis\":{\"endlinecolor\":\"#2a3f5f\",\"gridcolor\":\"white\",\"linecolor\":\"white\",\"minorgridcolor\":\"white\",\"startlinecolor\":\"#2a3f5f\"},\"type\":\"carpet\"}],\"choropleth\":[{\"colorbar\":{\"outlinewidth\":0,\"ticks\":\"\"},\"type\":\"choropleth\"}],\"contour\":[{\"colorbar\":{\"outlinewidth\":0,\"ticks\":\"\"},\"colorscale\":[[0.0,\"#0d0887\"],[0.1111111111111111,\"#46039f\"],[0.2222222222222222,\"#7201a8\"],[0.3333333333333333,\"#9c179e\"],[0.4444444444444444,\"#bd3786\"],[0.5555555555555556,\"#d8576b\"],[0.6666666666666666,\"#ed7953\"],[0.7777777777777778,\"#fb9f3a\"],[0.8888888888888888,\"#fdca26\"],[1.0,\"#f0f921\"]],\"type\":\"contour\"}],\"contourcarpet\":[{\"colorbar\":{\"outlinewidth\":0,\"ticks\":\"\"},\"type\":\"contourcarpet\"}],\"heatmap\":[{\"colorbar\":{\"outlinewidth\":0,\"ticks\":\"\"},\"colorscale\":[[0.0,\"#0d0887\"],[0.1111111111111111,\"#46039f\"],[0.2222222222222222,\"#7201a8\"],[0.3333333333333333,\"#9c179e\"],[0.4444444444444444,\"#bd3786\"],[0.5555555555555556,\"#d8576b\"],[0.6666666666666666,\"#ed7953\"],[0.7777777777777778,\"#fb9f3a\"],[0.8888888888888888,\"#fdca26\"],[1.0,\"#f0f921\"]],\"type\":\"heatmap\"}],\"heatmapgl\":[{\"colorbar\":{\"outlinewidth\":0,\"ticks\":\"\"},\"colorscale\":[[0.0,\"#0d0887\"],[0.1111111111111111,\"#46039f\"],[0.2222222222222222,\"#7201a8\"],[0.3333333333333333,\"#9c179e\"],[0.4444444444444444,\"#bd3786\"],[0.5555555555555556,\"#d8576b\"],[0.6666666666666666,\"#ed7953\"],[0.7777777777777778,\"#fb9f3a\"],[0.8888888888888888,\"#fdca26\"],[1.0,\"#f0f921\"]],\"type\":\"heatmapgl\"}],\"histogram\":[{\"marker\":{\"pattern\":{\"fillmode\":\"overlay\",\"size\":10,\"solidity\":0.2}},\"type\":\"histogram\"}],\"histogram2d\":[{\"colorbar\":{\"outlinewidth\":0,\"ticks\":\"\"},\"colorscale\":[[0.0,\"#0d0887\"],[0.1111111111111111,\"#46039f\"],[0.2222222222222222,\"#7201a8\"],[0.3333333333333333,\"#9c179e\"],[0.4444444444444444,\"#bd3786\"],[0.5555555555555556,\"#d8576b\"],[0.6666666666666666,\"#ed7953\"],[0.7777777777777778,\"#fb9f3a\"],[0.8888888888888888,\"#fdca26\"],[1.0,\"#f0f921\"]],\"type\":\"histogram2d\"}],\"histogram2dcontour\":[{\"colorbar\":{\"outlinewidth\":0,\"ticks\":\"\"},\"colorscale\":[[0.0,\"#0d0887\"],[0.1111111111111111,\"#46039f\"],[0.2222222222222222,\"#7201a8\"],[0.3333333333333333,\"#9c179e\"],[0.4444444444444444,\"#bd3786\"],[0.5555555555555556,\"#d8576b\"],[0.6666666666666666,\"#ed7953\"],[0.7777777777777778,\"#fb9f3a\"],[0.8888888888888888,\"#fdca26\"],[1.0,\"#f0f921\"]],\"type\":\"histogram2dcontour\"}],\"mesh3d\":[{\"colorbar\":{\"outlinewidth\":0,\"ticks\":\"\"},\"type\":\"mesh3d\"}],\"parcoords\":[{\"line\":{\"colorbar\":{\"outlinewidth\":0,\"ticks\":\"\"}},\"type\":\"parcoords\"}],\"pie\":[{\"automargin\":true,\"type\":\"pie\"}],\"scatter\":[{\"marker\":{\"colorbar\":{\"outlinewidth\":0,\"ticks\":\"\"}},\"type\":\"scatter\"}],\"scatter3d\":[{\"line\":{\"colorbar\":{\"outlinewidth\":0,\"ticks\":\"\"}},\"marker\":{\"colorbar\":{\"outlinewidth\":0,\"ticks\":\"\"}},\"type\":\"scatter3d\"}],\"scattercarpet\":[{\"marker\":{\"colorbar\":{\"outlinewidth\":0,\"ticks\":\"\"}},\"type\":\"scattercarpet\"}],\"scattergeo\":[{\"marker\":{\"colorbar\":{\"outlinewidth\":0,\"ticks\":\"\"}},\"type\":\"scattergeo\"}],\"scattergl\":[{\"marker\":{\"colorbar\":{\"outlinewidth\":0,\"ticks\":\"\"}},\"type\":\"scattergl\"}],\"scattermapbox\":[{\"marker\":{\"colorbar\":{\"outlinewidth\":0,\"ticks\":\"\"}},\"type\":\"scattermapbox\"}],\"scatterpolar\":[{\"marker\":{\"colorbar\":{\"outlinewidth\":0,\"ticks\":\"\"}},\"type\":\"scatterpolar\"}],\"scatterpolargl\":[{\"marker\":{\"colorbar\":{\"outlinewidth\":0,\"ticks\":\"\"}},\"type\":\"scatterpolargl\"}],\"scatterternary\":[{\"marker\":{\"colorbar\":{\"outlinewidth\":0,\"ticks\":\"\"}},\"type\":\"scatterternary\"}],\"surface\":[{\"colorbar\":{\"outlinewidth\":0,\"ticks\":\"\"},\"colorscale\":[[0.0,\"#0d0887\"],[0.1111111111111111,\"#46039f\"],[0.2222222222222222,\"#7201a8\"],[0.3333333333333333,\"#9c179e\"],[0.4444444444444444,\"#bd3786\"],[0.5555555555555556,\"#d8576b\"],[0.6666666666666666,\"#ed7953\"],[0.7777777777777778,\"#fb9f3a\"],[0.8888888888888888,\"#fdca26\"],[1.0,\"#f0f921\"]],\"type\":\"surface\"}],\"table\":[{\"cells\":{\"fill\":{\"color\":\"#EBF0F8\"},\"line\":{\"color\":\"white\"}},\"header\":{\"fill\":{\"color\":\"#C8D4E3\"},\"line\":{\"color\":\"white\"}},\"type\":\"table\"}]},\"layout\":{\"annotationdefaults\":{\"arrowcolor\":\"#2a3f5f\",\"arrowhead\":0,\"arrowwidth\":1},\"autotypenumbers\":\"strict\",\"coloraxis\":{\"colorbar\":{\"outlinewidth\":0,\"ticks\":\"\"}},\"colorscale\":{\"diverging\":[[0,\"#8e0152\"],[0.1,\"#c51b7d\"],[0.2,\"#de77ae\"],[0.3,\"#f1b6da\"],[0.4,\"#fde0ef\"],[0.5,\"#f7f7f7\"],[0.6,\"#e6f5d0\"],[0.7,\"#b8e186\"],[0.8,\"#7fbc41\"],[0.9,\"#4d9221\"],[1,\"#276419\"]],\"sequential\":[[0.0,\"#0d0887\"],[0.1111111111111111,\"#46039f\"],[0.2222222222222222,\"#7201a8\"],[0.3333333333333333,\"#9c179e\"],[0.4444444444444444,\"#bd3786\"],[0.5555555555555556,\"#d8576b\"],[0.6666666666666666,\"#ed7953\"],[0.7777777777777778,\"#fb9f3a\"],[0.8888888888888888,\"#fdca26\"],[1.0,\"#f0f921\"]],\"sequentialminus\":[[0.0,\"#0d0887\"],[0.1111111111111111,\"#46039f\"],[0.2222222222222222,\"#7201a8\"],[0.3333333333333333,\"#9c179e\"],[0.4444444444444444,\"#bd3786\"],[0.5555555555555556,\"#d8576b\"],[0.6666666666666666,\"#ed7953\"],[0.7777777777777778,\"#fb9f3a\"],[0.8888888888888888,\"#fdca26\"],[1.0,\"#f0f921\"]]},\"colorway\":[\"#636efa\",\"#EF553B\",\"#00cc96\",\"#ab63fa\",\"#FFA15A\",\"#19d3f3\",\"#FF6692\",\"#B6E880\",\"#FF97FF\",\"#FECB52\"],\"font\":{\"color\":\"#2a3f5f\"},\"geo\":{\"bgcolor\":\"white\",\"lakecolor\":\"white\",\"landcolor\":\"#E5ECF6\",\"showlakes\":true,\"showland\":true,\"subunitcolor\":\"white\"},\"hoverlabel\":{\"align\":\"left\"},\"hovermode\":\"closest\",\"mapbox\":{\"style\":\"light\"},\"paper_bgcolor\":\"white\",\"plot_bgcolor\":\"#E5ECF6\",\"polar\":{\"angularaxis\":{\"gridcolor\":\"white\",\"linecolor\":\"white\",\"ticks\":\"\"},\"bgcolor\":\"#E5ECF6\",\"radialaxis\":{\"gridcolor\":\"white\",\"linecolor\":\"white\",\"ticks\":\"\"}},\"scene\":{\"xaxis\":{\"backgroundcolor\":\"#E5ECF6\",\"gridcolor\":\"white\",\"gridwidth\":2,\"linecolor\":\"white\",\"showbackground\":true,\"ticks\":\"\",\"zerolinecolor\":\"white\"},\"yaxis\":{\"backgroundcolor\":\"#E5ECF6\",\"gridcolor\":\"white\",\"gridwidth\":2,\"linecolor\":\"white\",\"showbackground\":true,\"ticks\":\"\",\"zerolinecolor\":\"white\"},\"zaxis\":{\"backgroundcolor\":\"#E5ECF6\",\"gridcolor\":\"white\",\"gridwidth\":2,\"linecolor\":\"white\",\"showbackground\":true,\"ticks\":\"\",\"zerolinecolor\":\"white\"}},\"shapedefaults\":{\"line\":{\"color\":\"#2a3f5f\"}},\"ternary\":{\"aaxis\":{\"gridcolor\":\"white\",\"linecolor\":\"white\",\"ticks\":\"\"},\"baxis\":{\"gridcolor\":\"white\",\"linecolor\":\"white\",\"ticks\":\"\"},\"bgcolor\":\"#E5ECF6\",\"caxis\":{\"gridcolor\":\"white\",\"linecolor\":\"white\",\"ticks\":\"\"}},\"title\":{\"x\":0.05},\"xaxis\":{\"automargin\":true,\"gridcolor\":\"white\",\"linecolor\":\"white\",\"ticks\":\"\",\"title\":{\"standoff\":15},\"zerolinecolor\":\"white\",\"zerolinewidth\":2},\"yaxis\":{\"automargin\":true,\"gridcolor\":\"white\",\"linecolor\":\"white\",\"ticks\":\"\",\"title\":{\"standoff\":15},\"zerolinecolor\":\"white\",\"zerolinewidth\":2}}},\"legend\":{\"tracegroupgap\":0},\"title\":{\"text\":\"Fradulent Transaction\"},\"height\":400,\"width\":400},                        {\"responsive\": true}                    ).then(function(){\n",
              "                            \n",
              "var gd = document.getElementById('1523ebb6-916f-494c-a3ad-9355cbccdacd');\n",
              "var x = new MutationObserver(function (mutations, observer) {{\n",
              "        var display = window.getComputedStyle(gd).display;\n",
              "        if (!display || display === 'none') {{\n",
              "            console.log([gd, 'removed!']);\n",
              "            Plotly.purge(gd);\n",
              "            observer.disconnect();\n",
              "        }}\n",
              "}});\n",
              "\n",
              "// Listen for the removal of the full notebook cells\n",
              "var notebookContainer = gd.closest('#notebook-container');\n",
              "if (notebookContainer) {{\n",
              "    x.observe(notebookContainer, {childList: true});\n",
              "}}\n",
              "\n",
              "// Listen for the clearing of the current output cell\n",
              "var outputEl = gd.closest('.output');\n",
              "if (outputEl) {{\n",
              "    x.observe(outputEl, {childList: true});\n",
              "}}\n",
              "\n",
              "                        })                };                            </script>        </div>\n",
              "</body>\n",
              "</html>"
            ]
          },
          "metadata": {}
        }
      ]
    },
    {
      "cell_type": "markdown",
      "source": [
        "## Deteccion de Anomalias"
      ],
      "metadata": {
        "id": "NZcKbD5k8NLf"
      }
    },
    {
      "cell_type": "markdown",
      "source": [
        "### Analisis Z scores\n",
        "Generalmente se utiliza para conjuntos de datos que muestran un esquema de distribucion Gaussiana, sirve como una referencia de cuanto se encuentra alejado el dato que nos interesa del promedio de los valores, los z-scores estan definidos de la siguiente manera:\n",
        "* Z-score(i) = (x(i)-media)/ desviacion estandar"
      ],
      "metadata": {
        "id": "y1JJv8Jt8UMv"
      }
    },
    {
      "cell_type": "code",
      "source": [
        "import scipy.stats as estad\n",
        "\n",
        "data['Trans zscore'] = estad.zscore(data['Transaction_amount'])\n",
        "data['Trans_Aver zscore'] = estad.zscore(data['Average Amount/transaction/day'])\n",
        "\n",
        "data[['Transaction_amount','Trans zscore','Average Amount/transaction/day','Trans_Aver zscore']]"
      ],
      "metadata": {
        "colab": {
          "base_uri": "https://localhost:8080/",
          "height": 0
        },
        "id": "bh6qSfBX9Qm7",
        "outputId": "afec09af-514a-4f9e-f930-49abf0227f0e"
      },
      "execution_count": 22,
      "outputs": [
        {
          "output_type": "execute_result",
          "data": {
            "text/plain": [
              "      Transaction_amount  Trans zscore  Average Amount/transaction/day  \\\n",
              "0                 3000.0     -0.678569                           100.0   \n",
              "1                 4300.0     -0.550284                           100.0   \n",
              "2                 4823.0     -0.498674                           185.5   \n",
              "3                 5008.5     -0.480368                           185.5   \n",
              "4                26000.0      1.591090                           500.0   \n",
              "...                  ...           ...                             ...   \n",
              "3070             11000.0      0.110878                           500.0   \n",
              "3071                 0.0     -0.974611                           800.0   \n",
              "3072             20800.0      1.077950                           800.0   \n",
              "3073             12000.0      0.209559                          1500.0   \n",
              "3074             36000.0      2.577898                          1500.0   \n",
              "\n",
              "      Trans_Aver zscore  \n",
              "0             -1.422008  \n",
              "1             -1.422008  \n",
              "2             -1.129059  \n",
              "3             -1.129059  \n",
              "4             -0.051486  \n",
              "...                 ...  \n",
              "3070          -0.051486  \n",
              "3071           0.976406  \n",
              "3072           0.976406  \n",
              "3073           3.374820  \n",
              "3074           3.374820  \n",
              "\n",
              "[3075 rows x 4 columns]"
            ],
            "text/html": [
              "\n",
              "  <div id=\"df-81d32b11-571c-4a22-afaf-1f8c40fd1c04\">\n",
              "    <div class=\"colab-df-container\">\n",
              "      <div>\n",
              "<style scoped>\n",
              "    .dataframe tbody tr th:only-of-type {\n",
              "        vertical-align: middle;\n",
              "    }\n",
              "\n",
              "    .dataframe tbody tr th {\n",
              "        vertical-align: top;\n",
              "    }\n",
              "\n",
              "    .dataframe thead th {\n",
              "        text-align: right;\n",
              "    }\n",
              "</style>\n",
              "<table border=\"1\" class=\"dataframe\">\n",
              "  <thead>\n",
              "    <tr style=\"text-align: right;\">\n",
              "      <th></th>\n",
              "      <th>Transaction_amount</th>\n",
              "      <th>Trans zscore</th>\n",
              "      <th>Average Amount/transaction/day</th>\n",
              "      <th>Trans_Aver zscore</th>\n",
              "    </tr>\n",
              "  </thead>\n",
              "  <tbody>\n",
              "    <tr>\n",
              "      <th>0</th>\n",
              "      <td>3000.0</td>\n",
              "      <td>-0.678569</td>\n",
              "      <td>100.0</td>\n",
              "      <td>-1.422008</td>\n",
              "    </tr>\n",
              "    <tr>\n",
              "      <th>1</th>\n",
              "      <td>4300.0</td>\n",
              "      <td>-0.550284</td>\n",
              "      <td>100.0</td>\n",
              "      <td>-1.422008</td>\n",
              "    </tr>\n",
              "    <tr>\n",
              "      <th>2</th>\n",
              "      <td>4823.0</td>\n",
              "      <td>-0.498674</td>\n",
              "      <td>185.5</td>\n",
              "      <td>-1.129059</td>\n",
              "    </tr>\n",
              "    <tr>\n",
              "      <th>3</th>\n",
              "      <td>5008.5</td>\n",
              "      <td>-0.480368</td>\n",
              "      <td>185.5</td>\n",
              "      <td>-1.129059</td>\n",
              "    </tr>\n",
              "    <tr>\n",
              "      <th>4</th>\n",
              "      <td>26000.0</td>\n",
              "      <td>1.591090</td>\n",
              "      <td>500.0</td>\n",
              "      <td>-0.051486</td>\n",
              "    </tr>\n",
              "    <tr>\n",
              "      <th>...</th>\n",
              "      <td>...</td>\n",
              "      <td>...</td>\n",
              "      <td>...</td>\n",
              "      <td>...</td>\n",
              "    </tr>\n",
              "    <tr>\n",
              "      <th>3070</th>\n",
              "      <td>11000.0</td>\n",
              "      <td>0.110878</td>\n",
              "      <td>500.0</td>\n",
              "      <td>-0.051486</td>\n",
              "    </tr>\n",
              "    <tr>\n",
              "      <th>3071</th>\n",
              "      <td>0.0</td>\n",
              "      <td>-0.974611</td>\n",
              "      <td>800.0</td>\n",
              "      <td>0.976406</td>\n",
              "    </tr>\n",
              "    <tr>\n",
              "      <th>3072</th>\n",
              "      <td>20800.0</td>\n",
              "      <td>1.077950</td>\n",
              "      <td>800.0</td>\n",
              "      <td>0.976406</td>\n",
              "    </tr>\n",
              "    <tr>\n",
              "      <th>3073</th>\n",
              "      <td>12000.0</td>\n",
              "      <td>0.209559</td>\n",
              "      <td>1500.0</td>\n",
              "      <td>3.374820</td>\n",
              "    </tr>\n",
              "    <tr>\n",
              "      <th>3074</th>\n",
              "      <td>36000.0</td>\n",
              "      <td>2.577898</td>\n",
              "      <td>1500.0</td>\n",
              "      <td>3.374820</td>\n",
              "    </tr>\n",
              "  </tbody>\n",
              "</table>\n",
              "<p>3075 rows × 4 columns</p>\n",
              "</div>\n",
              "      <button class=\"colab-df-convert\" onclick=\"convertToInteractive('df-81d32b11-571c-4a22-afaf-1f8c40fd1c04')\"\n",
              "              title=\"Convert this dataframe to an interactive table.\"\n",
              "              style=\"display:none;\">\n",
              "        \n",
              "  <svg xmlns=\"http://www.w3.org/2000/svg\" height=\"24px\"viewBox=\"0 0 24 24\"\n",
              "       width=\"24px\">\n",
              "    <path d=\"M0 0h24v24H0V0z\" fill=\"none\"/>\n",
              "    <path d=\"M18.56 5.44l.94 2.06.94-2.06 2.06-.94-2.06-.94-.94-2.06-.94 2.06-2.06.94zm-11 1L8.5 8.5l.94-2.06 2.06-.94-2.06-.94L8.5 2.5l-.94 2.06-2.06.94zm10 10l.94 2.06.94-2.06 2.06-.94-2.06-.94-.94-2.06-.94 2.06-2.06.94z\"/><path d=\"M17.41 7.96l-1.37-1.37c-.4-.4-.92-.59-1.43-.59-.52 0-1.04.2-1.43.59L10.3 9.45l-7.72 7.72c-.78.78-.78 2.05 0 2.83L4 21.41c.39.39.9.59 1.41.59.51 0 1.02-.2 1.41-.59l7.78-7.78 2.81-2.81c.8-.78.8-2.07 0-2.86zM5.41 20L4 18.59l7.72-7.72 1.47 1.35L5.41 20z\"/>\n",
              "  </svg>\n",
              "      </button>\n",
              "      \n",
              "  <style>\n",
              "    .colab-df-container {\n",
              "      display:flex;\n",
              "      flex-wrap:wrap;\n",
              "      gap: 12px;\n",
              "    }\n",
              "\n",
              "    .colab-df-convert {\n",
              "      background-color: #E8F0FE;\n",
              "      border: none;\n",
              "      border-radius: 50%;\n",
              "      cursor: pointer;\n",
              "      display: none;\n",
              "      fill: #1967D2;\n",
              "      height: 32px;\n",
              "      padding: 0 0 0 0;\n",
              "      width: 32px;\n",
              "    }\n",
              "\n",
              "    .colab-df-convert:hover {\n",
              "      background-color: #E2EBFA;\n",
              "      box-shadow: 0px 1px 2px rgba(60, 64, 67, 0.3), 0px 1px 3px 1px rgba(60, 64, 67, 0.15);\n",
              "      fill: #174EA6;\n",
              "    }\n",
              "\n",
              "    [theme=dark] .colab-df-convert {\n",
              "      background-color: #3B4455;\n",
              "      fill: #D2E3FC;\n",
              "    }\n",
              "\n",
              "    [theme=dark] .colab-df-convert:hover {\n",
              "      background-color: #434B5C;\n",
              "      box-shadow: 0px 1px 3px 1px rgba(0, 0, 0, 0.15);\n",
              "      filter: drop-shadow(0px 1px 2px rgba(0, 0, 0, 0.3));\n",
              "      fill: #FFFFFF;\n",
              "    }\n",
              "  </style>\n",
              "\n",
              "      <script>\n",
              "        const buttonEl =\n",
              "          document.querySelector('#df-81d32b11-571c-4a22-afaf-1f8c40fd1c04 button.colab-df-convert');\n",
              "        buttonEl.style.display =\n",
              "          google.colab.kernel.accessAllowed ? 'block' : 'none';\n",
              "\n",
              "        async function convertToInteractive(key) {\n",
              "          const element = document.querySelector('#df-81d32b11-571c-4a22-afaf-1f8c40fd1c04');\n",
              "          const dataTable =\n",
              "            await google.colab.kernel.invokeFunction('convertToInteractive',\n",
              "                                                     [key], {});\n",
              "          if (!dataTable) return;\n",
              "\n",
              "          const docLinkHtml = 'Like what you see? Visit the ' +\n",
              "            '<a target=\"_blank\" href=https://colab.research.google.com/notebooks/data_table.ipynb>data table notebook</a>'\n",
              "            + ' to learn more about interactive tables.';\n",
              "          element.innerHTML = '';\n",
              "          dataTable['output_type'] = 'display_data';\n",
              "          await google.colab.output.renderOutput(dataTable, element);\n",
              "          const docLink = document.createElement('div');\n",
              "          docLink.innerHTML = docLinkHtml;\n",
              "          element.appendChild(docLink);\n",
              "        }\n",
              "      </script>\n",
              "    </div>\n",
              "  </div>\n",
              "  "
            ]
          },
          "metadata": {},
          "execution_count": 22
        }
      ]
    },
    {
      "cell_type": "markdown",
      "source": [
        "### Analisis por aproximacion grafica: Boxplot\n",
        "Graficaremos un Boxplot para cada variable numerica.\n",
        "\n"
      ],
      "metadata": {
        "id": "QUPxlnsT-P25"
      }
    },
    {
      "cell_type": "code",
      "source": [
        "sns.boxplot(data['Transaction_amount'])"
      ],
      "metadata": {
        "colab": {
          "base_uri": "https://localhost:8080/",
          "height": 0
        },
        "id": "RIeqwwUM-Pbl",
        "outputId": "44aa394c-6923-400b-a8bb-9fcfad657f8b"
      },
      "execution_count": 23,
      "outputs": [
        {
          "output_type": "stream",
          "name": "stderr",
          "text": [
            "/usr/local/lib/python3.7/dist-packages/seaborn/_decorators.py:43: FutureWarning:\n",
            "\n",
            "Pass the following variable as a keyword arg: x. From version 0.12, the only valid positional argument will be `data`, and passing other arguments without an explicit keyword will result in an error or misinterpretation.\n",
            "\n"
          ]
        },
        {
          "output_type": "execute_result",
          "data": {
            "text/plain": [
              "<matplotlib.axes._subplots.AxesSubplot at 0x7fa12d10a110>"
            ]
          },
          "metadata": {},
          "execution_count": 23
        },
        {
          "output_type": "display_data",
          "data": {
            "text/plain": [
              "<Figure size 432x288 with 1 Axes>"
            ],
            "image/png": "[encoded data removed]"
          },
          "metadata": {
            "needs_background": "light"
          }
        }
      ]
    },
    {
      "cell_type": "code",
      "source": [
        "sns.boxplot(data['Average Amount/transaction/day'])"
      ],
      "metadata": {
        "colab": {
          "base_uri": "https://localhost:8080/",
          "height": 0
        },
        "id": "t8fbcCyf-bw4",
        "outputId": "58423f94-5c3c-40ae-d2ae-e8293ab4913c"
      },
      "execution_count": 24,
      "outputs": [
        {
          "output_type": "stream",
          "name": "stderr",
          "text": [
            "/usr/local/lib/python3.7/dist-packages/seaborn/_decorators.py:43: FutureWarning:\n",
            "\n",
            "Pass the following variable as a keyword arg: x. From version 0.12, the only valid positional argument will be `data`, and passing other arguments without an explicit keyword will result in an error or misinterpretation.\n",
            "\n"
          ]
        },
        {
          "output_type": "execute_result",
          "data": {
            "text/plain": [
              "<matplotlib.axes._subplots.AxesSubplot at 0x7fa12c38d410>"
            ]
          },
          "metadata": {},
          "execution_count": 24
        },
        {
          "output_type": "display_data",
          "data": {
            "text/plain": [
              "<Figure size 432x288 with 1 Axes>"
            ],
            "image/png": "[encoded data removed]"
          },
          "metadata": {
            "needs_background": "light"
          }
        }
      ]
    },
    {
      "cell_type": "code",
      "source": [
        "sns.boxplot(data['6_month_avg_chbk_amt'])"
      ],
      "metadata": {
        "colab": {
          "base_uri": "https://localhost:8080/",
          "height": 0
        },
        "id": "_SQupzzJ-zRj",
        "outputId": "a4be970c-8429-4f55-ca75-035f64705df1"
      },
      "execution_count": 25,
      "outputs": [
        {
          "output_type": "stream",
          "name": "stderr",
          "text": [
            "/usr/local/lib/python3.7/dist-packages/seaborn/_decorators.py:43: FutureWarning:\n",
            "\n",
            "Pass the following variable as a keyword arg: x. From version 0.12, the only valid positional argument will be `data`, and passing other arguments without an explicit keyword will result in an error or misinterpretation.\n",
            "\n"
          ]
        },
        {
          "output_type": "execute_result",
          "data": {
            "text/plain": [
              "<matplotlib.axes._subplots.AxesSubplot at 0x7fa12c303cd0>"
            ]
          },
          "metadata": {},
          "execution_count": 25
        },
        {
          "output_type": "display_data",
          "data": {
            "text/plain": [
              "<Figure size 432x288 with 1 Axes>"
            ],
            "image/png": "[encoded data removed]"
          },
          "metadata": {
            "needs_background": "light"
          }
        }
      ]
    },
    {
      "cell_type": "code",
      "source": [
        "sns.boxplot(data['6-month_chbk_freq'])"
      ],
      "metadata": {
        "colab": {
          "base_uri": "https://localhost:8080/",
          "height": 0
        },
        "id": "kKSMg1fg-2Ue",
        "outputId": "6175fd9b-5702-40a3-f4f1-9e53170cd92c"
      },
      "execution_count": 26,
      "outputs": [
        {
          "output_type": "stream",
          "name": "stderr",
          "text": [
            "/usr/local/lib/python3.7/dist-packages/seaborn/_decorators.py:43: FutureWarning:\n",
            "\n",
            "Pass the following variable as a keyword arg: x. From version 0.12, the only valid positional argument will be `data`, and passing other arguments without an explicit keyword will result in an error or misinterpretation.\n",
            "\n"
          ]
        },
        {
          "output_type": "execute_result",
          "data": {
            "text/plain": [
              "<matplotlib.axes._subplots.AxesSubplot at 0x7fa12c2e9510>"
            ]
          },
          "metadata": {},
          "execution_count": 26
        },
        {
          "output_type": "display_data",
          "data": {
            "text/plain": [
              "<Figure size 432x288 with 1 Axes>"
            ],
            "image/png": "[encoded data removed]"
          },
          "metadata": {
            "needs_background": "light"
          }
        }
      ]
    },
    {
      "cell_type": "markdown",
      "source": [
        "## Transformacion de variables categoricas a numericas"
      ],
      "metadata": {
        "id": "I67-pf6FnH1q"
      }
    },
    {
      "cell_type": "code",
      "source": [
        "from sklearn.preprocessing import LabelEncoder"
      ],
      "metadata": {
        "id": "gi94GnTSnGLc"
      },
      "execution_count": 27,
      "outputs": []
    },
    {
      "cell_type": "markdown",
      "source": [
        "### Multi-column label encoder"
      ],
      "metadata": {
        "id": "OHW7gHBfnZ5A"
      }
    },
    {
      "cell_type": "code",
      "source": [
        "class MultiColumnLabelEncoder:\n",
        "    def __init__(self,columns = None):\n",
        "        self.columns = columns # array of column names to encode\n",
        "\n",
        "    def fit(self,X,y=None):\n",
        "        return self # not relevant here\n",
        "\n",
        "    def transform(self,X):\n",
        "        '''\n",
        "        Transforms columns of X specified in self.columns using\n",
        "        LabelEncoder(). If no columns specified, transforms all\n",
        "        columns in X.\n",
        "        '''\n",
        "        output = X.copy()\n",
        "        if self.columns is not None:\n",
        "            for col in self.columns:\n",
        "                output[col] = LabelEncoder().fit_transform(output[col])\n",
        "        else:\n",
        "            for colname,col in output.iteritems():\n",
        "                output[colname] = LabelEncoder().fit_transform(col)\n",
        "        return output\n",
        "\n",
        "    def fit_transform(self,X,y=None):\n",
        "        return self.fit(X,y).transform(X)"
      ],
      "metadata": {
        "id": "O_tl-oHonS_C"
      },
      "execution_count": 28,
      "outputs": []
    },
    {
      "cell_type": "code",
      "source": [
        "categoric = list(data.select_dtypes(exclude = 'number').columns)"
      ],
      "metadata": {
        "id": "vNVrXZ_InQ6p"
      },
      "execution_count": 29,
      "outputs": []
    },
    {
      "cell_type": "code",
      "source": [
        "categoric"
      ],
      "metadata": {
        "colab": {
          "base_uri": "https://localhost:8080/"
        },
        "id": "KaudtlZBo4H8",
        "outputId": "5872d577-ff0e-4da2-bf26-4c75566d72ab"
      },
      "execution_count": 30,
      "outputs": [
        {
          "output_type": "execute_result",
          "data": {
            "text/plain": [
              "['Is declined', 'isForeignTransaction', 'isHighRiskCountry', 'isFradulent']"
            ]
          },
          "metadata": {},
          "execution_count": 30
        }
      ]
    },
    {
      "cell_type": "code",
      "source": [
        "df = MultiColumnLabelEncoder(columns = categoric).fit_transform(data)\n",
        "df.head()"
      ],
      "metadata": {
        "colab": {
          "base_uri": "https://localhost:8080/",
          "height": 0
        },
        "id": "iKmapq0jqgR7",
        "outputId": "dde06178-59af-4a04-ed1e-8de07f869e3f"
      },
      "execution_count": 31,
      "outputs": [
        {
          "output_type": "execute_result",
          "data": {
            "text/plain": [
              "   Merchant_id  Transaction date  Average Amount/transaction/day  \\\n",
              "0   3160040998               NaN                           100.0   \n",
              "1   3160040998               NaN                           100.0   \n",
              "2   3160041896               NaN                           185.5   \n",
              "3   3160141996               NaN                           185.5   \n",
              "4   3160241992               NaN                           500.0   \n",
              "\n",
              "   Transaction_amount  Is declined  Total Number of declines/day  \\\n",
              "0              3000.0            0                             5   \n",
              "1              4300.0            0                             5   \n",
              "2              4823.0            1                             5   \n",
              "3              5008.5            1                             8   \n",
              "4             26000.0            0                             0   \n",
              "\n",
              "   isForeignTransaction  isHighRiskCountry  Daily_chargeback_avg_amt  \\\n",
              "0                     1                  1                         0   \n",
              "1                     1                  1                         0   \n",
              "2                     0                  0                         0   \n",
              "3                     0                  0                         0   \n",
              "4                     1                  1                       800   \n",
              "\n",
              "   6_month_avg_chbk_amt  6-month_chbk_freq  isFradulent  Trans zscore  \\\n",
              "0                   0.0                  0            1     -0.678569   \n",
              "1                   0.0                  0            1     -0.550284   \n",
              "2                   0.0                  0            1     -0.498674   \n",
              "3                   0.0                  0            1     -0.480368   \n",
              "4                 677.2                  6            1      1.591090   \n",
              "\n",
              "   Trans_Aver zscore  \n",
              "0          -1.422008  \n",
              "1          -1.422008  \n",
              "2          -1.129059  \n",
              "3          -1.129059  \n",
              "4          -0.051486  "
            ],
            "text/html": [
              "\n",
              "  <div id=\"df-d994b5d8-86ac-4a1c-bd9c-a3e6f2e07a36\">\n",
              "    <div class=\"colab-df-container\">\n",
              "      <div>\n",
              "<style scoped>\n",
              "    .dataframe tbody tr th:only-of-type {\n",
              "        vertical-align: middle;\n",
              "    }\n",
              "\n",
              "    .dataframe tbody tr th {\n",
              "        vertical-align: top;\n",
              "    }\n",
              "\n",
              "    .dataframe thead th {\n",
              "        text-align: right;\n",
              "    }\n",
              "</style>\n",
              "<table border=\"1\" class=\"dataframe\">\n",
              "  <thead>\n",
              "    <tr style=\"text-align: right;\">\n",
              "      <th></th>\n",
              "      <th>Merchant_id</th>\n",
              "      <th>Transaction date</th>\n",
              "      <th>Average Amount/transaction/day</th>\n",
              "      <th>Transaction_amount</th>\n",
              "      <th>Is declined</th>\n",
              "      <th>Total Number of declines/day</th>\n",
              "      <th>isForeignTransaction</th>\n",
              "      <th>isHighRiskCountry</th>\n",
              "      <th>Daily_chargeback_avg_amt</th>\n",
              "      <th>6_month_avg_chbk_amt</th>\n",
              "      <th>6-month_chbk_freq</th>\n",
              "      <th>isFradulent</th>\n",
              "      <th>Trans zscore</th>\n",
              "      <th>Trans_Aver zscore</th>\n",
              "    </tr>\n",
              "  </thead>\n",
              "  <tbody>\n",
              "    <tr>\n",
              "      <th>0</th>\n",
              "      <td>3160040998</td>\n",
              "      <td>NaN</td>\n",
              "      <td>100.0</td>\n",
              "      <td>3000.0</td>\n",
              "      <td>0</td>\n",
              "      <td>5</td>\n",
              "      <td>1</td>\n",
              "      <td>1</td>\n",
              "      <td>0</td>\n",
              "      <td>0.0</td>\n",
              "      <td>0</td>\n",
              "      <td>1</td>\n",
              "      <td>-0.678569</td>\n",
              "      <td>-1.422008</td>\n",
              "    </tr>\n",
              "    <tr>\n",
              "      <th>1</th>\n",
              "      <td>3160040998</td>\n",
              "      <td>NaN</td>\n",
              "      <td>100.0</td>\n",
              "      <td>4300.0</td>\n",
              "      <td>0</td>\n",
              "      <td>5</td>\n",
              "      <td>1</td>\n",
              "      <td>1</td>\n",
              "      <td>0</td>\n",
              "      <td>0.0</td>\n",
              "      <td>0</td>\n",
              "      <td>1</td>\n",
              "      <td>-0.550284</td>\n",
              "      <td>-1.422008</td>\n",
              "    </tr>\n",
              "    <tr>\n",
              "      <th>2</th>\n",
              "      <td>3160041896</td>\n",
              "      <td>NaN</td>\n",
              "      <td>185.5</td>\n",
              "      <td>4823.0</td>\n",
              "      <td>1</td>\n",
              "      <td>5</td>\n",
              "      <td>0</td>\n",
              "      <td>0</td>\n",
              "      <td>0</td>\n",
              "      <td>0.0</td>\n",
              "      <td>0</td>\n",
              "      <td>1</td>\n",
              "      <td>-0.498674</td>\n",
              "      <td>-1.129059</td>\n",
              "    </tr>\n",
              "    <tr>\n",
              "      <th>3</th>\n",
              "      <td>3160141996</td>\n",
              "      <td>NaN</td>\n",
              "      <td>185.5</td>\n",
              "      <td>5008.5</td>\n",
              "      <td>1</td>\n",
              "      <td>8</td>\n",
              "      <td>0</td>\n",
              "      <td>0</td>\n",
              "      <td>0</td>\n",
              "      <td>0.0</td>\n",
              "      <td>0</td>\n",
              "      <td>1</td>\n",
              "      <td>-0.480368</td>\n",
              "      <td>-1.129059</td>\n",
              "    </tr>\n",
              "    <tr>\n",
              "      <th>4</th>\n",
              "      <td>3160241992</td>\n",
              "      <td>NaN</td>\n",
              "      <td>500.0</td>\n",
              "      <td>26000.0</td>\n",
              "      <td>0</td>\n",
              "      <td>0</td>\n",
              "      <td>1</td>\n",
              "      <td>1</td>\n",
              "      <td>800</td>\n",
              "      <td>677.2</td>\n",
              "      <td>6</td>\n",
              "      <td>1</td>\n",
              "      <td>1.591090</td>\n",
              "      <td>-0.051486</td>\n",
              "    </tr>\n",
              "  </tbody>\n",
              "</table>\n",
              "</div>\n",
              "      <button class=\"colab-df-convert\" onclick=\"convertToInteractive('df-d994b5d8-86ac-4a1c-bd9c-a3e6f2e07a36')\"\n",
              "              title=\"Convert this dataframe to an interactive table.\"\n",
              "              style=\"display:none;\">\n",
              "        \n",
              "  <svg xmlns=\"http://www.w3.org/2000/svg\" height=\"24px\"viewBox=\"0 0 24 24\"\n",
              "       width=\"24px\">\n",
              "    <path d=\"M0 0h24v24H0V0z\" fill=\"none\"/>\n",
              "    <path d=\"M18.56 5.44l.94 2.06.94-2.06 2.06-.94-2.06-.94-.94-2.06-.94 2.06-2.06.94zm-11 1L8.5 8.5l.94-2.06 2.06-.94-2.06-.94L8.5 2.5l-.94 2.06-2.06.94zm10 10l.94 2.06.94-2.06 2.06-.94-2.06-.94-.94-2.06-.94 2.06-2.06.94z\"/><path d=\"M17.41 7.96l-1.37-1.37c-.4-.4-.92-.59-1.43-.59-.52 0-1.04.2-1.43.59L10.3 9.45l-7.72 7.72c-.78.78-.78 2.05 0 2.83L4 21.41c.39.39.9.59 1.41.59.51 0 1.02-.2 1.41-.59l7.78-7.78 2.81-2.81c.8-.78.8-2.07 0-2.86zM5.41 20L4 18.59l7.72-7.72 1.47 1.35L5.41 20z\"/>\n",
              "  </svg>\n",
              "      </button>\n",
              "      \n",
              "  <style>\n",
              "    .colab-df-container {\n",
              "      display:flex;\n",
              "      flex-wrap:wrap;\n",
              "      gap: 12px;\n",
              "    }\n",
              "\n",
              "    .colab-df-convert {\n",
              "      background-color: #E8F0FE;\n",
              "      border: none;\n",
              "      border-radius: 50%;\n",
              "      cursor: pointer;\n",
              "      display: none;\n",
              "      fill: #1967D2;\n",
              "      height: 32px;\n",
              "      padding: 0 0 0 0;\n",
              "      width: 32px;\n",
              "    }\n",
              "\n",
              "    .colab-df-convert:hover {\n",
              "      background-color: #E2EBFA;\n",
              "      box-shadow: 0px 1px 2px rgba(60, 64, 67, 0.3), 0px 1px 3px 1px rgba(60, 64, 67, 0.15);\n",
              "      fill: #174EA6;\n",
              "    }\n",
              "\n",
              "    [theme=dark] .colab-df-convert {\n",
              "      background-color: #3B4455;\n",
              "      fill: #D2E3FC;\n",
              "    }\n",
              "\n",
              "    [theme=dark] .colab-df-convert:hover {\n",
              "      background-color: #434B5C;\n",
              "      box-shadow: 0px 1px 3px 1px rgba(0, 0, 0, 0.15);\n",
              "      filter: drop-shadow(0px 1px 2px rgba(0, 0, 0, 0.3));\n",
              "      fill: #FFFFFF;\n",
              "    }\n",
              "  </style>\n",
              "\n",
              "      <script>\n",
              "        const buttonEl =\n",
              "          document.querySelector('#df-d994b5d8-86ac-4a1c-bd9c-a3e6f2e07a36 button.colab-df-convert');\n",
              "        buttonEl.style.display =\n",
              "          google.colab.kernel.accessAllowed ? 'block' : 'none';\n",
              "\n",
              "        async function convertToInteractive(key) {\n",
              "          const element = document.querySelector('#df-d994b5d8-86ac-4a1c-bd9c-a3e6f2e07a36');\n",
              "          const dataTable =\n",
              "            await google.colab.kernel.invokeFunction('convertToInteractive',\n",
              "                                                     [key], {});\n",
              "          if (!dataTable) return;\n",
              "\n",
              "          const docLinkHtml = 'Like what you see? Visit the ' +\n",
              "            '<a target=\"_blank\" href=https://colab.research.google.com/notebooks/data_table.ipynb>data table notebook</a>'\n",
              "            + ' to learn more about interactive tables.';\n",
              "          element.innerHTML = '';\n",
              "          dataTable['output_type'] = 'display_data';\n",
              "          await google.colab.output.renderOutput(dataTable, element);\n",
              "          const docLink = document.createElement('div');\n",
              "          docLink.innerHTML = docLinkHtml;\n",
              "          element.appendChild(docLink);\n",
              "        }\n",
              "      </script>\n",
              "    </div>\n",
              "  </div>\n",
              "  "
            ]
          },
          "metadata": {},
          "execution_count": 31
        }
      ]
    },
    {
      "cell_type": "markdown",
      "source": [
        "## Clustering - K Nearest Neighbors"
      ],
      "metadata": {
        "id": "Bz8clddL35Fl"
      }
    },
    {
      "cell_type": "code",
      "source": [
        "from sklearn.cluster import KMeans\n",
        "from sklearn.model_selection import train_test_split\n",
        "from sklearn.neighbors import KNeighborsClassifier"
      ],
      "metadata": {
        "id": "10-rhmf5Z1_2"
      },
      "execution_count": 32,
      "outputs": []
    },
    {
      "cell_type": "code",
      "source": [
        "df.columns"
      ],
      "metadata": {
        "colab": {
          "base_uri": "https://localhost:8080/"
        },
        "id": "wZMdwwU5ruPO",
        "outputId": "3e38ff2b-79ed-4243-b766-9cf8f5be54fa"
      },
      "execution_count": 33,
      "outputs": [
        {
          "output_type": "execute_result",
          "data": {
            "text/plain": [
              "Index(['Merchant_id', 'Transaction date', 'Average Amount/transaction/day',\n",
              "       'Transaction_amount', 'Is declined', 'Total Number of declines/day',\n",
              "       'isForeignTransaction', 'isHighRiskCountry', 'Daily_chargeback_avg_amt',\n",
              "       '6_month_avg_chbk_amt', '6-month_chbk_freq', 'isFradulent',\n",
              "       'Trans zscore', 'Trans_Aver zscore'],\n",
              "      dtype='object')"
            ]
          },
          "metadata": {},
          "execution_count": 33
        }
      ]
    },
    {
      "cell_type": "markdown",
      "source": [
        "Eliminamos aquellas columnas que no aportan data util al modelo"
      ],
      "metadata": {
        "id": "JQXZUraDrL8-"
      }
    },
    {
      "cell_type": "code",
      "source": [
        "df = df.drop(['Merchant_id'],1)\n",
        "df = df.drop(['Transaction date'],1)"
      ],
      "metadata": {
        "id": "_rxS5X-m4KVs",
        "colab": {
          "base_uri": "https://localhost:8080/"
        },
        "outputId": "5847596f-bb1d-42f7-830e-d4836a7564b6"
      },
      "execution_count": 34,
      "outputs": [
        {
          "output_type": "stream",
          "name": "stderr",
          "text": [
            "/usr/local/lib/python3.7/dist-packages/ipykernel_launcher.py:1: FutureWarning:\n",
            "\n",
            "In a future version of pandas all arguments of DataFrame.drop except for the argument 'labels' will be keyword-only\n",
            "\n",
            "/usr/local/lib/python3.7/dist-packages/ipykernel_launcher.py:2: FutureWarning:\n",
            "\n",
            "In a future version of pandas all arguments of DataFrame.drop except for the argument 'labels' will be keyword-only\n",
            "\n"
          ]
        }
      ]
    },
    {
      "cell_type": "code",
      "source": [
        "df"
      ],
      "metadata": {
        "colab": {
          "base_uri": "https://localhost:8080/",
          "height": 424
        },
        "id": "xL1F4VuFrcYa",
        "outputId": "79dbaba3-d2af-4266-bbc2-6150c7e46372"
      },
      "execution_count": 35,
      "outputs": [
        {
          "output_type": "execute_result",
          "data": {
            "text/plain": [
              "      Average Amount/transaction/day  Transaction_amount  Is declined  \\\n",
              "0                              100.0              3000.0            0   \n",
              "1                              100.0              4300.0            0   \n",
              "2                              185.5              4823.0            1   \n",
              "3                              185.5              5008.5            1   \n",
              "4                              500.0             26000.0            0   \n",
              "...                              ...                 ...          ...   \n",
              "3070                           500.0             11000.0            1   \n",
              "3071                           800.0                 0.0            1   \n",
              "3072                           800.0             20800.0            1   \n",
              "3073                          1500.0             12000.0            1   \n",
              "3074                          1500.0             36000.0            1   \n",
              "\n",
              "      Total Number of declines/day  isForeignTransaction  isHighRiskCountry  \\\n",
              "0                                5                     1                  1   \n",
              "1                                5                     1                  1   \n",
              "2                                5                     0                  0   \n",
              "3                                8                     0                  0   \n",
              "4                                0                     1                  1   \n",
              "...                            ...                   ...                ...   \n",
              "3070                             0                     0                  0   \n",
              "3071                             0                     0                  0   \n",
              "3072                             0                     0                  0   \n",
              "3073                             0                     1                  1   \n",
              "3074                             0                     1                  1   \n",
              "\n",
              "      Daily_chargeback_avg_amt  6_month_avg_chbk_amt  6-month_chbk_freq  \\\n",
              "0                            0                   0.0                  0   \n",
              "1                            0                   0.0                  0   \n",
              "2                            0                   0.0                  0   \n",
              "3                            0                   0.0                  0   \n",
              "4                          800                 677.2                  6   \n",
              "...                        ...                   ...                ...   \n",
              "3070                       754                 585.0                  7   \n",
              "3071                       754                 585.0                  7   \n",
              "3072                       754                 585.0                  7   \n",
              "3073                       754                 585.0                  7   \n",
              "3074                       754                 585.0                  7   \n",
              "\n",
              "      isFradulent  Trans zscore  Trans_Aver zscore  \n",
              "0               1     -0.678569          -1.422008  \n",
              "1               1     -0.550284          -1.422008  \n",
              "2               1     -0.498674          -1.129059  \n",
              "3               1     -0.480368          -1.129059  \n",
              "4               1      1.591090          -0.051486  \n",
              "...           ...           ...                ...  \n",
              "3070            0      0.110878          -0.051486  \n",
              "3071            0     -0.974611           0.976406  \n",
              "3072            0      1.077950           0.976406  \n",
              "3073            0      0.209559           3.374820  \n",
              "3074            0      2.577898           3.374820  \n",
              "\n",
              "[3075 rows x 12 columns]"
            ],
            "text/html": [
              "\n",
              "  <div id=\"df-41e866e1-0a6b-4aeb-b552-5743906c5a12\">\n",
              "    <div class=\"colab-df-container\">\n",
              "      <div>\n",
              "<style scoped>\n",
              "    .dataframe tbody tr th:only-of-type {\n",
              "        vertical-align: middle;\n",
              "    }\n",
              "\n",
              "    .dataframe tbody tr th {\n",
              "        vertical-align: top;\n",
              "    }\n",
              "\n",
              "    .dataframe thead th {\n",
              "        text-align: right;\n",
              "    }\n",
              "</style>\n",
              "<table border=\"1\" class=\"dataframe\">\n",
              "  <thead>\n",
              "    <tr style=\"text-align: right;\">\n",
              "      <th></th>\n",
              "      <th>Average Amount/transaction/day</th>\n",
              "      <th>Transaction_amount</th>\n",
              "      <th>Is declined</th>\n",
              "      <th>Total Number of declines/day</th>\n",
              "      <th>isForeignTransaction</th>\n",
              "      <th>isHighRiskCountry</th>\n",
              "      <th>Daily_chargeback_avg_amt</th>\n",
              "      <th>6_month_avg_chbk_amt</th>\n",
              "      <th>6-month_chbk_freq</th>\n",
              "      <th>isFradulent</th>\n",
              "      <th>Trans zscore</th>\n",
              "      <th>Trans_Aver zscore</th>\n",
              "    </tr>\n",
              "  </thead>\n",
              "  <tbody>\n",
              "    <tr>\n",
              "      <th>0</th>\n",
              "      <td>100.0</td>\n",
              "      <td>3000.0</td>\n",
              "      <td>0</td>\n",
              "      <td>5</td>\n",
              "      <td>1</td>\n",
              "      <td>1</td>\n",
              "      <td>0</td>\n",
              "      <td>0.0</td>\n",
              "      <td>0</td>\n",
              "      <td>1</td>\n",
              "      <td>-0.678569</td>\n",
              "      <td>-1.422008</td>\n",
              "    </tr>\n",
              "    <tr>\n",
              "      <th>1</th>\n",
              "      <td>100.0</td>\n",
              "      <td>4300.0</td>\n",
              "      <td>0</td>\n",
              "      <td>5</td>\n",
              "      <td>1</td>\n",
              "      <td>1</td>\n",
              "      <td>0</td>\n",
              "      <td>0.0</td>\n",
              "      <td>0</td>\n",
              "      <td>1</td>\n",
              "      <td>-0.550284</td>\n",
              "      <td>-1.422008</td>\n",
              "    </tr>\n",
              "    <tr>\n",
              "      <th>2</th>\n",
              "      <td>185.5</td>\n",
              "      <td>4823.0</td>\n",
              "      <td>1</td>\n",
              "      <td>5</td>\n",
              "      <td>0</td>\n",
              "      <td>0</td>\n",
              "      <td>0</td>\n",
              "      <td>0.0</td>\n",
              "      <td>0</td>\n",
              "      <td>1</td>\n",
              "      <td>-0.498674</td>\n",
              "      <td>-1.129059</td>\n",
              "    </tr>\n",
              "    <tr>\n",
              "      <th>3</th>\n",
              "      <td>185.5</td>\n",
              "      <td>5008.5</td>\n",
              "      <td>1</td>\n",
              "      <td>8</td>\n",
              "      <td>0</td>\n",
              "      <td>0</td>\n",
              "      <td>0</td>\n",
              "      <td>0.0</td>\n",
              "      <td>0</td>\n",
              "      <td>1</td>\n",
              "      <td>-0.480368</td>\n",
              "      <td>-1.129059</td>\n",
              "    </tr>\n",
              "    <tr>\n",
              "      <th>4</th>\n",
              "      <td>500.0</td>\n",
              "      <td>26000.0</td>\n",
              "      <td>0</td>\n",
              "      <td>0</td>\n",
              "      <td>1</td>\n",
              "      <td>1</td>\n",
              "      <td>800</td>\n",
              "      <td>677.2</td>\n",
              "      <td>6</td>\n",
              "      <td>1</td>\n",
              "      <td>1.591090</td>\n",
              "      <td>-0.051486</td>\n",
              "    </tr>\n",
              "    <tr>\n",
              "      <th>...</th>\n",
              "      <td>...</td>\n",
              "      <td>...</td>\n",
              "      <td>...</td>\n",
              "      <td>...</td>\n",
              "      <td>...</td>\n",
              "      <td>...</td>\n",
              "      <td>...</td>\n",
              "      <td>...</td>\n",
              "      <td>...</td>\n",
              "      <td>...</td>\n",
              "      <td>...</td>\n",
              "      <td>...</td>\n",
              "    </tr>\n",
              "    <tr>\n",
              "      <th>3070</th>\n",
              "      <td>500.0</td>\n",
              "      <td>11000.0</td>\n",
              "      <td>1</td>\n",
              "      <td>0</td>\n",
              "      <td>0</td>\n",
              "      <td>0</td>\n",
              "      <td>754</td>\n",
              "      <td>585.0</td>\n",
              "      <td>7</td>\n",
              "      <td>0</td>\n",
              "      <td>0.110878</td>\n",
              "      <td>-0.051486</td>\n",
              "    </tr>\n",
              "    <tr>\n",
              "      <th>3071</th>\n",
              "      <td>800.0</td>\n",
              "      <td>0.0</td>\n",
              "      <td>1</td>\n",
              "      <td>0</td>\n",
              "      <td>0</td>\n",
              "      <td>0</td>\n",
              "      <td>754</td>\n",
              "      <td>585.0</td>\n",
              "      <td>7</td>\n",
              "      <td>0</td>\n",
              "      <td>-0.974611</td>\n",
              "      <td>0.976406</td>\n",
              "    </tr>\n",
              "    <tr>\n",
              "      <th>3072</th>\n",
              "      <td>800.0</td>\n",
              "      <td>20800.0</td>\n",
              "      <td>1</td>\n",
              "      <td>0</td>\n",
              "      <td>0</td>\n",
              "      <td>0</td>\n",
              "      <td>754</td>\n",
              "      <td>585.0</td>\n",
              "      <td>7</td>\n",
              "      <td>0</td>\n",
              "      <td>1.077950</td>\n",
              "      <td>0.976406</td>\n",
              "    </tr>\n",
              "    <tr>\n",
              "      <th>3073</th>\n",
              "      <td>1500.0</td>\n",
              "      <td>12000.0</td>\n",
              "      <td>1</td>\n",
              "      <td>0</td>\n",
              "      <td>1</td>\n",
              "      <td>1</td>\n",
              "      <td>754</td>\n",
              "      <td>585.0</td>\n",
              "      <td>7</td>\n",
              "      <td>0</td>\n",
              "      <td>0.209559</td>\n",
              "      <td>3.374820</td>\n",
              "    </tr>\n",
              "    <tr>\n",
              "      <th>3074</th>\n",
              "      <td>1500.0</td>\n",
              "      <td>36000.0</td>\n",
              "      <td>1</td>\n",
              "      <td>0</td>\n",
              "      <td>1</td>\n",
              "      <td>1</td>\n",
              "      <td>754</td>\n",
              "      <td>585.0</td>\n",
              "      <td>7</td>\n",
              "      <td>0</td>\n",
              "      <td>2.577898</td>\n",
              "      <td>3.374820</td>\n",
              "    </tr>\n",
              "  </tbody>\n",
              "</table>\n",
              "<p>3075 rows × 12 columns</p>\n",
              "</div>\n",
              "      <button class=\"colab-df-convert\" onclick=\"convertToInteractive('df-41e866e1-0a6b-4aeb-b552-5743906c5a12')\"\n",
              "              title=\"Convert this dataframe to an interactive table.\"\n",
              "              style=\"display:none;\">\n",
              "        \n",
              "  <svg xmlns=\"http://www.w3.org/2000/svg\" height=\"24px\"viewBox=\"0 0 24 24\"\n",
              "       width=\"24px\">\n",
              "    <path d=\"M0 0h24v24H0V0z\" fill=\"none\"/>\n",
              "    <path d=\"M18.56 5.44l.94 2.06.94-2.06 2.06-.94-2.06-.94-.94-2.06-.94 2.06-2.06.94zm-11 1L8.5 8.5l.94-2.06 2.06-.94-2.06-.94L8.5 2.5l-.94 2.06-2.06.94zm10 10l.94 2.06.94-2.06 2.06-.94-2.06-.94-.94-2.06-.94 2.06-2.06.94z\"/><path d=\"M17.41 7.96l-1.37-1.37c-.4-.4-.92-.59-1.43-.59-.52 0-1.04.2-1.43.59L10.3 9.45l-7.72 7.72c-.78.78-.78 2.05 0 2.83L4 21.41c.39.39.9.59 1.41.59.51 0 1.02-.2 1.41-.59l7.78-7.78 2.81-2.81c.8-.78.8-2.07 0-2.86zM5.41 20L4 18.59l7.72-7.72 1.47 1.35L5.41 20z\"/>\n",
              "  </svg>\n",
              "      </button>\n",
              "      \n",
              "  <style>\n",
              "    .colab-df-container {\n",
              "      display:flex;\n",
              "      flex-wrap:wrap;\n",
              "      gap: 12px;\n",
              "    }\n",
              "\n",
              "    .colab-df-convert {\n",
              "      background-color: #E8F0FE;\n",
              "      border: none;\n",
              "      border-radius: 50%;\n",
              "      cursor: pointer;\n",
              "      display: none;\n",
              "      fill: #1967D2;\n",
              "      height: 32px;\n",
              "      padding: 0 0 0 0;\n",
              "      width: 32px;\n",
              "    }\n",
              "\n",
              "    .colab-df-convert:hover {\n",
              "      background-color: #E2EBFA;\n",
              "      box-shadow: 0px 1px 2px rgba(60, 64, 67, 0.3), 0px 1px 3px 1px rgba(60, 64, 67, 0.15);\n",
              "      fill: #174EA6;\n",
              "    }\n",
              "\n",
              "    [theme=dark] .colab-df-convert {\n",
              "      background-color: #3B4455;\n",
              "      fill: #D2E3FC;\n",
              "    }\n",
              "\n",
              "    [theme=dark] .colab-df-convert:hover {\n",
              "      background-color: #434B5C;\n",
              "      box-shadow: 0px 1px 3px 1px rgba(0, 0, 0, 0.15);\n",
              "      filter: drop-shadow(0px 1px 2px rgba(0, 0, 0, 0.3));\n",
              "      fill: #FFFFFF;\n",
              "    }\n",
              "  </style>\n",
              "\n",
              "      <script>\n",
              "        const buttonEl =\n",
              "          document.querySelector('#df-41e866e1-0a6b-4aeb-b552-5743906c5a12 button.colab-df-convert');\n",
              "        buttonEl.style.display =\n",
              "          google.colab.kernel.accessAllowed ? 'block' : 'none';\n",
              "\n",
              "        async function convertToInteractive(key) {\n",
              "          const element = document.querySelector('#df-41e866e1-0a6b-4aeb-b552-5743906c5a12');\n",
              "          const dataTable =\n",
              "            await google.colab.kernel.invokeFunction('convertToInteractive',\n",
              "                                                     [key], {});\n",
              "          if (!dataTable) return;\n",
              "\n",
              "          const docLinkHtml = 'Like what you see? Visit the ' +\n",
              "            '<a target=\"_blank\" href=https://colab.research.google.com/notebooks/data_table.ipynb>data table notebook</a>'\n",
              "            + ' to learn more about interactive tables.';\n",
              "          element.innerHTML = '';\n",
              "          dataTable['output_type'] = 'display_data';\n",
              "          await google.colab.output.renderOutput(dataTable, element);\n",
              "          const docLink = document.createElement('div');\n",
              "          docLink.innerHTML = docLinkHtml;\n",
              "          element.appendChild(docLink);\n",
              "        }\n",
              "      </script>\n",
              "    </div>\n",
              "  </div>\n",
              "  "
            ]
          },
          "metadata": {},
          "execution_count": 35
        }
      ]
    },
    {
      "cell_type": "code",
      "source": [
        "x = df.drop(['isFradulent'],1)"
      ],
      "metadata": {
        "colab": {
          "base_uri": "https://localhost:8080/"
        },
        "id": "ttsWQZmDro2-",
        "outputId": "fa7803b0-f12c-4051-8f2c-4b5458410ec4"
      },
      "execution_count": 36,
      "outputs": [
        {
          "output_type": "stream",
          "name": "stderr",
          "text": [
            "/usr/local/lib/python3.7/dist-packages/ipykernel_launcher.py:1: FutureWarning:\n",
            "\n",
            "In a future version of pandas all arguments of DataFrame.drop except for the argument 'labels' will be keyword-only\n",
            "\n"
          ]
        }
      ]
    },
    {
      "cell_type": "code",
      "source": [
        "y = df['isFradulent']"
      ],
      "metadata": {
        "id": "ZZsh4wvChB5M"
      },
      "execution_count": 37,
      "outputs": []
    },
    {
      "cell_type": "markdown",
      "source": [
        "### Dividimos nuestro dataset en Train-Test"
      ],
      "metadata": {
        "id": "2PsOcK7JjFlF"
      }
    },
    {
      "cell_type": "code",
      "source": [
        "from sklearn import model_selection\n",
        "x_train, x_test, y_train, y_test = model_selection.train_test_split(x,y,test_size = 0.2)"
      ],
      "metadata": {
        "id": "UMhs_RmQjEST"
      },
      "execution_count": 38,
      "outputs": []
    },
    {
      "cell_type": "code",
      "source": [
        "from sklearn import neighbors\n",
        "clf = neighbors.KNeighborsClassifier()\n"
      ],
      "metadata": {
        "id": "KZCGiPnRjhUI"
      },
      "execution_count": 39,
      "outputs": []
    },
    {
      "cell_type": "code",
      "source": [
        "clf.fit(x_train,y_train)"
      ],
      "metadata": {
        "colab": {
          "base_uri": "https://localhost:8080/"
        },
        "id": "9aN3nzr8kJa4",
        "outputId": "8ba511d0-f060-44c4-a2e9-72a73d15f3ee"
      },
      "execution_count": 40,
      "outputs": [
        {
          "output_type": "execute_result",
          "data": {
            "text/plain": [
              "KNeighborsClassifier()"
            ]
          },
          "metadata": {},
          "execution_count": 40
        }
      ]
    },
    {
      "cell_type": "markdown",
      "source": [
        "Finalmente analizamos los resultados obtenidos a partir de nuestro algoritmo de K Nearest Neighbors"
      ],
      "metadata": {
        "id": "xaKwcg1gy2uU"
      }
    },
    {
      "cell_type": "code",
      "source": [
        "accuracy = clf.score(x_test,y_test)\n",
        "accuracy"
      ],
      "metadata": {
        "colab": {
          "base_uri": "https://localhost:8080/"
        },
        "id": "cvfS1BDQk8ai",
        "outputId": "d2b23e4a-a3b8-4758-fe94-19b93f4dbae2"
      },
      "execution_count": 41,
      "outputs": [
        {
          "output_type": "execute_result",
          "data": {
            "text/plain": [
              "0.9349593495934959"
            ]
          },
          "metadata": {},
          "execution_count": 41
        }
      ]
    },
    {
      "cell_type": "markdown",
      "source": [
        "Con este algoritmo obtuvimos un accuracy de mas del 90% en nuestras predicciones, lo que significa que el modelo se adapta bien a la data que tenemos."
      ],
      "metadata": {
        "id": "BA4YHxYKzIdq"
      }
    },
    {
      "cell_type": "markdown",
      "source": [
        "## Unsupervised Learning - K Means"
      ],
      "metadata": {
        "id": "NZ_dKKt5lhOs"
      }
    },
    {
      "cell_type": "markdown",
      "source": [
        "Escalamos los valores de las caracteristicas usando StandardScaler"
      ],
      "metadata": {
        "id": "iCyBkrXY1Wmn"
      }
    },
    {
      "cell_type": "code",
      "source": [
        "from sklearn.preprocessing import StandardScaler"
      ],
      "metadata": {
        "id": "q2vgv-J21OjL"
      },
      "execution_count": 42,
      "outputs": []
    },
    {
      "cell_type": "code",
      "source": [
        "X = StandardScaler().fit_transform(x)"
      ],
      "metadata": {
        "id": "DHa49jUl1yem"
      },
      "execution_count": 43,
      "outputs": []
    },
    {
      "cell_type": "code",
      "source": [
        "X"
      ],
      "metadata": {
        "colab": {
          "base_uri": "https://localhost:8080/"
        },
        "id": "N1BLVDfW19sX",
        "outputId": "b4517bb8-113d-4f01-db9d-04ad7d4c6087"
      },
      "execution_count": 44,
      "outputs": [
        {
          "output_type": "execute_result",
          "data": {
            "text/plain": [
              "array([[-1.42200799, -0.67856862, -0.13742882, ..., -0.25310881,\n",
              "        -0.67856862, -1.42200799],\n",
              "       [-1.42200799, -0.55028357, -0.13742882, ..., -0.25310881,\n",
              "        -0.55028357, -1.42200799],\n",
              "       [-1.12905883, -0.49867351,  7.27649424, ..., -0.25310881,\n",
              "        -0.49867351, -1.12905883],\n",
              "       ...,\n",
              "       [ 0.97640623,  1.07794974,  7.27649424, ...,  4.26819179,\n",
              "         1.07794974,  0.97640623],\n",
              "       [ 3.37482045,  0.20955864,  7.27649424, ...,  4.26819179,\n",
              "         0.20955864,  3.37482045],\n",
              "       [ 3.37482045,  2.577898  ,  7.27649424, ...,  4.26819179,\n",
              "         2.577898  ,  3.37482045]])"
            ]
          },
          "metadata": {},
          "execution_count": 44
        }
      ]
    },
    {
      "cell_type": "markdown",
      "source": [
        "Implementamos K-Means"
      ],
      "metadata": {
        "id": "WH3aMnSa2HT-"
      }
    },
    {
      "cell_type": "code",
      "source": [
        "kmeans = KMeans(n_clusters =2, max_iter=3000)\n",
        "model = kmeans.fit(X)\n",
        "print('Model\\n',model)"
      ],
      "metadata": {
        "colab": {
          "base_uri": "https://localhost:8080/"
        },
        "id": "1hoKSNMz1-bG",
        "outputId": "eb85e462-2c20-49fa-c81b-79befd71aa59"
      },
      "execution_count": 45,
      "outputs": [
        {
          "output_type": "stream",
          "name": "stdout",
          "text": [
            "Model\n",
            " KMeans(max_iter=3000, n_clusters=2)\n"
          ]
        }
      ]
    },
    {
      "cell_type": "code",
      "source": [
        "predicciones =model.predict(X)"
      ],
      "metadata": {
        "id": "hEv9j0NAw2LU"
      },
      "execution_count": 46,
      "outputs": []
    },
    {
      "cell_type": "markdown",
      "source": [
        "Analizamos el resultado de nuestra prediccion por K-Means"
      ],
      "metadata": {
        "id": "dm8RwBtuxIso"
      }
    },
    {
      "cell_type": "code",
      "source": [
        "from sklearn import metrics"
      ],
      "metadata": {
        "id": "C4WNqxUXxORw"
      },
      "execution_count": 47,
      "outputs": []
    },
    {
      "cell_type": "code",
      "source": [
        "metrics.adjusted_rand_score(y,predicciones)"
      ],
      "metadata": {
        "colab": {
          "base_uri": "https://localhost:8080/"
        },
        "id": "xOD8Sc5ixAhM",
        "outputId": "2de6de22-c62e-4265-ce3d-6783393515a8"
      },
      "execution_count": 48,
      "outputs": [
        {
          "output_type": "execute_result",
          "data": {
            "text/plain": [
              "0.31131682275506484"
            ]
          },
          "metadata": {},
          "execution_count": 48
        }
      ]
    },
    {
      "cell_type": "markdown",
      "source": [
        "Como podemos observar tenemos un desempeño muy pobre en nuestro algoritmo de aprendizaje no supervisado. Es necesario seguir trabajando con la data para obtener un mejor rendimiento del algoritmo."
      ],
      "metadata": {
        "id": "a4dchOiOxlr7"
      }
    },
    {
      "cell_type": "markdown",
      "source": [
        "### Obtenemos los centros para cada cluster\n",
        "Como paso adicional obtendremos los centros para cada uno de los grupos clasificados"
      ],
      "metadata": {
        "id": "J2WOxo4X2s5j"
      }
    },
    {
      "cell_type": "code",
      "source": [
        "centers = model.cluster_centers_\n",
        "centers"
      ],
      "metadata": {
        "colab": {
          "base_uri": "https://localhost:8080/"
        },
        "id": "noPYoI2P2Zfg",
        "outputId": "941081dc-7c28-4b47-8f0a-d791fb8f3f00"
      },
      "execution_count": 49,
      "outputs": [
        {
          "output_type": "execute_result",
          "data": {
            "text/plain": [
              "array([[-0.01860094, -0.07230525, -0.11675563, -0.02445178, -0.01632971,\n",
              "        -0.02272978, -0.26129733, -0.25059415, -0.24455385, -0.07230525,\n",
              "        -0.01860094],\n",
              "       [ 0.25905876,  1.0070086 ,  1.62607715,  0.34054445,  0.22742682,\n",
              "         0.31656186,  3.63913617,  3.49007101,  3.40594653,  1.0070086 ,\n",
              "         0.25905876]])"
            ]
          },
          "metadata": {},
          "execution_count": 49
        }
      ]
    },
    {
      "cell_type": "code",
      "source": [
        "features = list(x.columns)"
      ],
      "metadata": {
        "id": "dGtTk3BDYMb3"
      },
      "execution_count": 50,
      "outputs": []
    },
    {
      "cell_type": "code",
      "source": [
        "def pd_centers(features,centers):\n",
        "  df_columns = list(features)\n",
        "  df_columns.append('prediction')\n",
        "\n",
        "  z = [np.append(A,index) for index,A in enumerate(centers)]\n",
        "\n",
        "  p = pd.DataFrame(z,columns = df_columns)\n",
        "  p['prediction'] = p['prediction'].astype(int)\n",
        "\n",
        "  return p"
      ],
      "metadata": {
        "id": "5vdBb9IS2zPo"
      },
      "execution_count": 51,
      "outputs": []
    },
    {
      "cell_type": "code",
      "source": [
        "p = pd_centers(features,centers)"
      ],
      "metadata": {
        "id": "IrODkcPHXhhh"
      },
      "execution_count": 52,
      "outputs": []
    },
    {
      "cell_type": "code",
      "source": [
        "p"
      ],
      "metadata": {
        "id": "OgL_AKuzaWzI",
        "outputId": "ab2eb41e-1f66-4525-f34c-5e920b0300d9",
        "colab": {
          "base_uri": "https://localhost:8080/",
          "height": 0
        }
      },
      "execution_count": 53,
      "outputs": [
        {
          "output_type": "execute_result",
          "data": {
            "text/plain": [
              "   Average Amount/transaction/day  Transaction_amount  Is declined  \\\n",
              "0                       -0.018601           -0.072305    -0.116756   \n",
              "1                        0.259059            1.007009     1.626077   \n",
              "\n",
              "   Total Number of declines/day  isForeignTransaction  isHighRiskCountry  \\\n",
              "0                     -0.024452             -0.016330          -0.022730   \n",
              "1                      0.340544              0.227427           0.316562   \n",
              "\n",
              "   Daily_chargeback_avg_amt  6_month_avg_chbk_amt  6-month_chbk_freq  \\\n",
              "0                 -0.261297             -0.250594          -0.244554   \n",
              "1                  3.639136              3.490071           3.405947   \n",
              "\n",
              "   Trans zscore  Trans_Aver zscore  prediction  \n",
              "0     -0.072305          -0.018601           0  \n",
              "1      1.007009           0.259059           1  "
            ],
            "text/html": [
              "\n",
              "  <div id=\"df-a74e5dea-6f0c-4429-afc0-16e248d9b442\">\n",
              "    <div class=\"colab-df-container\">\n",
              "      <div>\n",
              "<style scoped>\n",
              "    .dataframe tbody tr th:only-of-type {\n",
              "        vertical-align: middle;\n",
              "    }\n",
              "\n",
              "    .dataframe tbody tr th {\n",
              "        vertical-align: top;\n",
              "    }\n",
              "\n",
              "    .dataframe thead th {\n",
              "        text-align: right;\n",
              "    }\n",
              "</style>\n",
              "<table border=\"1\" class=\"dataframe\">\n",
              "  <thead>\n",
              "    <tr style=\"text-align: right;\">\n",
              "      <th></th>\n",
              "      <th>Average Amount/transaction/day</th>\n",
              "      <th>Transaction_amount</th>\n",
              "      <th>Is declined</th>\n",
              "      <th>Total Number of declines/day</th>\n",
              "      <th>isForeignTransaction</th>\n",
              "      <th>isHighRiskCountry</th>\n",
              "      <th>Daily_chargeback_avg_amt</th>\n",
              "      <th>6_month_avg_chbk_amt</th>\n",
              "      <th>6-month_chbk_freq</th>\n",
              "      <th>Trans zscore</th>\n",
              "      <th>Trans_Aver zscore</th>\n",
              "      <th>prediction</th>\n",
              "    </tr>\n",
              "  </thead>\n",
              "  <tbody>\n",
              "    <tr>\n",
              "      <th>0</th>\n",
              "      <td>-0.018601</td>\n",
              "      <td>-0.072305</td>\n",
              "      <td>-0.116756</td>\n",
              "      <td>-0.024452</td>\n",
              "      <td>-0.016330</td>\n",
              "      <td>-0.022730</td>\n",
              "      <td>-0.261297</td>\n",
              "      <td>-0.250594</td>\n",
              "      <td>-0.244554</td>\n",
              "      <td>-0.072305</td>\n",
              "      <td>-0.018601</td>\n",
              "      <td>0</td>\n",
              "    </tr>\n",
              "    <tr>\n",
              "      <th>1</th>\n",
              "      <td>0.259059</td>\n",
              "      <td>1.007009</td>\n",
              "      <td>1.626077</td>\n",
              "      <td>0.340544</td>\n",
              "      <td>0.227427</td>\n",
              "      <td>0.316562</td>\n",
              "      <td>3.639136</td>\n",
              "      <td>3.490071</td>\n",
              "      <td>3.405947</td>\n",
              "      <td>1.007009</td>\n",
              "      <td>0.259059</td>\n",
              "      <td>1</td>\n",
              "    </tr>\n",
              "  </tbody>\n",
              "</table>\n",
              "</div>\n",
              "      <button class=\"colab-df-convert\" onclick=\"convertToInteractive('df-a74e5dea-6f0c-4429-afc0-16e248d9b442')\"\n",
              "              title=\"Convert this dataframe to an interactive table.\"\n",
              "              style=\"display:none;\">\n",
              "        \n",
              "  <svg xmlns=\"http://www.w3.org/2000/svg\" height=\"24px\"viewBox=\"0 0 24 24\"\n",
              "       width=\"24px\">\n",
              "    <path d=\"M0 0h24v24H0V0z\" fill=\"none\"/>\n",
              "    <path d=\"M18.56 5.44l.94 2.06.94-2.06 2.06-.94-2.06-.94-.94-2.06-.94 2.06-2.06.94zm-11 1L8.5 8.5l.94-2.06 2.06-.94-2.06-.94L8.5 2.5l-.94 2.06-2.06.94zm10 10l.94 2.06.94-2.06 2.06-.94-2.06-.94-.94-2.06-.94 2.06-2.06.94z\"/><path d=\"M17.41 7.96l-1.37-1.37c-.4-.4-.92-.59-1.43-.59-.52 0-1.04.2-1.43.59L10.3 9.45l-7.72 7.72c-.78.78-.78 2.05 0 2.83L4 21.41c.39.39.9.59 1.41.59.51 0 1.02-.2 1.41-.59l7.78-7.78 2.81-2.81c.8-.78.8-2.07 0-2.86zM5.41 20L4 18.59l7.72-7.72 1.47 1.35L5.41 20z\"/>\n",
              "  </svg>\n",
              "      </button>\n",
              "      \n",
              "  <style>\n",
              "    .colab-df-container {\n",
              "      display:flex;\n",
              "      flex-wrap:wrap;\n",
              "      gap: 12px;\n",
              "    }\n",
              "\n",
              "    .colab-df-convert {\n",
              "      background-color: #E8F0FE;\n",
              "      border: none;\n",
              "      border-radius: 50%;\n",
              "      cursor: pointer;\n",
              "      display: none;\n",
              "      fill: #1967D2;\n",
              "      height: 32px;\n",
              "      padding: 0 0 0 0;\n",
              "      width: 32px;\n",
              "    }\n",
              "\n",
              "    .colab-df-convert:hover {\n",
              "      background-color: #E2EBFA;\n",
              "      box-shadow: 0px 1px 2px rgba(60, 64, 67, 0.3), 0px 1px 3px 1px rgba(60, 64, 67, 0.15);\n",
              "      fill: #174EA6;\n",
              "    }\n",
              "\n",
              "    [theme=dark] .colab-df-convert {\n",
              "      background-color: #3B4455;\n",
              "      fill: #D2E3FC;\n",
              "    }\n",
              "\n",
              "    [theme=dark] .colab-df-convert:hover {\n",
              "      background-color: #434B5C;\n",
              "      box-shadow: 0px 1px 3px 1px rgba(0, 0, 0, 0.15);\n",
              "      filter: drop-shadow(0px 1px 2px rgba(0, 0, 0, 0.3));\n",
              "      fill: #FFFFFF;\n",
              "    }\n",
              "  </style>\n",
              "\n",
              "      <script>\n",
              "        const buttonEl =\n",
              "          document.querySelector('#df-a74e5dea-6f0c-4429-afc0-16e248d9b442 button.colab-df-convert');\n",
              "        buttonEl.style.display =\n",
              "          google.colab.kernel.accessAllowed ? 'block' : 'none';\n",
              "\n",
              "        async function convertToInteractive(key) {\n",
              "          const element = document.querySelector('#df-a74e5dea-6f0c-4429-afc0-16e248d9b442');\n",
              "          const dataTable =\n",
              "            await google.colab.kernel.invokeFunction('convertToInteractive',\n",
              "                                                     [key], {});\n",
              "          if (!dataTable) return;\n",
              "\n",
              "          const docLinkHtml = 'Like what you see? Visit the ' +\n",
              "            '<a target=\"_blank\" href=https://colab.research.google.com/notebooks/data_table.ipynb>data table notebook</a>'\n",
              "            + ' to learn more about interactive tables.';\n",
              "          element.innerHTML = '';\n",
              "          dataTable['output_type'] = 'display_data';\n",
              "          await google.colab.output.renderOutput(dataTable, element);\n",
              "          const docLink = document.createElement('div');\n",
              "          docLink.innerHTML = docLinkHtml;\n",
              "          element.appendChild(docLink);\n",
              "        }\n",
              "      </script>\n",
              "    </div>\n",
              "  </div>\n",
              "  "
            ]
          },
          "metadata": {},
          "execution_count": 53
        }
      ]
    },
    {
      "cell_type": "markdown",
      "source": [
        ""
      ],
      "metadata": {
        "id": "eKtaQZYw_0xP"
      }
    },
    {
      "cell_type": "markdown",
      "source": [
        "## Bibliografia"
      ],
      "metadata": {
        "id": "kMCLgJYt_alO"
      }
    },
    {
      "cell_type": "markdown",
      "source": [
        "* Alam, M. (2021, December 15). Z-score for anomaly detection - Towards Data Science. Medium. Retrieved April 14, 2022, from https://towardsdatascience.com/z-score-for-anomaly-detection-d98b0006f510\n",
        "\n",
        "* Garbade, M. J. (2018, September 13). Understanding K-means Clustering in Machine Learning. Medium. Retrieved April 17, 2022, from https://towardsdatascience.com/understanding-k-means-clustering-in-machine-learning-6a6e67336aa1\n",
        "\n",
        "* Harrison, O. (2019, July 14). Machine Learning Basics with the K-Nearest Neighbors Algorithm. Medium. Retrieved April 17, 2022, from https://towardsdatascience.com/machine-learning-basics-with-the-k-nearest-neighbors-algorithm-6a6e71d01761#:%7E:text=Summary-,The%20k%2Dnearest%20neighbors%20(KNN)%20algorithm%20is%20a%20simple,that%20data%20in%20use%20grows."
      ],
      "metadata": {
        "id": "O-tNNDSNdVR7"
      }
    },
    {
      "cell_type": "code",
      "source": [
        ""
      ],
      "metadata": {
        "id": "YlzbEXiV_cON"
      },
      "execution_count": 53,
      "outputs": []
    }
  ]
}